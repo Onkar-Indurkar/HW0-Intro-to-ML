{
  "nbformat": 4,
  "nbformat_minor": 0,
  "metadata": {
    "colab": {
      "provenance": []
    },
    "kernelspec": {
      "name": "python3",
      "display_name": "Python 3"
    },
    "language_info": {
      "name": "python"
    }
  },
  "cells": [
    {
      "cell_type": "code",
      "execution_count": 61,
      "metadata": {
        "id": "pU72v4KyTbrL"
      },
      "outputs": [],
      "source": [
        "import numpy as np\n",
        "import pandas as pd\n",
        "import matplotlib.pyplot as plt"
      ]
    },
    {
      "cell_type": "code",
      "source": [
        "#df = pd.read_csv('D3.csv') or\n",
        "#df = pd.read_csv('/content/sample_data/D3.csv') #using google collab & uploading d3.csv in sample data folder in files or\n",
        "df = pd.read_csv('https://raw.githubusercontent.com/Onkar-Indurkar/Intro-to-ML/main/D3.csv')\n",
        "df.head() # To get first n rows from the dataset default value of n is 5 \n",
        "M=len(df)\n",
        "M"
      ],
      "metadata": {
        "colab": {
          "base_uri": "https://localhost:8080/"
        },
        "id": "C9s9vVsZTgMS",
        "outputId": "51fe1c48-f61e-4107-ae80-081c84bb188e"
      },
      "execution_count": 115,
      "outputs": [
        {
          "output_type": "execute_result",
          "data": {
            "text/plain": [
              "100"
            ]
          },
          "metadata": {},
          "execution_count": 115
        }
      ]
    },
    {
      "cell_type": "code",
      "source": [
        "X1 = df.values[:, 0]     # get input values from first column \n",
        "Y = df.values[:, 3]      # get output values from second column \n",
        "m = len(Y)               # Number of training examples\n",
        "print('X1 = ', X1[: 10]) # Show only first 10 records print('Y = ', Y[: 10])\n",
        "print('m = ', m)"
      ],
      "metadata": {
        "colab": {
          "base_uri": "https://localhost:8080/"
        },
        "id": "3WvbwZWmTkyk",
        "outputId": "5f31fc67-49b2-4e27-e4af-5e3511e58b22"
      },
      "execution_count": 63,
      "outputs": [
        {
          "output_type": "stream",
          "name": "stdout",
          "text": [
            "X1 =  [0.         0.04040404 0.08080808 0.12121212 0.16161616 0.2020202\n",
            " 0.24242424 0.28282828 0.32323232 0.36363636]\n",
            "m =  100\n"
          ]
        }
      ]
    },
    {
      "cell_type": "code",
      "source": [
        "X2 = df.values[:, 1]     # get input values from first column \n",
        "Y = df.values[:, 3]      # get output values from second column \n",
        "m = len(Y)               # Number of training examples\n",
        "print('X2 = ', X2[: 10]) # Show only first 10 records print('Y = ', Y[: 10])\n",
        "print('m = ', m)"
      ],
      "metadata": {
        "colab": {
          "base_uri": "https://localhost:8080/"
        },
        "id": "o6x1blXkTuoM",
        "outputId": "59300d7c-83c3-4274-ad40-27be07db39d3"
      },
      "execution_count": 64,
      "outputs": [
        {
          "output_type": "stream",
          "name": "stdout",
          "text": [
            "X2 =  [3.44       0.1349495  0.82989899 1.52484848 2.21979798 2.91474747\n",
            " 3.60969697 0.30464646 0.99959596 1.69454546]\n",
            "m =  100\n"
          ]
        }
      ]
    },
    {
      "cell_type": "code",
      "source": [
        "X3 = df.values[:, 2]     # get input values from first column \n",
        "Y = df.values[:, 3]      # get output values from second column \n",
        "m = len(Y)               # Number of training examples\n",
        "print('X3 = ', X3[: 10]) # Show only first 10 records print('Y = ', Y[: 10])\n",
        "print('m = ', m)"
      ],
      "metadata": {
        "colab": {
          "base_uri": "https://localhost:8080/"
        },
        "id": "zLanADATT52N",
        "outputId": "6e017002-cb01-4eab-c061-998a4c492eca"
      },
      "execution_count": 65,
      "outputs": [
        {
          "output_type": "stream",
          "name": "stdout",
          "text": [
            "X3 =  [0.44       0.88848485 1.3369697  1.78545454 2.23393939 2.68242424\n",
            " 3.13090909 3.57939394 0.02787879 0.47636364]\n",
            "m =  100\n"
          ]
        }
      ]
    },
    {
      "cell_type": "code",
      "source": [
        "plt.scatter(X1,Y, color='red',marker= '+') \n",
        "plt.grid()\n",
        "plt.rcParams[\"figure.figsize\"] = (10,6) \n",
        "plt.xlabel('X1')\n",
        "plt.ylabel('Y')\n",
        "plt.title('X1 data')"
      ],
      "metadata": {
        "colab": {
          "base_uri": "https://localhost:8080/",
          "height": 422
        },
        "id": "ECuY82z3T_zN",
        "outputId": "6d38bc2f-a360-4ac9-be34-b32b5770a844"
      },
      "execution_count": 66,
      "outputs": [
        {
          "output_type": "execute_result",
          "data": {
            "text/plain": [
              "Text(0.5, 1.0, 'X1 data')"
            ]
          },
          "metadata": {},
          "execution_count": 66
        },
        {
          "output_type": "display_data",
          "data": {
            "text/plain": [
              "<Figure size 720x432 with 1 Axes>"
            ],
            "image/png": "[encoded data removed]"
          },
          "metadata": {
            "needs_background": "light"
          }
        }
      ]
    },
    {
      "cell_type": "code",
      "source": [
        "plt.scatter(X2,Y, color='green',marker= '+') \n",
        "plt.grid()\n",
        "plt.rcParams[\"figure.figsize\"] = (10,6) \n",
        "plt.xlabel('X2')\n",
        "plt.ylabel('Y')\n",
        "plt.title('X2 data')"
      ],
      "metadata": {
        "colab": {
          "base_uri": "https://localhost:8080/",
          "height": 422
        },
        "id": "k5gJD_XXUH9V",
        "outputId": "e8475535-5cb3-459b-d8dd-610978847be5"
      },
      "execution_count": 67,
      "outputs": [
        {
          "output_type": "execute_result",
          "data": {
            "text/plain": [
              "Text(0.5, 1.0, 'X2 data')"
            ]
          },
          "metadata": {},
          "execution_count": 67
        },
        {
          "output_type": "display_data",
          "data": {
            "text/plain": [
              "<Figure size 720x432 with 1 Axes>"
            ],
            "image/png": "[encoded data removed]"
          },
          "metadata": {
            "needs_background": "light"
          }
        }
      ]
    },
    {
      "cell_type": "code",
      "source": [
        "plt.scatter(X3,Y, color='purple',marker= '+') \n",
        "plt.grid()\n",
        "plt.rcParams[\"figure.figsize\"] = (10,6) \n",
        "plt.xlabel('X3')\n",
        "plt.ylabel('Y')\n",
        "plt.title('X3 data')"
      ],
      "metadata": {
        "colab": {
          "base_uri": "https://localhost:8080/",
          "height": 422
        },
        "id": "oGFLNgktULkX",
        "outputId": "dd909946-16c2-4755-9fb7-1ea82f8c436f"
      },
      "execution_count": 68,
      "outputs": [
        {
          "output_type": "execute_result",
          "data": {
            "text/plain": [
              "Text(0.5, 1.0, 'X3 data')"
            ]
          },
          "metadata": {},
          "execution_count": 68
        },
        {
          "output_type": "display_data",
          "data": {
            "text/plain": [
              "<Figure size 720x432 with 1 Axes>"
            ],
            "image/png": "[encoded data removed]"
          },
          "metadata": {
            "needs_background": "light"
          }
        }
      ]
    },
    {
      "cell_type": "code",
      "source": [
        "#Lets create a matrix with single column of ones\n",
        "X_0 = np.ones((m, 1)) \n",
        "X_0[:5]"
      ],
      "metadata": {
        "colab": {
          "base_uri": "https://localhost:8080/"
        },
        "id": "UUIocfMwUX_M",
        "outputId": "eb730a0f-9412-480b-9803-f89c5267367a"
      },
      "execution_count": 69,
      "outputs": [
        {
          "output_type": "execute_result",
          "data": {
            "text/plain": [
              "array([[1.],\n",
              "       [1.],\n",
              "       [1.],\n",
              "       [1.],\n",
              "       [1.]])"
            ]
          },
          "metadata": {},
          "execution_count": 69
        }
      ]
    },
    {
      "cell_type": "markdown",
      "source": [
        "X1"
      ],
      "metadata": {
        "id": "sfoGtAaAfwnl"
      }
    },
    {
      "cell_type": "code",
      "source": [
        "X_1 = X1.reshape(m, 1) \n",
        "X_1[:10]"
      ],
      "metadata": {
        "colab": {
          "base_uri": "https://localhost:8080/"
        },
        "id": "gkiQsYS0Uecr",
        "outputId": "129c0a6a-d718-483a-dcb2-f67a0f533069"
      },
      "execution_count": 70,
      "outputs": [
        {
          "output_type": "execute_result",
          "data": {
            "text/plain": [
              "array([[0.        ],\n",
              "       [0.04040404],\n",
              "       [0.08080808],\n",
              "       [0.12121212],\n",
              "       [0.16161616],\n",
              "       [0.2020202 ],\n",
              "       [0.24242424],\n",
              "       [0.28282828],\n",
              "       [0.32323232],\n",
              "       [0.36363636]])"
            ]
          },
          "metadata": {},
          "execution_count": 70
        }
      ]
    },
    {
      "cell_type": "code",
      "source": [
        "# Lets use hstack() function from numpy to stack X_0 and X_1 horizontally (i.e. colum # This will be our final X matrix (feature matrix)\n",
        "X1 = np.hstack((X_0, X_1))\n",
        "X1[:10]"
      ],
      "metadata": {
        "colab": {
          "base_uri": "https://localhost:8080/"
        },
        "id": "yF4u2WCGUjjv",
        "outputId": "996846a2-faf5-4be0-a965-13ebe79ce617"
      },
      "execution_count": 71,
      "outputs": [
        {
          "output_type": "execute_result",
          "data": {
            "text/plain": [
              "array([[1.        , 0.        ],\n",
              "       [1.        , 0.04040404],\n",
              "       [1.        , 0.08080808],\n",
              "       [1.        , 0.12121212],\n",
              "       [1.        , 0.16161616],\n",
              "       [1.        , 0.2020202 ],\n",
              "       [1.        , 0.24242424],\n",
              "       [1.        , 0.28282828],\n",
              "       [1.        , 0.32323232],\n",
              "       [1.        , 0.36363636]])"
            ]
          },
          "metadata": {},
          "execution_count": 71
        }
      ]
    },
    {
      "cell_type": "code",
      "source": [
        "theta_1 = np.zeros(2) \n",
        "theta_1"
      ],
      "metadata": {
        "colab": {
          "base_uri": "https://localhost:8080/"
        },
        "id": "dWNaMY9EUo9V",
        "outputId": "758338f0-5590-40b1-b725-daee4bddd2a9"
      },
      "execution_count": 72,
      "outputs": [
        {
          "output_type": "execute_result",
          "data": {
            "text/plain": [
              "array([0., 0.])"
            ]
          },
          "metadata": {},
          "execution_count": 72
        }
      ]
    },
    {
      "cell_type": "code",
      "source": [
        "def compute_cost_1(X1, Y, theta_1): \n",
        "  predictions_1 = X1.dot(theta_1) \n",
        "  errors_1 = np.subtract(predictions_1, Y) \n",
        "  sqrErrors_1 = np.square(errors_1)\n",
        "  J1 = (1 / (2 * m)) * np.sum(sqrErrors_1) \n",
        "  return J1"
      ],
      "metadata": {
        "id": "HyHxjFDrUrI8"
      },
      "execution_count": 73,
      "outputs": []
    },
    {
      "cell_type": "code",
      "source": [
        "cost_1 = compute_cost_1(X1, Y, theta_1)\n",
        "print('The cost for given values of theta_0 and theta_1 =', cost_1)"
      ],
      "metadata": {
        "colab": {
          "base_uri": "https://localhost:8080/"
        },
        "id": "3JGOj2pBU-Vl",
        "outputId": "238a589a-b074-4e69-cbdb-eeada149a5cc"
      },
      "execution_count": 74,
      "outputs": [
        {
          "output_type": "stream",
          "name": "stdout",
          "text": [
            "The cost for given values of theta_0 and theta_1 = 5.524438459196242\n"
          ]
        }
      ]
    },
    {
      "cell_type": "code",
      "source": [
        "def gradient_descent_1(X1, Y, theta_1, alpha_1, iterations_1):\n",
        "  cost_history_1 = np.zeros(iterations_1)\n",
        "  for i in range(iterations_1):\n",
        "    predictions_1 = X1.dot(theta_1)\n",
        "    errors_1 = np.subtract(predictions_1, Y)\n",
        "    sum_delta_1 = (alpha_1 / m) * X1.transpose().dot(errors_1); theta_1 = theta_1 - sum_delta_1;\n",
        "    cost_history_1[i] = compute_cost_1(X1, Y, theta_1)\n",
        "  return theta_1, cost_history_1"
      ],
      "metadata": {
        "id": "vLJ7tPzaVCuj"
      },
      "execution_count": 75,
      "outputs": []
    },
    {
      "cell_type": "code",
      "source": [
        "theta_1 = [0., 0.] \n",
        "iterations_1 = 1500; \n",
        "alpha_1 = 0.01;"
      ],
      "metadata": {
        "id": "oYJ3u72_VMwy"
      },
      "execution_count": 76,
      "outputs": []
    },
    {
      "cell_type": "code",
      "source": [
        "theta_1, cost_history_1 = gradient_descent_1(X1, Y, theta_1, alpha_1, iterations_1) \n",
        "print('Final value of theta =', theta_1)\n",
        "print('cost_history =', cost_history_1[-1])"
      ],
      "metadata": {
        "colab": {
          "base_uri": "https://localhost:8080/"
        },
        "id": "m9NpQBE0V82h",
        "outputId": "186cbd84-1d20-4f61-9ea4-65372c586faa"
      },
      "execution_count": 77,
      "outputs": [
        {
          "output_type": "stream",
          "name": "stdout",
          "text": [
            "Final value of theta = [ 5.71850653 -1.9568206 ]\n",
            "cost_history = 0.9905894438682062\n"
          ]
        }
      ]
    },
    {
      "cell_type": "code",
      "source": [
        "# Since X is list of list (feature matrix) lets take values of column of index 1 only\n",
        "plt.scatter(X1[:,1], Y, color='red', marker= '+', label= 'Training Data') \n",
        "plt.plot(X1[:,1],X1.dot(theta_1), color='green', label='Linear Regression')\n",
        "\n",
        "plt.rcParams[\"figure.figsize\"] = (10,6) \n",
        "plt.grid()\n",
        "plt.xlabel('X1')\n",
        "plt.ylabel('Y')\n",
        "plt.title('Linear Regression Model for X1') \n",
        "plt.legend()"
      ],
      "metadata": {
        "colab": {
          "base_uri": "https://localhost:8080/",
          "height": 422
        },
        "id": "CsCQn4x9WCly",
        "outputId": "d2bf8189-953b-41c2-aa3c-35f90e424e5d"
      },
      "execution_count": 78,
      "outputs": [
        {
          "output_type": "execute_result",
          "data": {
            "text/plain": [
              "<matplotlib.legend.Legend at 0x7fd0724c2ee0>"
            ]
          },
          "metadata": {},
          "execution_count": 78
        },
        {
          "output_type": "display_data",
          "data": {
            "text/plain": [
              "<Figure size 720x432 with 1 Axes>"
            ],
            "image/png": "[encoded data removed]"
          },
          "metadata": {
            "needs_background": "light"
          }
        }
      ]
    },
    {
      "cell_type": "code",
      "source": [
        "plt.plot(range(1, iterations_1 + 1),cost_history_1, color='blue') \n",
        "plt.rcParams[\"figure.figsize\"] = (10,6)\n",
        "plt.grid()\n",
        "plt.xlabel('Number of iterations') \n",
        "plt.ylabel('Cost (J1)') \n",
        "plt.title('Convergence of gradient descent for X1')"
      ],
      "metadata": {
        "colab": {
          "base_uri": "https://localhost:8080/",
          "height": 422
        },
        "id": "XDrv0ltFWR2A",
        "outputId": "de17e29e-27c3-43a2-ee4a-ca3a669c4e2b"
      },
      "execution_count": 79,
      "outputs": [
        {
          "output_type": "execute_result",
          "data": {
            "text/plain": [
              "Text(0.5, 1.0, 'Convergence of gradient descent for X1')"
            ]
          },
          "metadata": {},
          "execution_count": 79
        },
        {
          "output_type": "display_data",
          "data": {
            "text/plain": [
              "<Figure size 720x432 with 1 Axes>"
            ],
            "image/png": "[encoded data removed]"
          },
          "metadata": {
            "needs_background": "light"
          }
        }
      ]
    },
    {
      "cell_type": "markdown",
      "source": [
        "X2"
      ],
      "metadata": {
        "id": "PzdbMKxdftEE"
      }
    },
    {
      "cell_type": "code",
      "source": [
        "X_2 = X2.reshape(m, 1) \n",
        "X_2[:10]"
      ],
      "metadata": {
        "colab": {
          "base_uri": "https://localhost:8080/"
        },
        "id": "AOEGpGgMfjt3",
        "outputId": "125fa4e2-ed3b-4613-bcda-9ea3a92ababa"
      },
      "execution_count": 80,
      "outputs": [
        {
          "output_type": "execute_result",
          "data": {
            "text/plain": [
              "array([[3.44      ],\n",
              "       [0.1349495 ],\n",
              "       [0.82989899],\n",
              "       [1.52484848],\n",
              "       [2.21979798],\n",
              "       [2.91474747],\n",
              "       [3.60969697],\n",
              "       [0.30464646],\n",
              "       [0.99959596],\n",
              "       [1.69454546]])"
            ]
          },
          "metadata": {},
          "execution_count": 80
        }
      ]
    },
    {
      "cell_type": "code",
      "source": [
        "# Lets use hstack() function from numpy to stack X_0 and X_1 horizontally (i.e. colum \n",
        "# This will be our final X matrix (feature matrix)\n",
        "X2 = np.hstack((X_0, X_2))\n",
        "X2[:10]"
      ],
      "metadata": {
        "colab": {
          "base_uri": "https://localhost:8080/"
        },
        "id": "j7Fvfp43fqFY",
        "outputId": "9e3320f2-5937-458b-9ca3-a6482e443c96"
      },
      "execution_count": 81,
      "outputs": [
        {
          "output_type": "execute_result",
          "data": {
            "text/plain": [
              "array([[1.        , 3.44      ],\n",
              "       [1.        , 0.1349495 ],\n",
              "       [1.        , 0.82989899],\n",
              "       [1.        , 1.52484848],\n",
              "       [1.        , 2.21979798],\n",
              "       [1.        , 2.91474747],\n",
              "       [1.        , 3.60969697],\n",
              "       [1.        , 0.30464646],\n",
              "       [1.        , 0.99959596],\n",
              "       [1.        , 1.69454546]])"
            ]
          },
          "metadata": {},
          "execution_count": 81
        }
      ]
    },
    {
      "cell_type": "code",
      "source": [
        "theta_2 = np.zeros(2) \n",
        "theta_2"
      ],
      "metadata": {
        "colab": {
          "base_uri": "https://localhost:8080/"
        },
        "id": "3brGo84gf0iX",
        "outputId": "5ef07942-ff57-42cb-a37b-5de06b63cddf"
      },
      "execution_count": 82,
      "outputs": [
        {
          "output_type": "execute_result",
          "data": {
            "text/plain": [
              "array([0., 0.])"
            ]
          },
          "metadata": {},
          "execution_count": 82
        }
      ]
    },
    {
      "cell_type": "code",
      "source": [
        "def compute_cost_2(X2, Y, theta_2): \n",
        "  predictions_2 = X2.dot(theta_2) \n",
        "  errors_2 = np.subtract(predictions_2, Y) \n",
        "  sqrErrors_2 = np.square(errors_2)\n",
        "  J2 = (1 / (2 * m)) * np.sum(sqrErrors_2) \n",
        "  return J2"
      ],
      "metadata": {
        "id": "bDmXkOslf5R1"
      },
      "execution_count": 83,
      "outputs": []
    },
    {
      "cell_type": "code",
      "source": [
        "cost_2 = compute_cost_2(X2, Y, theta_2)\n",
        "print('The cost for given values of theta_0 and theta_1 =', cost_2)"
      ],
      "metadata": {
        "colab": {
          "base_uri": "https://localhost:8080/"
        },
        "id": "o8KA_HKOf-Y3",
        "outputId": "e381df43-338a-4842-b127-fafa926ca560"
      },
      "execution_count": 84,
      "outputs": [
        {
          "output_type": "stream",
          "name": "stdout",
          "text": [
            "The cost for given values of theta_0 and theta_1 = 5.524438459196242\n"
          ]
        }
      ]
    },
    {
      "cell_type": "code",
      "source": [
        "def gradient_descent_2(X2, Y, theta_2, alpha_2, iterations_2):\n",
        "  cost_history_2 = np.zeros(iterations_2)\n",
        "  for i in range(iterations_2):\n",
        "    predictions_2 = X2.dot(theta_2)\n",
        "    errors_2 = np.subtract(predictions_2, Y)\n",
        "    sum_delta_2 = (alpha_2 / m) * X2.transpose().dot(errors_2); theta_2 = theta_2 - sum_delta_2;\n",
        "    cost_history_2[i] = compute_cost_2(X2, Y, theta_2)\n",
        "  return theta_2, cost_history_2"
      ],
      "metadata": {
        "id": "spIoMLfLgAY9"
      },
      "execution_count": 85,
      "outputs": []
    },
    {
      "cell_type": "code",
      "source": [
        "theta_2 = [0., 0.] \n",
        "iterations_2 = 1500; \n",
        "alpha_2 = 0.01;"
      ],
      "metadata": {
        "id": "3JL8eX-GgI3g"
      },
      "execution_count": 86,
      "outputs": []
    },
    {
      "cell_type": "code",
      "source": [
        "theta_2, cost_history_2 = gradient_descent_2(X2, Y, theta_2, alpha_2, iterations_2) \n",
        "print('Final value of theta =', theta_2)\n",
        "print('cost_history =', cost_history_2[-1])"
      ],
      "metadata": {
        "colab": {
          "base_uri": "https://localhost:8080/"
        },
        "id": "sfIGMTiUgMgP",
        "outputId": "12c10abd-db40-478e-f335-4a6cf8935639"
      },
      "execution_count": 87,
      "outputs": [
        {
          "output_type": "stream",
          "name": "stdout",
          "text": [
            "Final value of theta = [0.71988473 0.56390334]\n",
            "cost_history = 3.5993993982305357\n"
          ]
        }
      ]
    },
    {
      "cell_type": "code",
      "source": [
        "# Since X is list of list (feature matrix) lets take values of column of index 1 only\n",
        "plt.scatter(X2[:,1], Y, color='green', marker= '+', label= 'Training Data') \n",
        "plt.plot(X2[:,1],X2.dot(theta_2), color='yellow', label='Linear Regression')\n",
        "plt.rcParams[\"figure.figsize\"] = (10,6) \n",
        "plt.grid()\n",
        "plt.xlabel('X2')\n",
        "plt.ylabel('Y')\n",
        "plt.title('Linear Regression Model for X2') \n",
        "plt.legend()"
      ],
      "metadata": {
        "colab": {
          "base_uri": "https://localhost:8080/",
          "height": 422
        },
        "id": "MSzNhZ__gRA2",
        "outputId": "4188dbbd-d623-4410-ae15-057617501cf8"
      },
      "execution_count": 113,
      "outputs": [
        {
          "output_type": "execute_result",
          "data": {
            "text/plain": [
              "<matplotlib.legend.Legend at 0x7fd072966a00>"
            ]
          },
          "metadata": {},
          "execution_count": 113
        },
        {
          "output_type": "display_data",
          "data": {
            "text/plain": [
              "<Figure size 720x432 with 1 Axes>"
            ],
            "image/png": "[encoded data removed]"
          },
          "metadata": {
            "needs_background": "light"
          }
        }
      ]
    },
    {
      "cell_type": "code",
      "source": [
        "plt.plot(range(1, iterations_2 + 1),cost_history_2, color='brown') \n",
        "plt.rcParams[\"figure.figsize\"] = (10,6)\n",
        "plt.grid()\n",
        "plt.xlabel('Number of iterations')\n",
        "plt.ylabel('Cost (J2)') \n",
        "plt.title('Convergence of gradient descent')"
      ],
      "metadata": {
        "colab": {
          "base_uri": "https://localhost:8080/",
          "height": 422
        },
        "id": "_qu3bFk9gkx3",
        "outputId": "72a79f58-0e9a-47e1-d2fd-f6d72a9c279b"
      },
      "execution_count": 89,
      "outputs": [
        {
          "output_type": "execute_result",
          "data": {
            "text/plain": [
              "Text(0.5, 1.0, 'Convergence of gradient descent')"
            ]
          },
          "metadata": {},
          "execution_count": 89
        },
        {
          "output_type": "display_data",
          "data": {
            "text/plain": [
              "<Figure size 720x432 with 1 Axes>"
            ],
            "image/png": "[encoded data removed]"
          },
          "metadata": {
            "needs_background": "light"
          }
        }
      ]
    },
    {
      "cell_type": "markdown",
      "source": [
        "X3"
      ],
      "metadata": {
        "id": "6sqm-HimgrH-"
      }
    },
    {
      "cell_type": "code",
      "source": [
        "X_3 = X3.reshape(m, 1) \n",
        "X_3[:10]"
      ],
      "metadata": {
        "colab": {
          "base_uri": "https://localhost:8080/"
        },
        "id": "M8unTC52gspV",
        "outputId": "fce17dcb-b711-4b03-b7df-e842cddb365c"
      },
      "execution_count": 90,
      "outputs": [
        {
          "output_type": "execute_result",
          "data": {
            "text/plain": [
              "array([[0.44      ],\n",
              "       [0.88848485],\n",
              "       [1.3369697 ],\n",
              "       [1.78545454],\n",
              "       [2.23393939],\n",
              "       [2.68242424],\n",
              "       [3.13090909],\n",
              "       [3.57939394],\n",
              "       [0.02787879],\n",
              "       [0.47636364]])"
            ]
          },
          "metadata": {},
          "execution_count": 90
        }
      ]
    },
    {
      "cell_type": "code",
      "source": [
        "\n",
        "# Lets use hstack() function from numpy to stack X_0 and X_1 horizontally (i.e. colum \n",
        "# This will be our final X matrix (feature matrix)\n",
        "X3 = np.hstack((X_0, X_3))\n",
        "X3[:10]"
      ],
      "metadata": {
        "colab": {
          "base_uri": "https://localhost:8080/"
        },
        "id": "Gug9tTa7gv9T",
        "outputId": "880044e5-63c1-461f-cf85-d52dd058692d"
      },
      "execution_count": 91,
      "outputs": [
        {
          "output_type": "execute_result",
          "data": {
            "text/plain": [
              "array([[1.        , 0.44      ],\n",
              "       [1.        , 0.88848485],\n",
              "       [1.        , 1.3369697 ],\n",
              "       [1.        , 1.78545454],\n",
              "       [1.        , 2.23393939],\n",
              "       [1.        , 2.68242424],\n",
              "       [1.        , 3.13090909],\n",
              "       [1.        , 3.57939394],\n",
              "       [1.        , 0.02787879],\n",
              "       [1.        , 0.47636364]])"
            ]
          },
          "metadata": {},
          "execution_count": 91
        }
      ]
    },
    {
      "cell_type": "code",
      "source": [
        "theta_3 = np.zeros(2) \n",
        "theta_3"
      ],
      "metadata": {
        "colab": {
          "base_uri": "https://localhost:8080/"
        },
        "id": "EBAL52tghG2Z",
        "outputId": "dcfce47c-5730-425b-836f-b5603c2906a1"
      },
      "execution_count": 92,
      "outputs": [
        {
          "output_type": "execute_result",
          "data": {
            "text/plain": [
              "array([0., 0.])"
            ]
          },
          "metadata": {},
          "execution_count": 92
        }
      ]
    },
    {
      "cell_type": "code",
      "source": [
        "def compute_cost_3(X3, Y, theta_3): \n",
        "  predictions_3 = X3.dot(theta_3) \n",
        "  errors_3 = np.subtract(predictions_3, Y) \n",
        "  sqrErrors_3 = np.square(errors_3)\n",
        "  J3 = (1 / (2 * m)) * np.sum(sqrErrors_3) \n",
        "  return J3"
      ],
      "metadata": {
        "id": "gLVwC046hOhD"
      },
      "execution_count": 93,
      "outputs": []
    },
    {
      "cell_type": "code",
      "source": [
        "cost_3 = compute_cost_3(X3, Y, theta_3)\n",
        "print('The cost for given values of theta_0 and theta_1 =', cost_3)"
      ],
      "metadata": {
        "colab": {
          "base_uri": "https://localhost:8080/"
        },
        "id": "UdisbGehhOYT",
        "outputId": "4a4bee8b-0c67-449c-f122-211378aa43ec"
      },
      "execution_count": 94,
      "outputs": [
        {
          "output_type": "stream",
          "name": "stdout",
          "text": [
            "The cost for given values of theta_0 and theta_1 = 5.524438459196242\n"
          ]
        }
      ]
    },
    {
      "cell_type": "code",
      "source": [
        "def gradient_descent_3(X3, Y, theta_3, alpha_3, iterations_3): \n",
        "  cost_history_3 = np.zeros(iterations_3)\n",
        "  for i in range(iterations_3):\n",
        "    predictions_3 = X3.dot(theta_3)\n",
        "    errors_3 = np.subtract(predictions_3, Y)\n",
        "    sum_delta_3 = (alpha_3 / m) * X3.transpose().dot(errors_3); theta_3 = theta_3 - sum_delta_3;\n",
        "    cost_history_3[i] = compute_cost_3(X3, Y, theta_3)\n",
        "  return theta_3, cost_history_3"
      ],
      "metadata": {
        "id": "RHDCQ1vChV0q"
      },
      "execution_count": 95,
      "outputs": []
    },
    {
      "cell_type": "code",
      "source": [
        "theta_3 = [0., 0.] \n",
        "iterations_3 = 1500; \n",
        "alpha_3 = 0.01;"
      ],
      "metadata": {
        "id": "kar9vjpBhfkF"
      },
      "execution_count": 96,
      "outputs": []
    },
    {
      "cell_type": "code",
      "source": [
        "theta_3, cost_history_3 = gradient_descent_3(X3, Y, theta_3, alpha_3, iterations_3) \n",
        "print('Final value of theta =', theta_3)\n",
        "print('cost_history =', cost_history_3[-1])"
      ],
      "metadata": {
        "colab": {
          "base_uri": "https://localhost:8080/"
        },
        "id": "HOvwdOoahij1",
        "outputId": "29ad6f4f-0078-4801-daf2-e670380191ab"
      },
      "execution_count": 97,
      "outputs": [
        {
          "output_type": "stream",
          "name": "stdout",
          "text": [
            "Final value of theta = [ 2.78048129 -0.48451631]\n",
            "cost_history = 3.6305262475389664\n"
          ]
        }
      ]
    },
    {
      "cell_type": "code",
      "source": [
        "# Since X is list of list (feature matrix) lets take values of column of index 1 only\n",
        "plt.scatter(X3[:,1], Y, color='orange', marker= '+', label= 'Training Data') \n",
        "plt.plot(X3[:,1],X3.dot(theta_3), color='black', label='Linear Regression')\n",
        "plt.rcParams[\"figure.figsize\"] = (10,6) \n",
        "plt.grid()\n",
        "plt.xlabel('X3')\n",
        "plt.ylabel('Y')\n",
        "plt.title('Linear Regression Model for X3') \n",
        "plt.legend()"
      ],
      "metadata": {
        "colab": {
          "base_uri": "https://localhost:8080/",
          "height": 422
        },
        "id": "C_cRE3bbhpSw",
        "outputId": "f1a61e7d-cf8c-4cf4-afea-800d42a339e8"
      },
      "execution_count": 98,
      "outputs": [
        {
          "output_type": "execute_result",
          "data": {
            "text/plain": [
              "<matplotlib.legend.Legend at 0x7fd0722f9880>"
            ]
          },
          "metadata": {},
          "execution_count": 98
        },
        {
          "output_type": "display_data",
          "data": {
            "text/plain": [
              "<Figure size 720x432 with 1 Axes>"
            ],
            "image/png": "[encoded data removed]"
          },
          "metadata": {
            "needs_background": "light"
          }
        }
      ]
    },
    {
      "cell_type": "code",
      "source": [
        "plt.plot(range(1, iterations_3 + 1),cost_history_3, color='brown') \n",
        "plt.rcParams[\"figure.figsize\"] = (10,6)\n",
        "plt.grid()\n",
        "plt.xlabel('Number of iterations')\n",
        "plt.ylabel('Cost (J3)') \n",
        "plt.title('Convergence of gradient descent')\n"
      ],
      "metadata": {
        "colab": {
          "base_uri": "https://localhost:8080/",
          "height": 422
        },
        "id": "f7_nubbphvtO",
        "outputId": "5cae1b0e-4aa9-4460-d976-595ec3f34608"
      },
      "execution_count": 99,
      "outputs": [
        {
          "output_type": "execute_result",
          "data": {
            "text/plain": [
              "Text(0.5, 1.0, 'Convergence of gradient descent')"
            ]
          },
          "metadata": {},
          "execution_count": 99
        },
        {
          "output_type": "display_data",
          "data": {
            "text/plain": [
              "<Figure size 720x432 with 1 Axes>"
            ],
            "image/png": "[encoded data removed]"
          },
          "metadata": {
            "needs_background": "light"
          }
        }
      ]
    },
    {
      "cell_type": "markdown",
      "source": [
        "For Q2-4"
      ],
      "metadata": {
        "id": "lDSvT3qAiC6T"
      }
    },
    {
      "cell_type": "code",
      "source": [
        "X = df.values[:, (0,1,2)]  # get input values from first column\n",
        "y = df.values[:, 3]        # get output values from 4th column \n",
        "m = len(y)                 # Number of training examples\n",
        "print('X = ', X[: 10])     # Show only first 10 records\n",
        "print('y = ', y[: 10])\n",
        "print('m = ', m)"
      ],
      "metadata": {
        "colab": {
          "base_uri": "https://localhost:8080/"
        },
        "id": "qYqqxeCBh5h3",
        "outputId": "de8c50f8-f5cd-4a2b-91f0-6966aa7524df"
      },
      "execution_count": 100,
      "outputs": [
        {
          "output_type": "stream",
          "name": "stdout",
          "text": [
            "X =  [[0.         3.44       0.44      ]\n",
            " [0.04040404 0.1349495  0.88848485]\n",
            " [0.08080808 0.82989899 1.3369697 ]\n",
            " [0.12121212 1.52484848 1.78545454]\n",
            " [0.16161616 2.21979798 2.23393939]\n",
            " [0.2020202  2.91474747 2.68242424]\n",
            " [0.24242424 3.60969697 3.13090909]\n",
            " [0.28282828 0.30464646 3.57939394]\n",
            " [0.32323232 0.99959596 0.02787879]\n",
            " [0.36363636 1.69454546 0.47636364]]\n",
            "y =  [4.38754501 2.6796499  2.96848981 3.25406475 3.53637472 3.81541972\n",
            " 4.09119974 2.36371479 3.83296487 4.09894997]\n",
            "m =  100\n"
          ]
        }
      ]
    },
    {
      "cell_type": "code",
      "source": [
        "X_0 = np.ones((m, 1)) \n",
        "X_0[:5]"
      ],
      "metadata": {
        "colab": {
          "base_uri": "https://localhost:8080/"
        },
        "id": "S5Wy17I3iXmZ",
        "outputId": "3594483f-b100-4cab-872b-10cec8b48ea6"
      },
      "execution_count": 101,
      "outputs": [
        {
          "output_type": "execute_result",
          "data": {
            "text/plain": [
              "array([[1.],\n",
              "       [1.],\n",
              "       [1.],\n",
              "       [1.],\n",
              "       [1.]])"
            ]
          },
          "metadata": {},
          "execution_count": 101
        }
      ]
    },
    {
      "cell_type": "code",
      "source": [
        "# Using reshape function convert X 1D array to 2D array of dimension 97x1\n",
        "X_N = X.reshape(m, 3) \n",
        "X_N[:10]"
      ],
      "metadata": {
        "colab": {
          "base_uri": "https://localhost:8080/"
        },
        "id": "imVTrtw_iaTH",
        "outputId": "ae7b4dec-1842-49e8-e284-dbfc81a1164d"
      },
      "execution_count": 102,
      "outputs": [
        {
          "output_type": "execute_result",
          "data": {
            "text/plain": [
              "array([[0.        , 3.44      , 0.44      ],\n",
              "       [0.04040404, 0.1349495 , 0.88848485],\n",
              "       [0.08080808, 0.82989899, 1.3369697 ],\n",
              "       [0.12121212, 1.52484848, 1.78545454],\n",
              "       [0.16161616, 2.21979798, 2.23393939],\n",
              "       [0.2020202 , 2.91474747, 2.68242424],\n",
              "       [0.24242424, 3.60969697, 3.13090909],\n",
              "       [0.28282828, 0.30464646, 3.57939394],\n",
              "       [0.32323232, 0.99959596, 0.02787879],\n",
              "       [0.36363636, 1.69454546, 0.47636364]])"
            ]
          },
          "metadata": {},
          "execution_count": 102
        }
      ]
    },
    {
      "cell_type": "code",
      "source": [
        "X = np.hstack((X_0, X_N)) \n",
        "X[:5]"
      ],
      "metadata": {
        "colab": {
          "base_uri": "https://localhost:8080/"
        },
        "id": "uFyxPRxEidgU",
        "outputId": "96c5ace7-7eb0-4df2-dc98-2bb9aaaeceb2"
      },
      "execution_count": 103,
      "outputs": [
        {
          "output_type": "execute_result",
          "data": {
            "text/plain": [
              "array([[1.        , 0.        , 3.44      , 0.44      ],\n",
              "       [1.        , 0.04040404, 0.1349495 , 0.88848485],\n",
              "       [1.        , 0.08080808, 0.82989899, 1.3369697 ],\n",
              "       [1.        , 0.12121212, 1.52484848, 1.78545454],\n",
              "       [1.        , 0.16161616, 2.21979798, 2.23393939]])"
            ]
          },
          "metadata": {},
          "execution_count": 103
        }
      ]
    },
    {
      "cell_type": "code",
      "source": [
        "theta = np.zeros(4) \n",
        "theta"
      ],
      "metadata": {
        "colab": {
          "base_uri": "https://localhost:8080/"
        },
        "id": "fm_eZGj1ifqG",
        "outputId": "fc6b67dc-d4a5-4dbe-8308-f17749258dae"
      },
      "execution_count": 104,
      "outputs": [
        {
          "output_type": "execute_result",
          "data": {
            "text/plain": [
              "array([0., 0., 0., 0.])"
            ]
          },
          "metadata": {},
          "execution_count": 104
        }
      ]
    },
    {
      "cell_type": "code",
      "source": [
        "def compute_cost(X, y, theta): \n",
        "  predictions = X.dot(theta)\n",
        "  errors = np.subtract(predictions, y)\n",
        "  sqrErrors = np.square(errors)\n",
        "  J = 1 / (2 * m) * np.sum(sqrErrors) \n",
        "  return J"
      ],
      "metadata": {
        "id": "w8Gw4uWsih0o"
      },
      "execution_count": 105,
      "outputs": []
    },
    {
      "cell_type": "code",
      "source": [
        "cost = compute_cost(X, y, theta)\n",
        "print('The cost for given values of theta_0 and theta_1 =', cost)"
      ],
      "metadata": {
        "colab": {
          "base_uri": "https://localhost:8080/"
        },
        "id": "CxTZww-JipFf",
        "outputId": "27acdf92-580c-487d-b4bc-8d7cb4666054"
      },
      "execution_count": 106,
      "outputs": [
        {
          "output_type": "stream",
          "name": "stdout",
          "text": [
            "The cost for given values of theta_0 and theta_1 = 5.524438459196242\n"
          ]
        }
      ]
    },
    {
      "cell_type": "code",
      "source": [
        "def gradient_descent(X, y, theta, alpha, iterations): \n",
        "  cost_history = np.zeros(iterations)\n",
        "  for i in range(iterations):\n",
        "    predictions = X.dot(theta)\n",
        "    errors = np.subtract(predictions, y)\n",
        "    sum_delta = (alpha / m) * X.transpose().dot(errors); theta = theta - sum_delta;\n",
        "    cost_history[i] = compute_cost(X, y, theta)\n",
        "  return theta, cost_history"
      ],
      "metadata": {
        "id": "_RVBWEjDiqwt"
      },
      "execution_count": 107,
      "outputs": []
    },
    {
      "cell_type": "code",
      "source": [
        "theta = [0., 0., 0., 0.] \n",
        "iterations = 1500; \n",
        "alpha = 0.01;"
      ],
      "metadata": {
        "id": "3xT3og6MixkY"
      },
      "execution_count": 108,
      "outputs": []
    },
    {
      "cell_type": "code",
      "source": [
        "theta, cost_history = gradient_descent(X, y, theta, alpha, iterations) \n",
        "print('Final value of theta =', theta)\n",
        "print('cost_history =', cost_history[-1])"
      ],
      "metadata": {
        "colab": {
          "base_uri": "https://localhost:8080/"
        },
        "id": "KuDcjHYei0gL",
        "outputId": "d300e25b-0cd8-40a7-fd61-dd2ca0b441a1"
      },
      "execution_count": 109,
      "outputs": [
        {
          "output_type": "stream",
          "name": "stdout",
          "text": [
            "Final value of theta = [ 4.15118728 -1.8394291   0.72473856 -0.09513266]\n",
            "cost_history = 0.8105104429083869\n"
          ]
        }
      ]
    },
    {
      "cell_type": "code",
      "source": [
        "# Since X is list of list (feature matrix) lets take values of column of index 1 only\n",
        "plt.scatter(X[:,1], y, color='red', marker= '+', label= 'Training Data') \n",
        "plt.plot(X[:,1],X.dot(theta), color='green', label='Linear Regression')\n",
        "plt.rcParams[\"figure.figsize\"] = (10,6) \n",
        "plt.grid()\n",
        "plt.xlabel('Population of City in 10,000s') \n",
        "plt.ylabel('Profit in $10,000s') \n",
        "plt.title('Linear Regression Fit for q2 part 4') \n",
        "plt.legend()"
      ],
      "metadata": {
        "colab": {
          "base_uri": "https://localhost:8080/",
          "height": 422
        },
        "id": "DnCJv1M2i3qF",
        "outputId": "dea0ef85-2ff7-4039-d265-9bdd704a79dc"
      },
      "execution_count": 110,
      "outputs": [
        {
          "output_type": "execute_result",
          "data": {
            "text/plain": [
              "<matplotlib.legend.Legend at 0x7fd07223f7f0>"
            ]
          },
          "metadata": {},
          "execution_count": 110
        },
        {
          "output_type": "display_data",
          "data": {
            "text/plain": [
              "<Figure size 720x432 with 1 Axes>"
            ],
            "image/png": "[encoded data removed]"
          },
          "metadata": {
            "needs_background": "light"
          }
        }
      ]
    },
    {
      "cell_type": "code",
      "source": [
        "plt.plot(range(1, iterations + 1),cost_history, color='blue') \n",
        "plt.rcParams[\"figure.figsize\"] = (10,6)\n",
        "plt.grid()\n",
        "plt.xlabel('Number of iterations')\n",
        "plt.ylabel('Cost (J)') \n",
        "plt.title('Convergence of gradient descent')"
      ],
      "metadata": {
        "colab": {
          "base_uri": "https://localhost:8080/",
          "height": 422
        },
        "id": "0H62auuwjBCg",
        "outputId": "a22293a4-e5a6-46a8-9745-1402cfe82578"
      },
      "execution_count": 111,
      "outputs": [
        {
          "output_type": "execute_result",
          "data": {
            "text/plain": [
              "Text(0.5, 1.0, 'Convergence of gradient descent')"
            ]
          },
          "metadata": {},
          "execution_count": 111
        },
        {
          "output_type": "display_data",
          "data": {
            "text/plain": [
              "<Figure size 720x432 with 1 Axes>"
            ],
            "image/png": "[encoded data removed]"
          },
          "metadata": {
            "needs_background": "light"
          }
        }
      ]
    },
    {
      "cell_type": "code",
      "source": [
        "#Predicting values for Y\n",
        "sum_1 = theta[3]*(1) + theta[2]*(1) + theta[1]*(1) + theta[0] \n",
        "sum_2 = theta[3]*(2) + theta[2]*(0) + theta[1]*(4) + theta[0] \n",
        "sum_3 = theta[3]*(3) + theta[2]*(2) + theta[1]*(1) + theta[0]\n",
        "\n",
        "print(sum_1)\n",
        "print(sum_2)\n",
        "print(sum_3)"
      ],
      "metadata": {
        "colab": {
          "base_uri": "https://localhost:8080/"
        },
        "id": "Wa6hNos-jF1a",
        "outputId": "4450b2e6-39df-495b-e2f4-d40ae8cd6836"
      },
      "execution_count": 112,
      "outputs": [
        {
          "output_type": "stream",
          "name": "stdout",
          "text": [
            "2.941364081664529\n",
            "-3.396794436487604\n",
            "3.475837314424191\n"
          ]
        }
      ]
    }
  ]
}