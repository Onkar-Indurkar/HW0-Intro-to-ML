{
  "nbformat": 4,
  "nbformat_minor": 0,
  "metadata": {
    "colab": {
      "provenance": []
    },
    "kernelspec": {
      "name": "python3",
      "display_name": "Python 3"
    },
    "language_info": {
      "name": "python"
    }
  },
  "cells": [
    {
      "cell_type": "code",
      "execution_count": 225,
      "metadata": {
        "id": "pU72v4KyTbrL"
      },
      "outputs": [],
      "source": [
        "import numpy as np\n",
        "import pandas as pd\n",
        "import matplotlib.pyplot as plt"
      ]
    },
    {
      "cell_type": "code",
      "source": [
        "#df = pd.read_csv('D3.csv') or\n",
        "#df = pd.read_csv('/content/sample_data/D3.csv') #using google collab & uploading d3.csv in sample data folder in files or\n",
        "df = pd.read_csv('https://raw.githubusercontent.com/Onkar-Indurkar/Intro-to-ML/main/D3.csv')\n",
        "df.head()        # To get first n rows from the dataset default value of n is 5 \n",
        "M=len(df)\n",
        "M"
      ],
      "metadata": {
        "colab": {
          "base_uri": "https://localhost:8080/"
        },
        "id": "C9s9vVsZTgMS",
        "outputId": "c1a01a1b-6cf9-4ce9-945f-4c9a02fdeff6"
      },
      "execution_count": 226,
      "outputs": [
        {
          "output_type": "execute_result",
          "data": {
            "text/plain": [
              "100"
            ]
          },
          "metadata": {},
          "execution_count": 226
        }
      ]
    },
    {
      "cell_type": "code",
      "source": [
        "X1 = df.values[:, 0]     # get input values from first column \n",
        "Y = df.values[:, 3]      # get output values from second column \n",
        "m = len(Y)               # Number of training examples\n",
        "print('X1 = ', X1[: 10]) # Show only first 10 records print('Y = ', Y[: 10])\n",
        "print('m = ', m)"
      ],
      "metadata": {
        "colab": {
          "base_uri": "https://localhost:8080/"
        },
        "id": "3WvbwZWmTkyk",
        "outputId": "b04a855a-e18a-499a-e761-e12a85898c3d"
      },
      "execution_count": 227,
      "outputs": [
        {
          "output_type": "stream",
          "name": "stdout",
          "text": [
            "X1 =  [0.         0.04040404 0.08080808 0.12121212 0.16161616 0.2020202\n",
            " 0.24242424 0.28282828 0.32323232 0.36363636]\n",
            "m =  100\n"
          ]
        }
      ]
    },
    {
      "cell_type": "code",
      "source": [
        "X2 = df.values[:, 1]     # get input values from first column \n",
        "Y = df.values[:, 3]      # get output values from second column \n",
        "m = len(Y)               # Number of training examples\n",
        "print('X2 = ', X2[: 10]) # Show only first 10 records print('Y = ', Y[: 10])\n",
        "print('m = ', m)"
      ],
      "metadata": {
        "colab": {
          "base_uri": "https://localhost:8080/"
        },
        "id": "o6x1blXkTuoM",
        "outputId": "b8981ff4-579b-4b4a-9887-e8bdb9bd85ae"
      },
      "execution_count": 228,
      "outputs": [
        {
          "output_type": "stream",
          "name": "stdout",
          "text": [
            "X2 =  [3.44       0.1349495  0.82989899 1.52484848 2.21979798 2.91474747\n",
            " 3.60969697 0.30464646 0.99959596 1.69454546]\n",
            "m =  100\n"
          ]
        }
      ]
    },
    {
      "cell_type": "code",
      "source": [
        "X3 = df.values[:, 2]     # get input values from first column \n",
        "Y = df.values[:, 3]      # get output values from second column \n",
        "m = len(Y)               # Number of training examples\n",
        "print('X3 = ', X3[: 10]) # Show only first 10 records print('Y = ', Y[: 10])\n",
        "print('m = ', m)"
      ],
      "metadata": {
        "colab": {
          "base_uri": "https://localhost:8080/"
        },
        "id": "zLanADATT52N",
        "outputId": "1d551a94-41cb-4806-cf8e-8947d2aa826b"
      },
      "execution_count": 229,
      "outputs": [
        {
          "output_type": "stream",
          "name": "stdout",
          "text": [
            "X3 =  [0.44       0.88848485 1.3369697  1.78545454 2.23393939 2.68242424\n",
            " 3.13090909 3.57939394 0.02787879 0.47636364]\n",
            "m =  100\n"
          ]
        }
      ]
    },
    {
      "cell_type": "code",
      "source": [
        "plt.scatter(X1,Y, color='red',marker= '+') \n",
        "plt.grid()\n",
        "plt.rcParams[\"figure.figsize\"] = (10,6) \n",
        "plt.xlabel('X1')\n",
        "plt.ylabel('Y')\n",
        "plt.title('X1 data')"
      ],
      "metadata": {
        "colab": {
          "base_uri": "https://localhost:8080/",
          "height": 422
        },
        "id": "ECuY82z3T_zN",
        "outputId": "3e98962b-d8b5-4296-fc9e-a4a3c57561a1"
      },
      "execution_count": 230,
      "outputs": [
        {
          "output_type": "execute_result",
          "data": {
            "text/plain": [
              "Text(0.5, 1.0, 'X1 data')"
            ]
          },
          "metadata": {},
          "execution_count": 230
        },
        {
          "output_type": "display_data",
          "data": {
            "text/plain": [
              "<Figure size 720x432 with 1 Axes>"
            ],
            "image/png": "[encoded data removed]"
          },
          "metadata": {
            "needs_background": "light"
          }
        }
      ]
    },
    {
      "cell_type": "code",
      "source": [
        "plt.scatter(X2,Y, color='green',marker= '+') \n",
        "plt.grid()\n",
        "plt.rcParams[\"figure.figsize\"] = (10,6) \n",
        "plt.xlabel('X2')\n",
        "plt.ylabel('Y')\n",
        "plt.title('X2 data')"
      ],
      "metadata": {
        "colab": {
          "base_uri": "https://localhost:8080/",
          "height": 422
        },
        "id": "k5gJD_XXUH9V",
        "outputId": "becb0aec-faec-43ab-9ec9-456e61121ae1"
      },
      "execution_count": 231,
      "outputs": [
        {
          "output_type": "execute_result",
          "data": {
            "text/plain": [
              "Text(0.5, 1.0, 'X2 data')"
            ]
          },
          "metadata": {},
          "execution_count": 231
        },
        {
          "output_type": "display_data",
          "data": {
            "text/plain": [
              "<Figure size 720x432 with 1 Axes>"
            ],
            "image/png": "[encoded data removed]"
          },
          "metadata": {
            "needs_background": "light"
          }
        }
      ]
    },
    {
      "cell_type": "code",
      "source": [
        "plt.scatter(X3,Y, color='blue',marker= '+') \n",
        "plt.grid()\n",
        "plt.rcParams[\"figure.figsize\"] = (10,6) \n",
        "plt.xlabel('X3')\n",
        "plt.ylabel('Y')\n",
        "plt.title('X3 data')"
      ],
      "metadata": {
        "colab": {
          "base_uri": "https://localhost:8080/",
          "height": 422
        },
        "id": "oGFLNgktULkX",
        "outputId": "ddb66013-c682-4a7d-e894-b6aa2d7b432b"
      },
      "execution_count": 232,
      "outputs": [
        {
          "output_type": "execute_result",
          "data": {
            "text/plain": [
              "Text(0.5, 1.0, 'X3 data')"
            ]
          },
          "metadata": {},
          "execution_count": 232
        },
        {
          "output_type": "display_data",
          "data": {
            "text/plain": [
              "<Figure size 720x432 with 1 Axes>"
            ],
            "image/png": "[encoded data removed]"
          },
          "metadata": {
            "needs_background": "light"
          }
        }
      ]
    },
    {
      "cell_type": "code",
      "source": [
        "#Lets create a matrix with single column of ones\n",
        "X_0 = np.ones((m, 1)) \n",
        "X_0[:5]"
      ],
      "metadata": {
        "colab": {
          "base_uri": "https://localhost:8080/"
        },
        "id": "UUIocfMwUX_M",
        "outputId": "27cd51fb-7c99-45c3-a268-9aaeaa162fd0"
      },
      "execution_count": 233,
      "outputs": [
        {
          "output_type": "execute_result",
          "data": {
            "text/plain": [
              "array([[1.],\n",
              "       [1.],\n",
              "       [1.],\n",
              "       [1.],\n",
              "       [1.]])"
            ]
          },
          "metadata": {},
          "execution_count": 233
        }
      ]
    },
    {
      "cell_type": "markdown",
      "source": [
        "X1"
      ],
      "metadata": {
        "id": "sfoGtAaAfwnl"
      }
    },
    {
      "cell_type": "code",
      "source": [
        "X_1 = X1.reshape(m, 1) \n",
        "X_1[:10]"
      ],
      "metadata": {
        "colab": {
          "base_uri": "https://localhost:8080/"
        },
        "id": "gkiQsYS0Uecr",
        "outputId": "3e37605a-f369-4ea8-d59c-8d1e76d76ed2"
      },
      "execution_count": 234,
      "outputs": [
        {
          "output_type": "execute_result",
          "data": {
            "text/plain": [
              "array([[0.        ],\n",
              "       [0.04040404],\n",
              "       [0.08080808],\n",
              "       [0.12121212],\n",
              "       [0.16161616],\n",
              "       [0.2020202 ],\n",
              "       [0.24242424],\n",
              "       [0.28282828],\n",
              "       [0.32323232],\n",
              "       [0.36363636]])"
            ]
          },
          "metadata": {},
          "execution_count": 234
        }
      ]
    },
    {
      "cell_type": "code",
      "source": [
        "# Lets use hstack() function from numpy to stack X_0 and X_1 horizontally (i.e. colum # This will be our final X matrix (feature matrix)\n",
        "X1 = np.hstack((X_0, X_1))\n",
        "X1[:10]"
      ],
      "metadata": {
        "colab": {
          "base_uri": "https://localhost:8080/"
        },
        "id": "yF4u2WCGUjjv",
        "outputId": "ce4a3068-cce4-4e46-d130-8cd13cee073e"
      },
      "execution_count": 235,
      "outputs": [
        {
          "output_type": "execute_result",
          "data": {
            "text/plain": [
              "array([[1.        , 0.        ],\n",
              "       [1.        , 0.04040404],\n",
              "       [1.        , 0.08080808],\n",
              "       [1.        , 0.12121212],\n",
              "       [1.        , 0.16161616],\n",
              "       [1.        , 0.2020202 ],\n",
              "       [1.        , 0.24242424],\n",
              "       [1.        , 0.28282828],\n",
              "       [1.        , 0.32323232],\n",
              "       [1.        , 0.36363636]])"
            ]
          },
          "metadata": {},
          "execution_count": 235
        }
      ]
    },
    {
      "cell_type": "code",
      "source": [
        "theta_1 = np.zeros(2) \n",
        "theta_1"
      ],
      "metadata": {
        "colab": {
          "base_uri": "https://localhost:8080/"
        },
        "id": "dWNaMY9EUo9V",
        "outputId": "561754d4-f6f0-468a-f14c-0c2ed8fbb352"
      },
      "execution_count": 236,
      "outputs": [
        {
          "output_type": "execute_result",
          "data": {
            "text/plain": [
              "array([0., 0.])"
            ]
          },
          "metadata": {},
          "execution_count": 236
        }
      ]
    },
    {
      "cell_type": "code",
      "source": [
        "def compute_cost_1(X1, Y, theta_1): \n",
        "  predictions_1 = X1.dot(theta_1) \n",
        "  errors_1 = np.subtract(predictions_1, Y) \n",
        "  sqrErrors_1 = np.square(errors_1)\n",
        "  J1 = (1 / (2 * m)) * np.sum(sqrErrors_1) \n",
        "  return J1"
      ],
      "metadata": {
        "id": "HyHxjFDrUrI8"
      },
      "execution_count": 237,
      "outputs": []
    },
    {
      "cell_type": "code",
      "source": [
        "cost_1 = compute_cost_1(X1, Y, theta_1)\n",
        "print('The cost for given values of theta_1 =', cost_1)"
      ],
      "metadata": {
        "colab": {
          "base_uri": "https://localhost:8080/"
        },
        "id": "3JGOj2pBU-Vl",
        "outputId": "de8fd073-7b48-4ffb-c3b7-772dbdbda0a0"
      },
      "execution_count": 238,
      "outputs": [
        {
          "output_type": "stream",
          "name": "stdout",
          "text": [
            "The cost for given values of theta_1 = 5.524438459196242\n"
          ]
        }
      ]
    },
    {
      "cell_type": "code",
      "source": [
        "def gradient_descent_1(X1, Y, theta_1, alpha_1, iterations_1):\n",
        "  cost_history_1 = np.zeros(iterations_1)\n",
        "  for i in range(iterations_1):\n",
        "    predictions_1 = X1.dot(theta_1)\n",
        "    errors_1 = np.subtract(predictions_1, Y)\n",
        "    sum_delta_1 = (alpha_1 / m) * X1.transpose().dot(errors_1); theta_1 = theta_1 - sum_delta_1;\n",
        "    cost_history_1[i] = compute_cost_1(X1, Y, theta_1)\n",
        "  return theta_1, cost_history_1"
      ],
      "metadata": {
        "id": "vLJ7tPzaVCuj"
      },
      "execution_count": 239,
      "outputs": []
    },
    {
      "cell_type": "code",
      "source": [
        "theta_1 = [0., 0.] \n",
        "iterations_1 = 1500; \n",
        "alpha_1 = 0.01;"
      ],
      "metadata": {
        "id": "oYJ3u72_VMwy"
      },
      "execution_count": 240,
      "outputs": []
    },
    {
      "cell_type": "code",
      "source": [
        "theta_1, cost_history_1 = gradient_descent_1(X1, Y, theta_1, alpha_1, iterations_1) \n",
        "print('Final value of theta =', theta_1)\n",
        "print('cost_history =', cost_history_1[-1])"
      ],
      "metadata": {
        "colab": {
          "base_uri": "https://localhost:8080/"
        },
        "id": "m9NpQBE0V82h",
        "outputId": "d3837c74-d05f-49d1-a5a0-f37549707a20"
      },
      "execution_count": 241,
      "outputs": [
        {
          "output_type": "stream",
          "name": "stdout",
          "text": [
            "Final value of theta = [ 5.71850653 -1.9568206 ]\n",
            "cost_history = 0.9905894438682062\n"
          ]
        }
      ]
    },
    {
      "cell_type": "code",
      "source": [
        "# Since X is list of list (feature matrix) lets take values of column of index 1 only\n",
        "plt.scatter(X1[:,1], Y, color='green', marker= '+', label= 'Training Data') \n",
        "plt.plot(X1[:,1],X1.dot(theta_1), color='red', label='Linear Regression')\n",
        "\n",
        "plt.rcParams[\"figure.figsize\"] = (10,6) \n",
        "plt.grid()\n",
        "plt.xlabel('X1')\n",
        "plt.ylabel('Y')\n",
        "plt.title('Linear Regression Model for X1') \n",
        "plt.legend()"
      ],
      "metadata": {
        "colab": {
          "base_uri": "https://localhost:8080/",
          "height": 422
        },
        "id": "CsCQn4x9WCly",
        "outputId": "c74cef5f-bc94-4fb2-93ab-8d86d356c6bc"
      },
      "execution_count": 242,
      "outputs": [
        {
          "output_type": "execute_result",
          "data": {
            "text/plain": [
              "<matplotlib.legend.Legend at 0x7fd0714b5ac0>"
            ]
          },
          "metadata": {},
          "execution_count": 242
        },
        {
          "output_type": "display_data",
          "data": {
            "text/plain": [
              "<Figure size 720x432 with 1 Axes>"
            ],
            "image/png": "[encoded data removed]"
          },
          "metadata": {
            "needs_background": "light"
          }
        }
      ]
    },
    {
      "cell_type": "code",
      "source": [
        "plt.plot(range(1, iterations_1 + 1),cost_history_1, color='blue') \n",
        "plt.rcParams[\"figure.figsize\"] = (10,6)\n",
        "plt.grid()\n",
        "plt.xlabel('Number of iterations') \n",
        "plt.ylabel('Cost (J1)') \n",
        "plt.title('Convergence of gradient descent for X1')"
      ],
      "metadata": {
        "colab": {
          "base_uri": "https://localhost:8080/",
          "height": 422
        },
        "id": "XDrv0ltFWR2A",
        "outputId": "b7037cd6-e1c1-4d6f-cb82-14571c345230"
      },
      "execution_count": 243,
      "outputs": [
        {
          "output_type": "execute_result",
          "data": {
            "text/plain": [
              "Text(0.5, 1.0, 'Convergence of gradient descent for X1')"
            ]
          },
          "metadata": {},
          "execution_count": 243
        },
        {
          "output_type": "display_data",
          "data": {
            "text/plain": [
              "<Figure size 720x432 with 1 Axes>"
            ],
            "image/png": "[encoded data removed]"
          },
          "metadata": {
            "needs_background": "light"
          }
        }
      ]
    },
    {
      "cell_type": "markdown",
      "source": [
        "X2"
      ],
      "metadata": {
        "id": "PzdbMKxdftEE"
      }
    },
    {
      "cell_type": "code",
      "source": [
        "X_2 = X2.reshape(m, 1) \n",
        "X_2[:10]"
      ],
      "metadata": {
        "colab": {
          "base_uri": "https://localhost:8080/"
        },
        "id": "AOEGpGgMfjt3",
        "outputId": "dde38f28-1989-40b5-b214-24674b84efa1"
      },
      "execution_count": 244,
      "outputs": [
        {
          "output_type": "execute_result",
          "data": {
            "text/plain": [
              "array([[3.44      ],\n",
              "       [0.1349495 ],\n",
              "       [0.82989899],\n",
              "       [1.52484848],\n",
              "       [2.21979798],\n",
              "       [2.91474747],\n",
              "       [3.60969697],\n",
              "       [0.30464646],\n",
              "       [0.99959596],\n",
              "       [1.69454546]])"
            ]
          },
          "metadata": {},
          "execution_count": 244
        }
      ]
    },
    {
      "cell_type": "code",
      "source": [
        "# Lets use hstack() function from numpy to stack X_0 and X_1 horizontally (i.e. colum \n",
        "# This will be our final X matrix (feature matrix)\n",
        "X2 = np.hstack((X_0, X_2))\n",
        "X2[:10]"
      ],
      "metadata": {
        "colab": {
          "base_uri": "https://localhost:8080/"
        },
        "id": "j7Fvfp43fqFY",
        "outputId": "68205973-a1bf-4469-9b98-24d4e04ec388"
      },
      "execution_count": 245,
      "outputs": [
        {
          "output_type": "execute_result",
          "data": {
            "text/plain": [
              "array([[1.        , 3.44      ],\n",
              "       [1.        , 0.1349495 ],\n",
              "       [1.        , 0.82989899],\n",
              "       [1.        , 1.52484848],\n",
              "       [1.        , 2.21979798],\n",
              "       [1.        , 2.91474747],\n",
              "       [1.        , 3.60969697],\n",
              "       [1.        , 0.30464646],\n",
              "       [1.        , 0.99959596],\n",
              "       [1.        , 1.69454546]])"
            ]
          },
          "metadata": {},
          "execution_count": 245
        }
      ]
    },
    {
      "cell_type": "code",
      "source": [
        "theta_2 = np.zeros(2) \n",
        "theta_2"
      ],
      "metadata": {
        "colab": {
          "base_uri": "https://localhost:8080/"
        },
        "id": "3brGo84gf0iX",
        "outputId": "ad334eb0-4179-46ab-fe10-2271ae51d559"
      },
      "execution_count": 246,
      "outputs": [
        {
          "output_type": "execute_result",
          "data": {
            "text/plain": [
              "array([0., 0.])"
            ]
          },
          "metadata": {},
          "execution_count": 246
        }
      ]
    },
    {
      "cell_type": "code",
      "source": [
        "def compute_cost_2(X2, Y, theta_2): \n",
        "  predictions_2 = X2.dot(theta_2) \n",
        "  errors_2 = np.subtract(predictions_2, Y) \n",
        "  sqrErrors_2 = np.square(errors_2)\n",
        "  J2 = (1 / (2 * m)) * np.sum(sqrErrors_2) \n",
        "  return J2"
      ],
      "metadata": {
        "id": "bDmXkOslf5R1"
      },
      "execution_count": 247,
      "outputs": []
    },
    {
      "cell_type": "code",
      "source": [
        "cost_2 = compute_cost_2(X2, Y, theta_2)\n",
        "print('The cost for given values of theta_2 =', cost_2)"
      ],
      "metadata": {
        "colab": {
          "base_uri": "https://localhost:8080/"
        },
        "id": "o8KA_HKOf-Y3",
        "outputId": "ec12e41d-d213-4246-de54-5cd358ae25cd"
      },
      "execution_count": 248,
      "outputs": [
        {
          "output_type": "stream",
          "name": "stdout",
          "text": [
            "The cost for given values of theta_2 = 5.524438459196242\n"
          ]
        }
      ]
    },
    {
      "cell_type": "code",
      "source": [
        "def gradient_descent_2(X2, Y, theta_2, alpha_2, iterations_2):\n",
        "  cost_history_2 = np.zeros(iterations_2)\n",
        "  for i in range(iterations_2):\n",
        "    predictions_2 = X2.dot(theta_2)\n",
        "    errors_2 = np.subtract(predictions_2, Y)\n",
        "    sum_delta_2 = (alpha_2 / m) * X2.transpose().dot(errors_2); theta_2 = theta_2 - sum_delta_2;\n",
        "    cost_history_2[i] = compute_cost_2(X2, Y, theta_2)\n",
        "  return theta_2, cost_history_2"
      ],
      "metadata": {
        "id": "spIoMLfLgAY9"
      },
      "execution_count": 249,
      "outputs": []
    },
    {
      "cell_type": "code",
      "source": [
        "theta_2 = [0., 0.] \n",
        "iterations_2 = 1500; \n",
        "alpha_2 = 0.01;"
      ],
      "metadata": {
        "id": "3JL8eX-GgI3g"
      },
      "execution_count": 250,
      "outputs": []
    },
    {
      "cell_type": "code",
      "source": [
        "theta_2, cost_history_2 = gradient_descent_2(X2, Y, theta_2, alpha_2, iterations_2) \n",
        "print('Final value of theta =', theta_2)\n",
        "print('cost_history =', cost_history_2[-1])"
      ],
      "metadata": {
        "colab": {
          "base_uri": "https://localhost:8080/"
        },
        "id": "sfIGMTiUgMgP",
        "outputId": "c6445343-6d14-4dd9-993d-1d2268ad1e3b"
      },
      "execution_count": 251,
      "outputs": [
        {
          "output_type": "stream",
          "name": "stdout",
          "text": [
            "Final value of theta = [0.71988473 0.56390334]\n",
            "cost_history = 3.5993993982305357\n"
          ]
        }
      ]
    },
    {
      "cell_type": "code",
      "source": [
        "# Since X is list of list (feature matrix) lets take values of column of index 1 only\n",
        "plt.scatter(X2[:,1], Y, color='green', marker= '+', label= 'Training Data') \n",
        "plt.plot(X2[:,1],X2.dot(theta_2), color='red', label='Linear Regression')\n",
        "plt.rcParams[\"figure.figsize\"] = (10,6) \n",
        "plt.grid()\n",
        "plt.xlabel('X2')\n",
        "plt.ylabel('Y')\n",
        "plt.title('Linear Regression Model for X2') \n",
        "plt.legend()"
      ],
      "metadata": {
        "colab": {
          "base_uri": "https://localhost:8080/",
          "height": 422
        },
        "id": "MSzNhZ__gRA2",
        "outputId": "bee096e5-3716-4471-91ff-30e267ab9f32"
      },
      "execution_count": 252,
      "outputs": [
        {
          "output_type": "execute_result",
          "data": {
            "text/plain": [
              "<matplotlib.legend.Legend at 0x7fd071a23850>"
            ]
          },
          "metadata": {},
          "execution_count": 252
        },
        {
          "output_type": "display_data",
          "data": {
            "text/plain": [
              "<Figure size 720x432 with 1 Axes>"
            ],
            "image/png": "[encoded data removed]"
          },
          "metadata": {
            "needs_background": "light"
          }
        }
      ]
    },
    {
      "cell_type": "code",
      "source": [
        "plt.plot(range(1, iterations_2 + 1),cost_history_2, color='blue') \n",
        "plt.rcParams[\"figure.figsize\"] = (10,6)\n",
        "plt.grid()\n",
        "plt.xlabel('Number of iterations')\n",
        "plt.ylabel('Cost (J2)') \n",
        "plt.title('Convergence of gradient descent')"
      ],
      "metadata": {
        "colab": {
          "base_uri": "https://localhost:8080/",
          "height": 422
        },
        "id": "_qu3bFk9gkx3",
        "outputId": "346b8a06-80f5-4b1c-8933-ddefa53ddb70"
      },
      "execution_count": 253,
      "outputs": [
        {
          "output_type": "execute_result",
          "data": {
            "text/plain": [
              "Text(0.5, 1.0, 'Convergence of gradient descent')"
            ]
          },
          "metadata": {},
          "execution_count": 253
        },
        {
          "output_type": "display_data",
          "data": {
            "text/plain": [
              "<Figure size 720x432 with 1 Axes>"
            ],
            "image/png": "[encoded data removed]"
          },
          "metadata": {
            "needs_background": "light"
          }
        }
      ]
    },
    {
      "cell_type": "markdown",
      "source": [
        "X3"
      ],
      "metadata": {
        "id": "6sqm-HimgrH-"
      }
    },
    {
      "cell_type": "code",
      "source": [
        "X_3 = X3.reshape(m, 1) \n",
        "X_3[:10]"
      ],
      "metadata": {
        "colab": {
          "base_uri": "https://localhost:8080/"
        },
        "id": "M8unTC52gspV",
        "outputId": "39d3f527-b0e0-4690-a85c-923dbba2d5eb"
      },
      "execution_count": 254,
      "outputs": [
        {
          "output_type": "execute_result",
          "data": {
            "text/plain": [
              "array([[0.44      ],\n",
              "       [0.88848485],\n",
              "       [1.3369697 ],\n",
              "       [1.78545454],\n",
              "       [2.23393939],\n",
              "       [2.68242424],\n",
              "       [3.13090909],\n",
              "       [3.57939394],\n",
              "       [0.02787879],\n",
              "       [0.47636364]])"
            ]
          },
          "metadata": {},
          "execution_count": 254
        }
      ]
    },
    {
      "cell_type": "code",
      "source": [
        "\n",
        "# Lets use hstack() function from numpy to stack X_0 and X_1 horizontally (i.e. colum \n",
        "# This will be our final X matrix (feature matrix)\n",
        "X3 = np.hstack((X_0, X_3))\n",
        "X3[:10]"
      ],
      "metadata": {
        "colab": {
          "base_uri": "https://localhost:8080/"
        },
        "id": "Gug9tTa7gv9T",
        "outputId": "8917812d-f1f7-4671-8f51-4611128e021c"
      },
      "execution_count": 255,
      "outputs": [
        {
          "output_type": "execute_result",
          "data": {
            "text/plain": [
              "array([[1.        , 0.44      ],\n",
              "       [1.        , 0.88848485],\n",
              "       [1.        , 1.3369697 ],\n",
              "       [1.        , 1.78545454],\n",
              "       [1.        , 2.23393939],\n",
              "       [1.        , 2.68242424],\n",
              "       [1.        , 3.13090909],\n",
              "       [1.        , 3.57939394],\n",
              "       [1.        , 0.02787879],\n",
              "       [1.        , 0.47636364]])"
            ]
          },
          "metadata": {},
          "execution_count": 255
        }
      ]
    },
    {
      "cell_type": "code",
      "source": [
        "theta_3 = np.zeros(2) \n",
        "theta_3"
      ],
      "metadata": {
        "colab": {
          "base_uri": "https://localhost:8080/"
        },
        "id": "EBAL52tghG2Z",
        "outputId": "73eaf955-9064-499d-82c0-ffe74ac68c3c"
      },
      "execution_count": 256,
      "outputs": [
        {
          "output_type": "execute_result",
          "data": {
            "text/plain": [
              "array([0., 0.])"
            ]
          },
          "metadata": {},
          "execution_count": 256
        }
      ]
    },
    {
      "cell_type": "code",
      "source": [
        "def compute_cost_3(X3, Y, theta_3): \n",
        "  predictions_3 = X3.dot(theta_3) \n",
        "  errors_3 = np.subtract(predictions_3, Y) \n",
        "  sqrErrors_3 = np.square(errors_3)\n",
        "  J3 = (1 / (2 * m)) * np.sum(sqrErrors_3) \n",
        "  return J3"
      ],
      "metadata": {
        "id": "gLVwC046hOhD"
      },
      "execution_count": 257,
      "outputs": []
    },
    {
      "cell_type": "code",
      "source": [
        "cost_3 = compute_cost_3(X3, Y, theta_3)\n",
        "print('The cost for given values of theta_3 =', cost_3)"
      ],
      "metadata": {
        "colab": {
          "base_uri": "https://localhost:8080/"
        },
        "id": "UdisbGehhOYT",
        "outputId": "557ab2f3-7cd7-4547-dcb3-11b7d7a913fe"
      },
      "execution_count": 258,
      "outputs": [
        {
          "output_type": "stream",
          "name": "stdout",
          "text": [
            "The cost for given values of theta_3 = 5.524438459196242\n"
          ]
        }
      ]
    },
    {
      "cell_type": "code",
      "source": [
        "def gradient_descent_3(X3, Y, theta_3, alpha_3, iterations_3): \n",
        "  cost_history_3 = np.zeros(iterations_3)\n",
        "  for i in range(iterations_3):\n",
        "    predictions_3 = X3.dot(theta_3)\n",
        "    errors_3 = np.subtract(predictions_3, Y)\n",
        "    sum_delta_3 = (alpha_3 / m) * X3.transpose().dot(errors_3); theta_3 = theta_3 - sum_delta_3;\n",
        "    cost_history_3[i] = compute_cost_3(X3, Y, theta_3)\n",
        "  return theta_3, cost_history_3"
      ],
      "metadata": {
        "id": "RHDCQ1vChV0q"
      },
      "execution_count": 259,
      "outputs": []
    },
    {
      "cell_type": "code",
      "source": [
        "theta_3 = [0., 0.] \n",
        "iterations_3 = 1500; \n",
        "alpha_3 = 0.01;"
      ],
      "metadata": {
        "id": "kar9vjpBhfkF"
      },
      "execution_count": 260,
      "outputs": []
    },
    {
      "cell_type": "code",
      "source": [
        "theta_3, cost_history_3 = gradient_descent_3(X3, Y, theta_3, alpha_3, iterations_3) \n",
        "print('Final value of theta =', theta_3)\n",
        "print('cost_history =', cost_history_3[-1])"
      ],
      "metadata": {
        "colab": {
          "base_uri": "https://localhost:8080/"
        },
        "id": "HOvwdOoahij1",
        "outputId": "7d9b8fc4-4b99-4499-f3db-2d1b666fce3c"
      },
      "execution_count": 261,
      "outputs": [
        {
          "output_type": "stream",
          "name": "stdout",
          "text": [
            "Final value of theta = [ 2.78048129 -0.48451631]\n",
            "cost_history = 3.6305262475389664\n"
          ]
        }
      ]
    },
    {
      "cell_type": "code",
      "source": [
        "# Since X is list of list (feature matrix) lets take values of column of index 1 only\n",
        "plt.scatter(X3[:,1], Y, color='green', marker= '+', label= 'Training Data') \n",
        "plt.plot(X3[:,1],X3.dot(theta_3), color='red', label='Linear Regression')\n",
        "plt.rcParams[\"figure.figsize\"] = (10,6) \n",
        "plt.grid()\n",
        "plt.xlabel('X3')\n",
        "plt.ylabel('Y')\n",
        "plt.title('Linear Regression Model for X3') \n",
        "plt.legend()"
      ],
      "metadata": {
        "colab": {
          "base_uri": "https://localhost:8080/",
          "height": 422
        },
        "id": "C_cRE3bbhpSw",
        "outputId": "13726e51-a9ca-4da8-c847-e163d69282b0"
      },
      "execution_count": 262,
      "outputs": [
        {
          "output_type": "execute_result",
          "data": {
            "text/plain": [
              "<matplotlib.legend.Legend at 0x7fd071339ac0>"
            ]
          },
          "metadata": {},
          "execution_count": 262
        },
        {
          "output_type": "display_data",
          "data": {
            "text/plain": [
              "<Figure size 720x432 with 1 Axes>"
            ],
            "image/png": "[encoded data removed]"
          },
          "metadata": {
            "needs_background": "light"
          }
        }
      ]
    },
    {
      "cell_type": "code",
      "source": [
        "plt.plot(range(1, iterations_3 + 1),cost_history_3, color='blue') \n",
        "plt.rcParams[\"figure.figsize\"] = (10,6)\n",
        "plt.grid()\n",
        "plt.xlabel('Number of iterations')\n",
        "plt.ylabel('Cost (J3)') \n",
        "plt.title('Convergence of gradient descent')\n"
      ],
      "metadata": {
        "colab": {
          "base_uri": "https://localhost:8080/",
          "height": 422
        },
        "id": "f7_nubbphvtO",
        "outputId": "4078fdfa-5282-4a73-c937-614dafc346dc"
      },
      "execution_count": 263,
      "outputs": [
        {
          "output_type": "execute_result",
          "data": {
            "text/plain": [
              "Text(0.5, 1.0, 'Convergence of gradient descent')"
            ]
          },
          "metadata": {},
          "execution_count": 263
        },
        {
          "output_type": "display_data",
          "data": {
            "text/plain": [
              "<Figure size 720x432 with 1 Axes>"
            ],
            "image/png": "[encoded data removed]"
          },
          "metadata": {
            "needs_background": "light"
          }
        }
      ]
    },
    {
      "cell_type": "markdown",
      "source": [
        "For Q2-4"
      ],
      "metadata": {
        "id": "lDSvT3qAiC6T"
      }
    },
    {
      "cell_type": "code",
      "source": [
        "X = df.values[:, (0,1,2)]  # get input values from first column\n",
        "y = df.values[:, 3]        # get output values from 4th column \n",
        "m = len(y)                 # Number of training examples\n",
        "print('X = ', X[: 10])     # Show only first 10 records\n",
        "print('y = ', y[: 10])\n",
        "print('m = ', m)"
      ],
      "metadata": {
        "colab": {
          "base_uri": "https://localhost:8080/"
        },
        "id": "qYqqxeCBh5h3",
        "outputId": "42648e94-03d2-4d05-a1fc-18c3fe4c18ed"
      },
      "execution_count": 264,
      "outputs": [
        {
          "output_type": "stream",
          "name": "stdout",
          "text": [
            "X =  [[0.         3.44       0.44      ]\n",
            " [0.04040404 0.1349495  0.88848485]\n",
            " [0.08080808 0.82989899 1.3369697 ]\n",
            " [0.12121212 1.52484848 1.78545454]\n",
            " [0.16161616 2.21979798 2.23393939]\n",
            " [0.2020202  2.91474747 2.68242424]\n",
            " [0.24242424 3.60969697 3.13090909]\n",
            " [0.28282828 0.30464646 3.57939394]\n",
            " [0.32323232 0.99959596 0.02787879]\n",
            " [0.36363636 1.69454546 0.47636364]]\n",
            "y =  [4.38754501 2.6796499  2.96848981 3.25406475 3.53637472 3.81541972\n",
            " 4.09119974 2.36371479 3.83296487 4.09894997]\n",
            "m =  100\n"
          ]
        }
      ]
    },
    {
      "cell_type": "code",
      "source": [
        "X_0 = np.ones((m, 1)) \n",
        "X_0[:5]"
      ],
      "metadata": {
        "colab": {
          "base_uri": "https://localhost:8080/"
        },
        "id": "S5Wy17I3iXmZ",
        "outputId": "2867c9b7-3981-413f-ec26-b7894dc4ff09"
      },
      "execution_count": 265,
      "outputs": [
        {
          "output_type": "execute_result",
          "data": {
            "text/plain": [
              "array([[1.],\n",
              "       [1.],\n",
              "       [1.],\n",
              "       [1.],\n",
              "       [1.]])"
            ]
          },
          "metadata": {},
          "execution_count": 265
        }
      ]
    },
    {
      "cell_type": "code",
      "source": [
        "# Using reshape function convert X 1D array to 2D array of dimension 97x1\n",
        "X_N = X.reshape(m, 3) \n",
        "X_N[:10]"
      ],
      "metadata": {
        "colab": {
          "base_uri": "https://localhost:8080/"
        },
        "id": "imVTrtw_iaTH",
        "outputId": "594e5588-5444-438a-ee9f-f986cbe05de9"
      },
      "execution_count": 266,
      "outputs": [
        {
          "output_type": "execute_result",
          "data": {
            "text/plain": [
              "array([[0.        , 3.44      , 0.44      ],\n",
              "       [0.04040404, 0.1349495 , 0.88848485],\n",
              "       [0.08080808, 0.82989899, 1.3369697 ],\n",
              "       [0.12121212, 1.52484848, 1.78545454],\n",
              "       [0.16161616, 2.21979798, 2.23393939],\n",
              "       [0.2020202 , 2.91474747, 2.68242424],\n",
              "       [0.24242424, 3.60969697, 3.13090909],\n",
              "       [0.28282828, 0.30464646, 3.57939394],\n",
              "       [0.32323232, 0.99959596, 0.02787879],\n",
              "       [0.36363636, 1.69454546, 0.47636364]])"
            ]
          },
          "metadata": {},
          "execution_count": 266
        }
      ]
    },
    {
      "cell_type": "code",
      "source": [
        "X = np.hstack((X_0, X_N)) \n",
        "X[:5]"
      ],
      "metadata": {
        "colab": {
          "base_uri": "https://localhost:8080/"
        },
        "id": "uFyxPRxEidgU",
        "outputId": "df6381e9-6768-461f-f4a8-973d8b7ea358"
      },
      "execution_count": 267,
      "outputs": [
        {
          "output_type": "execute_result",
          "data": {
            "text/plain": [
              "array([[1.        , 0.        , 3.44      , 0.44      ],\n",
              "       [1.        , 0.04040404, 0.1349495 , 0.88848485],\n",
              "       [1.        , 0.08080808, 0.82989899, 1.3369697 ],\n",
              "       [1.        , 0.12121212, 1.52484848, 1.78545454],\n",
              "       [1.        , 0.16161616, 2.21979798, 2.23393939]])"
            ]
          },
          "metadata": {},
          "execution_count": 267
        }
      ]
    },
    {
      "cell_type": "code",
      "source": [
        "theta = np.zeros(4) \n",
        "theta"
      ],
      "metadata": {
        "colab": {
          "base_uri": "https://localhost:8080/"
        },
        "id": "fm_eZGj1ifqG",
        "outputId": "9f67dc7e-0554-47ae-9f36-47ebbdfb12b0"
      },
      "execution_count": 268,
      "outputs": [
        {
          "output_type": "execute_result",
          "data": {
            "text/plain": [
              "array([0., 0., 0., 0.])"
            ]
          },
          "metadata": {},
          "execution_count": 268
        }
      ]
    },
    {
      "cell_type": "code",
      "source": [
        "def compute_cost(X, y, theta): \n",
        "  predictions = X.dot(theta)\n",
        "  errors = np.subtract(predictions, y)\n",
        "  sqrErrors = np.square(errors)\n",
        "  J = 1 / (2 * m) * np.sum(sqrErrors) \n",
        "  return J"
      ],
      "metadata": {
        "id": "w8Gw4uWsih0o"
      },
      "execution_count": 269,
      "outputs": []
    },
    {
      "cell_type": "code",
      "source": [
        "cost = compute_cost(X, y, theta)\n",
        "print('The cost for given values of theta_0 and theta_1 =', cost)"
      ],
      "metadata": {
        "colab": {
          "base_uri": "https://localhost:8080/"
        },
        "id": "CxTZww-JipFf",
        "outputId": "a5c67441-fb18-4473-9c20-66d285179d23"
      },
      "execution_count": 270,
      "outputs": [
        {
          "output_type": "stream",
          "name": "stdout",
          "text": [
            "The cost for given values of theta_0 and theta_1 = 5.524438459196242\n"
          ]
        }
      ]
    },
    {
      "cell_type": "code",
      "source": [
        "def gradient_descent(X, y, theta, alpha, iterations): \n",
        "  cost_history = np.zeros(iterations)\n",
        "  for i in range(iterations):\n",
        "    predictions = X.dot(theta)\n",
        "    errors = np.subtract(predictions, y)\n",
        "    sum_delta = (alpha / m) * X.transpose().dot(errors); theta = theta - sum_delta;\n",
        "    cost_history[i] = compute_cost(X, y, theta)\n",
        "  return theta, cost_history"
      ],
      "metadata": {
        "id": "_RVBWEjDiqwt"
      },
      "execution_count": 271,
      "outputs": []
    },
    {
      "cell_type": "code",
      "source": [
        "theta = [0., 0., 0., 0.] \n",
        "iterations = 1500; \n",
        "alpha = 0.01;"
      ],
      "metadata": {
        "id": "3xT3og6MixkY"
      },
      "execution_count": 272,
      "outputs": []
    },
    {
      "cell_type": "code",
      "source": [
        "theta, cost_history = gradient_descent(X, y, theta, alpha, iterations) \n",
        "print('Final value of theta =', theta)\n",
        "print('cost_history =', cost_history[-1])"
      ],
      "metadata": {
        "colab": {
          "base_uri": "https://localhost:8080/"
        },
        "id": "KuDcjHYei0gL",
        "outputId": "6a2e292e-f01c-41a7-af58-e81916535c8c"
      },
      "execution_count": 273,
      "outputs": [
        {
          "output_type": "stream",
          "name": "stdout",
          "text": [
            "Final value of theta = [ 4.15118728 -1.8394291   0.72473856 -0.09513266]\n",
            "cost_history = 0.8105104429083869\n"
          ]
        }
      ]
    },
    {
      "cell_type": "code",
      "source": [
        "# Since X is list of list (feature matrix) lets take values of column of index 1 only\n",
        "plt.scatter(X[:,1], y, color='green', marker= '+', label= 'Training Data') \n",
        "plt.plot(X[:,1],X.dot(theta), color='red', label='Linear Regression')\n",
        "plt.rcParams[\"figure.figsize\"] = (10,6) \n",
        "plt.grid()\n",
        "plt.xlabel('Population of City in 10,000s') \n",
        "plt.ylabel('Profit in $10,000s') \n",
        "plt.title('Linear Regression Fit for q2 part 4') \n",
        "plt.legend()"
      ],
      "metadata": {
        "colab": {
          "base_uri": "https://localhost:8080/",
          "height": 422
        },
        "id": "DnCJv1M2i3qF",
        "outputId": "5c044cb6-1445-4b81-e0a8-8ab58fc4b3ec"
      },
      "execution_count": 274,
      "outputs": [
        {
          "output_type": "execute_result",
          "data": {
            "text/plain": [
              "<matplotlib.legend.Legend at 0x7fd07129a130>"
            ]
          },
          "metadata": {},
          "execution_count": 274
        },
        {
          "output_type": "display_data",
          "data": {
            "text/plain": [
              "<Figure size 720x432 with 1 Axes>"
            ],
            "image/png": "[encoded data removed]"
          },
          "metadata": {
            "needs_background": "light"
          }
        }
      ]
    },
    {
      "cell_type": "code",
      "source": [
        "plt.plot(range(1, iterations + 1),cost_history, color='blue') \n",
        "plt.rcParams[\"figure.figsize\"] = (10,6)\n",
        "plt.grid()\n",
        "plt.xlabel('Number of iterations')\n",
        "plt.ylabel('Cost (J)') \n",
        "plt.title('Convergence of gradient descent')"
      ],
      "metadata": {
        "colab": {
          "base_uri": "https://localhost:8080/",
          "height": 422
        },
        "id": "0H62auuwjBCg",
        "outputId": "c8f129bf-7bd0-480a-dbe5-9ca217d82059"
      },
      "execution_count": 275,
      "outputs": [
        {
          "output_type": "execute_result",
          "data": {
            "text/plain": [
              "Text(0.5, 1.0, 'Convergence of gradient descent')"
            ]
          },
          "metadata": {},
          "execution_count": 275
        },
        {
          "output_type": "display_data",
          "data": {
            "text/plain": [
              "<Figure size 720x432 with 1 Axes>"
            ],
            "image/png": "[encoded data removed]"
          },
          "metadata": {
            "needs_background": "light"
          }
        }
      ]
    },
    {
      "cell_type": "code",
      "source": [
        "#Predicting values for Y\n",
        "sum_1 = theta[3]*(1) + theta[2]*(1) + theta[1]*(1) + theta[0] \n",
        "sum_2 = theta[3]*(2) + theta[2]*(0) + theta[1]*(4) + theta[0] \n",
        "sum_3 = theta[3]*(3) + theta[2]*(2) + theta[1]*(1) + theta[0]\n",
        "\n",
        "print(sum_1)\n",
        "print(sum_2)\n",
        "print(sum_3)"
      ],
      "metadata": {
        "colab": {
          "base_uri": "https://localhost:8080/"
        },
        "id": "Wa6hNos-jF1a",
        "outputId": "49d283b5-9553-415a-bcaa-73d031086e50"
      },
      "execution_count": 276,
      "outputs": [
        {
          "output_type": "stream",
          "name": "stdout",
          "text": [
            "2.941364081664529\n",
            "-3.396794436487604\n",
            "3.475837314424191\n"
          ]
        }
      ]
    }
  ]
}