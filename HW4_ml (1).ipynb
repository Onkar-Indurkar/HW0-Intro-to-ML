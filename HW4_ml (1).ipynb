{
  "nbformat": 4,
  "nbformat_minor": 0,
  "metadata": {
    "colab": {
      "provenance": []
    },
    "kernelspec": {
      "name": "python3",
      "display_name": "Python 3"
    },
    "language_info": {
      "name": "python"
    }
  },
  "cells": [
    {
      "cell_type": "markdown",
      "source": [
        "HW4 intro to ml"
      ],
      "metadata": {
        "id": "J3wgZQEWbONc"
      }
    },
    {
      "cell_type": "markdown",
      "source": [
        "Prob 1 SVM"
      ],
      "metadata": {
        "id": "NkX8YLJebTZd"
      }
    },
    {
      "cell_type": "code",
      "source": [
        "from sklearn.preprocessing import StandardScaler, MinMaxScaler \n",
        "from sklearn.linear_model import LogisticRegression\n",
        "from sklearn.datasets import load_breast_cancer\n",
        "\n",
        "from sklearn.svm import SVC\n",
        "from sklearn import svm\n",
        "from sklearn. decomposition import PCA as RandomizedPCA\n",
        "from sklearn.decomposition import PCA\n",
        "\n",
        "\n",
        "import numpy as np\n",
        "import matplotlib.pyplot as plt\n",
        "import pandas as pd\n",
        "from scipy import stats\n",
        "\n",
        "import seaborn as sns; sns.set()\n",
        "from sklearn import metrics\n",
        "\n",
        "from sklearn.model_selection import train_test_split\n"
      ],
      "metadata": {
        "id": "VcGh0YDsbSqw"
      },
      "execution_count": 42,
      "outputs": []
    },
    {
      "cell_type": "code",
      "source": [
        "breast = load_breast_cancer()\n",
        "breast_data = breast.data \n",
        "breast_data.shape"
      ],
      "metadata": {
        "id": "KZhi3XyobtT4",
        "colab": {
          "base_uri": "https://localhost:8080/"
        },
        "outputId": "f46c6137-f471-4b6d-901c-3b7c0868cc75"
      },
      "execution_count": 43,
      "outputs": [
        {
          "output_type": "execute_result",
          "data": {
            "text/plain": [
              "(569, 30)"
            ]
          },
          "metadata": {},
          "execution_count": 43
        }
      ]
    },
    {
      "cell_type": "code",
      "source": [
        "breast_input = pd.DataFrame(breast_data) \n",
        "breast_input.head()"
      ],
      "metadata": {
        "colab": {
          "base_uri": "https://localhost:8080/",
          "height": 235
        },
        "id": "W77sH7FScM4C",
        "outputId": "bbe36d48-cb13-433f-a152-7e2e1819e07e"
      },
      "execution_count": 44,
      "outputs": [
        {
          "output_type": "execute_result",
          "data": {
            "text/plain": [
              "      0      1       2       3        4        5       6        7       8   \\\n",
              "0  17.99  10.38  122.80  1001.0  0.11840  0.27760  0.3001  0.14710  0.2419   \n",
              "1  20.57  17.77  132.90  1326.0  0.08474  0.07864  0.0869  0.07017  0.1812   \n",
              "2  19.69  21.25  130.00  1203.0  0.10960  0.15990  0.1974  0.12790  0.2069   \n",
              "3  11.42  20.38   77.58   386.1  0.14250  0.28390  0.2414  0.10520  0.2597   \n",
              "4  20.29  14.34  135.10  1297.0  0.10030  0.13280  0.1980  0.10430  0.1809   \n",
              "\n",
              "        9   ...     20     21      22      23      24      25      26      27  \\\n",
              "0  0.07871  ...  25.38  17.33  184.60  2019.0  0.1622  0.6656  0.7119  0.2654   \n",
              "1  0.05667  ...  24.99  23.41  158.80  1956.0  0.1238  0.1866  0.2416  0.1860   \n",
              "2  0.05999  ...  23.57  25.53  152.50  1709.0  0.1444  0.4245  0.4504  0.2430   \n",
              "3  0.09744  ...  14.91  26.50   98.87   567.7  0.2098  0.8663  0.6869  0.2575   \n",
              "4  0.05883  ...  22.54  16.67  152.20  1575.0  0.1374  0.2050  0.4000  0.1625   \n",
              "\n",
              "       28       29  \n",
              "0  0.4601  0.11890  \n",
              "1  0.2750  0.08902  \n",
              "2  0.3613  0.08758  \n",
              "3  0.6638  0.17300  \n",
              "4  0.2364  0.07678  \n",
              "\n",
              "[5 rows x 30 columns]"
            ],
            "text/html": [
              "\n",
              "  <div id=\"df-ee6ce1ac-fbf4-428d-b449-507a9925ee0b\">\n",
              "    <div class=\"colab-df-container\">\n",
              "      <div>\n",
              "<style scoped>\n",
              "    .dataframe tbody tr th:only-of-type {\n",
              "        vertical-align: middle;\n",
              "    }\n",
              "\n",
              "    .dataframe tbody tr th {\n",
              "        vertical-align: top;\n",
              "    }\n",
              "\n",
              "    .dataframe thead th {\n",
              "        text-align: right;\n",
              "    }\n",
              "</style>\n",
              "<table border=\"1\" class=\"dataframe\">\n",
              "  <thead>\n",
              "    <tr style=\"text-align: right;\">\n",
              "      <th></th>\n",
              "      <th>0</th>\n",
              "      <th>1</th>\n",
              "      <th>2</th>\n",
              "      <th>3</th>\n",
              "      <th>4</th>\n",
              "      <th>5</th>\n",
              "      <th>6</th>\n",
              "      <th>7</th>\n",
              "      <th>8</th>\n",
              "      <th>9</th>\n",
              "      <th>...</th>\n",
              "      <th>20</th>\n",
              "      <th>21</th>\n",
              "      <th>22</th>\n",
              "      <th>23</th>\n",
              "      <th>24</th>\n",
              "      <th>25</th>\n",
              "      <th>26</th>\n",
              "      <th>27</th>\n",
              "      <th>28</th>\n",
              "      <th>29</th>\n",
              "    </tr>\n",
              "  </thead>\n",
              "  <tbody>\n",
              "    <tr>\n",
              "      <th>0</th>\n",
              "      <td>17.99</td>\n",
              "      <td>10.38</td>\n",
              "      <td>122.80</td>\n",
              "      <td>1001.0</td>\n",
              "      <td>0.11840</td>\n",
              "      <td>0.27760</td>\n",
              "      <td>0.3001</td>\n",
              "      <td>0.14710</td>\n",
              "      <td>0.2419</td>\n",
              "      <td>0.07871</td>\n",
              "      <td>...</td>\n",
              "      <td>25.38</td>\n",
              "      <td>17.33</td>\n",
              "      <td>184.60</td>\n",
              "      <td>2019.0</td>\n",
              "      <td>0.1622</td>\n",
              "      <td>0.6656</td>\n",
              "      <td>0.7119</td>\n",
              "      <td>0.2654</td>\n",
              "      <td>0.4601</td>\n",
              "      <td>0.11890</td>\n",
              "    </tr>\n",
              "    <tr>\n",
              "      <th>1</th>\n",
              "      <td>20.57</td>\n",
              "      <td>17.77</td>\n",
              "      <td>132.90</td>\n",
              "      <td>1326.0</td>\n",
              "      <td>0.08474</td>\n",
              "      <td>0.07864</td>\n",
              "      <td>0.0869</td>\n",
              "      <td>0.07017</td>\n",
              "      <td>0.1812</td>\n",
              "      <td>0.05667</td>\n",
              "      <td>...</td>\n",
              "      <td>24.99</td>\n",
              "      <td>23.41</td>\n",
              "      <td>158.80</td>\n",
              "      <td>1956.0</td>\n",
              "      <td>0.1238</td>\n",
              "      <td>0.1866</td>\n",
              "      <td>0.2416</td>\n",
              "      <td>0.1860</td>\n",
              "      <td>0.2750</td>\n",
              "      <td>0.08902</td>\n",
              "    </tr>\n",
              "    <tr>\n",
              "      <th>2</th>\n",
              "      <td>19.69</td>\n",
              "      <td>21.25</td>\n",
              "      <td>130.00</td>\n",
              "      <td>1203.0</td>\n",
              "      <td>0.10960</td>\n",
              "      <td>0.15990</td>\n",
              "      <td>0.1974</td>\n",
              "      <td>0.12790</td>\n",
              "      <td>0.2069</td>\n",
              "      <td>0.05999</td>\n",
              "      <td>...</td>\n",
              "      <td>23.57</td>\n",
              "      <td>25.53</td>\n",
              "      <td>152.50</td>\n",
              "      <td>1709.0</td>\n",
              "      <td>0.1444</td>\n",
              "      <td>0.4245</td>\n",
              "      <td>0.4504</td>\n",
              "      <td>0.2430</td>\n",
              "      <td>0.3613</td>\n",
              "      <td>0.08758</td>\n",
              "    </tr>\n",
              "    <tr>\n",
              "      <th>3</th>\n",
              "      <td>11.42</td>\n",
              "      <td>20.38</td>\n",
              "      <td>77.58</td>\n",
              "      <td>386.1</td>\n",
              "      <td>0.14250</td>\n",
              "      <td>0.28390</td>\n",
              "      <td>0.2414</td>\n",
              "      <td>0.10520</td>\n",
              "      <td>0.2597</td>\n",
              "      <td>0.09744</td>\n",
              "      <td>...</td>\n",
              "      <td>14.91</td>\n",
              "      <td>26.50</td>\n",
              "      <td>98.87</td>\n",
              "      <td>567.7</td>\n",
              "      <td>0.2098</td>\n",
              "      <td>0.8663</td>\n",
              "      <td>0.6869</td>\n",
              "      <td>0.2575</td>\n",
              "      <td>0.6638</td>\n",
              "      <td>0.17300</td>\n",
              "    </tr>\n",
              "    <tr>\n",
              "      <th>4</th>\n",
              "      <td>20.29</td>\n",
              "      <td>14.34</td>\n",
              "      <td>135.10</td>\n",
              "      <td>1297.0</td>\n",
              "      <td>0.10030</td>\n",
              "      <td>0.13280</td>\n",
              "      <td>0.1980</td>\n",
              "      <td>0.10430</td>\n",
              "      <td>0.1809</td>\n",
              "      <td>0.05883</td>\n",
              "      <td>...</td>\n",
              "      <td>22.54</td>\n",
              "      <td>16.67</td>\n",
              "      <td>152.20</td>\n",
              "      <td>1575.0</td>\n",
              "      <td>0.1374</td>\n",
              "      <td>0.2050</td>\n",
              "      <td>0.4000</td>\n",
              "      <td>0.1625</td>\n",
              "      <td>0.2364</td>\n",
              "      <td>0.07678</td>\n",
              "    </tr>\n",
              "  </tbody>\n",
              "</table>\n",
              "<p>5 rows × 30 columns</p>\n",
              "</div>\n",
              "      <button class=\"colab-df-convert\" onclick=\"convertToInteractive('df-ee6ce1ac-fbf4-428d-b449-507a9925ee0b')\"\n",
              "              title=\"Convert this dataframe to an interactive table.\"\n",
              "              style=\"display:none;\">\n",
              "        \n",
              "  <svg xmlns=\"http://www.w3.org/2000/svg\" height=\"24px\"viewBox=\"0 0 24 24\"\n",
              "       width=\"24px\">\n",
              "    <path d=\"M0 0h24v24H0V0z\" fill=\"none\"/>\n",
              "    <path d=\"M18.56 5.44l.94 2.06.94-2.06 2.06-.94-2.06-.94-.94-2.06-.94 2.06-2.06.94zm-11 1L8.5 8.5l.94-2.06 2.06-.94-2.06-.94L8.5 2.5l-.94 2.06-2.06.94zm10 10l.94 2.06.94-2.06 2.06-.94-2.06-.94-.94-2.06-.94 2.06-2.06.94z\"/><path d=\"M17.41 7.96l-1.37-1.37c-.4-.4-.92-.59-1.43-.59-.52 0-1.04.2-1.43.59L10.3 9.45l-7.72 7.72c-.78.78-.78 2.05 0 2.83L4 21.41c.39.39.9.59 1.41.59.51 0 1.02-.2 1.41-.59l7.78-7.78 2.81-2.81c.8-.78.8-2.07 0-2.86zM5.41 20L4 18.59l7.72-7.72 1.47 1.35L5.41 20z\"/>\n",
              "  </svg>\n",
              "      </button>\n",
              "      \n",
              "  <style>\n",
              "    .colab-df-container {\n",
              "      display:flex;\n",
              "      flex-wrap:wrap;\n",
              "      gap: 12px;\n",
              "    }\n",
              "\n",
              "    .colab-df-convert {\n",
              "      background-color: #E8F0FE;\n",
              "      border: none;\n",
              "      border-radius: 50%;\n",
              "      cursor: pointer;\n",
              "      display: none;\n",
              "      fill: #1967D2;\n",
              "      height: 32px;\n",
              "      padding: 0 0 0 0;\n",
              "      width: 32px;\n",
              "    }\n",
              "\n",
              "    .colab-df-convert:hover {\n",
              "      background-color: #E2EBFA;\n",
              "      box-shadow: 0px 1px 2px rgba(60, 64, 67, 0.3), 0px 1px 3px 1px rgba(60, 64, 67, 0.15);\n",
              "      fill: #174EA6;\n",
              "    }\n",
              "\n",
              "    [theme=dark] .colab-df-convert {\n",
              "      background-color: #3B4455;\n",
              "      fill: #D2E3FC;\n",
              "    }\n",
              "\n",
              "    [theme=dark] .colab-df-convert:hover {\n",
              "      background-color: #434B5C;\n",
              "      box-shadow: 0px 1px 3px 1px rgba(0, 0, 0, 0.15);\n",
              "      filter: drop-shadow(0px 1px 2px rgba(0, 0, 0, 0.3));\n",
              "      fill: #FFFFFF;\n",
              "    }\n",
              "  </style>\n",
              "\n",
              "      <script>\n",
              "        const buttonEl =\n",
              "          document.querySelector('#df-ee6ce1ac-fbf4-428d-b449-507a9925ee0b button.colab-df-convert');\n",
              "        buttonEl.style.display =\n",
              "          google.colab.kernel.accessAllowed ? 'block' : 'none';\n",
              "\n",
              "        async function convertToInteractive(key) {\n",
              "          const element = document.querySelector('#df-ee6ce1ac-fbf4-428d-b449-507a9925ee0b');\n",
              "          const dataTable =\n",
              "            await google.colab.kernel.invokeFunction('convertToInteractive',\n",
              "                                                     [key], {});\n",
              "          if (!dataTable) return;\n",
              "\n",
              "          const docLinkHtml = 'Like what you see? Visit the ' +\n",
              "            '<a target=\"_blank\" href=https://colab.research.google.com/notebooks/data_table.ipynb>data table notebook</a>'\n",
              "            + ' to learn more about interactive tables.';\n",
              "          element.innerHTML = '';\n",
              "          dataTable['output_type'] = 'display_data';\n",
              "          await google.colab.output.renderOutput(dataTable, element);\n",
              "          const docLink = document.createElement('div');\n",
              "          docLink.innerHTML = docLinkHtml;\n",
              "          element.appendChild(docLink);\n",
              "        }\n",
              "      </script>\n",
              "    </div>\n",
              "  </div>\n",
              "  "
            ]
          },
          "metadata": {},
          "execution_count": 44
        }
      ]
    },
    {
      "cell_type": "code",
      "source": [
        "breast_labels = breast.target\n",
        "labels = np.reshape(breast_labels,(569,1))\n",
        "final_breast_data = np.concatenate([breast_data,labels], axis = 1)\n",
        "breast_dataset = pd.DataFrame(final_breast_data)\n",
        "features = breast.feature_names \n",
        "\n",
        "features_labels = np.append(features,'label')\n",
        "breast_dataset.columns = features_labels\n",
        "breast_dataset['label'].replace(0, 'Benign',inplace=True) \n",
        "breast_dataset['label'].replace(1, 'Malignant',inplace=True)"
      ],
      "metadata": {
        "id": "J2e8PGpzcRDA"
      },
      "execution_count": 45,
      "outputs": []
    },
    {
      "cell_type": "code",
      "source": [
        "pca = RandomizedPCA(n_components=150, whiten=True, random_state=60)\n",
        "svc = SVC(kernel='rbf', class_weight=\"balanced\")"
      ],
      "metadata": {
        "id": "GqRyNjEceuKd"
      },
      "execution_count": 46,
      "outputs": []
    },
    {
      "cell_type": "code",
      "source": [
        "from sklearn.model_selection import train_test_split\n",
        "X_train, X_test, Y_train, Y_test = train_test_split(breast_input, breast_labels, train_size=0.8, test_size=0.2, random_state = 60)"
      ],
      "metadata": {
        "id": "HoCL9gzTe1oy"
      },
      "execution_count": 47,
      "outputs": []
    },
    {
      "cell_type": "code",
      "source": [
        "sc_X = StandardScaler()\n",
        "X_train = sc_X.fit_transform(X_train) \n",
        "X_test = sc_X.transform(X_test)\n",
        "\n",
        "# for comparison with previous hw3\n",
        "classifier = LogisticRegression(random_state=60) \n",
        "classifier.fit(X_train, Y_train)"
      ],
      "metadata": {
        "colab": {
          "base_uri": "https://localhost:8080/",
          "height": 74
        },
        "id": "xvMU9qoke_vd",
        "outputId": "f5de4a65-9aa2-406b-d7c6-60de9c38e606"
      },
      "execution_count": 48,
      "outputs": [
        {
          "output_type": "execute_result",
          "data": {
            "text/plain": [
              "LogisticRegression(random_state=60)"
            ],
            "text/html": [
              "<style>#sk-container-id-2 {color: black;background-color: white;}#sk-container-id-2 pre{padding: 0;}#sk-container-id-2 div.sk-toggleable {background-color: white;}#sk-container-id-2 label.sk-toggleable__label {cursor: pointer;display: block;width: 100%;margin-bottom: 0;padding: 0.3em;box-sizing: border-box;text-align: center;}#sk-container-id-2 label.sk-toggleable__label-arrow:before {content: \"▸\";float: left;margin-right: 0.25em;color: #696969;}#sk-container-id-2 label.sk-toggleable__label-arrow:hover:before {color: black;}#sk-container-id-2 div.sk-estimator:hover label.sk-toggleable__label-arrow:before {color: black;}#sk-container-id-2 div.sk-toggleable__content {max-height: 0;max-width: 0;overflow: hidden;text-align: left;background-color: #f0f8ff;}#sk-container-id-2 div.sk-toggleable__content pre {margin: 0.2em;color: black;border-radius: 0.25em;background-color: #f0f8ff;}#sk-container-id-2 input.sk-toggleable__control:checked~div.sk-toggleable__content {max-height: 200px;max-width: 100%;overflow: auto;}#sk-container-id-2 input.sk-toggleable__control:checked~label.sk-toggleable__label-arrow:before {content: \"▾\";}#sk-container-id-2 div.sk-estimator input.sk-toggleable__control:checked~label.sk-toggleable__label {background-color: #d4ebff;}#sk-container-id-2 div.sk-label input.sk-toggleable__control:checked~label.sk-toggleable__label {background-color: #d4ebff;}#sk-container-id-2 input.sk-hidden--visually {border: 0;clip: rect(1px 1px 1px 1px);clip: rect(1px, 1px, 1px, 1px);height: 1px;margin: -1px;overflow: hidden;padding: 0;position: absolute;width: 1px;}#sk-container-id-2 div.sk-estimator {font-family: monospace;background-color: #f0f8ff;border: 1px dotted black;border-radius: 0.25em;box-sizing: border-box;margin-bottom: 0.5em;}#sk-container-id-2 div.sk-estimator:hover {background-color: #d4ebff;}#sk-container-id-2 div.sk-parallel-item::after {content: \"\";width: 100%;border-bottom: 1px solid gray;flex-grow: 1;}#sk-container-id-2 div.sk-label:hover label.sk-toggleable__label {background-color: #d4ebff;}#sk-container-id-2 div.sk-serial::before {content: \"\";position: absolute;border-left: 1px solid gray;box-sizing: border-box;top: 0;bottom: 0;left: 50%;z-index: 0;}#sk-container-id-2 div.sk-serial {display: flex;flex-direction: column;align-items: center;background-color: white;padding-right: 0.2em;padding-left: 0.2em;position: relative;}#sk-container-id-2 div.sk-item {position: relative;z-index: 1;}#sk-container-id-2 div.sk-parallel {display: flex;align-items: stretch;justify-content: center;background-color: white;position: relative;}#sk-container-id-2 div.sk-item::before, #sk-container-id-2 div.sk-parallel-item::before {content: \"\";position: absolute;border-left: 1px solid gray;box-sizing: border-box;top: 0;bottom: 0;left: 50%;z-index: -1;}#sk-container-id-2 div.sk-parallel-item {display: flex;flex-direction: column;z-index: 1;position: relative;background-color: white;}#sk-container-id-2 div.sk-parallel-item:first-child::after {align-self: flex-end;width: 50%;}#sk-container-id-2 div.sk-parallel-item:last-child::after {align-self: flex-start;width: 50%;}#sk-container-id-2 div.sk-parallel-item:only-child::after {width: 0;}#sk-container-id-2 div.sk-dashed-wrapped {border: 1px dashed gray;margin: 0 0.4em 0.5em 0.4em;box-sizing: border-box;padding-bottom: 0.4em;background-color: white;}#sk-container-id-2 div.sk-label label {font-family: monospace;font-weight: bold;display: inline-block;line-height: 1.2em;}#sk-container-id-2 div.sk-label-container {text-align: center;}#sk-container-id-2 div.sk-container {/* jupyter's `normalize.less` sets `[hidden] { display: none; }` but bootstrap.min.css set `[hidden] { display: none !important; }` so we also need the `!important` here to be able to override the default hidden behavior on the sphinx rendered scikit-learn.org. See: https://github.com/scikit-learn/scikit-learn/issues/21755 */display: inline-block !important;position: relative;}#sk-container-id-2 div.sk-text-repr-fallback {display: none;}</style><div id=\"sk-container-id-2\" class=\"sk-top-container\"><div class=\"sk-text-repr-fallback\"><pre>LogisticRegression(random_state=60)</pre><b>In a Jupyter environment, please rerun this cell to show the HTML representation or trust the notebook. <br />On GitHub, the HTML representation is unable to render, please try loading this page with nbviewer.org.</b></div><div class=\"sk-container\" hidden><div class=\"sk-item\"><div class=\"sk-estimator sk-toggleable\"><input class=\"sk-toggleable__control sk-hidden--visually\" id=\"sk-estimator-id-2\" type=\"checkbox\" checked><label for=\"sk-estimator-id-2\" class=\"sk-toggleable__label sk-toggleable__label-arrow\">LogisticRegression</label><div class=\"sk-toggleable__content\"><pre>LogisticRegression(random_state=60)</pre></div></div></div></div></div>"
            ]
          },
          "metadata": {},
          "execution_count": 48
        }
      ]
    },
    {
      "cell_type": "code",
      "source": [
        "Y_pred = classifier.predict(X_test) \n",
        "Y_pred[0:9]"
      ],
      "metadata": {
        "colab": {
          "base_uri": "https://localhost:8080/"
        },
        "id": "tOpfH6Z-k5Wa",
        "outputId": "a0b94406-2b81-41a9-cb46-27897473b0d9"
      },
      "execution_count": 49,
      "outputs": [
        {
          "output_type": "execute_result",
          "data": {
            "text/plain": [
              "array([0, 1, 1, 0, 1, 0, 0, 0, 0])"
            ]
          },
          "metadata": {},
          "execution_count": 49
        }
      ]
    },
    {
      "cell_type": "code",
      "source": [
        "Y_pred = classifier.predict(X_test) "
      ],
      "metadata": {
        "id": "ycXmnsgyqoC4"
      },
      "execution_count": 50,
      "outputs": []
    },
    {
      "cell_type": "code",
      "source": [
        "from sklearn.metrics import confusion_matrix\n",
        "\n",
        "cnf_matrix = confusion_matrix(Y_test, Y_pred) \n",
        "cnf_matrix "
      ],
      "metadata": {
        "colab": {
          "base_uri": "https://localhost:8080/"
        },
        "id": "djTSpdP6qqTY",
        "outputId": "606d5246-4c87-4faf-bf09-78f9ebd727da"
      },
      "execution_count": 51,
      "outputs": [
        {
          "output_type": "execute_result",
          "data": {
            "text/plain": [
              "array([[39,  1],\n",
              "       [ 2, 72]])"
            ]
          },
          "metadata": {},
          "execution_count": 51
        }
      ]
    },
    {
      "cell_type": "code",
      "source": [
        "print(\"Accuracy:\",metrics.accuracy_score(Y_test, Y_pred)) \n",
        "print(\"Precision:\",metrics.precision_score(Y_test, Y_pred)) \n",
        "print(\"Recall:\",metrics.recall_score(Y_test, Y_pred)) "
      ],
      "metadata": {
        "colab": {
          "base_uri": "https://localhost:8080/"
        },
        "id": "SbtFvgR4qsVX",
        "outputId": "a3a1ed54-6e27-4524-d50e-e43171931c54"
      },
      "execution_count": 52,
      "outputs": [
        {
          "output_type": "stream",
          "name": "stdout",
          "text": [
            "Accuracy: 0.9736842105263158\n",
            "Precision: 0.9863013698630136\n",
            "Recall: 0.972972972972973\n"
          ]
        }
      ]
    },
    {
      "cell_type": "code",
      "source": [
        "sc_X2 = StandardScaler()\n",
        "breast_input_N = sc_X2.fit_transform(breast_input)"
      ],
      "metadata": {
        "id": "rxPfHkjnk7N3"
      },
      "execution_count": 53,
      "outputs": []
    },
    {
      "cell_type": "code",
      "source": [
        "# rbf kernel\n",
        "from sklearn.decomposition import PCA\n",
        "accuracy_rate1 = [] \n",
        "precision_rate1 = [] \n",
        "recall_rate1 = []\n",
        "for k in range(1,21):\n",
        "  pca = PCA(n_components = k)\n",
        "  principalComponents = pca.fit_transform(breast_input_N)\n",
        "  principalDf = pd.DataFrame(data = principalComponents)\n",
        "  from sklearn.model_selection import train_test_split\n",
        "  X_train, X_test, Y_train, Y_test = train_test_split(principalComponents,\n",
        "  breast_labels, train_size=0.8, test_size=0.2, random_state = 60) \n",
        "  classifier = SVC(kernel = 'rbf', C = 1E2)\n",
        "  classifier.fit(X_train, Y_train)\n",
        "  Y_pred = classifier.predict(X_test)\n",
        "  from sklearn.metrics import confusion_matrix\n",
        "  cnf2_matrix = confusion_matrix(Y_test, Y_pred)\n",
        "  cnf2_matrix\n",
        "\n",
        "  accuracy_rate1.append(metrics.accuracy_score(Y_test, Y_pred)) \n",
        "  precision_rate1.append(metrics.precision_score(Y_test, Y_pred)) \n",
        "  recall_rate1.append(metrics.recall_score(Y_test, Y_pred))\n",
        "  print(k)\n",
        "  print(\"Accuracy:\",metrics.accuracy_score(Y_test, Y_pred))\n",
        "  print(\"Precision:\",metrics.precision_score(Y_test, Y_pred))\n",
        "  print(\"Recall:\",metrics.recall_score(Y_test, Y_pred))\n",
        "  print(\" \")"
      ],
      "metadata": {
        "colab": {
          "base_uri": "https://localhost:8080/"
        },
        "id": "Bj9dBHcdlDDq",
        "outputId": "e74aaae5-f53a-4370-9704-475d1a8ca096"
      },
      "execution_count": 54,
      "outputs": [
        {
          "output_type": "stream",
          "name": "stdout",
          "text": [
            "1\n",
            "Accuracy: 0.9035087719298246\n",
            "Precision: 0.9090909090909091\n",
            "Recall: 0.9459459459459459\n",
            " \n",
            "2\n",
            "Accuracy: 0.9473684210526315\n",
            "Precision: 0.9594594594594594\n",
            "Recall: 0.9594594594594594\n",
            " \n",
            "3\n",
            "Accuracy: 0.9649122807017544\n",
            "Precision: 0.972972972972973\n",
            "Recall: 0.972972972972973\n",
            " \n",
            "4\n",
            "Accuracy: 0.9649122807017544\n",
            "Precision: 0.972972972972973\n",
            "Recall: 0.972972972972973\n",
            " \n",
            "5\n",
            "Accuracy: 0.9912280701754386\n",
            "Precision: 0.9866666666666667\n",
            "Recall: 1.0\n",
            " \n",
            "6\n",
            "Accuracy: 0.9736842105263158\n",
            "Precision: 0.9863013698630136\n",
            "Recall: 0.972972972972973\n",
            " \n",
            "7\n",
            "Accuracy: 0.956140350877193\n",
            "Precision: 0.9726027397260274\n",
            "Recall: 0.9594594594594594\n",
            " \n",
            "8\n",
            "Accuracy: 0.9649122807017544\n",
            "Precision: 0.972972972972973\n",
            "Recall: 0.972972972972973\n",
            " \n",
            "9\n",
            "Accuracy: 0.956140350877193\n",
            "Precision: 0.9859154929577465\n",
            "Recall: 0.9459459459459459\n",
            " \n",
            "10\n",
            "Accuracy: 0.9736842105263158\n",
            "Precision: 0.9863013698630136\n",
            "Recall: 0.972972972972973\n",
            " \n",
            "11\n",
            "Accuracy: 0.9736842105263158\n",
            "Precision: 0.9863013698630136\n",
            "Recall: 0.972972972972973\n",
            " \n",
            "12\n",
            "Accuracy: 0.9824561403508771\n",
            "Precision: 0.9864864864864865\n",
            "Recall: 0.9864864864864865\n",
            " \n",
            "13\n",
            "Accuracy: 0.9824561403508771\n",
            "Precision: 0.9864864864864865\n",
            "Recall: 0.9864864864864865\n",
            " \n",
            "14\n",
            "Accuracy: 0.9649122807017544\n",
            "Precision: 0.9861111111111112\n",
            "Recall: 0.9594594594594594\n",
            " \n",
            "15\n",
            "Accuracy: 0.956140350877193\n",
            "Precision: 0.9726027397260274\n",
            "Recall: 0.9594594594594594\n",
            " \n",
            "16\n",
            "Accuracy: 0.956140350877193\n",
            "Precision: 0.9726027397260274\n",
            "Recall: 0.9594594594594594\n",
            " \n",
            "17\n",
            "Accuracy: 0.956140350877193\n",
            "Precision: 0.9726027397260274\n",
            "Recall: 0.9594594594594594\n",
            " \n",
            "18\n",
            "Accuracy: 0.9649122807017544\n",
            "Precision: 0.972972972972973\n",
            "Recall: 0.972972972972973\n",
            " \n",
            "19\n",
            "Accuracy: 0.956140350877193\n",
            "Precision: 0.9726027397260274\n",
            "Recall: 0.9594594594594594\n",
            " \n",
            "20\n",
            "Accuracy: 0.9736842105263158\n",
            "Precision: 0.9863013698630136\n",
            "Recall: 0.972972972972973\n",
            " \n"
          ]
        }
      ]
    },
    {
      "cell_type": "code",
      "source": [
        "plt.figure(1)\n",
        "plt.plot(range(1, len(accuracy_rate1)+1) , accuracy_rate1 , color='r') \n",
        "plt.plot(range(1, len(precision_rate1)+1) , precision_rate1 , color='g') \n",
        "plt.plot(range(1, len(recall_rate1)+1) , recall_rate1 , color='b') \n",
        "plt.grid()\n",
        "plt.xlabel('K')\n",
        "plt.ylabel('%')\n",
        "plt.legend([\"Accuracy\", \"Precision (avg)\", \"Recall (avg)\"]) \n",
        "plt.title(\"RBF kernel\") ;"
      ],
      "metadata": {
        "colab": {
          "base_uri": "https://localhost:8080/",
          "height": 480
        },
        "id": "_Pakr2vKllvE",
        "outputId": "23e80ee1-eb34-44eb-dcde-6c648ce48451"
      },
      "execution_count": 55,
      "outputs": [
        {
          "output_type": "display_data",
          "data": {
            "text/plain": [
              "<Figure size 640x480 with 1 Axes>"
            ],
            "image/png": "[encoded data removed]"
          },
          "metadata": {}
        }
      ]
    },
    {
      "cell_type": "code",
      "source": [
        "# linear kernel\n",
        "from sklearn.decomposition import PCA\n",
        "accuracy_rate2 = [] \n",
        "precision_rate2 = [] \n",
        "recall_rate2 = []\n",
        "for k in range(1,21):\n",
        "  pca = PCA(n_components = k)\n",
        "  principalComponents = pca.fit_transform(breast_input_N)\n",
        "  principalDf = pd.DataFrame(data = principalComponents)\n",
        "  from sklearn.model_selection import train_test_split\n",
        "  X_train, X_test, Y_train, Y_test = train_test_split(principalComponents,\n",
        "  breast_labels, train_size=0.8, test_size=0.2, random_state = 60) \n",
        "  classifier = SVC(kernel = 'linear', C = 1E2)\n",
        "  classifier.fit(X_train, Y_train)\n",
        "  Y_pred = classifier.predict(X_test)\n",
        "  from sklearn.metrics import confusion_matrix\n",
        "  cnf2_matrix = confusion_matrix(Y_test, Y_pred)\n",
        "  cnf2_matrix\n",
        "  #Let's evaluate the model using model evaluation metrics such as accuracy \n",
        "  accuracy_rate2.append(metrics.accuracy_score(Y_test, Y_pred)) \n",
        "  precision_rate2.append(metrics.precision_score(Y_test, Y_pred)) \n",
        "  recall_rate2.append(metrics.recall_score(Y_test, Y_pred))\n",
        "  print(k)\n",
        "  print(\"Accuracy:\",metrics.accuracy_score(Y_test, Y_pred))\n",
        "  print(\"Precision:\",metrics.precision_score(Y_test, Y_pred))\n",
        "  print(\"Recall:\",metrics.recall_score(Y_test, Y_pred))"
      ],
      "metadata": {
        "colab": {
          "base_uri": "https://localhost:8080/"
        },
        "id": "AAsOGka8l3tU",
        "outputId": "3652aa19-d7ce-4779-c4c3-0e90ed369e2b"
      },
      "execution_count": 56,
      "outputs": [
        {
          "output_type": "stream",
          "name": "stdout",
          "text": [
            "1\n",
            "Accuracy: 0.9210526315789473\n",
            "Precision: 0.922077922077922\n",
            "Recall: 0.9594594594594594\n",
            "2\n",
            "Accuracy: 0.9649122807017544\n",
            "Precision: 0.9605263157894737\n",
            "Recall: 0.9864864864864865\n",
            "3\n",
            "Accuracy: 0.9736842105263158\n",
            "Precision: 0.9733333333333334\n",
            "Recall: 0.9864864864864865\n",
            "4\n",
            "Accuracy: 0.9824561403508771\n",
            "Precision: 0.9864864864864865\n",
            "Recall: 0.9864864864864865\n",
            "5\n",
            "Accuracy: 0.9736842105263158\n",
            "Precision: 0.9863013698630136\n",
            "Recall: 0.972972972972973\n",
            "6\n",
            "Accuracy: 0.9736842105263158\n",
            "Precision: 0.9863013698630136\n",
            "Recall: 0.972972972972973\n",
            "7\n",
            "Accuracy: 0.9912280701754386\n",
            "Precision: 0.9866666666666667\n",
            "Recall: 1.0\n",
            "8\n",
            "Accuracy: 0.9912280701754386\n",
            "Precision: 0.9866666666666667\n",
            "Recall: 1.0\n",
            "9\n",
            "Accuracy: 0.9912280701754386\n",
            "Precision: 0.9866666666666667\n",
            "Recall: 1.0\n",
            "10\n",
            "Accuracy: 0.9912280701754386\n",
            "Precision: 0.9866666666666667\n",
            "Recall: 1.0\n",
            "11\n",
            "Accuracy: 0.9824561403508771\n",
            "Precision: 0.9864864864864865\n",
            "Recall: 0.9864864864864865\n",
            "12\n",
            "Accuracy: 0.9824561403508771\n",
            "Precision: 0.9864864864864865\n",
            "Recall: 0.9864864864864865\n",
            "13\n",
            "Accuracy: 0.9736842105263158\n",
            "Precision: 0.9733333333333334\n",
            "Recall: 0.9864864864864865\n",
            "14\n",
            "Accuracy: 0.9649122807017544\n",
            "Precision: 0.972972972972973\n",
            "Recall: 0.972972972972973\n",
            "15\n",
            "Accuracy: 0.9649122807017544\n",
            "Precision: 0.972972972972973\n",
            "Recall: 0.972972972972973\n",
            "16\n",
            "Accuracy: 0.9473684210526315\n",
            "Precision: 0.9722222222222222\n",
            "Recall: 0.9459459459459459\n",
            "17\n",
            "Accuracy: 0.9473684210526315\n",
            "Precision: 0.9722222222222222\n",
            "Recall: 0.9459459459459459\n",
            "18\n",
            "Accuracy: 0.9473684210526315\n",
            "Precision: 0.9722222222222222\n",
            "Recall: 0.9459459459459459\n",
            "19\n",
            "Accuracy: 0.9473684210526315\n",
            "Precision: 0.9722222222222222\n",
            "Recall: 0.9459459459459459\n",
            "20\n",
            "Accuracy: 0.9473684210526315\n",
            "Precision: 0.9722222222222222\n",
            "Recall: 0.9459459459459459\n"
          ]
        }
      ]
    },
    {
      "cell_type": "code",
      "source": [
        "plt.figure(1)\n",
        "plt.plot(range(1, len(accuracy_rate2)+1) , accuracy_rate2, color='r') \n",
        "plt.plot(range(1, len(precision_rate2)+1) , precision_rate2, color='g') \n",
        "plt.plot(range(1, len(recall_rate2)+1) , recall_rate2, color='b') \n",
        "plt.grid()\n",
        "plt.xlabel('k')\n",
        "plt.ylabel('%')\n",
        "plt.legend([\"Accuracy\", \"Precision (avg)\", \"Recall (avg)\"]) \n",
        "plt.title(\"Linear kernel\");"
      ],
      "metadata": {
        "colab": {
          "base_uri": "https://localhost:8080/",
          "height": 480
        },
        "id": "g3rhlStSmBSo",
        "outputId": "88ce0981-c885-4813-a016-5bf3634c435f"
      },
      "execution_count": 57,
      "outputs": [
        {
          "output_type": "display_data",
          "data": {
            "text/plain": [
              "<Figure size 640x480 with 1 Axes>"
            ],
            "image/png": "[encoded data removed]"
          },
          "metadata": {}
        }
      ]
    },
    {
      "cell_type": "code",
      "source": [
        "#  polynomial kernel \n",
        "from sklearn.decomposition import PCA\n",
        "accuracy_rate3 = [] \n",
        "precision_rate3 = [] \n",
        "recall_rate3 = []\n",
        "for k in range(1,21):\n",
        "  pca = PCA(n_components = k)\n",
        "  principalComponents = pca.fit_transform(breast_input_N)\n",
        "  principalDf = pd.DataFrame(data = principalComponents)\n",
        "  from sklearn.model_selection import train_test_split\n",
        "  X_train, X_test, Y_train, Y_test = train_test_split(principalComponents,\n",
        "  breast_labels, train_size=0.8, test_size=0.2, random_state = 60) \n",
        "  classifier = SVC(kernel = 'poly', C = 1E2)\n",
        "  classifier.fit(X_train, Y_train)\n",
        "  Y_pred = classifier.predict(X_test)\n",
        "  from sklearn.metrics import confusion_matrix\n",
        "  cnf2_matrix = confusion_matrix(Y_test, Y_pred)\n",
        "  cnf2_matrix\n",
        "  #Let's evaluate the model using model evaluation metrics such as accuracy \n",
        "  accuracy_rate3.append(metrics.accuracy_score(Y_test, Y_pred)) \n",
        "  precision_rate3.append(metrics.precision_score(Y_test, Y_pred)) \n",
        "  recall_rate3.append(metrics.recall_score(Y_test, Y_pred))\n",
        "  print(k)\n",
        "  print(\"Accuracy:\",metrics.accuracy_score(Y_test, Y_pred))\n",
        "  print(\"Precision:\",metrics.precision_score(Y_test, Y_pred))\n",
        "  print(\"Recall:\",metrics.recall_score(Y_test, Y_pred))"
      ],
      "metadata": {
        "colab": {
          "base_uri": "https://localhost:8080/"
        },
        "id": "EKr0fdtmmdlT",
        "outputId": "13fcbd6d-227f-482e-875d-0a6a64847638"
      },
      "execution_count": 58,
      "outputs": [
        {
          "output_type": "stream",
          "name": "stdout",
          "text": [
            "1\n",
            "Accuracy: 0.868421052631579\n",
            "Precision: 0.8390804597701149\n",
            "Recall: 0.9864864864864865\n",
            "2\n",
            "Accuracy: 0.9473684210526315\n",
            "Precision: 0.9358974358974359\n",
            "Recall: 0.9864864864864865\n",
            "3\n",
            "Accuracy: 0.9824561403508771\n",
            "Precision: 0.9864864864864865\n",
            "Recall: 0.9864864864864865\n",
            "4\n",
            "Accuracy: 0.9824561403508771\n",
            "Precision: 0.9864864864864865\n",
            "Recall: 0.9864864864864865\n",
            "5\n",
            "Accuracy: 0.9824561403508771\n",
            "Precision: 0.9864864864864865\n",
            "Recall: 0.9864864864864865\n",
            "6\n",
            "Accuracy: 0.9736842105263158\n",
            "Precision: 0.9863013698630136\n",
            "Recall: 0.972972972972973\n",
            "7\n",
            "Accuracy: 0.9824561403508771\n",
            "Precision: 0.9864864864864865\n",
            "Recall: 0.9864864864864865\n",
            "8\n",
            "Accuracy: 0.9824561403508771\n",
            "Precision: 0.9864864864864865\n",
            "Recall: 0.9864864864864865\n",
            "9\n",
            "Accuracy: 0.9649122807017544\n",
            "Precision: 0.9861111111111112\n",
            "Recall: 0.9594594594594594\n",
            "10\n",
            "Accuracy: 0.9736842105263158\n",
            "Precision: 0.9863013698630136\n",
            "Recall: 0.972972972972973\n",
            "11\n",
            "Accuracy: 0.9736842105263158\n",
            "Precision: 0.9863013698630136\n",
            "Recall: 0.972972972972973\n",
            "12\n",
            "Accuracy: 0.9736842105263158\n",
            "Precision: 0.9863013698630136\n",
            "Recall: 0.972972972972973\n",
            "13\n",
            "Accuracy: 0.9736842105263158\n",
            "Precision: 0.9863013698630136\n",
            "Recall: 0.972972972972973\n",
            "14\n",
            "Accuracy: 0.9736842105263158\n",
            "Precision: 0.9863013698630136\n",
            "Recall: 0.972972972972973\n",
            "15\n",
            "Accuracy: 0.9736842105263158\n",
            "Precision: 0.9863013698630136\n",
            "Recall: 0.972972972972973\n",
            "16\n",
            "Accuracy: 0.9736842105263158\n",
            "Precision: 0.9863013698630136\n",
            "Recall: 0.972972972972973\n",
            "17\n",
            "Accuracy: 0.9736842105263158\n",
            "Precision: 0.9863013698630136\n",
            "Recall: 0.972972972972973\n",
            "18\n",
            "Accuracy: 0.9736842105263158\n",
            "Precision: 0.9863013698630136\n",
            "Recall: 0.972972972972973\n",
            "19\n",
            "Accuracy: 0.9736842105263158\n",
            "Precision: 0.9863013698630136\n",
            "Recall: 0.972972972972973\n",
            "20\n",
            "Accuracy: 0.9736842105263158\n",
            "Precision: 0.9863013698630136\n",
            "Recall: 0.972972972972973\n"
          ]
        }
      ]
    },
    {
      "cell_type": "code",
      "source": [
        "plt.figure(1)\n",
        "plt.plot(range(1, len(accuracy_rate3)+1) , accuracy_rate3, color='r') \n",
        "plt.plot(range(1, len(precision_rate3)+1) , precision_rate3, color='g') \n",
        "plt.plot(range(1, len(recall_rate3)+1) , recall_rate3, color='b') \n",
        "plt.grid()\n",
        "plt.xlabel('k')\n",
        "plt.ylabel('%')\n",
        "plt.legend([\"Accuracy\", \"Precision (avg)\", \"Recall (avg)\"]) \n",
        "plt.title(\"Polynomial kernel\");"
      ],
      "metadata": {
        "colab": {
          "base_uri": "https://localhost:8080/",
          "height": 480
        },
        "id": "ybgR22eMnMxF",
        "outputId": "f25047ad-ddee-4f38-874b-59048332f6af"
      },
      "execution_count": 59,
      "outputs": [
        {
          "output_type": "display_data",
          "data": {
            "text/plain": [
              "<Figure size 640x480 with 1 Axes>"
            ],
            "image/png": "[encoded data removed]"
          },
          "metadata": {}
        }
      ]
    },
    {
      "cell_type": "code",
      "source": [
        "# sigmoid kernel \n",
        "\n",
        "from sklearn.decomposition import PCA\n",
        "accuracy_rate4 = [] \n",
        "precision_rate4 = [] \n",
        "recall_rate4 = []\n",
        "for k in range(1,22):\n",
        "  pca = PCA(n_components = k)\n",
        "  principalComponents = pca.fit_transform(breast_input_N)\n",
        "  principalDf = pd.DataFrame(data = principalComponents)\n",
        "  from sklearn.model_selection import train_test_split\n",
        "  X_train, X_test, Y_train, Y_test = train_test_split(principalComponents,\n",
        "  breast_labels, train_size=0.8, test_size=0.2, random_state = 60) \n",
        "  classifier = SVC(kernel = 'sigmoid', C = 1E2)\n",
        "  classifier.fit(X_train, Y_train)\n",
        "  Y_pred = classifier.predict(X_test)\n",
        "  from sklearn.metrics import confusion_matrix\n",
        "  cnf2_matrix = confusion_matrix(Y_test, Y_pred)\n",
        "  cnf2_matrix\n",
        "\n",
        "  accuracy_rate4.append(metrics.accuracy_score(Y_test, Y_pred)) \n",
        "  precision_rate4.append(metrics.precision_score(Y_test, Y_pred)) \n",
        "  recall_rate4.append(metrics.recall_score(Y_test, Y_pred))\n",
        "  \n",
        "  print(k)\n",
        "  print(\"Accuracy:\",metrics.accuracy_score(Y_test, Y_pred))\n",
        "  print(\"Precision:\",metrics.precision_score(Y_test, Y_pred))\n",
        "  print(\"Recall:\",metrics.recall_score(Y_test, Y_pred))"
      ],
      "metadata": {
        "colab": {
          "base_uri": "https://localhost:8080/"
        },
        "id": "Yvhhh9GInc9S",
        "outputId": "6ccc86fe-e2da-4742-8994-3e9d82d327a6"
      },
      "execution_count": 60,
      "outputs": [
        {
          "output_type": "stream",
          "name": "stdout",
          "text": [
            "1\n",
            "Accuracy: 0.8771929824561403\n",
            "Precision: 0.8846153846153846\n",
            "Recall: 0.9324324324324325\n",
            "2\n",
            "Accuracy: 0.8508771929824561\n",
            "Precision: 0.9130434782608695\n",
            "Recall: 0.8513513513513513\n",
            "3\n",
            "Accuracy: 0.9035087719298246\n",
            "Precision: 0.9436619718309859\n",
            "Recall: 0.9054054054054054\n",
            "4\n",
            "Accuracy: 0.9385964912280702\n",
            "Precision: 0.971830985915493\n",
            "Recall: 0.9324324324324325\n",
            "5\n",
            "Accuracy: 0.9473684210526315\n",
            "Precision: 0.9594594594594594\n",
            "Recall: 0.9594594594594594\n",
            "6\n",
            "Accuracy: 0.9473684210526315\n",
            "Precision: 0.9722222222222222\n",
            "Recall: 0.9459459459459459\n",
            "7\n",
            "Accuracy: 0.9473684210526315\n",
            "Precision: 0.9594594594594594\n",
            "Recall: 0.9594594594594594\n",
            "8\n",
            "Accuracy: 0.9385964912280702\n",
            "Precision: 0.958904109589041\n",
            "Recall: 0.9459459459459459\n",
            "9\n",
            "Accuracy: 0.9473684210526315\n",
            "Precision: 0.9722222222222222\n",
            "Recall: 0.9459459459459459\n",
            "10\n",
            "Accuracy: 0.9385964912280702\n",
            "Precision: 0.958904109589041\n",
            "Recall: 0.9459459459459459\n",
            "11\n",
            "Accuracy: 0.9298245614035088\n",
            "Precision: 0.9583333333333334\n",
            "Recall: 0.9324324324324325\n",
            "12\n",
            "Accuracy: 0.9385964912280702\n",
            "Precision: 0.958904109589041\n",
            "Recall: 0.9459459459459459\n",
            "13\n",
            "Accuracy: 0.9298245614035088\n",
            "Precision: 0.9459459459459459\n",
            "Recall: 0.9459459459459459\n",
            "14\n",
            "Accuracy: 0.9385964912280702\n",
            "Precision: 0.958904109589041\n",
            "Recall: 0.9459459459459459\n",
            "15\n",
            "Accuracy: 0.9385964912280702\n",
            "Precision: 0.958904109589041\n",
            "Recall: 0.9459459459459459\n",
            "16\n",
            "Accuracy: 0.9385964912280702\n",
            "Precision: 0.958904109589041\n",
            "Recall: 0.9459459459459459\n",
            "17\n",
            "Accuracy: 0.9473684210526315\n",
            "Precision: 0.9594594594594594\n",
            "Recall: 0.9594594594594594\n",
            "18\n",
            "Accuracy: 0.9385964912280702\n",
            "Precision: 0.958904109589041\n",
            "Recall: 0.9459459459459459\n",
            "19\n",
            "Accuracy: 0.9298245614035088\n",
            "Precision: 0.9459459459459459\n",
            "Recall: 0.9459459459459459\n",
            "20\n",
            "Accuracy: 0.9298245614035088\n",
            "Precision: 0.9459459459459459\n",
            "Recall: 0.9459459459459459\n",
            "21\n",
            "Accuracy: 0.9385964912280702\n",
            "Precision: 0.958904109589041\n",
            "Recall: 0.9459459459459459\n"
          ]
        }
      ]
    },
    {
      "cell_type": "code",
      "source": [
        "plt.figure(1)\n",
        "plt.plot(range(1, len(accuracy_rate4)+1) , accuracy_rate4, color='r') \n",
        "plt.plot(range(1, len(precision_rate4)+1) , precision_rate4, color='g') \n",
        "plt.plot(range(1, len(recall_rate4)+1) , recall_rate4, color='b') \n",
        "plt.grid()\n",
        "plt.xlabel('k')\n",
        "plt.ylabel('%')\n",
        "plt.legend([\"Accuracy\", \"Precision (avg)\", \"Recall (avg)\"]) \n",
        "plt.title(\"sigmoid kernel\");"
      ],
      "metadata": {
        "colab": {
          "base_uri": "https://localhost:8080/",
          "height": 480
        },
        "id": "uzUQKFaon2xv",
        "outputId": "14f13ecf-5589-4139-8d23-b85206ff6f8b"
      },
      "execution_count": 61,
      "outputs": [
        {
          "output_type": "display_data",
          "data": {
            "text/plain": [
              "<Figure size 640x480 with 1 Axes>"
            ],
            "image/png": "[encoded data removed]"
          },
          "metadata": {}
        }
      ]
    },
    {
      "cell_type": "markdown",
      "source": [
        "Prob 2 SVR"
      ],
      "metadata": {
        "id": "DGKMenOGrMUM"
      }
    },
    {
      "cell_type": "code",
      "source": [
        "from sklearn.svm import SVR\n",
        "from sklearn. decomposition import PCA as RandomizedPCA\n",
        "from sklearn.preprocessing import StandardScaler, MinMaxScaler \n",
        "from sklearn.linear_model import LogisticRegression\n",
        "\n",
        "import numpy as np\n",
        "import pandas as pd\n",
        "import seaborn as sns\n",
        "from sklearn.metrics import mean_squared_error \n",
        "import matplotlib.pyplot as plt\n",
        "\n",
        "from sklearn import metrics\n",
        "\n",
        "import warnings \n",
        "warnings.filterwarnings('ignore')"
      ],
      "metadata": {
        "id": "F3uC2FDSYcA_"
      },
      "execution_count": 62,
      "outputs": []
    },
    {
      "cell_type": "code",
      "source": [
        "df = pd.read_csv('https://raw.githubusercontent.com/Onkar-Indurkar/Intro-to-ML/main/Housing.csv')\n",
        "df.head()"
      ],
      "metadata": {
        "colab": {
          "base_uri": "https://localhost:8080/",
          "height": 206
        },
        "id": "JE1RVoJQUG0o",
        "outputId": "3d940ea5-8587-4954-9263-4caac9dc2126"
      },
      "execution_count": 63,
      "outputs": [
        {
          "output_type": "execute_result",
          "data": {
            "text/plain": [
              "      price  area  bedrooms  bathrooms  stories mainroad guestroom basement  \\\n",
              "0  13300000  7420         4          2        3      yes        no       no   \n",
              "1  12250000  8960         4          4        4      yes        no       no   \n",
              "2  12250000  9960         3          2        2      yes        no      yes   \n",
              "3  12215000  7500         4          2        2      yes        no      yes   \n",
              "4  11410000  7420         4          1        2      yes       yes      yes   \n",
              "\n",
              "  hotwaterheating airconditioning  parking prefarea furnishingstatus  \n",
              "0              no             yes        2      yes        furnished  \n",
              "1              no             yes        3       no        furnished  \n",
              "2              no              no        2      yes   semi-furnished  \n",
              "3              no             yes        3      yes        furnished  \n",
              "4              no             yes        2       no        furnished  "
            ],
            "text/html": [
              "\n",
              "  <div id=\"df-87fa7562-1157-44a7-a1f7-6dd305a4a3d1\">\n",
              "    <div class=\"colab-df-container\">\n",
              "      <div>\n",
              "<style scoped>\n",
              "    .dataframe tbody tr th:only-of-type {\n",
              "        vertical-align: middle;\n",
              "    }\n",
              "\n",
              "    .dataframe tbody tr th {\n",
              "        vertical-align: top;\n",
              "    }\n",
              "\n",
              "    .dataframe thead th {\n",
              "        text-align: right;\n",
              "    }\n",
              "</style>\n",
              "<table border=\"1\" class=\"dataframe\">\n",
              "  <thead>\n",
              "    <tr style=\"text-align: right;\">\n",
              "      <th></th>\n",
              "      <th>price</th>\n",
              "      <th>area</th>\n",
              "      <th>bedrooms</th>\n",
              "      <th>bathrooms</th>\n",
              "      <th>stories</th>\n",
              "      <th>mainroad</th>\n",
              "      <th>guestroom</th>\n",
              "      <th>basement</th>\n",
              "      <th>hotwaterheating</th>\n",
              "      <th>airconditioning</th>\n",
              "      <th>parking</th>\n",
              "      <th>prefarea</th>\n",
              "      <th>furnishingstatus</th>\n",
              "    </tr>\n",
              "  </thead>\n",
              "  <tbody>\n",
              "    <tr>\n",
              "      <th>0</th>\n",
              "      <td>13300000</td>\n",
              "      <td>7420</td>\n",
              "      <td>4</td>\n",
              "      <td>2</td>\n",
              "      <td>3</td>\n",
              "      <td>yes</td>\n",
              "      <td>no</td>\n",
              "      <td>no</td>\n",
              "      <td>no</td>\n",
              "      <td>yes</td>\n",
              "      <td>2</td>\n",
              "      <td>yes</td>\n",
              "      <td>furnished</td>\n",
              "    </tr>\n",
              "    <tr>\n",
              "      <th>1</th>\n",
              "      <td>12250000</td>\n",
              "      <td>8960</td>\n",
              "      <td>4</td>\n",
              "      <td>4</td>\n",
              "      <td>4</td>\n",
              "      <td>yes</td>\n",
              "      <td>no</td>\n",
              "      <td>no</td>\n",
              "      <td>no</td>\n",
              "      <td>yes</td>\n",
              "      <td>3</td>\n",
              "      <td>no</td>\n",
              "      <td>furnished</td>\n",
              "    </tr>\n",
              "    <tr>\n",
              "      <th>2</th>\n",
              "      <td>12250000</td>\n",
              "      <td>9960</td>\n",
              "      <td>3</td>\n",
              "      <td>2</td>\n",
              "      <td>2</td>\n",
              "      <td>yes</td>\n",
              "      <td>no</td>\n",
              "      <td>yes</td>\n",
              "      <td>no</td>\n",
              "      <td>no</td>\n",
              "      <td>2</td>\n",
              "      <td>yes</td>\n",
              "      <td>semi-furnished</td>\n",
              "    </tr>\n",
              "    <tr>\n",
              "      <th>3</th>\n",
              "      <td>12215000</td>\n",
              "      <td>7500</td>\n",
              "      <td>4</td>\n",
              "      <td>2</td>\n",
              "      <td>2</td>\n",
              "      <td>yes</td>\n",
              "      <td>no</td>\n",
              "      <td>yes</td>\n",
              "      <td>no</td>\n",
              "      <td>yes</td>\n",
              "      <td>3</td>\n",
              "      <td>yes</td>\n",
              "      <td>furnished</td>\n",
              "    </tr>\n",
              "    <tr>\n",
              "      <th>4</th>\n",
              "      <td>11410000</td>\n",
              "      <td>7420</td>\n",
              "      <td>4</td>\n",
              "      <td>1</td>\n",
              "      <td>2</td>\n",
              "      <td>yes</td>\n",
              "      <td>yes</td>\n",
              "      <td>yes</td>\n",
              "      <td>no</td>\n",
              "      <td>yes</td>\n",
              "      <td>2</td>\n",
              "      <td>no</td>\n",
              "      <td>furnished</td>\n",
              "    </tr>\n",
              "  </tbody>\n",
              "</table>\n",
              "</div>\n",
              "      <button class=\"colab-df-convert\" onclick=\"convertToInteractive('df-87fa7562-1157-44a7-a1f7-6dd305a4a3d1')\"\n",
              "              title=\"Convert this dataframe to an interactive table.\"\n",
              "              style=\"display:none;\">\n",
              "        \n",
              "  <svg xmlns=\"http://www.w3.org/2000/svg\" height=\"24px\"viewBox=\"0 0 24 24\"\n",
              "       width=\"24px\">\n",
              "    <path d=\"M0 0h24v24H0V0z\" fill=\"none\"/>\n",
              "    <path d=\"M18.56 5.44l.94 2.06.94-2.06 2.06-.94-2.06-.94-.94-2.06-.94 2.06-2.06.94zm-11 1L8.5 8.5l.94-2.06 2.06-.94-2.06-.94L8.5 2.5l-.94 2.06-2.06.94zm10 10l.94 2.06.94-2.06 2.06-.94-2.06-.94-.94-2.06-.94 2.06-2.06.94z\"/><path d=\"M17.41 7.96l-1.37-1.37c-.4-.4-.92-.59-1.43-.59-.52 0-1.04.2-1.43.59L10.3 9.45l-7.72 7.72c-.78.78-.78 2.05 0 2.83L4 21.41c.39.39.9.59 1.41.59.51 0 1.02-.2 1.41-.59l7.78-7.78 2.81-2.81c.8-.78.8-2.07 0-2.86zM5.41 20L4 18.59l7.72-7.72 1.47 1.35L5.41 20z\"/>\n",
              "  </svg>\n",
              "      </button>\n",
              "      \n",
              "  <style>\n",
              "    .colab-df-container {\n",
              "      display:flex;\n",
              "      flex-wrap:wrap;\n",
              "      gap: 12px;\n",
              "    }\n",
              "\n",
              "    .colab-df-convert {\n",
              "      background-color: #E8F0FE;\n",
              "      border: none;\n",
              "      border-radius: 50%;\n",
              "      cursor: pointer;\n",
              "      display: none;\n",
              "      fill: #1967D2;\n",
              "      height: 32px;\n",
              "      padding: 0 0 0 0;\n",
              "      width: 32px;\n",
              "    }\n",
              "\n",
              "    .colab-df-convert:hover {\n",
              "      background-color: #E2EBFA;\n",
              "      box-shadow: 0px 1px 2px rgba(60, 64, 67, 0.3), 0px 1px 3px 1px rgba(60, 64, 67, 0.15);\n",
              "      fill: #174EA6;\n",
              "    }\n",
              "\n",
              "    [theme=dark] .colab-df-convert {\n",
              "      background-color: #3B4455;\n",
              "      fill: #D2E3FC;\n",
              "    }\n",
              "\n",
              "    [theme=dark] .colab-df-convert:hover {\n",
              "      background-color: #434B5C;\n",
              "      box-shadow: 0px 1px 3px 1px rgba(0, 0, 0, 0.15);\n",
              "      filter: drop-shadow(0px 1px 2px rgba(0, 0, 0, 0.3));\n",
              "      fill: #FFFFFF;\n",
              "    }\n",
              "  </style>\n",
              "\n",
              "      <script>\n",
              "        const buttonEl =\n",
              "          document.querySelector('#df-87fa7562-1157-44a7-a1f7-6dd305a4a3d1 button.colab-df-convert');\n",
              "        buttonEl.style.display =\n",
              "          google.colab.kernel.accessAllowed ? 'block' : 'none';\n",
              "\n",
              "        async function convertToInteractive(key) {\n",
              "          const element = document.querySelector('#df-87fa7562-1157-44a7-a1f7-6dd305a4a3d1');\n",
              "          const dataTable =\n",
              "            await google.colab.kernel.invokeFunction('convertToInteractive',\n",
              "                                                     [key], {});\n",
              "          if (!dataTable) return;\n",
              "\n",
              "          const docLinkHtml = 'Like what you see? Visit the ' +\n",
              "            '<a target=\"_blank\" href=https://colab.research.google.com/notebooks/data_table.ipynb>data table notebook</a>'\n",
              "            + ' to learn more about interactive tables.';\n",
              "          element.innerHTML = '';\n",
              "          dataTable['output_type'] = 'display_data';\n",
              "          await google.colab.output.renderOutput(dataTable, element);\n",
              "          const docLink = document.createElement('div');\n",
              "          docLink.innerHTML = docLinkHtml;\n",
              "          element.appendChild(docLink);\n",
              "        }\n",
              "      </script>\n",
              "    </div>\n",
              "  </div>\n",
              "  "
            ]
          },
          "metadata": {},
          "execution_count": 63
        }
      ]
    },
    {
      "cell_type": "code",
      "source": [
        "m = len(df)"
      ],
      "metadata": {
        "id": "LQiKHuUuVDlq"
      },
      "execution_count": 64,
      "outputs": []
    },
    {
      "cell_type": "code",
      "source": [
        "#converting yes's & no's to 1s & 0s as strings cannot be used only int\n",
        "\n",
        "list1 = ['mainroad', 'guestroom', 'basement', 'hotwaterheating', 'airconditioning', 'prefarea']\n",
        "\n",
        "def binary_map (v1) :\n",
        "    return v1.map({'yes' : 1, \"no\": 0})\n",
        "\n",
        "df[list1] = df[list1] . apply(binary_map)\n",
        "df.head()"
      ],
      "metadata": {
        "colab": {
          "base_uri": "https://localhost:8080/",
          "height": 206
        },
        "id": "SNyKCeNcVIsc",
        "outputId": "69f5863d-46f3-4d90-aea6-0dc39384d672"
      },
      "execution_count": 65,
      "outputs": [
        {
          "output_type": "execute_result",
          "data": {
            "text/plain": [
              "      price  area  bedrooms  bathrooms  stories  mainroad  guestroom  \\\n",
              "0  13300000  7420         4          2        3         1          0   \n",
              "1  12250000  8960         4          4        4         1          0   \n",
              "2  12250000  9960         3          2        2         1          0   \n",
              "3  12215000  7500         4          2        2         1          0   \n",
              "4  11410000  7420         4          1        2         1          1   \n",
              "\n",
              "   basement  hotwaterheating  airconditioning  parking  prefarea  \\\n",
              "0         0                0                1        2         1   \n",
              "1         0                0                1        3         0   \n",
              "2         1                0                0        2         1   \n",
              "3         1                0                1        3         1   \n",
              "4         1                0                1        2         0   \n",
              "\n",
              "  furnishingstatus  \n",
              "0        furnished  \n",
              "1        furnished  \n",
              "2   semi-furnished  \n",
              "3        furnished  \n",
              "4        furnished  "
            ],
            "text/html": [
              "\n",
              "  <div id=\"df-a7931d54-1bb1-4762-b2bb-9069cf1b4b23\">\n",
              "    <div class=\"colab-df-container\">\n",
              "      <div>\n",
              "<style scoped>\n",
              "    .dataframe tbody tr th:only-of-type {\n",
              "        vertical-align: middle;\n",
              "    }\n",
              "\n",
              "    .dataframe tbody tr th {\n",
              "        vertical-align: top;\n",
              "    }\n",
              "\n",
              "    .dataframe thead th {\n",
              "        text-align: right;\n",
              "    }\n",
              "</style>\n",
              "<table border=\"1\" class=\"dataframe\">\n",
              "  <thead>\n",
              "    <tr style=\"text-align: right;\">\n",
              "      <th></th>\n",
              "      <th>price</th>\n",
              "      <th>area</th>\n",
              "      <th>bedrooms</th>\n",
              "      <th>bathrooms</th>\n",
              "      <th>stories</th>\n",
              "      <th>mainroad</th>\n",
              "      <th>guestroom</th>\n",
              "      <th>basement</th>\n",
              "      <th>hotwaterheating</th>\n",
              "      <th>airconditioning</th>\n",
              "      <th>parking</th>\n",
              "      <th>prefarea</th>\n",
              "      <th>furnishingstatus</th>\n",
              "    </tr>\n",
              "  </thead>\n",
              "  <tbody>\n",
              "    <tr>\n",
              "      <th>0</th>\n",
              "      <td>13300000</td>\n",
              "      <td>7420</td>\n",
              "      <td>4</td>\n",
              "      <td>2</td>\n",
              "      <td>3</td>\n",
              "      <td>1</td>\n",
              "      <td>0</td>\n",
              "      <td>0</td>\n",
              "      <td>0</td>\n",
              "      <td>1</td>\n",
              "      <td>2</td>\n",
              "      <td>1</td>\n",
              "      <td>furnished</td>\n",
              "    </tr>\n",
              "    <tr>\n",
              "      <th>1</th>\n",
              "      <td>12250000</td>\n",
              "      <td>8960</td>\n",
              "      <td>4</td>\n",
              "      <td>4</td>\n",
              "      <td>4</td>\n",
              "      <td>1</td>\n",
              "      <td>0</td>\n",
              "      <td>0</td>\n",
              "      <td>0</td>\n",
              "      <td>1</td>\n",
              "      <td>3</td>\n",
              "      <td>0</td>\n",
              "      <td>furnished</td>\n",
              "    </tr>\n",
              "    <tr>\n",
              "      <th>2</th>\n",
              "      <td>12250000</td>\n",
              "      <td>9960</td>\n",
              "      <td>3</td>\n",
              "      <td>2</td>\n",
              "      <td>2</td>\n",
              "      <td>1</td>\n",
              "      <td>0</td>\n",
              "      <td>1</td>\n",
              "      <td>0</td>\n",
              "      <td>0</td>\n",
              "      <td>2</td>\n",
              "      <td>1</td>\n",
              "      <td>semi-furnished</td>\n",
              "    </tr>\n",
              "    <tr>\n",
              "      <th>3</th>\n",
              "      <td>12215000</td>\n",
              "      <td>7500</td>\n",
              "      <td>4</td>\n",
              "      <td>2</td>\n",
              "      <td>2</td>\n",
              "      <td>1</td>\n",
              "      <td>0</td>\n",
              "      <td>1</td>\n",
              "      <td>0</td>\n",
              "      <td>1</td>\n",
              "      <td>3</td>\n",
              "      <td>1</td>\n",
              "      <td>furnished</td>\n",
              "    </tr>\n",
              "    <tr>\n",
              "      <th>4</th>\n",
              "      <td>11410000</td>\n",
              "      <td>7420</td>\n",
              "      <td>4</td>\n",
              "      <td>1</td>\n",
              "      <td>2</td>\n",
              "      <td>1</td>\n",
              "      <td>1</td>\n",
              "      <td>1</td>\n",
              "      <td>0</td>\n",
              "      <td>1</td>\n",
              "      <td>2</td>\n",
              "      <td>0</td>\n",
              "      <td>furnished</td>\n",
              "    </tr>\n",
              "  </tbody>\n",
              "</table>\n",
              "</div>\n",
              "      <button class=\"colab-df-convert\" onclick=\"convertToInteractive('df-a7931d54-1bb1-4762-b2bb-9069cf1b4b23')\"\n",
              "              title=\"Convert this dataframe to an interactive table.\"\n",
              "              style=\"display:none;\">\n",
              "        \n",
              "  <svg xmlns=\"http://www.w3.org/2000/svg\" height=\"24px\"viewBox=\"0 0 24 24\"\n",
              "       width=\"24px\">\n",
              "    <path d=\"M0 0h24v24H0V0z\" fill=\"none\"/>\n",
              "    <path d=\"M18.56 5.44l.94 2.06.94-2.06 2.06-.94-2.06-.94-.94-2.06-.94 2.06-2.06.94zm-11 1L8.5 8.5l.94-2.06 2.06-.94-2.06-.94L8.5 2.5l-.94 2.06-2.06.94zm10 10l.94 2.06.94-2.06 2.06-.94-2.06-.94-.94-2.06-.94 2.06-2.06.94z\"/><path d=\"M17.41 7.96l-1.37-1.37c-.4-.4-.92-.59-1.43-.59-.52 0-1.04.2-1.43.59L10.3 9.45l-7.72 7.72c-.78.78-.78 2.05 0 2.83L4 21.41c.39.39.9.59 1.41.59.51 0 1.02-.2 1.41-.59l7.78-7.78 2.81-2.81c.8-.78.8-2.07 0-2.86zM5.41 20L4 18.59l7.72-7.72 1.47 1.35L5.41 20z\"/>\n",
              "  </svg>\n",
              "      </button>\n",
              "      \n",
              "  <style>\n",
              "    .colab-df-container {\n",
              "      display:flex;\n",
              "      flex-wrap:wrap;\n",
              "      gap: 12px;\n",
              "    }\n",
              "\n",
              "    .colab-df-convert {\n",
              "      background-color: #E8F0FE;\n",
              "      border: none;\n",
              "      border-radius: 50%;\n",
              "      cursor: pointer;\n",
              "      display: none;\n",
              "      fill: #1967D2;\n",
              "      height: 32px;\n",
              "      padding: 0 0 0 0;\n",
              "      width: 32px;\n",
              "    }\n",
              "\n",
              "    .colab-df-convert:hover {\n",
              "      background-color: #E2EBFA;\n",
              "      box-shadow: 0px 1px 2px rgba(60, 64, 67, 0.3), 0px 1px 3px 1px rgba(60, 64, 67, 0.15);\n",
              "      fill: #174EA6;\n",
              "    }\n",
              "\n",
              "    [theme=dark] .colab-df-convert {\n",
              "      background-color: #3B4455;\n",
              "      fill: #D2E3FC;\n",
              "    }\n",
              "\n",
              "    [theme=dark] .colab-df-convert:hover {\n",
              "      background-color: #434B5C;\n",
              "      box-shadow: 0px 1px 3px 1px rgba(0, 0, 0, 0.15);\n",
              "      filter: drop-shadow(0px 1px 2px rgba(0, 0, 0, 0.3));\n",
              "      fill: #FFFFFF;\n",
              "    }\n",
              "  </style>\n",
              "\n",
              "      <script>\n",
              "        const buttonEl =\n",
              "          document.querySelector('#df-a7931d54-1bb1-4762-b2bb-9069cf1b4b23 button.colab-df-convert');\n",
              "        buttonEl.style.display =\n",
              "          google.colab.kernel.accessAllowed ? 'block' : 'none';\n",
              "\n",
              "        async function convertToInteractive(key) {\n",
              "          const element = document.querySelector('#df-a7931d54-1bb1-4762-b2bb-9069cf1b4b23');\n",
              "          const dataTable =\n",
              "            await google.colab.kernel.invokeFunction('convertToInteractive',\n",
              "                                                     [key], {});\n",
              "          if (!dataTable) return;\n",
              "\n",
              "          const docLinkHtml = 'Like what you see? Visit the ' +\n",
              "            '<a target=\"_blank\" href=https://colab.research.google.com/notebooks/data_table.ipynb>data table notebook</a>'\n",
              "            + ' to learn more about interactive tables.';\n",
              "          element.innerHTML = '';\n",
              "          dataTable['output_type'] = 'display_data';\n",
              "          await google.colab.output.renderOutput(dataTable, element);\n",
              "          const docLink = document.createElement('div');\n",
              "          docLink.innerHTML = docLinkHtml;\n",
              "          element.appendChild(docLink);\n",
              "        }\n",
              "      </script>\n",
              "    </div>\n",
              "  </div>\n",
              "  "
            ]
          },
          "metadata": {},
          "execution_count": 65
        }
      ]
    },
    {
      "cell_type": "code",
      "source": [
        "#To not get any faulty errors eg Nan also not asked in Q -\n",
        "df = df.drop(labels = \"furnishingstatus\",axis=1)\n",
        "df.head()"
      ],
      "metadata": {
        "colab": {
          "base_uri": "https://localhost:8080/",
          "height": 206
        },
        "id": "cdtqreRrWEUd",
        "outputId": "48235f1f-b2a6-4dc0-9e09-3ce08eb91adf"
      },
      "execution_count": 66,
      "outputs": [
        {
          "output_type": "execute_result",
          "data": {
            "text/plain": [
              "      price  area  bedrooms  bathrooms  stories  mainroad  guestroom  \\\n",
              "0  13300000  7420         4          2        3         1          0   \n",
              "1  12250000  8960         4          4        4         1          0   \n",
              "2  12250000  9960         3          2        2         1          0   \n",
              "3  12215000  7500         4          2        2         1          0   \n",
              "4  11410000  7420         4          1        2         1          1   \n",
              "\n",
              "   basement  hotwaterheating  airconditioning  parking  prefarea  \n",
              "0         0                0                1        2         1  \n",
              "1         0                0                1        3         0  \n",
              "2         1                0                0        2         1  \n",
              "3         1                0                1        3         1  \n",
              "4         1                0                1        2         0  "
            ],
            "text/html": [
              "\n",
              "  <div id=\"df-559af9f5-cb99-421c-b731-08fb8ae5c613\">\n",
              "    <div class=\"colab-df-container\">\n",
              "      <div>\n",
              "<style scoped>\n",
              "    .dataframe tbody tr th:only-of-type {\n",
              "        vertical-align: middle;\n",
              "    }\n",
              "\n",
              "    .dataframe tbody tr th {\n",
              "        vertical-align: top;\n",
              "    }\n",
              "\n",
              "    .dataframe thead th {\n",
              "        text-align: right;\n",
              "    }\n",
              "</style>\n",
              "<table border=\"1\" class=\"dataframe\">\n",
              "  <thead>\n",
              "    <tr style=\"text-align: right;\">\n",
              "      <th></th>\n",
              "      <th>price</th>\n",
              "      <th>area</th>\n",
              "      <th>bedrooms</th>\n",
              "      <th>bathrooms</th>\n",
              "      <th>stories</th>\n",
              "      <th>mainroad</th>\n",
              "      <th>guestroom</th>\n",
              "      <th>basement</th>\n",
              "      <th>hotwaterheating</th>\n",
              "      <th>airconditioning</th>\n",
              "      <th>parking</th>\n",
              "      <th>prefarea</th>\n",
              "    </tr>\n",
              "  </thead>\n",
              "  <tbody>\n",
              "    <tr>\n",
              "      <th>0</th>\n",
              "      <td>13300000</td>\n",
              "      <td>7420</td>\n",
              "      <td>4</td>\n",
              "      <td>2</td>\n",
              "      <td>3</td>\n",
              "      <td>1</td>\n",
              "      <td>0</td>\n",
              "      <td>0</td>\n",
              "      <td>0</td>\n",
              "      <td>1</td>\n",
              "      <td>2</td>\n",
              "      <td>1</td>\n",
              "    </tr>\n",
              "    <tr>\n",
              "      <th>1</th>\n",
              "      <td>12250000</td>\n",
              "      <td>8960</td>\n",
              "      <td>4</td>\n",
              "      <td>4</td>\n",
              "      <td>4</td>\n",
              "      <td>1</td>\n",
              "      <td>0</td>\n",
              "      <td>0</td>\n",
              "      <td>0</td>\n",
              "      <td>1</td>\n",
              "      <td>3</td>\n",
              "      <td>0</td>\n",
              "    </tr>\n",
              "    <tr>\n",
              "      <th>2</th>\n",
              "      <td>12250000</td>\n",
              "      <td>9960</td>\n",
              "      <td>3</td>\n",
              "      <td>2</td>\n",
              "      <td>2</td>\n",
              "      <td>1</td>\n",
              "      <td>0</td>\n",
              "      <td>1</td>\n",
              "      <td>0</td>\n",
              "      <td>0</td>\n",
              "      <td>2</td>\n",
              "      <td>1</td>\n",
              "    </tr>\n",
              "    <tr>\n",
              "      <th>3</th>\n",
              "      <td>12215000</td>\n",
              "      <td>7500</td>\n",
              "      <td>4</td>\n",
              "      <td>2</td>\n",
              "      <td>2</td>\n",
              "      <td>1</td>\n",
              "      <td>0</td>\n",
              "      <td>1</td>\n",
              "      <td>0</td>\n",
              "      <td>1</td>\n",
              "      <td>3</td>\n",
              "      <td>1</td>\n",
              "    </tr>\n",
              "    <tr>\n",
              "      <th>4</th>\n",
              "      <td>11410000</td>\n",
              "      <td>7420</td>\n",
              "      <td>4</td>\n",
              "      <td>1</td>\n",
              "      <td>2</td>\n",
              "      <td>1</td>\n",
              "      <td>1</td>\n",
              "      <td>1</td>\n",
              "      <td>0</td>\n",
              "      <td>1</td>\n",
              "      <td>2</td>\n",
              "      <td>0</td>\n",
              "    </tr>\n",
              "  </tbody>\n",
              "</table>\n",
              "</div>\n",
              "      <button class=\"colab-df-convert\" onclick=\"convertToInteractive('df-559af9f5-cb99-421c-b731-08fb8ae5c613')\"\n",
              "              title=\"Convert this dataframe to an interactive table.\"\n",
              "              style=\"display:none;\">\n",
              "        \n",
              "  <svg xmlns=\"http://www.w3.org/2000/svg\" height=\"24px\"viewBox=\"0 0 24 24\"\n",
              "       width=\"24px\">\n",
              "    <path d=\"M0 0h24v24H0V0z\" fill=\"none\"/>\n",
              "    <path d=\"M18.56 5.44l.94 2.06.94-2.06 2.06-.94-2.06-.94-.94-2.06-.94 2.06-2.06.94zm-11 1L8.5 8.5l.94-2.06 2.06-.94-2.06-.94L8.5 2.5l-.94 2.06-2.06.94zm10 10l.94 2.06.94-2.06 2.06-.94-2.06-.94-.94-2.06-.94 2.06-2.06.94z\"/><path d=\"M17.41 7.96l-1.37-1.37c-.4-.4-.92-.59-1.43-.59-.52 0-1.04.2-1.43.59L10.3 9.45l-7.72 7.72c-.78.78-.78 2.05 0 2.83L4 21.41c.39.39.9.59 1.41.59.51 0 1.02-.2 1.41-.59l7.78-7.78 2.81-2.81c.8-.78.8-2.07 0-2.86zM5.41 20L4 18.59l7.72-7.72 1.47 1.35L5.41 20z\"/>\n",
              "  </svg>\n",
              "      </button>\n",
              "      \n",
              "  <style>\n",
              "    .colab-df-container {\n",
              "      display:flex;\n",
              "      flex-wrap:wrap;\n",
              "      gap: 12px;\n",
              "    }\n",
              "\n",
              "    .colab-df-convert {\n",
              "      background-color: #E8F0FE;\n",
              "      border: none;\n",
              "      border-radius: 50%;\n",
              "      cursor: pointer;\n",
              "      display: none;\n",
              "      fill: #1967D2;\n",
              "      height: 32px;\n",
              "      padding: 0 0 0 0;\n",
              "      width: 32px;\n",
              "    }\n",
              "\n",
              "    .colab-df-convert:hover {\n",
              "      background-color: #E2EBFA;\n",
              "      box-shadow: 0px 1px 2px rgba(60, 64, 67, 0.3), 0px 1px 3px 1px rgba(60, 64, 67, 0.15);\n",
              "      fill: #174EA6;\n",
              "    }\n",
              "\n",
              "    [theme=dark] .colab-df-convert {\n",
              "      background-color: #3B4455;\n",
              "      fill: #D2E3FC;\n",
              "    }\n",
              "\n",
              "    [theme=dark] .colab-df-convert:hover {\n",
              "      background-color: #434B5C;\n",
              "      box-shadow: 0px 1px 3px 1px rgba(0, 0, 0, 0.15);\n",
              "      filter: drop-shadow(0px 1px 2px rgba(0, 0, 0, 0.3));\n",
              "      fill: #FFFFFF;\n",
              "    }\n",
              "  </style>\n",
              "\n",
              "      <script>\n",
              "        const buttonEl =\n",
              "          document.querySelector('#df-559af9f5-cb99-421c-b731-08fb8ae5c613 button.colab-df-convert');\n",
              "        buttonEl.style.display =\n",
              "          google.colab.kernel.accessAllowed ? 'block' : 'none';\n",
              "\n",
              "        async function convertToInteractive(key) {\n",
              "          const element = document.querySelector('#df-559af9f5-cb99-421c-b731-08fb8ae5c613');\n",
              "          const dataTable =\n",
              "            await google.colab.kernel.invokeFunction('convertToInteractive',\n",
              "                                                     [key], {});\n",
              "          if (!dataTable) return;\n",
              "\n",
              "          const docLinkHtml = 'Like what you see? Visit the ' +\n",
              "            '<a target=\"_blank\" href=https://colab.research.google.com/notebooks/data_table.ipynb>data table notebook</a>'\n",
              "            + ' to learn more about interactive tables.';\n",
              "          element.innerHTML = '';\n",
              "          dataTable['output_type'] = 'display_data';\n",
              "          await google.colab.output.renderOutput(dataTable, element);\n",
              "          const docLink = document.createElement('div');\n",
              "          docLink.innerHTML = docLinkHtml;\n",
              "          element.appendChild(docLink);\n",
              "        }\n",
              "      </script>\n",
              "    </div>\n",
              "  </div>\n",
              "  "
            ]
          },
          "metadata": {},
          "execution_count": 66
        }
      ]
    },
    {
      "cell_type": "code",
      "source": [
        "#splitting dataframe into 80% training data & 20% testing data\n",
        "np.random.seed(0)\n",
        "dfTrain, dfTest =train_test_split(df, train_size = 0.8, test_size = 0.2)\n",
        "dfTrain.shape"
      ],
      "metadata": {
        "colab": {
          "base_uri": "https://localhost:8080/"
        },
        "id": "CLrnO9VeWOYB",
        "outputId": "d092cf56-873d-43cb-97c4-f8e6a21ec51d"
      },
      "execution_count": 67,
      "outputs": [
        {
          "output_type": "execute_result",
          "data": {
            "text/plain": [
              "(436, 12)"
            ]
          },
          "metadata": {},
          "execution_count": 67
        }
      ]
    },
    {
      "cell_type": "code",
      "source": [
        "list2 = ['price', 'area', 'bedrooms', 'bathrooms', 'stories', 'mainroad', 'guestroom', 'basement', 'hotwaterheating', 'airconditioning', 'parking', 'prefarea']\n",
        "dfTrainA = dfTrain[list2]\n",
        "dfTestA = dfTest[list2]\n",
        "dfTrainA.head()"
      ],
      "metadata": {
        "colab": {
          "base_uri": "https://localhost:8080/",
          "height": 206
        },
        "id": "u4gq4B5CWeu2",
        "outputId": "3e45257d-a4b2-478c-f5e6-32e6971a7429"
      },
      "execution_count": 68,
      "outputs": [
        {
          "output_type": "execute_result",
          "data": {
            "text/plain": [
              "       price  area  bedrooms  bathrooms  stories  mainroad  guestroom  \\\n",
              "542  1750000  3620         2          1        1         1          0   \n",
              "496  2695000  4000         2          1        1         1          0   \n",
              "484  2870000  3040         2          1        1         0          0   \n",
              "507  2590000  3600         2          1        1         1          0   \n",
              "252  4515000  9860         3          1        1         1          0   \n",
              "\n",
              "     basement  hotwaterheating  airconditioning  parking  prefarea  \n",
              "542         0                0                0        0         0  \n",
              "496         0                0                0        0         0  \n",
              "484         0                0                0        0         0  \n",
              "507         0                0                0        0         0  \n",
              "252         0                0                0        0         0  "
            ],
            "text/html": [
              "\n",
              "  <div id=\"df-5740a806-903b-46cc-9822-4210717878b4\">\n",
              "    <div class=\"colab-df-container\">\n",
              "      <div>\n",
              "<style scoped>\n",
              "    .dataframe tbody tr th:only-of-type {\n",
              "        vertical-align: middle;\n",
              "    }\n",
              "\n",
              "    .dataframe tbody tr th {\n",
              "        vertical-align: top;\n",
              "    }\n",
              "\n",
              "    .dataframe thead th {\n",
              "        text-align: right;\n",
              "    }\n",
              "</style>\n",
              "<table border=\"1\" class=\"dataframe\">\n",
              "  <thead>\n",
              "    <tr style=\"text-align: right;\">\n",
              "      <th></th>\n",
              "      <th>price</th>\n",
              "      <th>area</th>\n",
              "      <th>bedrooms</th>\n",
              "      <th>bathrooms</th>\n",
              "      <th>stories</th>\n",
              "      <th>mainroad</th>\n",
              "      <th>guestroom</th>\n",
              "      <th>basement</th>\n",
              "      <th>hotwaterheating</th>\n",
              "      <th>airconditioning</th>\n",
              "      <th>parking</th>\n",
              "      <th>prefarea</th>\n",
              "    </tr>\n",
              "  </thead>\n",
              "  <tbody>\n",
              "    <tr>\n",
              "      <th>542</th>\n",
              "      <td>1750000</td>\n",
              "      <td>3620</td>\n",
              "      <td>2</td>\n",
              "      <td>1</td>\n",
              "      <td>1</td>\n",
              "      <td>1</td>\n",
              "      <td>0</td>\n",
              "      <td>0</td>\n",
              "      <td>0</td>\n",
              "      <td>0</td>\n",
              "      <td>0</td>\n",
              "      <td>0</td>\n",
              "    </tr>\n",
              "    <tr>\n",
              "      <th>496</th>\n",
              "      <td>2695000</td>\n",
              "      <td>4000</td>\n",
              "      <td>2</td>\n",
              "      <td>1</td>\n",
              "      <td>1</td>\n",
              "      <td>1</td>\n",
              "      <td>0</td>\n",
              "      <td>0</td>\n",
              "      <td>0</td>\n",
              "      <td>0</td>\n",
              "      <td>0</td>\n",
              "      <td>0</td>\n",
              "    </tr>\n",
              "    <tr>\n",
              "      <th>484</th>\n",
              "      <td>2870000</td>\n",
              "      <td>3040</td>\n",
              "      <td>2</td>\n",
              "      <td>1</td>\n",
              "      <td>1</td>\n",
              "      <td>0</td>\n",
              "      <td>0</td>\n",
              "      <td>0</td>\n",
              "      <td>0</td>\n",
              "      <td>0</td>\n",
              "      <td>0</td>\n",
              "      <td>0</td>\n",
              "    </tr>\n",
              "    <tr>\n",
              "      <th>507</th>\n",
              "      <td>2590000</td>\n",
              "      <td>3600</td>\n",
              "      <td>2</td>\n",
              "      <td>1</td>\n",
              "      <td>1</td>\n",
              "      <td>1</td>\n",
              "      <td>0</td>\n",
              "      <td>0</td>\n",
              "      <td>0</td>\n",
              "      <td>0</td>\n",
              "      <td>0</td>\n",
              "      <td>0</td>\n",
              "    </tr>\n",
              "    <tr>\n",
              "      <th>252</th>\n",
              "      <td>4515000</td>\n",
              "      <td>9860</td>\n",
              "      <td>3</td>\n",
              "      <td>1</td>\n",
              "      <td>1</td>\n",
              "      <td>1</td>\n",
              "      <td>0</td>\n",
              "      <td>0</td>\n",
              "      <td>0</td>\n",
              "      <td>0</td>\n",
              "      <td>0</td>\n",
              "      <td>0</td>\n",
              "    </tr>\n",
              "  </tbody>\n",
              "</table>\n",
              "</div>\n",
              "      <button class=\"colab-df-convert\" onclick=\"convertToInteractive('df-5740a806-903b-46cc-9822-4210717878b4')\"\n",
              "              title=\"Convert this dataframe to an interactive table.\"\n",
              "              style=\"display:none;\">\n",
              "        \n",
              "  <svg xmlns=\"http://www.w3.org/2000/svg\" height=\"24px\"viewBox=\"0 0 24 24\"\n",
              "       width=\"24px\">\n",
              "    <path d=\"M0 0h24v24H0V0z\" fill=\"none\"/>\n",
              "    <path d=\"M18.56 5.44l.94 2.06.94-2.06 2.06-.94-2.06-.94-.94-2.06-.94 2.06-2.06.94zm-11 1L8.5 8.5l.94-2.06 2.06-.94-2.06-.94L8.5 2.5l-.94 2.06-2.06.94zm10 10l.94 2.06.94-2.06 2.06-.94-2.06-.94-.94-2.06-.94 2.06-2.06.94z\"/><path d=\"M17.41 7.96l-1.37-1.37c-.4-.4-.92-.59-1.43-.59-.52 0-1.04.2-1.43.59L10.3 9.45l-7.72 7.72c-.78.78-.78 2.05 0 2.83L4 21.41c.39.39.9.59 1.41.59.51 0 1.02-.2 1.41-.59l7.78-7.78 2.81-2.81c.8-.78.8-2.07 0-2.86zM5.41 20L4 18.59l7.72-7.72 1.47 1.35L5.41 20z\"/>\n",
              "  </svg>\n",
              "      </button>\n",
              "      \n",
              "  <style>\n",
              "    .colab-df-container {\n",
              "      display:flex;\n",
              "      flex-wrap:wrap;\n",
              "      gap: 12px;\n",
              "    }\n",
              "\n",
              "    .colab-df-convert {\n",
              "      background-color: #E8F0FE;\n",
              "      border: none;\n",
              "      border-radius: 50%;\n",
              "      cursor: pointer;\n",
              "      display: none;\n",
              "      fill: #1967D2;\n",
              "      height: 32px;\n",
              "      padding: 0 0 0 0;\n",
              "      width: 32px;\n",
              "    }\n",
              "\n",
              "    .colab-df-convert:hover {\n",
              "      background-color: #E2EBFA;\n",
              "      box-shadow: 0px 1px 2px rgba(60, 64, 67, 0.3), 0px 1px 3px 1px rgba(60, 64, 67, 0.15);\n",
              "      fill: #174EA6;\n",
              "    }\n",
              "\n",
              "    [theme=dark] .colab-df-convert {\n",
              "      background-color: #3B4455;\n",
              "      fill: #D2E3FC;\n",
              "    }\n",
              "\n",
              "    [theme=dark] .colab-df-convert:hover {\n",
              "      background-color: #434B5C;\n",
              "      box-shadow: 0px 1px 3px 1px rgba(0, 0, 0, 0.15);\n",
              "      filter: drop-shadow(0px 1px 2px rgba(0, 0, 0, 0.3));\n",
              "      fill: #FFFFFF;\n",
              "    }\n",
              "  </style>\n",
              "\n",
              "      <script>\n",
              "        const buttonEl =\n",
              "          document.querySelector('#df-5740a806-903b-46cc-9822-4210717878b4 button.colab-df-convert');\n",
              "        buttonEl.style.display =\n",
              "          google.colab.kernel.accessAllowed ? 'block' : 'none';\n",
              "\n",
              "        async function convertToInteractive(key) {\n",
              "          const element = document.querySelector('#df-5740a806-903b-46cc-9822-4210717878b4');\n",
              "          const dataTable =\n",
              "            await google.colab.kernel.invokeFunction('convertToInteractive',\n",
              "                                                     [key], {});\n",
              "          if (!dataTable) return;\n",
              "\n",
              "          const docLinkHtml = 'Like what you see? Visit the ' +\n",
              "            '<a target=\"_blank\" href=https://colab.research.google.com/notebooks/data_table.ipynb>data table notebook</a>'\n",
              "            + ' to learn more about interactive tables.';\n",
              "          element.innerHTML = '';\n",
              "          dataTable['output_type'] = 'display_data';\n",
              "          await google.colab.output.renderOutput(dataTable, element);\n",
              "          const docLink = document.createElement('div');\n",
              "          docLink.innerHTML = docLinkHtml;\n",
              "          element.appendChild(docLink);\n",
              "        }\n",
              "      </script>\n",
              "    </div>\n",
              "  </div>\n",
              "  "
            ]
          },
          "metadata": {},
          "execution_count": 68
        }
      ]
    },
    {
      "cell_type": "code",
      "source": [
        "X = dfTestA.values[:,1:13] \n",
        "Y = dfTestA.values[:,0]"
      ],
      "metadata": {
        "id": "_B5yMHIGW_wz"
      },
      "execution_count": 69,
      "outputs": []
    },
    {
      "cell_type": "code",
      "source": [
        "sc_X2 = StandardScaler() \n",
        "X1 = sc_X2.fit_transform(X) \n",
        "\n",
        "Y =Y.reshape(-1,1)\n",
        "X1"
      ],
      "metadata": {
        "colab": {
          "base_uri": "https://localhost:8080/"
        },
        "id": "P4Nv_yOeXqoy",
        "outputId": "0057fada-03b9-40a7-d193-f175d5703460"
      },
      "execution_count": 70,
      "outputs": [
        {
          "output_type": "execute_result",
          "data": {
            "text/plain": [
              "array([[-0.50073521,  0.02560738, -0.56354451, ..., -0.63042517,\n",
              "         0.49214421, -0.48850421],\n",
              "       [ 1.95422869,  0.02560738, -0.56354451, ..., -0.63042517,\n",
              "         1.73967255,  2.04706526],\n",
              "       [-0.73662142,  1.42120937, -0.56354451, ...,  1.58623108,\n",
              "        -0.75538413, -0.48850421],\n",
              "       ...,\n",
              "       [ 0.399127  , -1.36999462, -0.56354451, ..., -0.63042517,\n",
              "         0.49214421, -0.48850421],\n",
              "       [-0.28232205, -1.36999462, -0.56354451, ..., -0.63042517,\n",
              "         0.49214421, -0.48850421],\n",
              "       [ 0.41660006,  0.02560738,  1.2431129 , ..., -0.63042517,\n",
              "         1.73967255,  2.04706526]])"
            ]
          },
          "metadata": {},
          "execution_count": 70
        }
      ]
    },
    {
      "cell_type": "code",
      "source": [
        "Y1= sc_X2.fit_transform(Y) "
      ],
      "metadata": {
        "id": "yQWxIjvmXvlh"
      },
      "execution_count": 71,
      "outputs": []
    },
    {
      "cell_type": "code",
      "source": [
        "# svr rbf kernerl-\n",
        "MSE = []\n",
        "for k in range(1,12):\n",
        "  pca = PCA(n_components = k)\n",
        "  principalComponents = pca.fit_transform(X1)\n",
        "  principalDf = pd.DataFrame(data = principalComponents)\n",
        "  from sklearn.model_selection import train_test_split\n",
        "  X_train, X_test, Y_train, Y_test = train_test_split(principalComponents, Y1, test_size=0.2, random_state = 60) \n",
        "\n",
        "  classifier = SVR(kernel = 'rbf', C = 1E2)\n",
        "  classifier.fit(X_train, Y_train)\n",
        "  Y_pred = classifier.predict(X_test)\n",
        "\n",
        "  MSE.append(mean_squared_error(Y_test, Y_pred))\n",
        "  print(k)\n",
        "  print(MSE[-1])\n",
        "  print(\" \")"
      ],
      "metadata": {
        "colab": {
          "base_uri": "https://localhost:8080/"
        },
        "id": "K1olI-QEX_BG",
        "outputId": "914c6a8b-e44f-4684-a48c-655f8649cd1e"
      },
      "execution_count": 72,
      "outputs": [
        {
          "output_type": "stream",
          "name": "stdout",
          "text": [
            "1\n",
            "0.3560504033717174\n",
            " \n",
            "2\n",
            "0.4462878431198611\n",
            " \n",
            "3\n",
            "0.5640211854166174\n",
            " \n",
            "4\n",
            "0.6916564320778114\n",
            " \n",
            "5\n",
            "0.8209680720744974\n",
            " \n",
            "6\n",
            "0.8336276854867927\n",
            " \n",
            "7\n",
            "0.8646275857620288\n",
            " \n",
            "8\n",
            "0.851621099380388\n",
            " \n",
            "9\n",
            "0.6558236358365811\n",
            " \n",
            "10\n",
            "0.5591151145741355\n",
            " \n",
            "11\n",
            "0.561095739855324\n",
            " \n"
          ]
        }
      ]
    },
    {
      "cell_type": "code",
      "source": [
        "plt.figure(1)\n",
        "fig = plt.figure(dpi=100) \n",
        "print(np.array(MSE).shape)\n",
        "plt.plot(MSE, color='r') \n",
        "plt.grid(mean_squared_error(Y_test, Y_pred)) \n",
        "plt.xlabel('K')\n",
        "plt.ylabel('MSE cost')\n",
        "plt.title(\"rbf svr kernel\");"
      ],
      "metadata": {
        "colab": {
          "base_uri": "https://localhost:8080/",
          "height": 516
        },
        "id": "qA5-X37CZHje",
        "outputId": "15180266-7d67-4169-f3e4-60b813307023"
      },
      "execution_count": 73,
      "outputs": [
        {
          "output_type": "stream",
          "name": "stdout",
          "text": [
            "(11,)\n"
          ]
        },
        {
          "output_type": "display_data",
          "data": {
            "text/plain": [
              "<Figure size 640x480 with 0 Axes>"
            ]
          },
          "metadata": {}
        },
        {
          "output_type": "display_data",
          "data": {
            "text/plain": [
              "<Figure size 640x480 with 1 Axes>"
            ],
            "image/png": "[encoded data removed]"
          },
          "metadata": {}
        }
      ]
    },
    {
      "cell_type": "code",
      "source": [
        "# svr linear kernerl-\n",
        "\n",
        "MSE = []\n",
        "for k in range(1,12):\n",
        "  pca = PCA(n_components = k)\n",
        "  principalComponents = pca.fit_transform(X1)\n",
        "  principalDf = pd.DataFrame(data = principalComponents)\n",
        "  from sklearn.model_selection import train_test_split\n",
        "  X_train, X_test, Y_train, Y_test = train_test_split(principalComponents, Y1, test_size=0.2, random_state = 60)\n",
        "  classifier = SVR(kernel = 'linear', C = 1E2)\n",
        "  classifier.fit(X_train, Y_train)\n",
        "  Y_pred = classifier.predict(X_test)\n",
        "  MSE.append(mean_squared_error(Y_test, Y_pred))\n",
        "  print('k=', k)\n",
        "  print(MSE[-1]) \n",
        "  print(\" \")"
      ],
      "metadata": {
        "colab": {
          "base_uri": "https://localhost:8080/"
        },
        "id": "oUxxcgefZXNH",
        "outputId": "aa5fe612-e9af-476e-dad6-3c281315f3d2"
      },
      "execution_count": 74,
      "outputs": [
        {
          "output_type": "stream",
          "name": "stdout",
          "text": [
            "k= 1\n",
            "0.3454809293562034\n",
            " \n",
            "k= 2\n",
            "0.26609193914124946\n",
            " \n",
            "k= 3\n",
            "0.26107286590749595\n",
            " \n",
            "k= 4\n",
            "0.2867369282837562\n",
            " \n",
            "k= 5\n",
            "0.2717860112457204\n",
            " \n",
            "k= 6\n",
            "0.2721508801760958\n",
            " \n",
            "k= 7\n",
            "0.26632401391443167\n",
            " \n",
            "k= 8\n",
            "0.274529347372167\n",
            " \n",
            "k= 9\n",
            "0.23286089906104787\n",
            " \n",
            "k= 10\n",
            "0.2959484488724035\n",
            " \n",
            "k= 11\n",
            "0.36490812136597894\n",
            " \n"
          ]
        }
      ]
    },
    {
      "cell_type": "code",
      "source": [
        "plt.figure(1)\n",
        "fig = plt.figure(dpi=100) \n",
        "print(np.array(MSE).shape)\n",
        "plt.plot(MSE, color='r') \n",
        "plt.grid(mean_squared_error(Y_test, Y_pred)) \n",
        "plt.xlabel('K')\n",
        "plt.ylabel('MSE cost')\n",
        "plt.title(\"Linear svr kernel\");"
      ],
      "metadata": {
        "colab": {
          "base_uri": "https://localhost:8080/",
          "height": 516
        },
        "id": "SYkkCVfqZkPS",
        "outputId": "d2878991-dfa7-47f9-aada-da94c5e7ab14"
      },
      "execution_count": 75,
      "outputs": [
        {
          "output_type": "stream",
          "name": "stdout",
          "text": [
            "(11,)\n"
          ]
        },
        {
          "output_type": "display_data",
          "data": {
            "text/plain": [
              "<Figure size 640x480 with 0 Axes>"
            ]
          },
          "metadata": {}
        },
        {
          "output_type": "display_data",
          "data": {
            "text/plain": [
              "<Figure size 640x480 with 1 Axes>"
            ],
            "image/png": "[encoded data removed]"
          },
          "metadata": {}
        }
      ]
    },
    {
      "cell_type": "code",
      "source": [
        "# polynomial kernel svr\n",
        "\n",
        "MSE = []\n",
        "for k in range(1,12):\n",
        "  pca = PCA(n_components = k)\n",
        "  principalComponents = pca.fit_transform(X1)\n",
        "  principalDf = pd.DataFrame(data = principalComponents)\n",
        "  from sklearn.model_selection import train_test_split\n",
        "  X_train, X_test, Y_train, Y_test = train_test_split(principalComponents, Y1, test_size=0.2, random_state = 60) \n",
        "  classifier = SVR(kernel = 'poly', C = 1E2)\n",
        "  classifier.fit(X_train, Y_train)\n",
        "  Y_pred = classifier.predict(X_test)\n",
        "\n",
        "  MSE.append(mean_squared_error(Y_test, Y_pred))\n",
        "  print(k)\n",
        "  print(MSE[-1]) \n",
        "  print(\" \")"
      ],
      "metadata": {
        "colab": {
          "base_uri": "https://localhost:8080/"
        },
        "id": "r_voJyGiZ3_W",
        "outputId": "6c1daa4a-0a92-4957-fd2c-96b6e8f08038"
      },
      "execution_count": 76,
      "outputs": [
        {
          "output_type": "stream",
          "name": "stdout",
          "text": [
            "1\n",
            "0.4671012876183497\n",
            " \n",
            "2\n",
            "0.2736866703756691\n",
            " \n",
            "3\n",
            "0.46504550545000517\n",
            " \n",
            "4\n",
            "0.5734670483484723\n",
            " \n",
            "5\n",
            "0.7943166907221522\n",
            " \n",
            "6\n",
            "5.419216444105126\n",
            " \n",
            "7\n",
            "7.206740493966575\n",
            " \n",
            "8\n",
            "1.6246127661402063\n",
            " \n",
            "9\n",
            "2.5725479262967856\n",
            " \n",
            "10\n",
            "2.3858480278675596\n",
            " \n",
            "11\n",
            "1.1253237102152696\n",
            " \n"
          ]
        }
      ]
    },
    {
      "cell_type": "code",
      "source": [
        "plt.figure(1)\n",
        "fig = plt.figure(dpi=100) \n",
        "print(np.array(MSE).shape)\n",
        "plt.plot(MSE, color='r') \n",
        "plt.grid(mean_squared_error(Y_test, Y_pred)) \n",
        "plt.xlabel('K')\n",
        "plt.ylabel('MSE cost')\n",
        "plt.title(\"Polynomial kernel svr\");"
      ],
      "metadata": {
        "colab": {
          "base_uri": "https://localhost:8080/",
          "height": 516
        },
        "id": "2PZfPQ12aV8E",
        "outputId": "3bcd14c3-4e55-433f-8944-e915a68b2ea7"
      },
      "execution_count": 77,
      "outputs": [
        {
          "output_type": "stream",
          "name": "stdout",
          "text": [
            "(11,)\n"
          ]
        },
        {
          "output_type": "display_data",
          "data": {
            "text/plain": [
              "<Figure size 640x480 with 0 Axes>"
            ]
          },
          "metadata": {}
        },
        {
          "output_type": "display_data",
          "data": {
            "text/plain": [
              "<Figure size 640x480 with 1 Axes>"
            ],
            "image/png": "[encoded data removed]"
          },
          "metadata": {}
        }
      ]
    },
    {
      "cell_type": "code",
      "source": [
        "# sigmoid kernel svr\n",
        "MSE = []\n",
        "for k in range(1,12):\n",
        "  pca = PCA(n_components = k)\n",
        "  principalComponents = pca.fit_transform(X1)\n",
        "  principalDf = pd.DataFrame(data = principalComponents)\n",
        "  from sklearn.model_selection import train_test_split\n",
        "  X_train, X_test, Y_train, Y_test = train_test_split(principalComponents, Y1, test_size=0.2, random_state = 60)\n",
        "  classifier = SVR(kernel = 'sigmoid', C = 1E2)\n",
        "  classifier.fit(X_train, Y_train)\n",
        "  Y_pred = classifier.predict(X_test)\n",
        "  MSE.append(mean_squared_error(Y_test, Y_pred))\n",
        "  print(k)\n",
        "  print(MSE[-1]) \n",
        "  print(\" \")"
      ],
      "metadata": {
        "colab": {
          "base_uri": "https://localhost:8080/"
        },
        "id": "fCWe8d2MaeJC",
        "outputId": "46b24ba3-caf1-45e8-e5c4-2f23fa215490"
      },
      "execution_count": 78,
      "outputs": [
        {
          "output_type": "stream",
          "name": "stdout",
          "text": [
            "1\n",
            "122954.86094889218\n",
            " \n",
            "2\n",
            "51390.31940654992\n",
            " \n",
            "3\n",
            "22868.92702706676\n",
            " \n",
            "4\n",
            "6356.369839333943\n",
            " \n",
            "5\n",
            "4461.569042428463\n",
            " \n",
            "6\n",
            "4494.636871039328\n",
            " \n",
            "7\n",
            "3105.1221852755875\n",
            " \n",
            "8\n",
            "3496.188181305237\n",
            " \n",
            "9\n",
            "2686.999653821308\n",
            " \n",
            "10\n",
            "951.588413031759\n",
            " \n",
            "11\n",
            "2492.0702175276706\n",
            " \n"
          ]
        }
      ]
    },
    {
      "cell_type": "code",
      "source": [
        "plt.figure(1)\n",
        "fig = plt.figure(dpi=100) \n",
        "print(np.array(MSE).shape)\n",
        "plt.plot(MSE, color='r') \n",
        "plt.grid(mean_squared_error(Y_test, Y_pred)) \n",
        "plt.xlabel('K')\n",
        "plt.ylabel('MSE cost')\n",
        "plt.title(\"Sigmoid svr kernel\");"
      ],
      "metadata": {
        "colab": {
          "base_uri": "https://localhost:8080/",
          "height": 516
        },
        "id": "Tv6ecsKhateQ",
        "outputId": "0452d9cf-c567-4169-e900-c0470352d5cc"
      },
      "execution_count": 79,
      "outputs": [
        {
          "output_type": "stream",
          "name": "stdout",
          "text": [
            "(11,)\n"
          ]
        },
        {
          "output_type": "display_data",
          "data": {
            "text/plain": [
              "<Figure size 640x480 with 0 Axes>"
            ]
          },
          "metadata": {}
        },
        {
          "output_type": "display_data",
          "data": {
            "text/plain": [
              "<Figure size 640x480 with 1 Axes>"
            ],
            "image/png": "[encoded data removed]"
          },
          "metadata": {}
        }
      ]
    },
    {
      "cell_type": "code",
      "source": [
        "# sigmoid kernel svr\n",
        "MSE = []\n",
        "for k in range(4,12):\n",
        "  pca = PCA(n_components = k)\n",
        "  principalComponents = pca.fit_transform(X1)\n",
        "  principalDf = pd.DataFrame(data = principalComponents)\n",
        "  from sklearn.model_selection import train_test_split\n",
        "  X_train, X_test, Y_train, Y_test = train_test_split(principalComponents, Y1, test_size=0.2, random_state = 60)\n",
        "  classifier = SVR(kernel = 'sigmoid', C = 1E2)\n",
        "  classifier.fit(X_train, Y_train)\n",
        "  Y_pred = classifier.predict(X_test)\n",
        "  MSE.append(mean_squared_error(Y_test, Y_pred))\n",
        "  print(k)\n",
        "  print(MSE[-1]) \n",
        "  print(\" \")"
      ],
      "metadata": {
        "colab": {
          "base_uri": "https://localhost:8080/"
        },
        "id": "rSL60chYp23f",
        "outputId": "57c46171-5ae7-4bfe-f805-923c83db706d"
      },
      "execution_count": 80,
      "outputs": [
        {
          "output_type": "stream",
          "name": "stdout",
          "text": [
            "4\n",
            "6356.369839333943\n",
            " \n",
            "5\n",
            "4461.569042428463\n",
            " \n",
            "6\n",
            "4494.636871039328\n",
            " \n",
            "7\n",
            "3105.1221852755875\n",
            " \n",
            "8\n",
            "3496.188181305237\n",
            " \n",
            "9\n",
            "2686.999653821308\n",
            " \n",
            "10\n",
            "951.588413031759\n",
            " \n",
            "11\n",
            "2492.0702175276706\n",
            " \n"
          ]
        }
      ]
    },
    {
      "cell_type": "code",
      "source": [
        "plt.figure(1)\n",
        "fig = plt.figure(dpi=100) \n",
        "print(np.array(MSE).shape)\n",
        "plt.plot(MSE, color='r') \n",
        "plt.grid(mean_squared_error(Y_test, Y_pred)) \n",
        "plt.xlabel('K')\n",
        "plt.ylabel('MSE cost')\n",
        "plt.title(\"Sigmoid svr kernel\");"
      ],
      "metadata": {
        "colab": {
          "base_uri": "https://localhost:8080/",
          "height": 516
        },
        "id": "IyQLoilNp4Rl",
        "outputId": "60536742-e038-4522-8dac-f5101ad868c5"
      },
      "execution_count": 81,
      "outputs": [
        {
          "output_type": "stream",
          "name": "stdout",
          "text": [
            "(8,)\n"
          ]
        },
        {
          "output_type": "display_data",
          "data": {
            "text/plain": [
              "<Figure size 640x480 with 0 Axes>"
            ]
          },
          "metadata": {}
        },
        {
          "output_type": "display_data",
          "data": {
            "text/plain": [
              "<Figure size 640x480 with 1 Axes>"
            ],
            "image/png": "[encoded data removed]"
          },
          "metadata": {}
        }
      ]
    }
  ]
}