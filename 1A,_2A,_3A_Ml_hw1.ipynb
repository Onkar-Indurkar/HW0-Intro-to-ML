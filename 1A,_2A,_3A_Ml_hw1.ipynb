{
  "nbformat": 4,
  "nbformat_minor": 0,
  "metadata": {
    "colab": {
      "provenance": []
    },
    "kernelspec": {
      "name": "python3",
      "display_name": "Python 3"
    },
    "language_info": {
      "name": "python"
    }
  },
  "cells": [
    {
      "cell_type": "markdown",
      "source": [
        "Q1A, 2A, 3A"
      ],
      "metadata": {
        "id": "hLGK5JRq9Def"
      }
    },
    {
      "cell_type": "markdown",
      "source": [
        "1A"
      ],
      "metadata": {
        "id": "LuyoBvj39MUZ"
      }
    },
    {
      "cell_type": "code",
      "execution_count": 825,
      "metadata": {
        "id": "BnqApUPZTv7l"
      },
      "outputs": [],
      "source": [
        "import numpy as np\n",
        "import pandas as pd\n",
        "import matplotlib.pyplot as plt\n",
        "from sklearn.model_selection import train_test_split\n"
      ]
    },
    {
      "cell_type": "code",
      "source": [
        "df = pd.DataFrame(pd.read_csv('https://raw.githubusercontent.com/Onkar-Indurkar/Intro-to-ML/main/Housing.csv'))\n",
        "df.head()\n",
        "m = len(df)"
      ],
      "metadata": {
        "id": "Heppf1p6T4a9"
      },
      "execution_count": 826,
      "outputs": []
    },
    {
      "cell_type": "code",
      "source": [
        "#splitting dataframe into 80% training data & 20% testing data\n",
        "np.random.seed(0)\n",
        "dfTrain, dfTest =train_test_split(df, train_size = 0.8, test_size = 0.2)\n",
        "dfTrain.shape"
      ],
      "metadata": {
        "colab": {
          "base_uri": "https://localhost:8080/"
        },
        "id": "KX7OSeS0UN6P",
        "outputId": "f6e9ab86-4a5f-45f7-a17a-ca0ffcdf0c28"
      },
      "execution_count": 827,
      "outputs": [
        {
          "output_type": "execute_result",
          "data": {
            "text/plain": [
              "(436, 13)"
            ]
          },
          "metadata": {},
          "execution_count": 827
        }
      ]
    },
    {
      "cell_type": "code",
      "source": [
        "list2 = ['price', 'area', 'bedrooms', 'bathrooms', 'stories', 'parking']\n",
        "dfTrainA = dfTrain[list2]\n",
        "dfTestA = dfTest[list2]\n",
        "dfTrainA.head()"
      ],
      "metadata": {
        "colab": {
          "base_uri": "https://localhost:8080/",
          "height": 206
        },
        "id": "EPs8IAGLa9Sp",
        "outputId": "bc804774-0844-472b-d4c0-2329d24e038d"
      },
      "execution_count": 828,
      "outputs": [
        {
          "output_type": "execute_result",
          "data": {
            "text/plain": [
              "       price  area  bedrooms  bathrooms  stories  parking\n",
              "542  1750000  3620         2          1        1        0\n",
              "496  2695000  4000         2          1        1        0\n",
              "484  2870000  3040         2          1        1        0\n",
              "507  2590000  3600         2          1        1        0\n",
              "252  4515000  9860         3          1        1        0"
            ],
            "text/html": [
              "\n",
              "  <div id=\"df-c74dba90-fcdb-456d-ac32-a7d76e2ce711\">\n",
              "    <div class=\"colab-df-container\">\n",
              "      <div>\n",
              "<style scoped>\n",
              "    .dataframe tbody tr th:only-of-type {\n",
              "        vertical-align: middle;\n",
              "    }\n",
              "\n",
              "    .dataframe tbody tr th {\n",
              "        vertical-align: top;\n",
              "    }\n",
              "\n",
              "    .dataframe thead th {\n",
              "        text-align: right;\n",
              "    }\n",
              "</style>\n",
              "<table border=\"1\" class=\"dataframe\">\n",
              "  <thead>\n",
              "    <tr style=\"text-align: right;\">\n",
              "      <th></th>\n",
              "      <th>price</th>\n",
              "      <th>area</th>\n",
              "      <th>bedrooms</th>\n",
              "      <th>bathrooms</th>\n",
              "      <th>stories</th>\n",
              "      <th>parking</th>\n",
              "    </tr>\n",
              "  </thead>\n",
              "  <tbody>\n",
              "    <tr>\n",
              "      <th>542</th>\n",
              "      <td>1750000</td>\n",
              "      <td>3620</td>\n",
              "      <td>2</td>\n",
              "      <td>1</td>\n",
              "      <td>1</td>\n",
              "      <td>0</td>\n",
              "    </tr>\n",
              "    <tr>\n",
              "      <th>496</th>\n",
              "      <td>2695000</td>\n",
              "      <td>4000</td>\n",
              "      <td>2</td>\n",
              "      <td>1</td>\n",
              "      <td>1</td>\n",
              "      <td>0</td>\n",
              "    </tr>\n",
              "    <tr>\n",
              "      <th>484</th>\n",
              "      <td>2870000</td>\n",
              "      <td>3040</td>\n",
              "      <td>2</td>\n",
              "      <td>1</td>\n",
              "      <td>1</td>\n",
              "      <td>0</td>\n",
              "    </tr>\n",
              "    <tr>\n",
              "      <th>507</th>\n",
              "      <td>2590000</td>\n",
              "      <td>3600</td>\n",
              "      <td>2</td>\n",
              "      <td>1</td>\n",
              "      <td>1</td>\n",
              "      <td>0</td>\n",
              "    </tr>\n",
              "    <tr>\n",
              "      <th>252</th>\n",
              "      <td>4515000</td>\n",
              "      <td>9860</td>\n",
              "      <td>3</td>\n",
              "      <td>1</td>\n",
              "      <td>1</td>\n",
              "      <td>0</td>\n",
              "    </tr>\n",
              "  </tbody>\n",
              "</table>\n",
              "</div>\n",
              "      <button class=\"colab-df-convert\" onclick=\"convertToInteractive('df-c74dba90-fcdb-456d-ac32-a7d76e2ce711')\"\n",
              "              title=\"Convert this dataframe to an interactive table.\"\n",
              "              style=\"display:none;\">\n",
              "        \n",
              "  <svg xmlns=\"http://www.w3.org/2000/svg\" height=\"24px\"viewBox=\"0 0 24 24\"\n",
              "       width=\"24px\">\n",
              "    <path d=\"M0 0h24v24H0V0z\" fill=\"none\"/>\n",
              "    <path d=\"M18.56 5.44l.94 2.06.94-2.06 2.06-.94-2.06-.94-.94-2.06-.94 2.06-2.06.94zm-11 1L8.5 8.5l.94-2.06 2.06-.94-2.06-.94L8.5 2.5l-.94 2.06-2.06.94zm10 10l.94 2.06.94-2.06 2.06-.94-2.06-.94-.94-2.06-.94 2.06-2.06.94z\"/><path d=\"M17.41 7.96l-1.37-1.37c-.4-.4-.92-.59-1.43-.59-.52 0-1.04.2-1.43.59L10.3 9.45l-7.72 7.72c-.78.78-.78 2.05 0 2.83L4 21.41c.39.39.9.59 1.41.59.51 0 1.02-.2 1.41-.59l7.78-7.78 2.81-2.81c.8-.78.8-2.07 0-2.86zM5.41 20L4 18.59l7.72-7.72 1.47 1.35L5.41 20z\"/>\n",
              "  </svg>\n",
              "      </button>\n",
              "      \n",
              "  <style>\n",
              "    .colab-df-container {\n",
              "      display:flex;\n",
              "      flex-wrap:wrap;\n",
              "      gap: 12px;\n",
              "    }\n",
              "\n",
              "    .colab-df-convert {\n",
              "      background-color: #E8F0FE;\n",
              "      border: none;\n",
              "      border-radius: 50%;\n",
              "      cursor: pointer;\n",
              "      display: none;\n",
              "      fill: #1967D2;\n",
              "      height: 32px;\n",
              "      padding: 0 0 0 0;\n",
              "      width: 32px;\n",
              "    }\n",
              "\n",
              "    .colab-df-convert:hover {\n",
              "      background-color: #E2EBFA;\n",
              "      box-shadow: 0px 1px 2px rgba(60, 64, 67, 0.3), 0px 1px 3px 1px rgba(60, 64, 67, 0.15);\n",
              "      fill: #174EA6;\n",
              "    }\n",
              "\n",
              "    [theme=dark] .colab-df-convert {\n",
              "      background-color: #3B4455;\n",
              "      fill: #D2E3FC;\n",
              "    }\n",
              "\n",
              "    [theme=dark] .colab-df-convert:hover {\n",
              "      background-color: #434B5C;\n",
              "      box-shadow: 0px 1px 3px 1px rgba(0, 0, 0, 0.15);\n",
              "      filter: drop-shadow(0px 1px 2px rgba(0, 0, 0, 0.3));\n",
              "      fill: #FFFFFF;\n",
              "    }\n",
              "  </style>\n",
              "\n",
              "      <script>\n",
              "        const buttonEl =\n",
              "          document.querySelector('#df-c74dba90-fcdb-456d-ac32-a7d76e2ce711 button.colab-df-convert');\n",
              "        buttonEl.style.display =\n",
              "          google.colab.kernel.accessAllowed ? 'block' : 'none';\n",
              "\n",
              "        async function convertToInteractive(key) {\n",
              "          const element = document.querySelector('#df-c74dba90-fcdb-456d-ac32-a7d76e2ce711');\n",
              "          const dataTable =\n",
              "            await google.colab.kernel.invokeFunction('convertToInteractive',\n",
              "                                                     [key], {});\n",
              "          if (!dataTable) return;\n",
              "\n",
              "          const docLinkHtml = 'Like what you see? Visit the ' +\n",
              "            '<a target=\"_blank\" href=https://colab.research.google.com/notebooks/data_table.ipynb>data table notebook</a>'\n",
              "            + ' to learn more about interactive tables.';\n",
              "          element.innerHTML = '';\n",
              "          dataTable['output_type'] = 'display_data';\n",
              "          await google.colab.output.renderOutput(dataTable, element);\n",
              "          const docLink = document.createElement('div');\n",
              "          docLink.innerHTML = docLinkHtml;\n",
              "          element.appendChild(docLink);\n",
              "        }\n",
              "      </script>\n",
              "    </div>\n",
              "  </div>\n",
              "  "
            ]
          },
          "metadata": {},
          "execution_count": 828
        }
      ]
    },
    {
      "cell_type": "code",
      "source": [
        "dfTrainA.shape\n"
      ],
      "metadata": {
        "colab": {
          "base_uri": "https://localhost:8080/"
        },
        "id": "qgKzv3RbbAf1",
        "outputId": "3ef4bee9-a528-4ac9-8d9a-2cc822039a07"
      },
      "execution_count": 829,
      "outputs": [
        {
          "output_type": "execute_result",
          "data": {
            "text/plain": [
              "(436, 6)"
            ]
          },
          "metadata": {},
          "execution_count": 829
        }
      ]
    },
    {
      "cell_type": "code",
      "source": [
        "xTrain = dfTrainA.values[:,1:6]\n",
        "xTest = dfTestA.values[:,1:6]\n",
        "\n",
        "yTrain = dfTrainA.values[:,0]\n",
        "yTest = dfTestA.values[:,0]\n",
        "xTrain.shape\n"
      ],
      "metadata": {
        "colab": {
          "base_uri": "https://localhost:8080/"
        },
        "id": "21JwXq7pbEpQ",
        "outputId": "7f48e190-ffed-4aec-a580-ac2c1075d041"
      },
      "execution_count": 830,
      "outputs": [
        {
          "output_type": "execute_result",
          "data": {
            "text/plain": [
              "(436, 5)"
            ]
          },
          "metadata": {},
          "execution_count": 830
        }
      ]
    },
    {
      "cell_type": "code",
      "source": [
        "xTest.shape\n"
      ],
      "metadata": {
        "colab": {
          "base_uri": "https://localhost:8080/"
        },
        "id": "pMaIHrg_bKcn",
        "outputId": "5d2c22dd-4bc4-403b-99ad-837cc9216bbb"
      },
      "execution_count": 831,
      "outputs": [
        {
          "output_type": "execute_result",
          "data": {
            "text/plain": [
              "(109, 5)"
            ]
          },
          "metadata": {},
          "execution_count": 831
        }
      ]
    },
    {
      "cell_type": "code",
      "source": [
        "#1 col of ones\n",
        "x11 = np.ones((436, 1)) \n",
        "x12 = np.ones((109, 1))"
      ],
      "metadata": {
        "id": "VxHcMWF9bNUt"
      },
      "execution_count": 832,
      "outputs": []
    },
    {
      "cell_type": "code",
      "source": [
        "# 1d to 2d\n",
        "x21 = xTrain.reshape(436, 5) \n",
        "x22 = xTest.reshape(109, 5)"
      ],
      "metadata": {
        "id": "N5ZTueoybPq9"
      },
      "execution_count": 833,
      "outputs": []
    },
    {
      "cell_type": "code",
      "source": [
        "xTrainNew = np.hstack((x11, x21))\n",
        "xTestNew = np.hstack((x12, x22))\n",
        "xTrainNew.shape\n"
      ],
      "metadata": {
        "colab": {
          "base_uri": "https://localhost:8080/"
        },
        "id": "b8eaXq-xbSQ0",
        "outputId": "94e294f7-5e3e-4de1-e94b-9753b0995d33"
      },
      "execution_count": 834,
      "outputs": [
        {
          "output_type": "execute_result",
          "data": {
            "text/plain": [
              "(436, 6)"
            ]
          },
          "metadata": {},
          "execution_count": 834
        }
      ]
    },
    {
      "cell_type": "code",
      "source": [
        "iterations = 1000; \n",
        "alpha = 0.000000001;\n",
        "\n",
        "theta = [0., 0., 0., 0., 0., 0.]\n",
        "theta"
      ],
      "metadata": {
        "colab": {
          "base_uri": "https://localhost:8080/"
        },
        "id": "v4AGRdhGbYu9",
        "outputId": "d01c746c-c691-49cd-dfa2-01eb0bbabc0e"
      },
      "execution_count": 835,
      "outputs": [
        {
          "output_type": "execute_result",
          "data": {
            "text/plain": [
              "[0.0, 0.0, 0.0, 0.0, 0.0, 0.0]"
            ]
          },
          "metadata": {},
          "execution_count": 835
        }
      ]
    },
    {
      "cell_type": "code",
      "source": [
        "def compute_cost(X, Y, theta): \n",
        "    predictions = X.dot(theta) \n",
        "    errors = np.subtract(predictions, Y) \n",
        "    sqrErrors = np.square(errors) \n",
        "    J = 1 / (2 * m) * np.sum(sqrErrors) \n",
        "\n",
        "    return J"
      ],
      "metadata": {
        "id": "R0kci072bbaT"
      },
      "execution_count": 836,
      "outputs": []
    },
    {
      "cell_type": "code",
      "source": [
        "def gradient_descent(X1, X2, Y1 , Y2, theta, alpha, iterations):\n",
        "    costHistoryTrain = np.zeros(iterations) \n",
        "    costHistoryTest = np.zeros(iterations) \n",
        "\n",
        "    for i in range(iterations): \n",
        "        predictions = X1.dot(theta) \n",
        "        errors = np.subtract(predictions, Y1) \n",
        "        sum_delta = (alpha / m) * X1.transpose().dot(errors); \n",
        "        theta = theta - sum_delta; \n",
        "        costHistoryTrain[i] = compute_cost(X1, Y1, theta)   \n",
        "        costHistoryTest[i] = compute_cost(X2, Y2, theta)\n",
        "    return theta, costHistoryTrain, costHistoryTest"
      ],
      "metadata": {
        "id": "V-Etzntzbe7y"
      },
      "execution_count": 837,
      "outputs": []
    },
    {
      "cell_type": "code",
      "source": [
        "theta, costHistoryTrain, costHistoryTest = gradient_descent(xTrainNew, xTestNew, yTrain, yTest, theta, alpha, iterations) \n",
        "print('Final value of theta =', theta) \n",
        "print('costHistoryTrain =', costHistoryTrain[-1], 'costHistoryTest= ', costHistoryTest[-1])\n",
        "\n",
        "# print('costHistoryTest array =')\n",
        "# costHistoryTest"
      ],
      "metadata": {
        "colab": {
          "base_uri": "https://localhost:8080/"
        },
        "id": "nrXKQ7V2bkHy",
        "outputId": "fe90d2af-6aba-4e0a-ce24-7a6559a10cc4"
      },
      "execution_count": 838,
      "outputs": [
        {
          "output_type": "stream",
          "name": "stdout",
          "text": [
            "Final value of theta = [4.16134544e-01 8.61036321e+02 1.49720341e+00 7.88268207e-01\n",
            " 1.19127741e+00 3.85293408e-01]\n",
            "costHistoryTrain = 1363688825124.9084 costHistoryTest=  310132134530.36285\n"
          ]
        }
      ]
    },
    {
      "cell_type": "code",
      "source": [
        "plt.plot(costHistoryTrain, label = \"Training data\")\n",
        "plt.plot(costHistoryTest, label = \"Testing data\")"
      ],
      "metadata": {
        "colab": {
          "base_uri": "https://localhost:8080/",
          "height": 294
        },
        "id": "gmiX2Wujbr35",
        "outputId": "f4e772d7-6c37-424f-bf53-13fa6e443efc"
      },
      "execution_count": 839,
      "outputs": [
        {
          "output_type": "execute_result",
          "data": {
            "text/plain": [
              "[<matplotlib.lines.Line2D at 0x7f0f3e053d90>]"
            ]
          },
          "metadata": {},
          "execution_count": 839
        },
        {
          "output_type": "display_data",
          "data": {
            "text/plain": [
              "<Figure size 432x288 with 1 Axes>"
            ],
            "image/png": "[encoded data removed]"
          },
          "metadata": {
            "needs_background": "light"
          }
        }
      ]
    },
    {
      "cell_type": "code",
      "source": [
        "print(\"Final Theta - \")\n",
        "print(theta)"
      ],
      "metadata": {
        "colab": {
          "base_uri": "https://localhost:8080/"
        },
        "id": "LZ2f18Ou-YHM",
        "outputId": "f2d3f3f7-f997-4050-db42-2479616c7c0f"
      },
      "execution_count": 840,
      "outputs": [
        {
          "output_type": "stream",
          "name": "stdout",
          "text": [
            "Final Theta - \n",
            "[4.16134544e-01 8.61036321e+02 1.49720341e+00 7.88268207e-01\n",
            " 1.19127741e+00 3.85293408e-01]\n"
          ]
        }
      ]
    },
    {
      "cell_type": "markdown",
      "source": [
        "2A Normalizer"
      ],
      "metadata": {
        "id": "VeSw2Dnpx1CE"
      }
    },
    {
      "cell_type": "code",
      "source": [
        "df = pd.DataFrame(pd.read_csv('https://raw.githubusercontent.com/Onkar-Indurkar/Intro-to-ML/main/Housing.csv'))\n",
        "df.head()\n",
        "m = len(df)"
      ],
      "metadata": {
        "id": "7LjpfwaZx2-B"
      },
      "execution_count": 841,
      "outputs": []
    },
    {
      "cell_type": "code",
      "source": [
        "#splitting dataframe into 80% training data & 20% testing data\n",
        "np.random.seed(0)\n",
        "dfTrain, dfTest =train_test_split(df, train_size = 0.8, test_size = 0.2)\n",
        "dfTrain.shape"
      ],
      "metadata": {
        "colab": {
          "base_uri": "https://localhost:8080/"
        },
        "id": "ULpQE8O-x6B5",
        "outputId": "78f71ce6-c98d-4522-af36-16face97ff43"
      },
      "execution_count": 842,
      "outputs": [
        {
          "output_type": "execute_result",
          "data": {
            "text/plain": [
              "(436, 13)"
            ]
          },
          "metadata": {},
          "execution_count": 842
        }
      ]
    },
    {
      "cell_type": "code",
      "source": [
        "list2 = ['price', 'area', 'bedrooms', 'bathrooms', 'stories', 'parking']\n",
        "dfTrainB = dfTrain[list2]\n",
        "dfTestB = dfTest[list2]\n",
        "dfTrainB.head()"
      ],
      "metadata": {
        "colab": {
          "base_uri": "https://localhost:8080/",
          "height": 206
        },
        "id": "aJO7_HJox_It",
        "outputId": "9250f247-697b-4eba-f3a6-2ac16140d3ed"
      },
      "execution_count": 843,
      "outputs": [
        {
          "output_type": "execute_result",
          "data": {
            "text/plain": [
              "       price  area  bedrooms  bathrooms  stories  parking\n",
              "542  1750000  3620         2          1        1        0\n",
              "496  2695000  4000         2          1        1        0\n",
              "484  2870000  3040         2          1        1        0\n",
              "507  2590000  3600         2          1        1        0\n",
              "252  4515000  9860         3          1        1        0"
            ],
            "text/html": [
              "\n",
              "  <div id=\"df-cf73cf59-ac77-4a49-94a2-a2276d067821\">\n",
              "    <div class=\"colab-df-container\">\n",
              "      <div>\n",
              "<style scoped>\n",
              "    .dataframe tbody tr th:only-of-type {\n",
              "        vertical-align: middle;\n",
              "    }\n",
              "\n",
              "    .dataframe tbody tr th {\n",
              "        vertical-align: top;\n",
              "    }\n",
              "\n",
              "    .dataframe thead th {\n",
              "        text-align: right;\n",
              "    }\n",
              "</style>\n",
              "<table border=\"1\" class=\"dataframe\">\n",
              "  <thead>\n",
              "    <tr style=\"text-align: right;\">\n",
              "      <th></th>\n",
              "      <th>price</th>\n",
              "      <th>area</th>\n",
              "      <th>bedrooms</th>\n",
              "      <th>bathrooms</th>\n",
              "      <th>stories</th>\n",
              "      <th>parking</th>\n",
              "    </tr>\n",
              "  </thead>\n",
              "  <tbody>\n",
              "    <tr>\n",
              "      <th>542</th>\n",
              "      <td>1750000</td>\n",
              "      <td>3620</td>\n",
              "      <td>2</td>\n",
              "      <td>1</td>\n",
              "      <td>1</td>\n",
              "      <td>0</td>\n",
              "    </tr>\n",
              "    <tr>\n",
              "      <th>496</th>\n",
              "      <td>2695000</td>\n",
              "      <td>4000</td>\n",
              "      <td>2</td>\n",
              "      <td>1</td>\n",
              "      <td>1</td>\n",
              "      <td>0</td>\n",
              "    </tr>\n",
              "    <tr>\n",
              "      <th>484</th>\n",
              "      <td>2870000</td>\n",
              "      <td>3040</td>\n",
              "      <td>2</td>\n",
              "      <td>1</td>\n",
              "      <td>1</td>\n",
              "      <td>0</td>\n",
              "    </tr>\n",
              "    <tr>\n",
              "      <th>507</th>\n",
              "      <td>2590000</td>\n",
              "      <td>3600</td>\n",
              "      <td>2</td>\n",
              "      <td>1</td>\n",
              "      <td>1</td>\n",
              "      <td>0</td>\n",
              "    </tr>\n",
              "    <tr>\n",
              "      <th>252</th>\n",
              "      <td>4515000</td>\n",
              "      <td>9860</td>\n",
              "      <td>3</td>\n",
              "      <td>1</td>\n",
              "      <td>1</td>\n",
              "      <td>0</td>\n",
              "    </tr>\n",
              "  </tbody>\n",
              "</table>\n",
              "</div>\n",
              "      <button class=\"colab-df-convert\" onclick=\"convertToInteractive('df-cf73cf59-ac77-4a49-94a2-a2276d067821')\"\n",
              "              title=\"Convert this dataframe to an interactive table.\"\n",
              "              style=\"display:none;\">\n",
              "        \n",
              "  <svg xmlns=\"http://www.w3.org/2000/svg\" height=\"24px\"viewBox=\"0 0 24 24\"\n",
              "       width=\"24px\">\n",
              "    <path d=\"M0 0h24v24H0V0z\" fill=\"none\"/>\n",
              "    <path d=\"M18.56 5.44l.94 2.06.94-2.06 2.06-.94-2.06-.94-.94-2.06-.94 2.06-2.06.94zm-11 1L8.5 8.5l.94-2.06 2.06-.94-2.06-.94L8.5 2.5l-.94 2.06-2.06.94zm10 10l.94 2.06.94-2.06 2.06-.94-2.06-.94-.94-2.06-.94 2.06-2.06.94z\"/><path d=\"M17.41 7.96l-1.37-1.37c-.4-.4-.92-.59-1.43-.59-.52 0-1.04.2-1.43.59L10.3 9.45l-7.72 7.72c-.78.78-.78 2.05 0 2.83L4 21.41c.39.39.9.59 1.41.59.51 0 1.02-.2 1.41-.59l7.78-7.78 2.81-2.81c.8-.78.8-2.07 0-2.86zM5.41 20L4 18.59l7.72-7.72 1.47 1.35L5.41 20z\"/>\n",
              "  </svg>\n",
              "      </button>\n",
              "      \n",
              "  <style>\n",
              "    .colab-df-container {\n",
              "      display:flex;\n",
              "      flex-wrap:wrap;\n",
              "      gap: 12px;\n",
              "    }\n",
              "\n",
              "    .colab-df-convert {\n",
              "      background-color: #E8F0FE;\n",
              "      border: none;\n",
              "      border-radius: 50%;\n",
              "      cursor: pointer;\n",
              "      display: none;\n",
              "      fill: #1967D2;\n",
              "      height: 32px;\n",
              "      padding: 0 0 0 0;\n",
              "      width: 32px;\n",
              "    }\n",
              "\n",
              "    .colab-df-convert:hover {\n",
              "      background-color: #E2EBFA;\n",
              "      box-shadow: 0px 1px 2px rgba(60, 64, 67, 0.3), 0px 1px 3px 1px rgba(60, 64, 67, 0.15);\n",
              "      fill: #174EA6;\n",
              "    }\n",
              "\n",
              "    [theme=dark] .colab-df-convert {\n",
              "      background-color: #3B4455;\n",
              "      fill: #D2E3FC;\n",
              "    }\n",
              "\n",
              "    [theme=dark] .colab-df-convert:hover {\n",
              "      background-color: #434B5C;\n",
              "      box-shadow: 0px 1px 3px 1px rgba(0, 0, 0, 0.15);\n",
              "      filter: drop-shadow(0px 1px 2px rgba(0, 0, 0, 0.3));\n",
              "      fill: #FFFFFF;\n",
              "    }\n",
              "  </style>\n",
              "\n",
              "      <script>\n",
              "        const buttonEl =\n",
              "          document.querySelector('#df-cf73cf59-ac77-4a49-94a2-a2276d067821 button.colab-df-convert');\n",
              "        buttonEl.style.display =\n",
              "          google.colab.kernel.accessAllowed ? 'block' : 'none';\n",
              "\n",
              "        async function convertToInteractive(key) {\n",
              "          const element = document.querySelector('#df-cf73cf59-ac77-4a49-94a2-a2276d067821');\n",
              "          const dataTable =\n",
              "            await google.colab.kernel.invokeFunction('convertToInteractive',\n",
              "                                                     [key], {});\n",
              "          if (!dataTable) return;\n",
              "\n",
              "          const docLinkHtml = 'Like what you see? Visit the ' +\n",
              "            '<a target=\"_blank\" href=https://colab.research.google.com/notebooks/data_table.ipynb>data table notebook</a>'\n",
              "            + ' to learn more about interactive tables.';\n",
              "          element.innerHTML = '';\n",
              "          dataTable['output_type'] = 'display_data';\n",
              "          await google.colab.output.renderOutput(dataTable, element);\n",
              "          const docLink = document.createElement('div');\n",
              "          docLink.innerHTML = docLinkHtml;\n",
              "          element.appendChild(docLink);\n",
              "        }\n",
              "      </script>\n",
              "    </div>\n",
              "  </div>\n",
              "  "
            ]
          },
          "metadata": {},
          "execution_count": 843
        }
      ]
    },
    {
      "cell_type": "code",
      "source": [
        "#from matplotlib.colors import Normalize\n",
        "\n",
        "import warnings\n",
        "warnings. filterwarnings( 'ignore' )\n",
        "from sklearn. preprocessing import MinMaxScaler, StandardScaler, Normalizer\n",
        "\n",
        "#scaler = StandardScaler()  #uncomment when testing standardization\n",
        "scaler = Normalizer()       #uncomment when testing normalization\n",
        "#scaler = MinMaxScaler()     #uncomment when testing Minmaxscaler\n",
        "\n",
        "# dfTrainB[list2] = scaler(dfTrainB[list2]) #for normalize\n",
        "# dfTestB[list2] = scaler(dfTestB[list2])\n",
        "\n",
        "dfTrainB[list2] = scaler.fit_transform(dfTrainB[list2])\n",
        "dfTestB[list2] = scaler.fit_transform(dfTestB[list2])\n",
        "dfTrainB.head(10)"
      ],
      "metadata": {
        "colab": {
          "base_uri": "https://localhost:8080/",
          "height": 363
        },
        "id": "pENW7aU0yDno",
        "outputId": "59a88e31-13dd-4960-f8d1-0a686156a05f"
      },
      "execution_count": 844,
      "outputs": [
        {
          "output_type": "execute_result",
          "data": {
            "text/plain": [
              "        price      area      bedrooms     bathrooms       stories  \\\n",
              "542  0.999998  0.002069  1.142855e-06  5.714273e-07  5.714273e-07   \n",
              "496  0.999999  0.001484  7.421142e-07  3.710571e-07  3.710571e-07   \n",
              "484  0.999999  0.001059  6.968637e-07  3.484319e-07  3.484319e-07   \n",
              "507  0.999999  0.001390  7.722000e-07  3.861000e-07  3.861000e-07   \n",
              "252  0.999998  0.002184  6.644502e-07  2.214834e-07  2.214834e-07   \n",
              "263  1.000000  0.000900  6.802718e-07  2.267573e-07  4.535146e-07   \n",
              "240  1.000000  0.000838  6.543073e-07  2.181024e-07  4.362049e-07   \n",
              "175  0.999998  0.001867  7.619034e-07  3.809517e-07  3.809517e-07   \n",
              "385  0.999999  0.001020  5.602238e-07  2.801119e-07  2.801119e-07   \n",
              "374  1.000000  0.000967  5.494503e-07  5.494503e-07  2.747251e-07   \n",
              "\n",
              "          parking  \n",
              "542  0.000000e+00  \n",
              "496  0.000000e+00  \n",
              "484  0.000000e+00  \n",
              "507  0.000000e+00  \n",
              "252  0.000000e+00  \n",
              "263  0.000000e+00  \n",
              "240  2.181024e-07  \n",
              "175  3.809517e-07  \n",
              "385  0.000000e+00  \n",
              "374  0.000000e+00  "
            ],
            "text/html": [
              "\n",
              "  <div id=\"df-160beac3-eb21-440b-b271-3db36147b6ab\">\n",
              "    <div class=\"colab-df-container\">\n",
              "      <div>\n",
              "<style scoped>\n",
              "    .dataframe tbody tr th:only-of-type {\n",
              "        vertical-align: middle;\n",
              "    }\n",
              "\n",
              "    .dataframe tbody tr th {\n",
              "        vertical-align: top;\n",
              "    }\n",
              "\n",
              "    .dataframe thead th {\n",
              "        text-align: right;\n",
              "    }\n",
              "</style>\n",
              "<table border=\"1\" class=\"dataframe\">\n",
              "  <thead>\n",
              "    <tr style=\"text-align: right;\">\n",
              "      <th></th>\n",
              "      <th>price</th>\n",
              "      <th>area</th>\n",
              "      <th>bedrooms</th>\n",
              "      <th>bathrooms</th>\n",
              "      <th>stories</th>\n",
              "      <th>parking</th>\n",
              "    </tr>\n",
              "  </thead>\n",
              "  <tbody>\n",
              "    <tr>\n",
              "      <th>542</th>\n",
              "      <td>0.999998</td>\n",
              "      <td>0.002069</td>\n",
              "      <td>1.142855e-06</td>\n",
              "      <td>5.714273e-07</td>\n",
              "      <td>5.714273e-07</td>\n",
              "      <td>0.000000e+00</td>\n",
              "    </tr>\n",
              "    <tr>\n",
              "      <th>496</th>\n",
              "      <td>0.999999</td>\n",
              "      <td>0.001484</td>\n",
              "      <td>7.421142e-07</td>\n",
              "      <td>3.710571e-07</td>\n",
              "      <td>3.710571e-07</td>\n",
              "      <td>0.000000e+00</td>\n",
              "    </tr>\n",
              "    <tr>\n",
              "      <th>484</th>\n",
              "      <td>0.999999</td>\n",
              "      <td>0.001059</td>\n",
              "      <td>6.968637e-07</td>\n",
              "      <td>3.484319e-07</td>\n",
              "      <td>3.484319e-07</td>\n",
              "      <td>0.000000e+00</td>\n",
              "    </tr>\n",
              "    <tr>\n",
              "      <th>507</th>\n",
              "      <td>0.999999</td>\n",
              "      <td>0.001390</td>\n",
              "      <td>7.722000e-07</td>\n",
              "      <td>3.861000e-07</td>\n",
              "      <td>3.861000e-07</td>\n",
              "      <td>0.000000e+00</td>\n",
              "    </tr>\n",
              "    <tr>\n",
              "      <th>252</th>\n",
              "      <td>0.999998</td>\n",
              "      <td>0.002184</td>\n",
              "      <td>6.644502e-07</td>\n",
              "      <td>2.214834e-07</td>\n",
              "      <td>2.214834e-07</td>\n",
              "      <td>0.000000e+00</td>\n",
              "    </tr>\n",
              "    <tr>\n",
              "      <th>263</th>\n",
              "      <td>1.000000</td>\n",
              "      <td>0.000900</td>\n",
              "      <td>6.802718e-07</td>\n",
              "      <td>2.267573e-07</td>\n",
              "      <td>4.535146e-07</td>\n",
              "      <td>0.000000e+00</td>\n",
              "    </tr>\n",
              "    <tr>\n",
              "      <th>240</th>\n",
              "      <td>1.000000</td>\n",
              "      <td>0.000838</td>\n",
              "      <td>6.543073e-07</td>\n",
              "      <td>2.181024e-07</td>\n",
              "      <td>4.362049e-07</td>\n",
              "      <td>2.181024e-07</td>\n",
              "    </tr>\n",
              "    <tr>\n",
              "      <th>175</th>\n",
              "      <td>0.999998</td>\n",
              "      <td>0.001867</td>\n",
              "      <td>7.619034e-07</td>\n",
              "      <td>3.809517e-07</td>\n",
              "      <td>3.809517e-07</td>\n",
              "      <td>3.809517e-07</td>\n",
              "    </tr>\n",
              "    <tr>\n",
              "      <th>385</th>\n",
              "      <td>0.999999</td>\n",
              "      <td>0.001020</td>\n",
              "      <td>5.602238e-07</td>\n",
              "      <td>2.801119e-07</td>\n",
              "      <td>2.801119e-07</td>\n",
              "      <td>0.000000e+00</td>\n",
              "    </tr>\n",
              "    <tr>\n",
              "      <th>374</th>\n",
              "      <td>1.000000</td>\n",
              "      <td>0.000967</td>\n",
              "      <td>5.494503e-07</td>\n",
              "      <td>5.494503e-07</td>\n",
              "      <td>2.747251e-07</td>\n",
              "      <td>0.000000e+00</td>\n",
              "    </tr>\n",
              "  </tbody>\n",
              "</table>\n",
              "</div>\n",
              "      <button class=\"colab-df-convert\" onclick=\"convertToInteractive('df-160beac3-eb21-440b-b271-3db36147b6ab')\"\n",
              "              title=\"Convert this dataframe to an interactive table.\"\n",
              "              style=\"display:none;\">\n",
              "        \n",
              "  <svg xmlns=\"http://www.w3.org/2000/svg\" height=\"24px\"viewBox=\"0 0 24 24\"\n",
              "       width=\"24px\">\n",
              "    <path d=\"M0 0h24v24H0V0z\" fill=\"none\"/>\n",
              "    <path d=\"M18.56 5.44l.94 2.06.94-2.06 2.06-.94-2.06-.94-.94-2.06-.94 2.06-2.06.94zm-11 1L8.5 8.5l.94-2.06 2.06-.94-2.06-.94L8.5 2.5l-.94 2.06-2.06.94zm10 10l.94 2.06.94-2.06 2.06-.94-2.06-.94-.94-2.06-.94 2.06-2.06.94z\"/><path d=\"M17.41 7.96l-1.37-1.37c-.4-.4-.92-.59-1.43-.59-.52 0-1.04.2-1.43.59L10.3 9.45l-7.72 7.72c-.78.78-.78 2.05 0 2.83L4 21.41c.39.39.9.59 1.41.59.51 0 1.02-.2 1.41-.59l7.78-7.78 2.81-2.81c.8-.78.8-2.07 0-2.86zM5.41 20L4 18.59l7.72-7.72 1.47 1.35L5.41 20z\"/>\n",
              "  </svg>\n",
              "      </button>\n",
              "      \n",
              "  <style>\n",
              "    .colab-df-container {\n",
              "      display:flex;\n",
              "      flex-wrap:wrap;\n",
              "      gap: 12px;\n",
              "    }\n",
              "\n",
              "    .colab-df-convert {\n",
              "      background-color: #E8F0FE;\n",
              "      border: none;\n",
              "      border-radius: 50%;\n",
              "      cursor: pointer;\n",
              "      display: none;\n",
              "      fill: #1967D2;\n",
              "      height: 32px;\n",
              "      padding: 0 0 0 0;\n",
              "      width: 32px;\n",
              "    }\n",
              "\n",
              "    .colab-df-convert:hover {\n",
              "      background-color: #E2EBFA;\n",
              "      box-shadow: 0px 1px 2px rgba(60, 64, 67, 0.3), 0px 1px 3px 1px rgba(60, 64, 67, 0.15);\n",
              "      fill: #174EA6;\n",
              "    }\n",
              "\n",
              "    [theme=dark] .colab-df-convert {\n",
              "      background-color: #3B4455;\n",
              "      fill: #D2E3FC;\n",
              "    }\n",
              "\n",
              "    [theme=dark] .colab-df-convert:hover {\n",
              "      background-color: #434B5C;\n",
              "      box-shadow: 0px 1px 3px 1px rgba(0, 0, 0, 0.15);\n",
              "      filter: drop-shadow(0px 1px 2px rgba(0, 0, 0, 0.3));\n",
              "      fill: #FFFFFF;\n",
              "    }\n",
              "  </style>\n",
              "\n",
              "      <script>\n",
              "        const buttonEl =\n",
              "          document.querySelector('#df-160beac3-eb21-440b-b271-3db36147b6ab button.colab-df-convert');\n",
              "        buttonEl.style.display =\n",
              "          google.colab.kernel.accessAllowed ? 'block' : 'none';\n",
              "\n",
              "        async function convertToInteractive(key) {\n",
              "          const element = document.querySelector('#df-160beac3-eb21-440b-b271-3db36147b6ab');\n",
              "          const dataTable =\n",
              "            await google.colab.kernel.invokeFunction('convertToInteractive',\n",
              "                                                     [key], {});\n",
              "          if (!dataTable) return;\n",
              "\n",
              "          const docLinkHtml = 'Like what you see? Visit the ' +\n",
              "            '<a target=\"_blank\" href=https://colab.research.google.com/notebooks/data_table.ipynb>data table notebook</a>'\n",
              "            + ' to learn more about interactive tables.';\n",
              "          element.innerHTML = '';\n",
              "          dataTable['output_type'] = 'display_data';\n",
              "          await google.colab.output.renderOutput(dataTable, element);\n",
              "          const docLink = document.createElement('div');\n",
              "          docLink.innerHTML = docLinkHtml;\n",
              "          element.appendChild(docLink);\n",
              "        }\n",
              "      </script>\n",
              "    </div>\n",
              "  </div>\n",
              "  "
            ]
          },
          "metadata": {},
          "execution_count": 844
        }
      ]
    },
    {
      "cell_type": "code",
      "source": [
        "xTrain2 = dfTrainB.values[:,1:6]\n",
        "xTest2 = dfTestB.values[:,1:6]\n",
        "\n",
        "yTrain2 = dfTrainB.values[:,0]\n",
        "yTest2 = dfTestB.values[:,0]\n",
        "xTrain2.shape"
      ],
      "metadata": {
        "colab": {
          "base_uri": "https://localhost:8080/"
        },
        "id": "7XX88TG4yqbO",
        "outputId": "78d23c47-e524-4da0-b31e-14ec2edc6b9a"
      },
      "execution_count": 845,
      "outputs": [
        {
          "output_type": "execute_result",
          "data": {
            "text/plain": [
              "(436, 5)"
            ]
          },
          "metadata": {},
          "execution_count": 845
        }
      ]
    },
    {
      "cell_type": "code",
      "source": [
        "#matrix - 1col of ones \n",
        "x31 = np.ones((436, 1)) \n",
        "x32 = np.ones((109, 1))"
      ],
      "metadata": {
        "id": "zUsYy3kszRXL"
      },
      "execution_count": 846,
      "outputs": []
    },
    {
      "cell_type": "code",
      "source": [
        "# 1d to 2d\n",
        "x41 = xTrain2.reshape(436, 5) \n",
        "x42 = xTest2.reshape(109, 5)"
      ],
      "metadata": {
        "id": "L3pgIWsfzdxd"
      },
      "execution_count": 847,
      "outputs": []
    },
    {
      "cell_type": "code",
      "source": [
        "xTrainNew2 = np.hstack((x31, x41))\n",
        "xTestNew2 = np.hstack((x32, x42))\n",
        "xTrainNew2.shape"
      ],
      "metadata": {
        "colab": {
          "base_uri": "https://localhost:8080/"
        },
        "id": "ILdOMmJd0FZY",
        "outputId": "6db5a4f8-d3a9-4637-fd50-4562c9f14fc4"
      },
      "execution_count": 848,
      "outputs": [
        {
          "output_type": "execute_result",
          "data": {
            "text/plain": [
              "(436, 6)"
            ]
          },
          "metadata": {},
          "execution_count": 848
        }
      ]
    },
    {
      "cell_type": "code",
      "source": [
        "iterations = 1000; \n",
        "alpha = 0.01;\n",
        "\n",
        "theta = [0., 0., 0., 0., 0., 0.]\n",
        "theta"
      ],
      "metadata": {
        "colab": {
          "base_uri": "https://localhost:8080/"
        },
        "id": "_barX_Sm0SkE",
        "outputId": "fe238b7a-1002-4ca6-dd04-f29fde7d0a71"
      },
      "execution_count": 849,
      "outputs": [
        {
          "output_type": "execute_result",
          "data": {
            "text/plain": [
              "[0.0, 0.0, 0.0, 0.0, 0.0, 0.0]"
            ]
          },
          "metadata": {},
          "execution_count": 849
        }
      ]
    },
    {
      "cell_type": "code",
      "source": [
        "def compute_cost(X, Y, theta): \n",
        "    predictions = X.dot(theta) \n",
        "    errors = np.subtract(predictions, Y) \n",
        "    sqrErrors = np.square(errors) \n",
        "    J = 1 / (2 * m) * np.sum(sqrErrors) \n",
        "\n",
        "    return J"
      ],
      "metadata": {
        "id": "9kr6MyBj0mwB"
      },
      "execution_count": 850,
      "outputs": []
    },
    {
      "cell_type": "code",
      "source": [
        "def gradient_descent(X1, X2, Y1 , Y2, theta, alpha, iterations):\n",
        "    costHistoryTrain = np.zeros(iterations) \n",
        "    costHistoryTest = np.zeros(iterations) \n",
        "\n",
        "    for i in range(iterations): \n",
        "        predictions = X1.dot(theta) \n",
        "        errors = np.subtract(predictions, Y1) \n",
        "        sum_delta = (alpha / m) * X1.transpose().dot(errors); \n",
        "        theta = theta - sum_delta; \n",
        "        costHistoryTrain[i] = compute_cost(X1, Y1, theta)   \n",
        "        costHistoryTest[i] = compute_cost(X2, Y2, theta)\n",
        "    return theta, costHistoryTrain, costHistoryTest"
      ],
      "metadata": {
        "id": "DzyB0ZIu0v5J"
      },
      "execution_count": 851,
      "outputs": []
    },
    {
      "cell_type": "code",
      "source": [
        "theta, costHistoryTrain, costHistoryTest = gradient_descent(xTrainNew2, xTestNew2, yTrain2, yTest2, theta, alpha, iterations) \n",
        "print('Final value of theta =', theta) \n",
        "print('costHistoryTrain =', costHistoryTrain[-1], 'costHistoryTest= ', costHistoryTest[-1])"
      ],
      "metadata": {
        "colab": {
          "base_uri": "https://localhost:8080/"
        },
        "id": "-E-3OvRs09-O",
        "outputId": "d2677f66-5871-4fce-9777-676a8f51fbb7"
      },
      "execution_count": 852,
      "outputs": [
        {
          "output_type": "stream",
          "name": "stdout",
          "text": [
            "Final value of theta = [9.99673091e-01 1.14635808e-03 6.88542215e-07 2.90254116e-07\n",
            " 4.07258102e-07 1.45736036e-07]\n",
            "costHistoryTrain = 4.220853601404382e-08 costHistoryTest=  1.0557385942524042e-08\n"
          ]
        }
      ]
    },
    {
      "cell_type": "code",
      "source": [
        "plt.plot(costHistoryTrain, label = \"Training data\")\n",
        "plt.plot(costHistoryTest, label = \"Testing data\")"
      ],
      "metadata": {
        "colab": {
          "base_uri": "https://localhost:8080/",
          "height": 283
        },
        "id": "v7HJVe_F1yJS",
        "outputId": "dfb0f17c-7faa-436f-ee25-f29d21385629"
      },
      "execution_count": 853,
      "outputs": [
        {
          "output_type": "execute_result",
          "data": {
            "text/plain": [
              "[<matplotlib.lines.Line2D at 0x7f0f3ddcbb50>]"
            ]
          },
          "metadata": {},
          "execution_count": 853
        },
        {
          "output_type": "display_data",
          "data": {
            "text/plain": [
              "<Figure size 432x288 with 1 Axes>"
            ],
            "image/png": "[encoded data removed]"
          },
          "metadata": {
            "needs_background": "light"
          }
        }
      ]
    },
    {
      "cell_type": "code",
      "source": [
        "print(\"Final Theta - \")\n",
        "print(theta)"
      ],
      "metadata": {
        "colab": {
          "base_uri": "https://localhost:8080/"
        },
        "id": "gPHYF_S9-WgE",
        "outputId": "4ca80f9f-f8af-4185-ab9b-22ea0a075d32"
      },
      "execution_count": 854,
      "outputs": [
        {
          "output_type": "stream",
          "name": "stdout",
          "text": [
            "Final Theta - \n",
            "[9.99673091e-01 1.14635808e-03 6.88542215e-07 2.90254116e-07\n",
            " 4.07258102e-07 1.45736036e-07]\n"
          ]
        }
      ]
    },
    {
      "cell_type": "markdown",
      "source": [
        "2A Standardizer"
      ],
      "metadata": {
        "id": "9SY6XWFMmHUx"
      }
    },
    {
      "cell_type": "code",
      "source": [
        "df = pd.DataFrame(pd.read_csv('https://raw.githubusercontent.com/Onkar-Indurkar/Intro-to-ML/main/Housing.csv'))\n",
        "df.head()\n",
        "m = len(df)"
      ],
      "metadata": {
        "id": "uyLoS2ENmG6K"
      },
      "execution_count": 855,
      "outputs": []
    },
    {
      "cell_type": "code",
      "source": [
        "#splitting dataframe into 80% training data & 20% testing data\n",
        "np.random.seed(0)\n",
        "dfTrain, dfTest =train_test_split(df, train_size = 0.8, test_size = 0.2)\n",
        "dfTrain.shape"
      ],
      "metadata": {
        "colab": {
          "base_uri": "https://localhost:8080/"
        },
        "id": "Bj63Iw0xmSy2",
        "outputId": "79323ef6-d09a-42db-a935-89d38dcf4043"
      },
      "execution_count": 856,
      "outputs": [
        {
          "output_type": "execute_result",
          "data": {
            "text/plain": [
              "(436, 13)"
            ]
          },
          "metadata": {},
          "execution_count": 856
        }
      ]
    },
    {
      "cell_type": "code",
      "source": [
        "list2 = ['price', 'area', 'bedrooms', 'bathrooms', 'stories', 'parking']\n",
        "dfTrainB = dfTrain[list2]\n",
        "dfTestB = dfTest[list2]\n",
        "dfTrainB.head()"
      ],
      "metadata": {
        "colab": {
          "base_uri": "https://localhost:8080/",
          "height": 206
        },
        "id": "uInKyVw7mWVt",
        "outputId": "fbe34214-bfc2-4700-affa-3268a57c6e61"
      },
      "execution_count": 857,
      "outputs": [
        {
          "output_type": "execute_result",
          "data": {
            "text/plain": [
              "       price  area  bedrooms  bathrooms  stories  parking\n",
              "542  1750000  3620         2          1        1        0\n",
              "496  2695000  4000         2          1        1        0\n",
              "484  2870000  3040         2          1        1        0\n",
              "507  2590000  3600         2          1        1        0\n",
              "252  4515000  9860         3          1        1        0"
            ],
            "text/html": [
              "\n",
              "  <div id=\"df-57847d53-f1a3-4099-b5b9-a6d8f46ee416\">\n",
              "    <div class=\"colab-df-container\">\n",
              "      <div>\n",
              "<style scoped>\n",
              "    .dataframe tbody tr th:only-of-type {\n",
              "        vertical-align: middle;\n",
              "    }\n",
              "\n",
              "    .dataframe tbody tr th {\n",
              "        vertical-align: top;\n",
              "    }\n",
              "\n",
              "    .dataframe thead th {\n",
              "        text-align: right;\n",
              "    }\n",
              "</style>\n",
              "<table border=\"1\" class=\"dataframe\">\n",
              "  <thead>\n",
              "    <tr style=\"text-align: right;\">\n",
              "      <th></th>\n",
              "      <th>price</th>\n",
              "      <th>area</th>\n",
              "      <th>bedrooms</th>\n",
              "      <th>bathrooms</th>\n",
              "      <th>stories</th>\n",
              "      <th>parking</th>\n",
              "    </tr>\n",
              "  </thead>\n",
              "  <tbody>\n",
              "    <tr>\n",
              "      <th>542</th>\n",
              "      <td>1750000</td>\n",
              "      <td>3620</td>\n",
              "      <td>2</td>\n",
              "      <td>1</td>\n",
              "      <td>1</td>\n",
              "      <td>0</td>\n",
              "    </tr>\n",
              "    <tr>\n",
              "      <th>496</th>\n",
              "      <td>2695000</td>\n",
              "      <td>4000</td>\n",
              "      <td>2</td>\n",
              "      <td>1</td>\n",
              "      <td>1</td>\n",
              "      <td>0</td>\n",
              "    </tr>\n",
              "    <tr>\n",
              "      <th>484</th>\n",
              "      <td>2870000</td>\n",
              "      <td>3040</td>\n",
              "      <td>2</td>\n",
              "      <td>1</td>\n",
              "      <td>1</td>\n",
              "      <td>0</td>\n",
              "    </tr>\n",
              "    <tr>\n",
              "      <th>507</th>\n",
              "      <td>2590000</td>\n",
              "      <td>3600</td>\n",
              "      <td>2</td>\n",
              "      <td>1</td>\n",
              "      <td>1</td>\n",
              "      <td>0</td>\n",
              "    </tr>\n",
              "    <tr>\n",
              "      <th>252</th>\n",
              "      <td>4515000</td>\n",
              "      <td>9860</td>\n",
              "      <td>3</td>\n",
              "      <td>1</td>\n",
              "      <td>1</td>\n",
              "      <td>0</td>\n",
              "    </tr>\n",
              "  </tbody>\n",
              "</table>\n",
              "</div>\n",
              "      <button class=\"colab-df-convert\" onclick=\"convertToInteractive('df-57847d53-f1a3-4099-b5b9-a6d8f46ee416')\"\n",
              "              title=\"Convert this dataframe to an interactive table.\"\n",
              "              style=\"display:none;\">\n",
              "        \n",
              "  <svg xmlns=\"http://www.w3.org/2000/svg\" height=\"24px\"viewBox=\"0 0 24 24\"\n",
              "       width=\"24px\">\n",
              "    <path d=\"M0 0h24v24H0V0z\" fill=\"none\"/>\n",
              "    <path d=\"M18.56 5.44l.94 2.06.94-2.06 2.06-.94-2.06-.94-.94-2.06-.94 2.06-2.06.94zm-11 1L8.5 8.5l.94-2.06 2.06-.94-2.06-.94L8.5 2.5l-.94 2.06-2.06.94zm10 10l.94 2.06.94-2.06 2.06-.94-2.06-.94-.94-2.06-.94 2.06-2.06.94z\"/><path d=\"M17.41 7.96l-1.37-1.37c-.4-.4-.92-.59-1.43-.59-.52 0-1.04.2-1.43.59L10.3 9.45l-7.72 7.72c-.78.78-.78 2.05 0 2.83L4 21.41c.39.39.9.59 1.41.59.51 0 1.02-.2 1.41-.59l7.78-7.78 2.81-2.81c.8-.78.8-2.07 0-2.86zM5.41 20L4 18.59l7.72-7.72 1.47 1.35L5.41 20z\"/>\n",
              "  </svg>\n",
              "      </button>\n",
              "      \n",
              "  <style>\n",
              "    .colab-df-container {\n",
              "      display:flex;\n",
              "      flex-wrap:wrap;\n",
              "      gap: 12px;\n",
              "    }\n",
              "\n",
              "    .colab-df-convert {\n",
              "      background-color: #E8F0FE;\n",
              "      border: none;\n",
              "      border-radius: 50%;\n",
              "      cursor: pointer;\n",
              "      display: none;\n",
              "      fill: #1967D2;\n",
              "      height: 32px;\n",
              "      padding: 0 0 0 0;\n",
              "      width: 32px;\n",
              "    }\n",
              "\n",
              "    .colab-df-convert:hover {\n",
              "      background-color: #E2EBFA;\n",
              "      box-shadow: 0px 1px 2px rgba(60, 64, 67, 0.3), 0px 1px 3px 1px rgba(60, 64, 67, 0.15);\n",
              "      fill: #174EA6;\n",
              "    }\n",
              "\n",
              "    [theme=dark] .colab-df-convert {\n",
              "      background-color: #3B4455;\n",
              "      fill: #D2E3FC;\n",
              "    }\n",
              "\n",
              "    [theme=dark] .colab-df-convert:hover {\n",
              "      background-color: #434B5C;\n",
              "      box-shadow: 0px 1px 3px 1px rgba(0, 0, 0, 0.15);\n",
              "      filter: drop-shadow(0px 1px 2px rgba(0, 0, 0, 0.3));\n",
              "      fill: #FFFFFF;\n",
              "    }\n",
              "  </style>\n",
              "\n",
              "      <script>\n",
              "        const buttonEl =\n",
              "          document.querySelector('#df-57847d53-f1a3-4099-b5b9-a6d8f46ee416 button.colab-df-convert');\n",
              "        buttonEl.style.display =\n",
              "          google.colab.kernel.accessAllowed ? 'block' : 'none';\n",
              "\n",
              "        async function convertToInteractive(key) {\n",
              "          const element = document.querySelector('#df-57847d53-f1a3-4099-b5b9-a6d8f46ee416');\n",
              "          const dataTable =\n",
              "            await google.colab.kernel.invokeFunction('convertToInteractive',\n",
              "                                                     [key], {});\n",
              "          if (!dataTable) return;\n",
              "\n",
              "          const docLinkHtml = 'Like what you see? Visit the ' +\n",
              "            '<a target=\"_blank\" href=https://colab.research.google.com/notebooks/data_table.ipynb>data table notebook</a>'\n",
              "            + ' to learn more about interactive tables.';\n",
              "          element.innerHTML = '';\n",
              "          dataTable['output_type'] = 'display_data';\n",
              "          await google.colab.output.renderOutput(dataTable, element);\n",
              "          const docLink = document.createElement('div');\n",
              "          docLink.innerHTML = docLinkHtml;\n",
              "          element.appendChild(docLink);\n",
              "        }\n",
              "      </script>\n",
              "    </div>\n",
              "  </div>\n",
              "  "
            ]
          },
          "metadata": {},
          "execution_count": 857
        }
      ]
    },
    {
      "cell_type": "code",
      "source": [
        "#from matplotlib.colors import Normalize\n",
        "\n",
        "import warnings\n",
        "warnings. filterwarnings( 'ignore' )\n",
        "from sklearn. preprocessing import MinMaxScaler, StandardScaler, Normalizer\n",
        "\n",
        "scaler = StandardScaler()   #uncomment when testing standardization\n",
        "#scaler = Normalizer()       #uncomment when testing normalization\n",
        "#scaler = MinMaxScaler()      #uncomment when testing Minmax \n",
        "\n",
        "# dfTrainB[list2] = scaler(dfTrainB[list2]) #for normalize\n",
        "# dfTestB[list2] = scaler(dfTestB[list2])\n",
        "\n",
        "dfTrainB[list2] = scaler.fit_transform(dfTrainB[list2])\n",
        "dfTestB[list2] = scaler.fit_transform(dfTestB[list2])\n",
        "dfTrainB.head(10)"
      ],
      "metadata": {
        "colab": {
          "base_uri": "https://localhost:8080/",
          "height": 363
        },
        "id": "qhl6S67nmZk_",
        "outputId": "cded8b4a-7fa2-4944-baa3-81b674d2f777"
      },
      "execution_count": 858,
      "outputs": [
        {
          "output_type": "execute_result",
          "data": {
            "text/plain": [
              "        price      area  bedrooms  bathrooms   stories   parking\n",
              "542 -1.586001 -0.716772 -1.294376  -0.573307 -0.933142 -0.819149\n",
              "496 -1.090971 -0.538936 -1.294376  -0.573307 -0.933142 -0.819149\n",
              "484 -0.999299 -0.988206 -1.294376  -0.573307 -0.933142 -0.819149\n",
              "507 -1.145974 -0.726132 -1.294376  -0.573307 -0.933142 -0.819149\n",
              "252 -0.137579  2.203478  0.052516  -0.573307 -0.933142 -0.819149\n",
              "263 -0.192583 -0.553912  0.052516  -0.573307  0.212914 -0.819149\n",
              "240 -0.100910 -0.613815  0.052516  -0.573307  0.212914  0.325559\n",
              "175  0.247444  2.175399  1.399408   1.475561  0.212914  1.470267\n",
              "385 -0.632610 -0.707412 -1.294376  -0.573307 -0.933142 -0.819149\n",
              "374 -0.595941 -0.763571 -1.294376   1.475561 -0.933142 -0.819149"
            ],
            "text/html": [
              "\n",
              "  <div id=\"df-d4974194-349d-4e70-8252-4f3d137dacc4\">\n",
              "    <div class=\"colab-df-container\">\n",
              "      <div>\n",
              "<style scoped>\n",
              "    .dataframe tbody tr th:only-of-type {\n",
              "        vertical-align: middle;\n",
              "    }\n",
              "\n",
              "    .dataframe tbody tr th {\n",
              "        vertical-align: top;\n",
              "    }\n",
              "\n",
              "    .dataframe thead th {\n",
              "        text-align: right;\n",
              "    }\n",
              "</style>\n",
              "<table border=\"1\" class=\"dataframe\">\n",
              "  <thead>\n",
              "    <tr style=\"text-align: right;\">\n",
              "      <th></th>\n",
              "      <th>price</th>\n",
              "      <th>area</th>\n",
              "      <th>bedrooms</th>\n",
              "      <th>bathrooms</th>\n",
              "      <th>stories</th>\n",
              "      <th>parking</th>\n",
              "    </tr>\n",
              "  </thead>\n",
              "  <tbody>\n",
              "    <tr>\n",
              "      <th>542</th>\n",
              "      <td>-1.586001</td>\n",
              "      <td>-0.716772</td>\n",
              "      <td>-1.294376</td>\n",
              "      <td>-0.573307</td>\n",
              "      <td>-0.933142</td>\n",
              "      <td>-0.819149</td>\n",
              "    </tr>\n",
              "    <tr>\n",
              "      <th>496</th>\n",
              "      <td>-1.090971</td>\n",
              "      <td>-0.538936</td>\n",
              "      <td>-1.294376</td>\n",
              "      <td>-0.573307</td>\n",
              "      <td>-0.933142</td>\n",
              "      <td>-0.819149</td>\n",
              "    </tr>\n",
              "    <tr>\n",
              "      <th>484</th>\n",
              "      <td>-0.999299</td>\n",
              "      <td>-0.988206</td>\n",
              "      <td>-1.294376</td>\n",
              "      <td>-0.573307</td>\n",
              "      <td>-0.933142</td>\n",
              "      <td>-0.819149</td>\n",
              "    </tr>\n",
              "    <tr>\n",
              "      <th>507</th>\n",
              "      <td>-1.145974</td>\n",
              "      <td>-0.726132</td>\n",
              "      <td>-1.294376</td>\n",
              "      <td>-0.573307</td>\n",
              "      <td>-0.933142</td>\n",
              "      <td>-0.819149</td>\n",
              "    </tr>\n",
              "    <tr>\n",
              "      <th>252</th>\n",
              "      <td>-0.137579</td>\n",
              "      <td>2.203478</td>\n",
              "      <td>0.052516</td>\n",
              "      <td>-0.573307</td>\n",
              "      <td>-0.933142</td>\n",
              "      <td>-0.819149</td>\n",
              "    </tr>\n",
              "    <tr>\n",
              "      <th>263</th>\n",
              "      <td>-0.192583</td>\n",
              "      <td>-0.553912</td>\n",
              "      <td>0.052516</td>\n",
              "      <td>-0.573307</td>\n",
              "      <td>0.212914</td>\n",
              "      <td>-0.819149</td>\n",
              "    </tr>\n",
              "    <tr>\n",
              "      <th>240</th>\n",
              "      <td>-0.100910</td>\n",
              "      <td>-0.613815</td>\n",
              "      <td>0.052516</td>\n",
              "      <td>-0.573307</td>\n",
              "      <td>0.212914</td>\n",
              "      <td>0.325559</td>\n",
              "    </tr>\n",
              "    <tr>\n",
              "      <th>175</th>\n",
              "      <td>0.247444</td>\n",
              "      <td>2.175399</td>\n",
              "      <td>1.399408</td>\n",
              "      <td>1.475561</td>\n",
              "      <td>0.212914</td>\n",
              "      <td>1.470267</td>\n",
              "    </tr>\n",
              "    <tr>\n",
              "      <th>385</th>\n",
              "      <td>-0.632610</td>\n",
              "      <td>-0.707412</td>\n",
              "      <td>-1.294376</td>\n",
              "      <td>-0.573307</td>\n",
              "      <td>-0.933142</td>\n",
              "      <td>-0.819149</td>\n",
              "    </tr>\n",
              "    <tr>\n",
              "      <th>374</th>\n",
              "      <td>-0.595941</td>\n",
              "      <td>-0.763571</td>\n",
              "      <td>-1.294376</td>\n",
              "      <td>1.475561</td>\n",
              "      <td>-0.933142</td>\n",
              "      <td>-0.819149</td>\n",
              "    </tr>\n",
              "  </tbody>\n",
              "</table>\n",
              "</div>\n",
              "      <button class=\"colab-df-convert\" onclick=\"convertToInteractive('df-d4974194-349d-4e70-8252-4f3d137dacc4')\"\n",
              "              title=\"Convert this dataframe to an interactive table.\"\n",
              "              style=\"display:none;\">\n",
              "        \n",
              "  <svg xmlns=\"http://www.w3.org/2000/svg\" height=\"24px\"viewBox=\"0 0 24 24\"\n",
              "       width=\"24px\">\n",
              "    <path d=\"M0 0h24v24H0V0z\" fill=\"none\"/>\n",
              "    <path d=\"M18.56 5.44l.94 2.06.94-2.06 2.06-.94-2.06-.94-.94-2.06-.94 2.06-2.06.94zm-11 1L8.5 8.5l.94-2.06 2.06-.94-2.06-.94L8.5 2.5l-.94 2.06-2.06.94zm10 10l.94 2.06.94-2.06 2.06-.94-2.06-.94-.94-2.06-.94 2.06-2.06.94z\"/><path d=\"M17.41 7.96l-1.37-1.37c-.4-.4-.92-.59-1.43-.59-.52 0-1.04.2-1.43.59L10.3 9.45l-7.72 7.72c-.78.78-.78 2.05 0 2.83L4 21.41c.39.39.9.59 1.41.59.51 0 1.02-.2 1.41-.59l7.78-7.78 2.81-2.81c.8-.78.8-2.07 0-2.86zM5.41 20L4 18.59l7.72-7.72 1.47 1.35L5.41 20z\"/>\n",
              "  </svg>\n",
              "      </button>\n",
              "      \n",
              "  <style>\n",
              "    .colab-df-container {\n",
              "      display:flex;\n",
              "      flex-wrap:wrap;\n",
              "      gap: 12px;\n",
              "    }\n",
              "\n",
              "    .colab-df-convert {\n",
              "      background-color: #E8F0FE;\n",
              "      border: none;\n",
              "      border-radius: 50%;\n",
              "      cursor: pointer;\n",
              "      display: none;\n",
              "      fill: #1967D2;\n",
              "      height: 32px;\n",
              "      padding: 0 0 0 0;\n",
              "      width: 32px;\n",
              "    }\n",
              "\n",
              "    .colab-df-convert:hover {\n",
              "      background-color: #E2EBFA;\n",
              "      box-shadow: 0px 1px 2px rgba(60, 64, 67, 0.3), 0px 1px 3px 1px rgba(60, 64, 67, 0.15);\n",
              "      fill: #174EA6;\n",
              "    }\n",
              "\n",
              "    [theme=dark] .colab-df-convert {\n",
              "      background-color: #3B4455;\n",
              "      fill: #D2E3FC;\n",
              "    }\n",
              "\n",
              "    [theme=dark] .colab-df-convert:hover {\n",
              "      background-color: #434B5C;\n",
              "      box-shadow: 0px 1px 3px 1px rgba(0, 0, 0, 0.15);\n",
              "      filter: drop-shadow(0px 1px 2px rgba(0, 0, 0, 0.3));\n",
              "      fill: #FFFFFF;\n",
              "    }\n",
              "  </style>\n",
              "\n",
              "      <script>\n",
              "        const buttonEl =\n",
              "          document.querySelector('#df-d4974194-349d-4e70-8252-4f3d137dacc4 button.colab-df-convert');\n",
              "        buttonEl.style.display =\n",
              "          google.colab.kernel.accessAllowed ? 'block' : 'none';\n",
              "\n",
              "        async function convertToInteractive(key) {\n",
              "          const element = document.querySelector('#df-d4974194-349d-4e70-8252-4f3d137dacc4');\n",
              "          const dataTable =\n",
              "            await google.colab.kernel.invokeFunction('convertToInteractive',\n",
              "                                                     [key], {});\n",
              "          if (!dataTable) return;\n",
              "\n",
              "          const docLinkHtml = 'Like what you see? Visit the ' +\n",
              "            '<a target=\"_blank\" href=https://colab.research.google.com/notebooks/data_table.ipynb>data table notebook</a>'\n",
              "            + ' to learn more about interactive tables.';\n",
              "          element.innerHTML = '';\n",
              "          dataTable['output_type'] = 'display_data';\n",
              "          await google.colab.output.renderOutput(dataTable, element);\n",
              "          const docLink = document.createElement('div');\n",
              "          docLink.innerHTML = docLinkHtml;\n",
              "          element.appendChild(docLink);\n",
              "        }\n",
              "      </script>\n",
              "    </div>\n",
              "  </div>\n",
              "  "
            ]
          },
          "metadata": {},
          "execution_count": 858
        }
      ]
    },
    {
      "cell_type": "code",
      "source": [
        "xTrain2 = dfTrainB.values[:,1:6]\n",
        "xTest2 = dfTestB.values[:,1:6]\n",
        "\n",
        "yTrain2 = dfTrainB.values[:,0]\n",
        "yTest2 = dfTestB.values[:,0]\n",
        "xTrain2.shape"
      ],
      "metadata": {
        "colab": {
          "base_uri": "https://localhost:8080/"
        },
        "id": "xvU-YYdomkiU",
        "outputId": "01be5788-d442-4951-9dd4-ad18a886daa8"
      },
      "execution_count": 859,
      "outputs": [
        {
          "output_type": "execute_result",
          "data": {
            "text/plain": [
              "(436, 5)"
            ]
          },
          "metadata": {},
          "execution_count": 859
        }
      ]
    },
    {
      "cell_type": "code",
      "source": [
        "#matrix - 1col of ones \n",
        "x31 = np.ones((436, 1)) \n",
        "x32 = np.ones((109, 1))"
      ],
      "metadata": {
        "id": "GsV2ul1impE-"
      },
      "execution_count": 860,
      "outputs": []
    },
    {
      "cell_type": "code",
      "source": [
        "# 1d to 2d\n",
        "x41 = xTrain2.reshape(436, 5) \n",
        "x42 = xTest2.reshape(109, 5)"
      ],
      "metadata": {
        "id": "nFBHo9RMmrEy"
      },
      "execution_count": 861,
      "outputs": []
    },
    {
      "cell_type": "code",
      "source": [
        "xTrainNew2 = np.hstack((x31, x41))\n",
        "xTestNew2 = np.hstack((x32, x42))\n",
        "xTrainNew2.shape"
      ],
      "metadata": {
        "colab": {
          "base_uri": "https://localhost:8080/"
        },
        "id": "0o_uVV5enJeK",
        "outputId": "814d697e-4dbf-4a94-b39a-a14a70b95399"
      },
      "execution_count": 862,
      "outputs": [
        {
          "output_type": "execute_result",
          "data": {
            "text/plain": [
              "(436, 6)"
            ]
          },
          "metadata": {},
          "execution_count": 862
        }
      ]
    },
    {
      "cell_type": "code",
      "source": [
        "iterations = 1000; \n",
        "alpha = 0.01;\n",
        "\n",
        "theta = [0., 0., 0., 0., 0., 0.]\n",
        "theta"
      ],
      "metadata": {
        "colab": {
          "base_uri": "https://localhost:8080/"
        },
        "id": "zFsz9USAnLfk",
        "outputId": "dd8cc611-c4c8-4942-adc3-6f095266ec91"
      },
      "execution_count": 863,
      "outputs": [
        {
          "output_type": "execute_result",
          "data": {
            "text/plain": [
              "[0.0, 0.0, 0.0, 0.0, 0.0, 0.0]"
            ]
          },
          "metadata": {},
          "execution_count": 863
        }
      ]
    },
    {
      "cell_type": "code",
      "source": [
        "def compute_cost(X, Y, theta): \n",
        "    predictions = X.dot(theta) \n",
        "    errors = np.subtract(predictions, Y) \n",
        "    sqrErrors = np.square(errors) \n",
        "    J = 1 / (2 * m) * np.sum(sqrErrors) \n",
        "\n",
        "    return J"
      ],
      "metadata": {
        "id": "t6g4nu99nNyb"
      },
      "execution_count": 864,
      "outputs": []
    },
    {
      "cell_type": "code",
      "source": [
        "def gradient_descent(X1, X2, Y1 , Y2, theta, alpha, iterations):\n",
        "    costHistoryTrain = np.zeros(iterations) \n",
        "    costHistoryTest = np.zeros(iterations) \n",
        "\n",
        "    for i in range(iterations): \n",
        "        predictions = X1.dot(theta) \n",
        "        errors = np.subtract(predictions, Y1) \n",
        "        sum_delta = (alpha / m) * X1.transpose().dot(errors); \n",
        "        theta = theta - sum_delta; \n",
        "        costHistoryTrain[i] = compute_cost(X1, Y1, theta)   \n",
        "        costHistoryTest[i] = compute_cost(X2, Y2, theta)\n",
        "    return theta, costHistoryTrain, costHistoryTest"
      ],
      "metadata": {
        "id": "wtNKg7g2nPd-"
      },
      "execution_count": 865,
      "outputs": []
    },
    {
      "cell_type": "code",
      "source": [
        "theta, costHistoryTrain, costHistoryTest = gradient_descent(xTrainNew2, xTestNew2, yTrain2, yTest2, theta, alpha, iterations) \n",
        "print('Final value of theta =', theta) \n",
        "print('costHistoryTrain =', costHistoryTrain[-1], 'costHistoryTest= ', costHistoryTest[-1])"
      ],
      "metadata": {
        "colab": {
          "base_uri": "https://localhost:8080/"
        },
        "id": "FwOcZ0r0nT_E",
        "outputId": "14198b4d-86ae-4f03-b8a2-0fe29680d315"
      },
      "execution_count": 866,
      "outputs": [
        {
          "output_type": "stream",
          "name": "stdout",
          "text": [
            "Final value of theta = [2.68303219e-16 3.87870620e-01 9.04102358e-02 3.03604550e-01\n",
            " 2.39617915e-01 1.60569409e-01]\n",
            "costHistoryTrain = 0.17847785867645652 costHistoryTest=  0.03892348541035558\n"
          ]
        }
      ]
    },
    {
      "cell_type": "code",
      "source": [
        "plt.plot(costHistoryTrain, label = \"Training data\")\n",
        "plt.plot(costHistoryTest, label = \"Testing data\")"
      ],
      "metadata": {
        "colab": {
          "base_uri": "https://localhost:8080/",
          "height": 283
        },
        "id": "BVBGn4YOnV-a",
        "outputId": "67c58169-2389-4881-838a-f67f53d32672"
      },
      "execution_count": 867,
      "outputs": [
        {
          "output_type": "execute_result",
          "data": {
            "text/plain": [
              "[<matplotlib.lines.Line2D at 0x7f0f3dd3d250>]"
            ]
          },
          "metadata": {},
          "execution_count": 867
        },
        {
          "output_type": "display_data",
          "data": {
            "text/plain": [
              "<Figure size 432x288 with 1 Axes>"
            ],
            "image/png": "[encoded data removed]"
          },
          "metadata": {
            "needs_background": "light"
          }
        }
      ]
    },
    {
      "cell_type": "code",
      "source": [
        "print(\"Final Theta - \")\n",
        "print(theta)"
      ],
      "metadata": {
        "colab": {
          "base_uri": "https://localhost:8080/"
        },
        "id": "r0yLAWHT-Umu",
        "outputId": "b028f302-ddd4-45fe-9405-890d5e1b5120"
      },
      "execution_count": 868,
      "outputs": [
        {
          "output_type": "stream",
          "name": "stdout",
          "text": [
            "Final Theta - \n",
            "[2.68303219e-16 3.87870620e-01 9.04102358e-02 3.03604550e-01\n",
            " 2.39617915e-01 1.60569409e-01]\n"
          ]
        }
      ]
    },
    {
      "cell_type": "markdown",
      "source": [
        "3A Normalizer"
      ],
      "metadata": {
        "id": "eAmJYx_92FQM"
      }
    },
    {
      "cell_type": "code",
      "source": [
        "df = pd.DataFrame(pd.read_csv('https://raw.githubusercontent.com/Onkar-Indurkar/Intro-to-ML/main/Housing.csv'))\n",
        "df.head()\n",
        "m = len(df)"
      ],
      "metadata": {
        "id": "GCWmMmO72GWR"
      },
      "execution_count": 869,
      "outputs": []
    },
    {
      "cell_type": "code",
      "source": [
        "#splitting dataframe into 80% training data & 20% testing data\n",
        "np.random.seed(0)\n",
        "dfTrain, dfTest =train_test_split(df, train_size = 0.8, test_size = 0.2)\n",
        "dfTrain.shape"
      ],
      "metadata": {
        "colab": {
          "base_uri": "https://localhost:8080/"
        },
        "id": "l1OB4GNo2L9q",
        "outputId": "4b1ddd45-4c20-4d89-e2d4-bd738d4d105d"
      },
      "execution_count": 870,
      "outputs": [
        {
          "output_type": "execute_result",
          "data": {
            "text/plain": [
              "(436, 13)"
            ]
          },
          "metadata": {},
          "execution_count": 870
        }
      ]
    },
    {
      "cell_type": "code",
      "source": [
        "list2 = ['price', 'area', 'bedrooms', 'bathrooms', 'stories', 'parking']\n",
        "dfTrainC = dfTrain[list2]\n",
        "dfTestC = dfTest[list2]\n",
        "dfTrainC.head()"
      ],
      "metadata": {
        "colab": {
          "base_uri": "https://localhost:8080/",
          "height": 206
        },
        "id": "J8A_1zWY2Xzs",
        "outputId": "e5002e17-37fb-48be-e577-5ba4571685b4"
      },
      "execution_count": 871,
      "outputs": [
        {
          "output_type": "execute_result",
          "data": {
            "text/plain": [
              "       price  area  bedrooms  bathrooms  stories  parking\n",
              "542  1750000  3620         2          1        1        0\n",
              "496  2695000  4000         2          1        1        0\n",
              "484  2870000  3040         2          1        1        0\n",
              "507  2590000  3600         2          1        1        0\n",
              "252  4515000  9860         3          1        1        0"
            ],
            "text/html": [
              "\n",
              "  <div id=\"df-07fa8752-61ce-4150-8bf3-ec4cb69211bd\">\n",
              "    <div class=\"colab-df-container\">\n",
              "      <div>\n",
              "<style scoped>\n",
              "    .dataframe tbody tr th:only-of-type {\n",
              "        vertical-align: middle;\n",
              "    }\n",
              "\n",
              "    .dataframe tbody tr th {\n",
              "        vertical-align: top;\n",
              "    }\n",
              "\n",
              "    .dataframe thead th {\n",
              "        text-align: right;\n",
              "    }\n",
              "</style>\n",
              "<table border=\"1\" class=\"dataframe\">\n",
              "  <thead>\n",
              "    <tr style=\"text-align: right;\">\n",
              "      <th></th>\n",
              "      <th>price</th>\n",
              "      <th>area</th>\n",
              "      <th>bedrooms</th>\n",
              "      <th>bathrooms</th>\n",
              "      <th>stories</th>\n",
              "      <th>parking</th>\n",
              "    </tr>\n",
              "  </thead>\n",
              "  <tbody>\n",
              "    <tr>\n",
              "      <th>542</th>\n",
              "      <td>1750000</td>\n",
              "      <td>3620</td>\n",
              "      <td>2</td>\n",
              "      <td>1</td>\n",
              "      <td>1</td>\n",
              "      <td>0</td>\n",
              "    </tr>\n",
              "    <tr>\n",
              "      <th>496</th>\n",
              "      <td>2695000</td>\n",
              "      <td>4000</td>\n",
              "      <td>2</td>\n",
              "      <td>1</td>\n",
              "      <td>1</td>\n",
              "      <td>0</td>\n",
              "    </tr>\n",
              "    <tr>\n",
              "      <th>484</th>\n",
              "      <td>2870000</td>\n",
              "      <td>3040</td>\n",
              "      <td>2</td>\n",
              "      <td>1</td>\n",
              "      <td>1</td>\n",
              "      <td>0</td>\n",
              "    </tr>\n",
              "    <tr>\n",
              "      <th>507</th>\n",
              "      <td>2590000</td>\n",
              "      <td>3600</td>\n",
              "      <td>2</td>\n",
              "      <td>1</td>\n",
              "      <td>1</td>\n",
              "      <td>0</td>\n",
              "    </tr>\n",
              "    <tr>\n",
              "      <th>252</th>\n",
              "      <td>4515000</td>\n",
              "      <td>9860</td>\n",
              "      <td>3</td>\n",
              "      <td>1</td>\n",
              "      <td>1</td>\n",
              "      <td>0</td>\n",
              "    </tr>\n",
              "  </tbody>\n",
              "</table>\n",
              "</div>\n",
              "      <button class=\"colab-df-convert\" onclick=\"convertToInteractive('df-07fa8752-61ce-4150-8bf3-ec4cb69211bd')\"\n",
              "              title=\"Convert this dataframe to an interactive table.\"\n",
              "              style=\"display:none;\">\n",
              "        \n",
              "  <svg xmlns=\"http://www.w3.org/2000/svg\" height=\"24px\"viewBox=\"0 0 24 24\"\n",
              "       width=\"24px\">\n",
              "    <path d=\"M0 0h24v24H0V0z\" fill=\"none\"/>\n",
              "    <path d=\"M18.56 5.44l.94 2.06.94-2.06 2.06-.94-2.06-.94-.94-2.06-.94 2.06-2.06.94zm-11 1L8.5 8.5l.94-2.06 2.06-.94-2.06-.94L8.5 2.5l-.94 2.06-2.06.94zm10 10l.94 2.06.94-2.06 2.06-.94-2.06-.94-.94-2.06-.94 2.06-2.06.94z\"/><path d=\"M17.41 7.96l-1.37-1.37c-.4-.4-.92-.59-1.43-.59-.52 0-1.04.2-1.43.59L10.3 9.45l-7.72 7.72c-.78.78-.78 2.05 0 2.83L4 21.41c.39.39.9.59 1.41.59.51 0 1.02-.2 1.41-.59l7.78-7.78 2.81-2.81c.8-.78.8-2.07 0-2.86zM5.41 20L4 18.59l7.72-7.72 1.47 1.35L5.41 20z\"/>\n",
              "  </svg>\n",
              "      </button>\n",
              "      \n",
              "  <style>\n",
              "    .colab-df-container {\n",
              "      display:flex;\n",
              "      flex-wrap:wrap;\n",
              "      gap: 12px;\n",
              "    }\n",
              "\n",
              "    .colab-df-convert {\n",
              "      background-color: #E8F0FE;\n",
              "      border: none;\n",
              "      border-radius: 50%;\n",
              "      cursor: pointer;\n",
              "      display: none;\n",
              "      fill: #1967D2;\n",
              "      height: 32px;\n",
              "      padding: 0 0 0 0;\n",
              "      width: 32px;\n",
              "    }\n",
              "\n",
              "    .colab-df-convert:hover {\n",
              "      background-color: #E2EBFA;\n",
              "      box-shadow: 0px 1px 2px rgba(60, 64, 67, 0.3), 0px 1px 3px 1px rgba(60, 64, 67, 0.15);\n",
              "      fill: #174EA6;\n",
              "    }\n",
              "\n",
              "    [theme=dark] .colab-df-convert {\n",
              "      background-color: #3B4455;\n",
              "      fill: #D2E3FC;\n",
              "    }\n",
              "\n",
              "    [theme=dark] .colab-df-convert:hover {\n",
              "      background-color: #434B5C;\n",
              "      box-shadow: 0px 1px 3px 1px rgba(0, 0, 0, 0.15);\n",
              "      filter: drop-shadow(0px 1px 2px rgba(0, 0, 0, 0.3));\n",
              "      fill: #FFFFFF;\n",
              "    }\n",
              "  </style>\n",
              "\n",
              "      <script>\n",
              "        const buttonEl =\n",
              "          document.querySelector('#df-07fa8752-61ce-4150-8bf3-ec4cb69211bd button.colab-df-convert');\n",
              "        buttonEl.style.display =\n",
              "          google.colab.kernel.accessAllowed ? 'block' : 'none';\n",
              "\n",
              "        async function convertToInteractive(key) {\n",
              "          const element = document.querySelector('#df-07fa8752-61ce-4150-8bf3-ec4cb69211bd');\n",
              "          const dataTable =\n",
              "            await google.colab.kernel.invokeFunction('convertToInteractive',\n",
              "                                                     [key], {});\n",
              "          if (!dataTable) return;\n",
              "\n",
              "          const docLinkHtml = 'Like what you see? Visit the ' +\n",
              "            '<a target=\"_blank\" href=https://colab.research.google.com/notebooks/data_table.ipynb>data table notebook</a>'\n",
              "            + ' to learn more about interactive tables.';\n",
              "          element.innerHTML = '';\n",
              "          dataTable['output_type'] = 'display_data';\n",
              "          await google.colab.output.renderOutput(dataTable, element);\n",
              "          const docLink = document.createElement('div');\n",
              "          docLink.innerHTML = docLinkHtml;\n",
              "          element.appendChild(docLink);\n",
              "        }\n",
              "      </script>\n",
              "    </div>\n",
              "  </div>\n",
              "  "
            ]
          },
          "metadata": {},
          "execution_count": 871
        }
      ]
    },
    {
      "cell_type": "code",
      "source": [
        "\n",
        "import warnings\n",
        "warnings. filterwarnings( 'ignore' )\n",
        "from sklearn. preprocessing import MinMaxScaler, StandardScaler, Normalizer\n",
        "\n",
        "# scaler = StandardScaler()\n",
        "scaler = Normalizer()\n",
        "#scaler = MinMaxScaler()\n",
        "\n",
        "\n",
        "\n",
        "dfTrainC[list2] = scaler.fit_transform(dfTrainC[list2])\n",
        "dfTestC[list2] = scaler.fit_transform(dfTestC[list2])\n",
        "dfTrainC.head(10)"
      ],
      "metadata": {
        "colab": {
          "base_uri": "https://localhost:8080/",
          "height": 363
        },
        "id": "uSg0ld05929F",
        "outputId": "d54f8bcc-4c1a-46d1-bbec-1856143fa2f4"
      },
      "execution_count": 872,
      "outputs": [
        {
          "output_type": "execute_result",
          "data": {
            "text/plain": [
              "        price      area      bedrooms     bathrooms       stories  \\\n",
              "542  0.999998  0.002069  1.142855e-06  5.714273e-07  5.714273e-07   \n",
              "496  0.999999  0.001484  7.421142e-07  3.710571e-07  3.710571e-07   \n",
              "484  0.999999  0.001059  6.968637e-07  3.484319e-07  3.484319e-07   \n",
              "507  0.999999  0.001390  7.722000e-07  3.861000e-07  3.861000e-07   \n",
              "252  0.999998  0.002184  6.644502e-07  2.214834e-07  2.214834e-07   \n",
              "263  1.000000  0.000900  6.802718e-07  2.267573e-07  4.535146e-07   \n",
              "240  1.000000  0.000838  6.543073e-07  2.181024e-07  4.362049e-07   \n",
              "175  0.999998  0.001867  7.619034e-07  3.809517e-07  3.809517e-07   \n",
              "385  0.999999  0.001020  5.602238e-07  2.801119e-07  2.801119e-07   \n",
              "374  1.000000  0.000967  5.494503e-07  5.494503e-07  2.747251e-07   \n",
              "\n",
              "          parking  \n",
              "542  0.000000e+00  \n",
              "496  0.000000e+00  \n",
              "484  0.000000e+00  \n",
              "507  0.000000e+00  \n",
              "252  0.000000e+00  \n",
              "263  0.000000e+00  \n",
              "240  2.181024e-07  \n",
              "175  3.809517e-07  \n",
              "385  0.000000e+00  \n",
              "374  0.000000e+00  "
            ],
            "text/html": [
              "\n",
              "  <div id=\"df-f3865399-c336-454f-97b4-b940ebc3da83\">\n",
              "    <div class=\"colab-df-container\">\n",
              "      <div>\n",
              "<style scoped>\n",
              "    .dataframe tbody tr th:only-of-type {\n",
              "        vertical-align: middle;\n",
              "    }\n",
              "\n",
              "    .dataframe tbody tr th {\n",
              "        vertical-align: top;\n",
              "    }\n",
              "\n",
              "    .dataframe thead th {\n",
              "        text-align: right;\n",
              "    }\n",
              "</style>\n",
              "<table border=\"1\" class=\"dataframe\">\n",
              "  <thead>\n",
              "    <tr style=\"text-align: right;\">\n",
              "      <th></th>\n",
              "      <th>price</th>\n",
              "      <th>area</th>\n",
              "      <th>bedrooms</th>\n",
              "      <th>bathrooms</th>\n",
              "      <th>stories</th>\n",
              "      <th>parking</th>\n",
              "    </tr>\n",
              "  </thead>\n",
              "  <tbody>\n",
              "    <tr>\n",
              "      <th>542</th>\n",
              "      <td>0.999998</td>\n",
              "      <td>0.002069</td>\n",
              "      <td>1.142855e-06</td>\n",
              "      <td>5.714273e-07</td>\n",
              "      <td>5.714273e-07</td>\n",
              "      <td>0.000000e+00</td>\n",
              "    </tr>\n",
              "    <tr>\n",
              "      <th>496</th>\n",
              "      <td>0.999999</td>\n",
              "      <td>0.001484</td>\n",
              "      <td>7.421142e-07</td>\n",
              "      <td>3.710571e-07</td>\n",
              "      <td>3.710571e-07</td>\n",
              "      <td>0.000000e+00</td>\n",
              "    </tr>\n",
              "    <tr>\n",
              "      <th>484</th>\n",
              "      <td>0.999999</td>\n",
              "      <td>0.001059</td>\n",
              "      <td>6.968637e-07</td>\n",
              "      <td>3.484319e-07</td>\n",
              "      <td>3.484319e-07</td>\n",
              "      <td>0.000000e+00</td>\n",
              "    </tr>\n",
              "    <tr>\n",
              "      <th>507</th>\n",
              "      <td>0.999999</td>\n",
              "      <td>0.001390</td>\n",
              "      <td>7.722000e-07</td>\n",
              "      <td>3.861000e-07</td>\n",
              "      <td>3.861000e-07</td>\n",
              "      <td>0.000000e+00</td>\n",
              "    </tr>\n",
              "    <tr>\n",
              "      <th>252</th>\n",
              "      <td>0.999998</td>\n",
              "      <td>0.002184</td>\n",
              "      <td>6.644502e-07</td>\n",
              "      <td>2.214834e-07</td>\n",
              "      <td>2.214834e-07</td>\n",
              "      <td>0.000000e+00</td>\n",
              "    </tr>\n",
              "    <tr>\n",
              "      <th>263</th>\n",
              "      <td>1.000000</td>\n",
              "      <td>0.000900</td>\n",
              "      <td>6.802718e-07</td>\n",
              "      <td>2.267573e-07</td>\n",
              "      <td>4.535146e-07</td>\n",
              "      <td>0.000000e+00</td>\n",
              "    </tr>\n",
              "    <tr>\n",
              "      <th>240</th>\n",
              "      <td>1.000000</td>\n",
              "      <td>0.000838</td>\n",
              "      <td>6.543073e-07</td>\n",
              "      <td>2.181024e-07</td>\n",
              "      <td>4.362049e-07</td>\n",
              "      <td>2.181024e-07</td>\n",
              "    </tr>\n",
              "    <tr>\n",
              "      <th>175</th>\n",
              "      <td>0.999998</td>\n",
              "      <td>0.001867</td>\n",
              "      <td>7.619034e-07</td>\n",
              "      <td>3.809517e-07</td>\n",
              "      <td>3.809517e-07</td>\n",
              "      <td>3.809517e-07</td>\n",
              "    </tr>\n",
              "    <tr>\n",
              "      <th>385</th>\n",
              "      <td>0.999999</td>\n",
              "      <td>0.001020</td>\n",
              "      <td>5.602238e-07</td>\n",
              "      <td>2.801119e-07</td>\n",
              "      <td>2.801119e-07</td>\n",
              "      <td>0.000000e+00</td>\n",
              "    </tr>\n",
              "    <tr>\n",
              "      <th>374</th>\n",
              "      <td>1.000000</td>\n",
              "      <td>0.000967</td>\n",
              "      <td>5.494503e-07</td>\n",
              "      <td>5.494503e-07</td>\n",
              "      <td>2.747251e-07</td>\n",
              "      <td>0.000000e+00</td>\n",
              "    </tr>\n",
              "  </tbody>\n",
              "</table>\n",
              "</div>\n",
              "      <button class=\"colab-df-convert\" onclick=\"convertToInteractive('df-f3865399-c336-454f-97b4-b940ebc3da83')\"\n",
              "              title=\"Convert this dataframe to an interactive table.\"\n",
              "              style=\"display:none;\">\n",
              "        \n",
              "  <svg xmlns=\"http://www.w3.org/2000/svg\" height=\"24px\"viewBox=\"0 0 24 24\"\n",
              "       width=\"24px\">\n",
              "    <path d=\"M0 0h24v24H0V0z\" fill=\"none\"/>\n",
              "    <path d=\"M18.56 5.44l.94 2.06.94-2.06 2.06-.94-2.06-.94-.94-2.06-.94 2.06-2.06.94zm-11 1L8.5 8.5l.94-2.06 2.06-.94-2.06-.94L8.5 2.5l-.94 2.06-2.06.94zm10 10l.94 2.06.94-2.06 2.06-.94-2.06-.94-.94-2.06-.94 2.06-2.06.94z\"/><path d=\"M17.41 7.96l-1.37-1.37c-.4-.4-.92-.59-1.43-.59-.52 0-1.04.2-1.43.59L10.3 9.45l-7.72 7.72c-.78.78-.78 2.05 0 2.83L4 21.41c.39.39.9.59 1.41.59.51 0 1.02-.2 1.41-.59l7.78-7.78 2.81-2.81c.8-.78.8-2.07 0-2.86zM5.41 20L4 18.59l7.72-7.72 1.47 1.35L5.41 20z\"/>\n",
              "  </svg>\n",
              "      </button>\n",
              "      \n",
              "  <style>\n",
              "    .colab-df-container {\n",
              "      display:flex;\n",
              "      flex-wrap:wrap;\n",
              "      gap: 12px;\n",
              "    }\n",
              "\n",
              "    .colab-df-convert {\n",
              "      background-color: #E8F0FE;\n",
              "      border: none;\n",
              "      border-radius: 50%;\n",
              "      cursor: pointer;\n",
              "      display: none;\n",
              "      fill: #1967D2;\n",
              "      height: 32px;\n",
              "      padding: 0 0 0 0;\n",
              "      width: 32px;\n",
              "    }\n",
              "\n",
              "    .colab-df-convert:hover {\n",
              "      background-color: #E2EBFA;\n",
              "      box-shadow: 0px 1px 2px rgba(60, 64, 67, 0.3), 0px 1px 3px 1px rgba(60, 64, 67, 0.15);\n",
              "      fill: #174EA6;\n",
              "    }\n",
              "\n",
              "    [theme=dark] .colab-df-convert {\n",
              "      background-color: #3B4455;\n",
              "      fill: #D2E3FC;\n",
              "    }\n",
              "\n",
              "    [theme=dark] .colab-df-convert:hover {\n",
              "      background-color: #434B5C;\n",
              "      box-shadow: 0px 1px 3px 1px rgba(0, 0, 0, 0.15);\n",
              "      filter: drop-shadow(0px 1px 2px rgba(0, 0, 0, 0.3));\n",
              "      fill: #FFFFFF;\n",
              "    }\n",
              "  </style>\n",
              "\n",
              "      <script>\n",
              "        const buttonEl =\n",
              "          document.querySelector('#df-f3865399-c336-454f-97b4-b940ebc3da83 button.colab-df-convert');\n",
              "        buttonEl.style.display =\n",
              "          google.colab.kernel.accessAllowed ? 'block' : 'none';\n",
              "\n",
              "        async function convertToInteractive(key) {\n",
              "          const element = document.querySelector('#df-f3865399-c336-454f-97b4-b940ebc3da83');\n",
              "          const dataTable =\n",
              "            await google.colab.kernel.invokeFunction('convertToInteractive',\n",
              "                                                     [key], {});\n",
              "          if (!dataTable) return;\n",
              "\n",
              "          const docLinkHtml = 'Like what you see? Visit the ' +\n",
              "            '<a target=\"_blank\" href=https://colab.research.google.com/notebooks/data_table.ipynb>data table notebook</a>'\n",
              "            + ' to learn more about interactive tables.';\n",
              "          element.innerHTML = '';\n",
              "          dataTable['output_type'] = 'display_data';\n",
              "          await google.colab.output.renderOutput(dataTable, element);\n",
              "          const docLink = document.createElement('div');\n",
              "          docLink.innerHTML = docLinkHtml;\n",
              "          element.appendChild(docLink);\n",
              "        }\n",
              "      </script>\n",
              "    </div>\n",
              "  </div>\n",
              "  "
            ]
          },
          "metadata": {},
          "execution_count": 872
        }
      ]
    },
    {
      "cell_type": "code",
      "source": [
        "xTrain3 = dfTrainC.values[:,1:6]\n",
        "xTest3 = dfTestC.values[:,1:6]\n",
        "\n",
        "yTrain3 = dfTrainC.values[:,0]\n",
        "yTest3 = dfTestC.values[:,0]\n",
        "xTrain3.shape"
      ],
      "metadata": {
        "colab": {
          "base_uri": "https://localhost:8080/"
        },
        "id": "g95MzqIw-BKM",
        "outputId": "178a9510-b53a-4dd7-fcc2-6ad4e9d70aea"
      },
      "execution_count": 873,
      "outputs": [
        {
          "output_type": "execute_result",
          "data": {
            "text/plain": [
              "(436, 5)"
            ]
          },
          "metadata": {},
          "execution_count": 873
        }
      ]
    },
    {
      "cell_type": "code",
      "source": [
        "#matrix - 1col of ones \n",
        "x11 = np.ones((436, 1)) \n",
        "x12 = np.ones((109, 1))"
      ],
      "metadata": {
        "id": "DrMBt795-JwM"
      },
      "execution_count": 874,
      "outputs": []
    },
    {
      "cell_type": "code",
      "source": [
        "# 1d to 2d\n",
        "x21 = xTrain3.reshape(436, 5) \n",
        "x22 = xTest3.reshape(109, 5)"
      ],
      "metadata": {
        "id": "Y4HA4caV-MLo"
      },
      "execution_count": 875,
      "outputs": []
    },
    {
      "cell_type": "code",
      "source": [
        "xTrainNew3 = np.hstack((x11, x21))\n",
        "xTestNew3 = np.hstack((x12, x22))\n",
        "xTrainNew3.shape"
      ],
      "metadata": {
        "colab": {
          "base_uri": "https://localhost:8080/"
        },
        "id": "cJ-haw0a-OQN",
        "outputId": "b11afdec-d5a6-4f86-8b5b-f58feed39f48"
      },
      "execution_count": 876,
      "outputs": [
        {
          "output_type": "execute_result",
          "data": {
            "text/plain": [
              "(436, 6)"
            ]
          },
          "metadata": {},
          "execution_count": 876
        }
      ]
    },
    {
      "cell_type": "code",
      "source": [
        "iterations = 5000; \n",
        "alpha = 0.01;\n",
        "lamda : 3\n",
        "\n",
        "theta = [0., 0., 0., 0., 0., 0.]\n",
        "theta\n"
      ],
      "metadata": {
        "colab": {
          "base_uri": "https://localhost:8080/"
        },
        "id": "hh35_Upj-U8V",
        "outputId": "62692d58-025d-43fb-cb17-d9a4bace6252"
      },
      "execution_count": 877,
      "outputs": [
        {
          "output_type": "execute_result",
          "data": {
            "text/plain": [
              "[0.0, 0.0, 0.0, 0.0, 0.0, 0.0]"
            ]
          },
          "metadata": {},
          "execution_count": 877
        }
      ]
    },
    {
      "cell_type": "code",
      "source": [
        "def compute_cost_reg(X, Y, theta, lamda): \n",
        "    predictions = X.dot(theta) \n",
        "    errors = np.subtract(predictions, Y) \n",
        "    sqrErrors = np.square(errors) \n",
        "    sqrErrors = np.sum(sqrErrors)\n",
        "    reg_term = lamda * np.sum(np.square(theta))\n",
        "    J = 1 / (2 * m) * np.sum(sqrErrors + reg_term) \n",
        "\n",
        "    return J"
      ],
      "metadata": {
        "id": "WnEkOOjj-cMI"
      },
      "execution_count": 878,
      "outputs": []
    },
    {
      "cell_type": "code",
      "source": [
        "def gradient_descent_reg(X1, X2, Y1 , Y2, theta, alpha, iterations, lamda):\n",
        "    costHistoryTrain = np.zeros(iterations) \n",
        "    costHistoryTest = np.zeros(iterations) \n",
        "    lamda = 3\n",
        "\n",
        "    for i in range(iterations): \n",
        "        predictions = X1.dot(theta) \n",
        "        errors = np.subtract(predictions, Y1) \n",
        "        sum_delta = (alpha / m) * X1.transpose().dot(errors); \n",
        "        theta = theta - sum_delta;\n",
        "        costHistoryTrain[i] = compute_cost_reg(X1, Y1, theta, lamda)   \n",
        "        costHistoryTest[i] = compute_cost(X2, Y2, theta)\n",
        "    return theta, costHistoryTrain, costHistoryTest"
      ],
      "metadata": {
        "id": "fQwDqcSu-elQ"
      },
      "execution_count": 879,
      "outputs": []
    },
    {
      "cell_type": "code",
      "source": [
        "theta, costHistoryTrain, costHistoryTest = gradient_descent_reg(xTrainNew3, xTestNew3, yTrain3, yTest3, theta, alpha, iterations, lamda=3 ) \n",
        "print('Final value of theta =', theta) \n",
        "print('costHistoryTrain =', costHistoryTrain[-1], 'costHistoryTest= ', costHistoryTest[-1])"
      ],
      "metadata": {
        "colab": {
          "base_uri": "https://localhost:8080/"
        },
        "id": "QJ0Y-A3_Faxe",
        "outputId": "cfd5b203-8275-4434-a11e-8d73194aed23"
      },
      "execution_count": 880,
      "outputs": [
        {
          "output_type": "stream",
          "name": "stdout",
          "text": [
            "Final value of theta = [9.99997929e-01 1.14671381e-03 6.88763660e-07 2.90347839e-07\n",
            " 4.07390131e-07 1.45782460e-07]\n",
            "costHistoryTrain = 0.002752285795607559 costHistoryTest=  1.0465450984661629e-13\n"
          ]
        }
      ]
    },
    {
      "cell_type": "code",
      "source": [
        "plt.plot(costHistoryTrain, label = \"Training data\")\n",
        "plt.plot(costHistoryTest, label = \"Testing data\")"
      ],
      "metadata": {
        "colab": {
          "base_uri": "https://localhost:8080/",
          "height": 283
        },
        "id": "xXMjPg82FxK3",
        "outputId": "cfe65336-2eed-4a74-800d-699ce1c0ffbe"
      },
      "execution_count": 881,
      "outputs": [
        {
          "output_type": "execute_result",
          "data": {
            "text/plain": [
              "[<matplotlib.lines.Line2D at 0x7f0f3dca73a0>]"
            ]
          },
          "metadata": {},
          "execution_count": 881
        },
        {
          "output_type": "display_data",
          "data": {
            "text/plain": [
              "<Figure size 432x288 with 1 Axes>"
            ],
            "image/png": "[encoded data removed]"
          },
          "metadata": {
            "needs_background": "light"
          }
        }
      ]
    },
    {
      "cell_type": "code",
      "source": [
        "print(\"Final Theta - \")\n",
        "print(theta)"
      ],
      "metadata": {
        "colab": {
          "base_uri": "https://localhost:8080/"
        },
        "id": "Cb_MjXvf-SNV",
        "outputId": "6dfdbba4-0e67-4b87-a20d-83b5f3c5b93a"
      },
      "execution_count": 882,
      "outputs": [
        {
          "output_type": "stream",
          "name": "stdout",
          "text": [
            "Final Theta - \n",
            "[9.99997929e-01 1.14671381e-03 6.88763660e-07 2.90347839e-07\n",
            " 4.07390131e-07 1.45782460e-07]\n"
          ]
        }
      ]
    },
    {
      "cell_type": "markdown",
      "source": [
        "3A Standardizer"
      ],
      "metadata": {
        "id": "6ZEY3H5FnYBI"
      }
    },
    {
      "cell_type": "code",
      "source": [
        "df = pd.DataFrame(pd.read_csv('https://raw.githubusercontent.com/Onkar-Indurkar/Intro-to-ML/main/Housing.csv'))\n",
        "df.head()\n",
        "m = len(df)"
      ],
      "metadata": {
        "id": "hZ2t58_Lnanz"
      },
      "execution_count": 883,
      "outputs": []
    },
    {
      "cell_type": "code",
      "source": [
        "#splitting dataframe into 80% training data & 20% testing data\n",
        "np.random.seed(0)\n",
        "dfTrain, dfTest =train_test_split(df, train_size = 0.8, test_size = 0.2)\n",
        "dfTrain.shape"
      ],
      "metadata": {
        "colab": {
          "base_uri": "https://localhost:8080/"
        },
        "id": "9NJutFJdnfrQ",
        "outputId": "a53bb6f9-262e-4374-a075-fcaf9e239fbe"
      },
      "execution_count": 884,
      "outputs": [
        {
          "output_type": "execute_result",
          "data": {
            "text/plain": [
              "(436, 13)"
            ]
          },
          "metadata": {},
          "execution_count": 884
        }
      ]
    },
    {
      "cell_type": "code",
      "source": [
        "list2 = ['price', 'area', 'bedrooms', 'bathrooms', 'stories', 'parking']\n",
        "dfTrainC = dfTrain[list2]\n",
        "dfTestC = dfTest[list2]\n",
        "dfTrainC.head()"
      ],
      "metadata": {
        "colab": {
          "base_uri": "https://localhost:8080/",
          "height": 206
        },
        "id": "2agC5BLAnfkx",
        "outputId": "01ee2f20-4776-45ef-f02c-3132d42acb54"
      },
      "execution_count": 885,
      "outputs": [
        {
          "output_type": "execute_result",
          "data": {
            "text/plain": [
              "       price  area  bedrooms  bathrooms  stories  parking\n",
              "542  1750000  3620         2          1        1        0\n",
              "496  2695000  4000         2          1        1        0\n",
              "484  2870000  3040         2          1        1        0\n",
              "507  2590000  3600         2          1        1        0\n",
              "252  4515000  9860         3          1        1        0"
            ],
            "text/html": [
              "\n",
              "  <div id=\"df-eb4a952f-5028-43ee-afdf-9e7059673ef2\">\n",
              "    <div class=\"colab-df-container\">\n",
              "      <div>\n",
              "<style scoped>\n",
              "    .dataframe tbody tr th:only-of-type {\n",
              "        vertical-align: middle;\n",
              "    }\n",
              "\n",
              "    .dataframe tbody tr th {\n",
              "        vertical-align: top;\n",
              "    }\n",
              "\n",
              "    .dataframe thead th {\n",
              "        text-align: right;\n",
              "    }\n",
              "</style>\n",
              "<table border=\"1\" class=\"dataframe\">\n",
              "  <thead>\n",
              "    <tr style=\"text-align: right;\">\n",
              "      <th></th>\n",
              "      <th>price</th>\n",
              "      <th>area</th>\n",
              "      <th>bedrooms</th>\n",
              "      <th>bathrooms</th>\n",
              "      <th>stories</th>\n",
              "      <th>parking</th>\n",
              "    </tr>\n",
              "  </thead>\n",
              "  <tbody>\n",
              "    <tr>\n",
              "      <th>542</th>\n",
              "      <td>1750000</td>\n",
              "      <td>3620</td>\n",
              "      <td>2</td>\n",
              "      <td>1</td>\n",
              "      <td>1</td>\n",
              "      <td>0</td>\n",
              "    </tr>\n",
              "    <tr>\n",
              "      <th>496</th>\n",
              "      <td>2695000</td>\n",
              "      <td>4000</td>\n",
              "      <td>2</td>\n",
              "      <td>1</td>\n",
              "      <td>1</td>\n",
              "      <td>0</td>\n",
              "    </tr>\n",
              "    <tr>\n",
              "      <th>484</th>\n",
              "      <td>2870000</td>\n",
              "      <td>3040</td>\n",
              "      <td>2</td>\n",
              "      <td>1</td>\n",
              "      <td>1</td>\n",
              "      <td>0</td>\n",
              "    </tr>\n",
              "    <tr>\n",
              "      <th>507</th>\n",
              "      <td>2590000</td>\n",
              "      <td>3600</td>\n",
              "      <td>2</td>\n",
              "      <td>1</td>\n",
              "      <td>1</td>\n",
              "      <td>0</td>\n",
              "    </tr>\n",
              "    <tr>\n",
              "      <th>252</th>\n",
              "      <td>4515000</td>\n",
              "      <td>9860</td>\n",
              "      <td>3</td>\n",
              "      <td>1</td>\n",
              "      <td>1</td>\n",
              "      <td>0</td>\n",
              "    </tr>\n",
              "  </tbody>\n",
              "</table>\n",
              "</div>\n",
              "      <button class=\"colab-df-convert\" onclick=\"convertToInteractive('df-eb4a952f-5028-43ee-afdf-9e7059673ef2')\"\n",
              "              title=\"Convert this dataframe to an interactive table.\"\n",
              "              style=\"display:none;\">\n",
              "        \n",
              "  <svg xmlns=\"http://www.w3.org/2000/svg\" height=\"24px\"viewBox=\"0 0 24 24\"\n",
              "       width=\"24px\">\n",
              "    <path d=\"M0 0h24v24H0V0z\" fill=\"none\"/>\n",
              "    <path d=\"M18.56 5.44l.94 2.06.94-2.06 2.06-.94-2.06-.94-.94-2.06-.94 2.06-2.06.94zm-11 1L8.5 8.5l.94-2.06 2.06-.94-2.06-.94L8.5 2.5l-.94 2.06-2.06.94zm10 10l.94 2.06.94-2.06 2.06-.94-2.06-.94-.94-2.06-.94 2.06-2.06.94z\"/><path d=\"M17.41 7.96l-1.37-1.37c-.4-.4-.92-.59-1.43-.59-.52 0-1.04.2-1.43.59L10.3 9.45l-7.72 7.72c-.78.78-.78 2.05 0 2.83L4 21.41c.39.39.9.59 1.41.59.51 0 1.02-.2 1.41-.59l7.78-7.78 2.81-2.81c.8-.78.8-2.07 0-2.86zM5.41 20L4 18.59l7.72-7.72 1.47 1.35L5.41 20z\"/>\n",
              "  </svg>\n",
              "      </button>\n",
              "      \n",
              "  <style>\n",
              "    .colab-df-container {\n",
              "      display:flex;\n",
              "      flex-wrap:wrap;\n",
              "      gap: 12px;\n",
              "    }\n",
              "\n",
              "    .colab-df-convert {\n",
              "      background-color: #E8F0FE;\n",
              "      border: none;\n",
              "      border-radius: 50%;\n",
              "      cursor: pointer;\n",
              "      display: none;\n",
              "      fill: #1967D2;\n",
              "      height: 32px;\n",
              "      padding: 0 0 0 0;\n",
              "      width: 32px;\n",
              "    }\n",
              "\n",
              "    .colab-df-convert:hover {\n",
              "      background-color: #E2EBFA;\n",
              "      box-shadow: 0px 1px 2px rgba(60, 64, 67, 0.3), 0px 1px 3px 1px rgba(60, 64, 67, 0.15);\n",
              "      fill: #174EA6;\n",
              "    }\n",
              "\n",
              "    [theme=dark] .colab-df-convert {\n",
              "      background-color: #3B4455;\n",
              "      fill: #D2E3FC;\n",
              "    }\n",
              "\n",
              "    [theme=dark] .colab-df-convert:hover {\n",
              "      background-color: #434B5C;\n",
              "      box-shadow: 0px 1px 3px 1px rgba(0, 0, 0, 0.15);\n",
              "      filter: drop-shadow(0px 1px 2px rgba(0, 0, 0, 0.3));\n",
              "      fill: #FFFFFF;\n",
              "    }\n",
              "  </style>\n",
              "\n",
              "      <script>\n",
              "        const buttonEl =\n",
              "          document.querySelector('#df-eb4a952f-5028-43ee-afdf-9e7059673ef2 button.colab-df-convert');\n",
              "        buttonEl.style.display =\n",
              "          google.colab.kernel.accessAllowed ? 'block' : 'none';\n",
              "\n",
              "        async function convertToInteractive(key) {\n",
              "          const element = document.querySelector('#df-eb4a952f-5028-43ee-afdf-9e7059673ef2');\n",
              "          const dataTable =\n",
              "            await google.colab.kernel.invokeFunction('convertToInteractive',\n",
              "                                                     [key], {});\n",
              "          if (!dataTable) return;\n",
              "\n",
              "          const docLinkHtml = 'Like what you see? Visit the ' +\n",
              "            '<a target=\"_blank\" href=https://colab.research.google.com/notebooks/data_table.ipynb>data table notebook</a>'\n",
              "            + ' to learn more about interactive tables.';\n",
              "          element.innerHTML = '';\n",
              "          dataTable['output_type'] = 'display_data';\n",
              "          await google.colab.output.renderOutput(dataTable, element);\n",
              "          const docLink = document.createElement('div');\n",
              "          docLink.innerHTML = docLinkHtml;\n",
              "          element.appendChild(docLink);\n",
              "        }\n",
              "      </script>\n",
              "    </div>\n",
              "  </div>\n",
              "  "
            ]
          },
          "metadata": {},
          "execution_count": 885
        }
      ]
    },
    {
      "cell_type": "code",
      "source": [
        "import warnings\n",
        "warnings. filterwarnings( 'ignore' )\n",
        "from sklearn. preprocessing import MinMaxScaler, StandardScaler, Normalizer\n",
        "\n",
        "scaler = StandardScaler()\n",
        "#scaler = Normalizer()\n",
        "#scaler = MinMaxScaler()\n",
        "\n",
        "dfTrainC[list2] = scaler.fit_transform(dfTrainC[list2]) #for standardize\n",
        "dfTestC[list2] = scaler.fit_transform(dfTestC[list2])\n",
        "dfTrainC.head(10)"
      ],
      "metadata": {
        "colab": {
          "base_uri": "https://localhost:8080/",
          "height": 363
        },
        "id": "NDwPJeulnky4",
        "outputId": "51e50142-ea90-4b87-b2e1-67f877aa9ab3"
      },
      "execution_count": 886,
      "outputs": [
        {
          "output_type": "execute_result",
          "data": {
            "text/plain": [
              "        price      area  bedrooms  bathrooms   stories   parking\n",
              "542 -1.586001 -0.716772 -1.294376  -0.573307 -0.933142 -0.819149\n",
              "496 -1.090971 -0.538936 -1.294376  -0.573307 -0.933142 -0.819149\n",
              "484 -0.999299 -0.988206 -1.294376  -0.573307 -0.933142 -0.819149\n",
              "507 -1.145974 -0.726132 -1.294376  -0.573307 -0.933142 -0.819149\n",
              "252 -0.137579  2.203478  0.052516  -0.573307 -0.933142 -0.819149\n",
              "263 -0.192583 -0.553912  0.052516  -0.573307  0.212914 -0.819149\n",
              "240 -0.100910 -0.613815  0.052516  -0.573307  0.212914  0.325559\n",
              "175  0.247444  2.175399  1.399408   1.475561  0.212914  1.470267\n",
              "385 -0.632610 -0.707412 -1.294376  -0.573307 -0.933142 -0.819149\n",
              "374 -0.595941 -0.763571 -1.294376   1.475561 -0.933142 -0.819149"
            ],
            "text/html": [
              "\n",
              "  <div id=\"df-90f13c2d-3f67-431d-8972-94e05328a3ad\">\n",
              "    <div class=\"colab-df-container\">\n",
              "      <div>\n",
              "<style scoped>\n",
              "    .dataframe tbody tr th:only-of-type {\n",
              "        vertical-align: middle;\n",
              "    }\n",
              "\n",
              "    .dataframe tbody tr th {\n",
              "        vertical-align: top;\n",
              "    }\n",
              "\n",
              "    .dataframe thead th {\n",
              "        text-align: right;\n",
              "    }\n",
              "</style>\n",
              "<table border=\"1\" class=\"dataframe\">\n",
              "  <thead>\n",
              "    <tr style=\"text-align: right;\">\n",
              "      <th></th>\n",
              "      <th>price</th>\n",
              "      <th>area</th>\n",
              "      <th>bedrooms</th>\n",
              "      <th>bathrooms</th>\n",
              "      <th>stories</th>\n",
              "      <th>parking</th>\n",
              "    </tr>\n",
              "  </thead>\n",
              "  <tbody>\n",
              "    <tr>\n",
              "      <th>542</th>\n",
              "      <td>-1.586001</td>\n",
              "      <td>-0.716772</td>\n",
              "      <td>-1.294376</td>\n",
              "      <td>-0.573307</td>\n",
              "      <td>-0.933142</td>\n",
              "      <td>-0.819149</td>\n",
              "    </tr>\n",
              "    <tr>\n",
              "      <th>496</th>\n",
              "      <td>-1.090971</td>\n",
              "      <td>-0.538936</td>\n",
              "      <td>-1.294376</td>\n",
              "      <td>-0.573307</td>\n",
              "      <td>-0.933142</td>\n",
              "      <td>-0.819149</td>\n",
              "    </tr>\n",
              "    <tr>\n",
              "      <th>484</th>\n",
              "      <td>-0.999299</td>\n",
              "      <td>-0.988206</td>\n",
              "      <td>-1.294376</td>\n",
              "      <td>-0.573307</td>\n",
              "      <td>-0.933142</td>\n",
              "      <td>-0.819149</td>\n",
              "    </tr>\n",
              "    <tr>\n",
              "      <th>507</th>\n",
              "      <td>-1.145974</td>\n",
              "      <td>-0.726132</td>\n",
              "      <td>-1.294376</td>\n",
              "      <td>-0.573307</td>\n",
              "      <td>-0.933142</td>\n",
              "      <td>-0.819149</td>\n",
              "    </tr>\n",
              "    <tr>\n",
              "      <th>252</th>\n",
              "      <td>-0.137579</td>\n",
              "      <td>2.203478</td>\n",
              "      <td>0.052516</td>\n",
              "      <td>-0.573307</td>\n",
              "      <td>-0.933142</td>\n",
              "      <td>-0.819149</td>\n",
              "    </tr>\n",
              "    <tr>\n",
              "      <th>263</th>\n",
              "      <td>-0.192583</td>\n",
              "      <td>-0.553912</td>\n",
              "      <td>0.052516</td>\n",
              "      <td>-0.573307</td>\n",
              "      <td>0.212914</td>\n",
              "      <td>-0.819149</td>\n",
              "    </tr>\n",
              "    <tr>\n",
              "      <th>240</th>\n",
              "      <td>-0.100910</td>\n",
              "      <td>-0.613815</td>\n",
              "      <td>0.052516</td>\n",
              "      <td>-0.573307</td>\n",
              "      <td>0.212914</td>\n",
              "      <td>0.325559</td>\n",
              "    </tr>\n",
              "    <tr>\n",
              "      <th>175</th>\n",
              "      <td>0.247444</td>\n",
              "      <td>2.175399</td>\n",
              "      <td>1.399408</td>\n",
              "      <td>1.475561</td>\n",
              "      <td>0.212914</td>\n",
              "      <td>1.470267</td>\n",
              "    </tr>\n",
              "    <tr>\n",
              "      <th>385</th>\n",
              "      <td>-0.632610</td>\n",
              "      <td>-0.707412</td>\n",
              "      <td>-1.294376</td>\n",
              "      <td>-0.573307</td>\n",
              "      <td>-0.933142</td>\n",
              "      <td>-0.819149</td>\n",
              "    </tr>\n",
              "    <tr>\n",
              "      <th>374</th>\n",
              "      <td>-0.595941</td>\n",
              "      <td>-0.763571</td>\n",
              "      <td>-1.294376</td>\n",
              "      <td>1.475561</td>\n",
              "      <td>-0.933142</td>\n",
              "      <td>-0.819149</td>\n",
              "    </tr>\n",
              "  </tbody>\n",
              "</table>\n",
              "</div>\n",
              "      <button class=\"colab-df-convert\" onclick=\"convertToInteractive('df-90f13c2d-3f67-431d-8972-94e05328a3ad')\"\n",
              "              title=\"Convert this dataframe to an interactive table.\"\n",
              "              style=\"display:none;\">\n",
              "        \n",
              "  <svg xmlns=\"http://www.w3.org/2000/svg\" height=\"24px\"viewBox=\"0 0 24 24\"\n",
              "       width=\"24px\">\n",
              "    <path d=\"M0 0h24v24H0V0z\" fill=\"none\"/>\n",
              "    <path d=\"M18.56 5.44l.94 2.06.94-2.06 2.06-.94-2.06-.94-.94-2.06-.94 2.06-2.06.94zm-11 1L8.5 8.5l.94-2.06 2.06-.94-2.06-.94L8.5 2.5l-.94 2.06-2.06.94zm10 10l.94 2.06.94-2.06 2.06-.94-2.06-.94-.94-2.06-.94 2.06-2.06.94z\"/><path d=\"M17.41 7.96l-1.37-1.37c-.4-.4-.92-.59-1.43-.59-.52 0-1.04.2-1.43.59L10.3 9.45l-7.72 7.72c-.78.78-.78 2.05 0 2.83L4 21.41c.39.39.9.59 1.41.59.51 0 1.02-.2 1.41-.59l7.78-7.78 2.81-2.81c.8-.78.8-2.07 0-2.86zM5.41 20L4 18.59l7.72-7.72 1.47 1.35L5.41 20z\"/>\n",
              "  </svg>\n",
              "      </button>\n",
              "      \n",
              "  <style>\n",
              "    .colab-df-container {\n",
              "      display:flex;\n",
              "      flex-wrap:wrap;\n",
              "      gap: 12px;\n",
              "    }\n",
              "\n",
              "    .colab-df-convert {\n",
              "      background-color: #E8F0FE;\n",
              "      border: none;\n",
              "      border-radius: 50%;\n",
              "      cursor: pointer;\n",
              "      display: none;\n",
              "      fill: #1967D2;\n",
              "      height: 32px;\n",
              "      padding: 0 0 0 0;\n",
              "      width: 32px;\n",
              "    }\n",
              "\n",
              "    .colab-df-convert:hover {\n",
              "      background-color: #E2EBFA;\n",
              "      box-shadow: 0px 1px 2px rgba(60, 64, 67, 0.3), 0px 1px 3px 1px rgba(60, 64, 67, 0.15);\n",
              "      fill: #174EA6;\n",
              "    }\n",
              "\n",
              "    [theme=dark] .colab-df-convert {\n",
              "      background-color: #3B4455;\n",
              "      fill: #D2E3FC;\n",
              "    }\n",
              "\n",
              "    [theme=dark] .colab-df-convert:hover {\n",
              "      background-color: #434B5C;\n",
              "      box-shadow: 0px 1px 3px 1px rgba(0, 0, 0, 0.15);\n",
              "      filter: drop-shadow(0px 1px 2px rgba(0, 0, 0, 0.3));\n",
              "      fill: #FFFFFF;\n",
              "    }\n",
              "  </style>\n",
              "\n",
              "      <script>\n",
              "        const buttonEl =\n",
              "          document.querySelector('#df-90f13c2d-3f67-431d-8972-94e05328a3ad button.colab-df-convert');\n",
              "        buttonEl.style.display =\n",
              "          google.colab.kernel.accessAllowed ? 'block' : 'none';\n",
              "\n",
              "        async function convertToInteractive(key) {\n",
              "          const element = document.querySelector('#df-90f13c2d-3f67-431d-8972-94e05328a3ad');\n",
              "          const dataTable =\n",
              "            await google.colab.kernel.invokeFunction('convertToInteractive',\n",
              "                                                     [key], {});\n",
              "          if (!dataTable) return;\n",
              "\n",
              "          const docLinkHtml = 'Like what you see? Visit the ' +\n",
              "            '<a target=\"_blank\" href=https://colab.research.google.com/notebooks/data_table.ipynb>data table notebook</a>'\n",
              "            + ' to learn more about interactive tables.';\n",
              "          element.innerHTML = '';\n",
              "          dataTable['output_type'] = 'display_data';\n",
              "          await google.colab.output.renderOutput(dataTable, element);\n",
              "          const docLink = document.createElement('div');\n",
              "          docLink.innerHTML = docLinkHtml;\n",
              "          element.appendChild(docLink);\n",
              "        }\n",
              "      </script>\n",
              "    </div>\n",
              "  </div>\n",
              "  "
            ]
          },
          "metadata": {},
          "execution_count": 886
        }
      ]
    },
    {
      "cell_type": "code",
      "source": [
        "xTrain3 = dfTrainC.values[:,1:6]\n",
        "xTest3 = dfTestC.values[:,1:6]\n",
        "\n",
        "yTrain3 = dfTrainC.values[:,0]\n",
        "yTest3 = dfTestC.values[:,0]\n",
        "xTrain3.shape"
      ],
      "metadata": {
        "colab": {
          "base_uri": "https://localhost:8080/"
        },
        "id": "1axeMDjVoKE1",
        "outputId": "f1fb3e97-7428-4a4e-dedd-502b72356ab9"
      },
      "execution_count": 887,
      "outputs": [
        {
          "output_type": "execute_result",
          "data": {
            "text/plain": [
              "(436, 5)"
            ]
          },
          "metadata": {},
          "execution_count": 887
        }
      ]
    },
    {
      "cell_type": "code",
      "source": [
        "#matrix - 1col of ones \n",
        "x11 = np.ones((436, 1)) \n",
        "x12 = np.ones((109, 1))"
      ],
      "metadata": {
        "id": "8yLJq6fZoLjG"
      },
      "execution_count": 888,
      "outputs": []
    },
    {
      "cell_type": "code",
      "source": [
        "# 1d to 2d\n",
        "x21 = xTrain3.reshape(436, 5) \n",
        "x22 = xTest3.reshape(109, 5)"
      ],
      "metadata": {
        "id": "dJnjnvLRoM67"
      },
      "execution_count": 889,
      "outputs": []
    },
    {
      "cell_type": "code",
      "source": [
        "xTrainNew3 = np.hstack((x11, x21))\n",
        "xTestNew3 = np.hstack((x12, x22))\n",
        "xTrainNew3.shape"
      ],
      "metadata": {
        "colab": {
          "base_uri": "https://localhost:8080/"
        },
        "id": "WzAr7f-ToPMd",
        "outputId": "905c7315-605a-4d8f-b779-34130e23cee1"
      },
      "execution_count": 890,
      "outputs": [
        {
          "output_type": "execute_result",
          "data": {
            "text/plain": [
              "(436, 6)"
            ]
          },
          "metadata": {},
          "execution_count": 890
        }
      ]
    },
    {
      "cell_type": "code",
      "source": [
        "iterations = 5000; \n",
        "alpha = 0.01;\n",
        "# lamda : 0.5\n",
        "\n",
        "theta = [0., 0., 0., 0., 0., 0.]\n",
        "theta\n"
      ],
      "metadata": {
        "colab": {
          "base_uri": "https://localhost:8080/"
        },
        "id": "UW2HnuqzoRC8",
        "outputId": "cf84a96a-124f-4d08-91ca-99ca2a94d95c"
      },
      "execution_count": 891,
      "outputs": [
        {
          "output_type": "execute_result",
          "data": {
            "text/plain": [
              "[0.0, 0.0, 0.0, 0.0, 0.0, 0.0]"
            ]
          },
          "metadata": {},
          "execution_count": 891
        }
      ]
    },
    {
      "cell_type": "code",
      "source": [
        "def compute_cost_reg(X, Y, theta, lamda): \n",
        "    predictions = X.dot(theta) \n",
        "    errors = np.subtract(predictions, Y) \n",
        "    sqrErrors = np.square(errors) \n",
        "    sqrErrors = np.sum(sqrErrors)\n",
        "    reg_term = lamda * np.sum(np.square(theta))\n",
        "    J = 1 / (2 * m) * np.sum(sqrErrors + reg_term)\n",
        "    return J"
      ],
      "metadata": {
        "id": "tkBRvO8yoSjj"
      },
      "execution_count": 892,
      "outputs": []
    },
    {
      "cell_type": "code",
      "source": [
        "def gradient_descent_reg(X1, X2, Y1 , Y2, theta, alpha, iterations, lamda):\n",
        "    costHistoryTrain = np.zeros(iterations) \n",
        "    costHistoryTest = np.zeros(iterations) \n",
        "\n",
        "    for i in range(iterations): \n",
        "        predictions = X1.dot(theta) \n",
        "        errors = np.subtract(predictions, Y1) \n",
        "        sum_delta = (alpha / m) * X1.transpose().dot(errors); \n",
        "        theta = theta - sum_delta;\n",
        "        costHistoryTrain[i] = compute_cost_reg(X1, Y1, theta, lamda)   \n",
        "        costHistoryTest[i] = compute_cost(X2, Y2, theta)\n",
        "    return theta, costHistoryTrain, costHistoryTest"
      ],
      "metadata": {
        "id": "1lXoSlJhoXc1"
      },
      "execution_count": 893,
      "outputs": []
    },
    {
      "cell_type": "code",
      "source": [
        "theta, costHistoryTrain, costHistoryTest = gradient_descent_reg(xTrainNew3, xTestNew3, yTrain3, yTest3, theta, alpha, iterations, lamda=5) \n",
        "print('Final value of theta =', theta) \n",
        "print('costHistoryTrain =', costHistoryTrain[-1], 'costHistoryTest= ', costHistoryTest[-1])"
      ],
      "metadata": {
        "colab": {
          "base_uri": "https://localhost:8080/"
        },
        "id": "5LyoLvUYoY_k",
        "outputId": "453d6c17-a45f-40b7-c39c-c3c688d91a4c"
      },
      "execution_count": 894,
      "outputs": [
        {
          "output_type": "stream",
          "name": "stdout",
          "text": [
            "Final value of theta = [2.69101764e-16 3.88481823e-01 8.90638389e-02 3.04158794e-01\n",
            " 2.40439813e-01 1.60108157e-01]\n",
            "costHistoryTrain = 0.1800128798827366 costHistoryTest=  0.03889723142980106\n"
          ]
        }
      ]
    },
    {
      "cell_type": "code",
      "source": [
        "plt.plot(costHistoryTrain, label = \"Training data\")\n",
        "plt.plot(costHistoryTest, label = \"Testing data\")"
      ],
      "metadata": {
        "colab": {
          "base_uri": "https://localhost:8080/",
          "height": 283
        },
        "id": "EAlO467boahM",
        "outputId": "8a3423a6-6f97-49b4-e0f8-e3733fbaeeda"
      },
      "execution_count": 895,
      "outputs": [
        {
          "output_type": "execute_result",
          "data": {
            "text/plain": [
              "[<matplotlib.lines.Line2D at 0x7f0f3e8cf9a0>]"
            ]
          },
          "metadata": {},
          "execution_count": 895
        },
        {
          "output_type": "display_data",
          "data": {
            "text/plain": [
              "<Figure size 432x288 with 1 Axes>"
            ],
            "image/png": "[encoded data removed]"
          },
          "metadata": {
            "needs_background": "light"
          }
        }
      ]
    },
    {
      "cell_type": "code",
      "source": [
        "print(\"Final Theta - \")\n",
        "print(theta)"
      ],
      "metadata": {
        "colab": {
          "base_uri": "https://localhost:8080/"
        },
        "id": "6VDhBZ0Y9zpE",
        "outputId": "c83d5274-e1ad-4bbc-ad3f-975c61e162a0"
      },
      "execution_count": 896,
      "outputs": [
        {
          "output_type": "stream",
          "name": "stdout",
          "text": [
            "Final Theta - \n",
            "[2.69101764e-16 3.88481823e-01 8.90638389e-02 3.04158794e-01\n",
            " 2.40439813e-01 1.60108157e-01]\n"
          ]
        }
      ]
    }
  ]
}