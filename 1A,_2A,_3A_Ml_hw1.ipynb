{
  "nbformat": 4,
  "nbformat_minor": 0,
  "metadata": {
    "colab": {
      "provenance": []
    },
    "kernelspec": {
      "name": "python3",
      "display_name": "Python 3"
    },
    "language_info": {
      "name": "python"
    }
  },
  "cells": [
    {
      "cell_type": "markdown",
      "source": [
        "Q1A, 2A, 3A"
      ],
      "metadata": {
        "id": "hLGK5JRq9Def"
      }
    },
    {
      "cell_type": "markdown",
      "source": [
        "1A"
      ],
      "metadata": {
        "id": "LuyoBvj39MUZ"
      }
    },
    {
      "cell_type": "code",
      "execution_count": 937,
      "metadata": {
        "id": "BnqApUPZTv7l"
      },
      "outputs": [],
      "source": [
        "import numpy as np\n",
        "import pandas as pd\n",
        "import matplotlib.pyplot as plt\n",
        "from sklearn.model_selection import train_test_split\n"
      ]
    },
    {
      "cell_type": "code",
      "source": [
        "df = pd.DataFrame(pd.read_csv('https://raw.githubusercontent.com/Onkar-Indurkar/Intro-to-ML/main/Housing.csv'))\n",
        "df.head()\n",
        "m = len(df)"
      ],
      "metadata": {
        "id": "Heppf1p6T4a9"
      },
      "execution_count": 938,
      "outputs": []
    },
    {
      "cell_type": "code",
      "source": [
        "#splitting dataframe into 80% training data & 20% testing data\n",
        "np.random.seed(0)\n",
        "dfTrain, dfTest =train_test_split(df, train_size = 0.8, test_size = 0.2)\n",
        "dfTrain.shape"
      ],
      "metadata": {
        "colab": {
          "base_uri": "https://localhost:8080/"
        },
        "id": "KX7OSeS0UN6P",
        "outputId": "a4121924-d7d3-4507-cf10-cbe54bec1187"
      },
      "execution_count": 939,
      "outputs": [
        {
          "output_type": "execute_result",
          "data": {
            "text/plain": [
              "(436, 13)"
            ]
          },
          "metadata": {},
          "execution_count": 939
        }
      ]
    },
    {
      "cell_type": "code",
      "source": [
        "list2 = ['price', 'area', 'bedrooms', 'bathrooms', 'stories', 'parking']\n",
        "dfTrainA = dfTrain[list2]\n",
        "dfTestA = dfTest[list2]\n",
        "dfTrainA.head()"
      ],
      "metadata": {
        "colab": {
          "base_uri": "https://localhost:8080/",
          "height": 206
        },
        "id": "EPs8IAGLa9Sp",
        "outputId": "1ddeb75b-0138-4545-dd5e-5893398e3c14"
      },
      "execution_count": 940,
      "outputs": [
        {
          "output_type": "execute_result",
          "data": {
            "text/plain": [
              "       price  area  bedrooms  bathrooms  stories  parking\n",
              "542  1750000  3620         2          1        1        0\n",
              "496  2695000  4000         2          1        1        0\n",
              "484  2870000  3040         2          1        1        0\n",
              "507  2590000  3600         2          1        1        0\n",
              "252  4515000  9860         3          1        1        0"
            ],
            "text/html": [
              "\n",
              "  <div id=\"df-527125f8-f679-4f80-b459-f4b7013da600\">\n",
              "    <div class=\"colab-df-container\">\n",
              "      <div>\n",
              "<style scoped>\n",
              "    .dataframe tbody tr th:only-of-type {\n",
              "        vertical-align: middle;\n",
              "    }\n",
              "\n",
              "    .dataframe tbody tr th {\n",
              "        vertical-align: top;\n",
              "    }\n",
              "\n",
              "    .dataframe thead th {\n",
              "        text-align: right;\n",
              "    }\n",
              "</style>\n",
              "<table border=\"1\" class=\"dataframe\">\n",
              "  <thead>\n",
              "    <tr style=\"text-align: right;\">\n",
              "      <th></th>\n",
              "      <th>price</th>\n",
              "      <th>area</th>\n",
              "      <th>bedrooms</th>\n",
              "      <th>bathrooms</th>\n",
              "      <th>stories</th>\n",
              "      <th>parking</th>\n",
              "    </tr>\n",
              "  </thead>\n",
              "  <tbody>\n",
              "    <tr>\n",
              "      <th>542</th>\n",
              "      <td>1750000</td>\n",
              "      <td>3620</td>\n",
              "      <td>2</td>\n",
              "      <td>1</td>\n",
              "      <td>1</td>\n",
              "      <td>0</td>\n",
              "    </tr>\n",
              "    <tr>\n",
              "      <th>496</th>\n",
              "      <td>2695000</td>\n",
              "      <td>4000</td>\n",
              "      <td>2</td>\n",
              "      <td>1</td>\n",
              "      <td>1</td>\n",
              "      <td>0</td>\n",
              "    </tr>\n",
              "    <tr>\n",
              "      <th>484</th>\n",
              "      <td>2870000</td>\n",
              "      <td>3040</td>\n",
              "      <td>2</td>\n",
              "      <td>1</td>\n",
              "      <td>1</td>\n",
              "      <td>0</td>\n",
              "    </tr>\n",
              "    <tr>\n",
              "      <th>507</th>\n",
              "      <td>2590000</td>\n",
              "      <td>3600</td>\n",
              "      <td>2</td>\n",
              "      <td>1</td>\n",
              "      <td>1</td>\n",
              "      <td>0</td>\n",
              "    </tr>\n",
              "    <tr>\n",
              "      <th>252</th>\n",
              "      <td>4515000</td>\n",
              "      <td>9860</td>\n",
              "      <td>3</td>\n",
              "      <td>1</td>\n",
              "      <td>1</td>\n",
              "      <td>0</td>\n",
              "    </tr>\n",
              "  </tbody>\n",
              "</table>\n",
              "</div>\n",
              "      <button class=\"colab-df-convert\" onclick=\"convertToInteractive('df-527125f8-f679-4f80-b459-f4b7013da600')\"\n",
              "              title=\"Convert this dataframe to an interactive table.\"\n",
              "              style=\"display:none;\">\n",
              "        \n",
              "  <svg xmlns=\"http://www.w3.org/2000/svg\" height=\"24px\"viewBox=\"0 0 24 24\"\n",
              "       width=\"24px\">\n",
              "    <path d=\"M0 0h24v24H0V0z\" fill=\"none\"/>\n",
              "    <path d=\"M18.56 5.44l.94 2.06.94-2.06 2.06-.94-2.06-.94-.94-2.06-.94 2.06-2.06.94zm-11 1L8.5 8.5l.94-2.06 2.06-.94-2.06-.94L8.5 2.5l-.94 2.06-2.06.94zm10 10l.94 2.06.94-2.06 2.06-.94-2.06-.94-.94-2.06-.94 2.06-2.06.94z\"/><path d=\"M17.41 7.96l-1.37-1.37c-.4-.4-.92-.59-1.43-.59-.52 0-1.04.2-1.43.59L10.3 9.45l-7.72 7.72c-.78.78-.78 2.05 0 2.83L4 21.41c.39.39.9.59 1.41.59.51 0 1.02-.2 1.41-.59l7.78-7.78 2.81-2.81c.8-.78.8-2.07 0-2.86zM5.41 20L4 18.59l7.72-7.72 1.47 1.35L5.41 20z\"/>\n",
              "  </svg>\n",
              "      </button>\n",
              "      \n",
              "  <style>\n",
              "    .colab-df-container {\n",
              "      display:flex;\n",
              "      flex-wrap:wrap;\n",
              "      gap: 12px;\n",
              "    }\n",
              "\n",
              "    .colab-df-convert {\n",
              "      background-color: #E8F0FE;\n",
              "      border: none;\n",
              "      border-radius: 50%;\n",
              "      cursor: pointer;\n",
              "      display: none;\n",
              "      fill: #1967D2;\n",
              "      height: 32px;\n",
              "      padding: 0 0 0 0;\n",
              "      width: 32px;\n",
              "    }\n",
              "\n",
              "    .colab-df-convert:hover {\n",
              "      background-color: #E2EBFA;\n",
              "      box-shadow: 0px 1px 2px rgba(60, 64, 67, 0.3), 0px 1px 3px 1px rgba(60, 64, 67, 0.15);\n",
              "      fill: #174EA6;\n",
              "    }\n",
              "\n",
              "    [theme=dark] .colab-df-convert {\n",
              "      background-color: #3B4455;\n",
              "      fill: #D2E3FC;\n",
              "    }\n",
              "\n",
              "    [theme=dark] .colab-df-convert:hover {\n",
              "      background-color: #434B5C;\n",
              "      box-shadow: 0px 1px 3px 1px rgba(0, 0, 0, 0.15);\n",
              "      filter: drop-shadow(0px 1px 2px rgba(0, 0, 0, 0.3));\n",
              "      fill: #FFFFFF;\n",
              "    }\n",
              "  </style>\n",
              "\n",
              "      <script>\n",
              "        const buttonEl =\n",
              "          document.querySelector('#df-527125f8-f679-4f80-b459-f4b7013da600 button.colab-df-convert');\n",
              "        buttonEl.style.display =\n",
              "          google.colab.kernel.accessAllowed ? 'block' : 'none';\n",
              "\n",
              "        async function convertToInteractive(key) {\n",
              "          const element = document.querySelector('#df-527125f8-f679-4f80-b459-f4b7013da600');\n",
              "          const dataTable =\n",
              "            await google.colab.kernel.invokeFunction('convertToInteractive',\n",
              "                                                     [key], {});\n",
              "          if (!dataTable) return;\n",
              "\n",
              "          const docLinkHtml = 'Like what you see? Visit the ' +\n",
              "            '<a target=\"_blank\" href=https://colab.research.google.com/notebooks/data_table.ipynb>data table notebook</a>'\n",
              "            + ' to learn more about interactive tables.';\n",
              "          element.innerHTML = '';\n",
              "          dataTable['output_type'] = 'display_data';\n",
              "          await google.colab.output.renderOutput(dataTable, element);\n",
              "          const docLink = document.createElement('div');\n",
              "          docLink.innerHTML = docLinkHtml;\n",
              "          element.appendChild(docLink);\n",
              "        }\n",
              "      </script>\n",
              "    </div>\n",
              "  </div>\n",
              "  "
            ]
          },
          "metadata": {},
          "execution_count": 940
        }
      ]
    },
    {
      "cell_type": "code",
      "source": [
        "dfTrainA.shape\n"
      ],
      "metadata": {
        "colab": {
          "base_uri": "https://localhost:8080/"
        },
        "id": "qgKzv3RbbAf1",
        "outputId": "fef36e44-1745-4961-cd33-e14e7fa9f8de"
      },
      "execution_count": 941,
      "outputs": [
        {
          "output_type": "execute_result",
          "data": {
            "text/plain": [
              "(436, 6)"
            ]
          },
          "metadata": {},
          "execution_count": 941
        }
      ]
    },
    {
      "cell_type": "code",
      "source": [
        "xTrain = dfTrainA.values[:,1:6]\n",
        "xTest = dfTestA.values[:,1:6]\n",
        "\n",
        "yTrain = dfTrainA.values[:,0]\n",
        "yTest = dfTestA.values[:,0]\n",
        "xTrain.shape\n"
      ],
      "metadata": {
        "colab": {
          "base_uri": "https://localhost:8080/"
        },
        "id": "21JwXq7pbEpQ",
        "outputId": "71e7473b-f36f-483f-e87a-84b29885a314"
      },
      "execution_count": 942,
      "outputs": [
        {
          "output_type": "execute_result",
          "data": {
            "text/plain": [
              "(436, 5)"
            ]
          },
          "metadata": {},
          "execution_count": 942
        }
      ]
    },
    {
      "cell_type": "code",
      "source": [
        "xTest.shape\n"
      ],
      "metadata": {
        "colab": {
          "base_uri": "https://localhost:8080/"
        },
        "id": "pMaIHrg_bKcn",
        "outputId": "2feb7f16-b68f-4751-ba41-4b4e24566278"
      },
      "execution_count": 943,
      "outputs": [
        {
          "output_type": "execute_result",
          "data": {
            "text/plain": [
              "(109, 5)"
            ]
          },
          "metadata": {},
          "execution_count": 943
        }
      ]
    },
    {
      "cell_type": "code",
      "source": [
        "#1 col of ones\n",
        "x11 = np.ones((436, 1)) \n",
        "x12 = np.ones((109, 1))"
      ],
      "metadata": {
        "id": "VxHcMWF9bNUt"
      },
      "execution_count": 944,
      "outputs": []
    },
    {
      "cell_type": "code",
      "source": [
        "# 1d to 2d\n",
        "x21 = xTrain.reshape(436, 5) \n",
        "x22 = xTest.reshape(109, 5)"
      ],
      "metadata": {
        "id": "N5ZTueoybPq9"
      },
      "execution_count": 945,
      "outputs": []
    },
    {
      "cell_type": "code",
      "source": [
        "xTrainNew = np.hstack((x11, x21))\n",
        "xTestNew = np.hstack((x12, x22))\n",
        "xTrainNew.shape\n"
      ],
      "metadata": {
        "colab": {
          "base_uri": "https://localhost:8080/"
        },
        "id": "b8eaXq-xbSQ0",
        "outputId": "49c27a79-ded3-458b-f3a3-94566d494eaa"
      },
      "execution_count": 946,
      "outputs": [
        {
          "output_type": "execute_result",
          "data": {
            "text/plain": [
              "(436, 6)"
            ]
          },
          "metadata": {},
          "execution_count": 946
        }
      ]
    },
    {
      "cell_type": "code",
      "source": [
        "iterations = 1000; \n",
        "alpha = 0.000000001;\n",
        "\n",
        "theta = [0., 0., 0., 0., 0., 0.]\n",
        "theta"
      ],
      "metadata": {
        "colab": {
          "base_uri": "https://localhost:8080/"
        },
        "id": "v4AGRdhGbYu9",
        "outputId": "a3ef620b-078d-42e5-cc2a-172b615a4011"
      },
      "execution_count": 947,
      "outputs": [
        {
          "output_type": "execute_result",
          "data": {
            "text/plain": [
              "[0.0, 0.0, 0.0, 0.0, 0.0, 0.0]"
            ]
          },
          "metadata": {},
          "execution_count": 947
        }
      ]
    },
    {
      "cell_type": "code",
      "source": [
        "def compute_cost(X, Y, theta): \n",
        "    predictions = X.dot(theta) \n",
        "    errors = np.subtract(predictions, Y) \n",
        "    sqrErrors = np.square(errors) \n",
        "    J = 1 / (2 * m) * np.sum(sqrErrors) \n",
        "\n",
        "    return J"
      ],
      "metadata": {
        "id": "R0kci072bbaT"
      },
      "execution_count": 948,
      "outputs": []
    },
    {
      "cell_type": "code",
      "source": [
        "def gradient_descent(X1, X2, Y1 , Y2, theta, alpha, iterations):\n",
        "    costHistoryTrain = np.zeros(iterations) \n",
        "    costHistoryTest = np.zeros(iterations) \n",
        "\n",
        "    for i in range(iterations): \n",
        "        predictions = X1.dot(theta) \n",
        "        errors = np.subtract(predictions, Y1) \n",
        "        sum_delta = (alpha / m) * X1.transpose().dot(errors); \n",
        "        theta = theta - sum_delta; \n",
        "        costHistoryTrain[i] = compute_cost(X1, Y1, theta)   \n",
        "        costHistoryTest[i] = compute_cost(X2, Y2, theta)\n",
        "    return theta, costHistoryTrain, costHistoryTest"
      ],
      "metadata": {
        "id": "V-Etzntzbe7y"
      },
      "execution_count": 949,
      "outputs": []
    },
    {
      "cell_type": "code",
      "source": [
        "theta, costHistoryTrain, costHistoryTest = gradient_descent(xTrainNew, xTestNew, yTrain, yTest, theta, alpha, iterations) \n",
        "print('Final value of theta =', theta) \n",
        "print('costHistoryTrain =', costHistoryTrain[-1], 'costHistoryTest= ', costHistoryTest[-1])\n",
        "\n",
        "# print('costHistoryTest array =')\n",
        "# costHistoryTest"
      ],
      "metadata": {
        "colab": {
          "base_uri": "https://localhost:8080/"
        },
        "id": "nrXKQ7V2bkHy",
        "outputId": "478cfdb5-b36e-4067-8b13-3abe9cbdf466"
      },
      "execution_count": 950,
      "outputs": [
        {
          "output_type": "stream",
          "name": "stdout",
          "text": [
            "Final value of theta = [4.16134544e-01 8.61036321e+02 1.49720341e+00 7.88268207e-01\n",
            " 1.19127741e+00 3.85293408e-01]\n",
            "costHistoryTrain = 1363688825124.9084 costHistoryTest=  310132134530.36285\n"
          ]
        }
      ]
    },
    {
      "cell_type": "code",
      "source": [
        "plt.plot(costHistoryTrain, label = \"Training data\")\n",
        "plt.plot(costHistoryTest, label = \"Testing data\")\n",
        "plt.rcParams[\"figure.figsize\"] = (10,6)\n",
        "plt.grid()\n",
        "plt.xlabel('iterations')\n",
        "plt.ylabel('Cost J')\n",
        "plt.title('Convergence of gradient descent')\n",
        "plt.legend()"
      ],
      "metadata": {
        "colab": {
          "base_uri": "https://localhost:8080/",
          "height": 313
        },
        "id": "gmiX2Wujbr35",
        "outputId": "f8f17c1f-4078-4c3c-950c-712cc7f7e687"
      },
      "execution_count": 951,
      "outputs": [
        {
          "output_type": "execute_result",
          "data": {
            "text/plain": [
              "<matplotlib.legend.Legend at 0x7f0f3daf8be0>"
            ]
          },
          "metadata": {},
          "execution_count": 951
        },
        {
          "output_type": "display_data",
          "data": {
            "text/plain": [
              "<Figure size 432x288 with 1 Axes>"
            ],
            "image/png": "[encoded data removed]"
          },
          "metadata": {
            "needs_background": "light"
          }
        }
      ]
    },
    {
      "cell_type": "code",
      "source": [
        "print(\"Final Theta - \")\n",
        "print(theta)"
      ],
      "metadata": {
        "colab": {
          "base_uri": "https://localhost:8080/"
        },
        "id": "LZ2f18Ou-YHM",
        "outputId": "e3159f2c-b3d1-46c1-e41c-de99c95b9495"
      },
      "execution_count": 952,
      "outputs": [
        {
          "output_type": "stream",
          "name": "stdout",
          "text": [
            "Final Theta - \n",
            "[4.16134544e-01 8.61036321e+02 1.49720341e+00 7.88268207e-01\n",
            " 1.19127741e+00 3.85293408e-01]\n"
          ]
        }
      ]
    },
    {
      "cell_type": "markdown",
      "source": [
        "2A Normalizer"
      ],
      "metadata": {
        "id": "VeSw2Dnpx1CE"
      }
    },
    {
      "cell_type": "code",
      "source": [
        "df = pd.DataFrame(pd.read_csv('https://raw.githubusercontent.com/Onkar-Indurkar/Intro-to-ML/main/Housing.csv'))\n",
        "df.head()\n",
        "m = len(df)"
      ],
      "metadata": {
        "id": "7LjpfwaZx2-B"
      },
      "execution_count": 953,
      "outputs": []
    },
    {
      "cell_type": "code",
      "source": [
        "#splitting dataframe into 80% training data & 20% testing data\n",
        "np.random.seed(0)\n",
        "dfTrain, dfTest =train_test_split(df, train_size = 0.8, test_size = 0.2)\n",
        "dfTrain.shape"
      ],
      "metadata": {
        "colab": {
          "base_uri": "https://localhost:8080/"
        },
        "id": "ULpQE8O-x6B5",
        "outputId": "7aa502a1-649b-49df-f823-3746c9ca9e7b"
      },
      "execution_count": 954,
      "outputs": [
        {
          "output_type": "execute_result",
          "data": {
            "text/plain": [
              "(436, 13)"
            ]
          },
          "metadata": {},
          "execution_count": 954
        }
      ]
    },
    {
      "cell_type": "code",
      "source": [
        "list2 = ['price', 'area', 'bedrooms', 'bathrooms', 'stories', 'parking']\n",
        "dfTrainB = dfTrain[list2]\n",
        "dfTestB = dfTest[list2]\n",
        "dfTrainB.head()"
      ],
      "metadata": {
        "colab": {
          "base_uri": "https://localhost:8080/",
          "height": 206
        },
        "id": "aJO7_HJox_It",
        "outputId": "52a20752-daeb-43b2-9285-a754c1330760"
      },
      "execution_count": 955,
      "outputs": [
        {
          "output_type": "execute_result",
          "data": {
            "text/plain": [
              "       price  area  bedrooms  bathrooms  stories  parking\n",
              "542  1750000  3620         2          1        1        0\n",
              "496  2695000  4000         2          1        1        0\n",
              "484  2870000  3040         2          1        1        0\n",
              "507  2590000  3600         2          1        1        0\n",
              "252  4515000  9860         3          1        1        0"
            ],
            "text/html": [
              "\n",
              "  <div id=\"df-e7e04bf1-eda6-44b4-9236-5a7a35b7ae27\">\n",
              "    <div class=\"colab-df-container\">\n",
              "      <div>\n",
              "<style scoped>\n",
              "    .dataframe tbody tr th:only-of-type {\n",
              "        vertical-align: middle;\n",
              "    }\n",
              "\n",
              "    .dataframe tbody tr th {\n",
              "        vertical-align: top;\n",
              "    }\n",
              "\n",
              "    .dataframe thead th {\n",
              "        text-align: right;\n",
              "    }\n",
              "</style>\n",
              "<table border=\"1\" class=\"dataframe\">\n",
              "  <thead>\n",
              "    <tr style=\"text-align: right;\">\n",
              "      <th></th>\n",
              "      <th>price</th>\n",
              "      <th>area</th>\n",
              "      <th>bedrooms</th>\n",
              "      <th>bathrooms</th>\n",
              "      <th>stories</th>\n",
              "      <th>parking</th>\n",
              "    </tr>\n",
              "  </thead>\n",
              "  <tbody>\n",
              "    <tr>\n",
              "      <th>542</th>\n",
              "      <td>1750000</td>\n",
              "      <td>3620</td>\n",
              "      <td>2</td>\n",
              "      <td>1</td>\n",
              "      <td>1</td>\n",
              "      <td>0</td>\n",
              "    </tr>\n",
              "    <tr>\n",
              "      <th>496</th>\n",
              "      <td>2695000</td>\n",
              "      <td>4000</td>\n",
              "      <td>2</td>\n",
              "      <td>1</td>\n",
              "      <td>1</td>\n",
              "      <td>0</td>\n",
              "    </tr>\n",
              "    <tr>\n",
              "      <th>484</th>\n",
              "      <td>2870000</td>\n",
              "      <td>3040</td>\n",
              "      <td>2</td>\n",
              "      <td>1</td>\n",
              "      <td>1</td>\n",
              "      <td>0</td>\n",
              "    </tr>\n",
              "    <tr>\n",
              "      <th>507</th>\n",
              "      <td>2590000</td>\n",
              "      <td>3600</td>\n",
              "      <td>2</td>\n",
              "      <td>1</td>\n",
              "      <td>1</td>\n",
              "      <td>0</td>\n",
              "    </tr>\n",
              "    <tr>\n",
              "      <th>252</th>\n",
              "      <td>4515000</td>\n",
              "      <td>9860</td>\n",
              "      <td>3</td>\n",
              "      <td>1</td>\n",
              "      <td>1</td>\n",
              "      <td>0</td>\n",
              "    </tr>\n",
              "  </tbody>\n",
              "</table>\n",
              "</div>\n",
              "      <button class=\"colab-df-convert\" onclick=\"convertToInteractive('df-e7e04bf1-eda6-44b4-9236-5a7a35b7ae27')\"\n",
              "              title=\"Convert this dataframe to an interactive table.\"\n",
              "              style=\"display:none;\">\n",
              "        \n",
              "  <svg xmlns=\"http://www.w3.org/2000/svg\" height=\"24px\"viewBox=\"0 0 24 24\"\n",
              "       width=\"24px\">\n",
              "    <path d=\"M0 0h24v24H0V0z\" fill=\"none\"/>\n",
              "    <path d=\"M18.56 5.44l.94 2.06.94-2.06 2.06-.94-2.06-.94-.94-2.06-.94 2.06-2.06.94zm-11 1L8.5 8.5l.94-2.06 2.06-.94-2.06-.94L8.5 2.5l-.94 2.06-2.06.94zm10 10l.94 2.06.94-2.06 2.06-.94-2.06-.94-.94-2.06-.94 2.06-2.06.94z\"/><path d=\"M17.41 7.96l-1.37-1.37c-.4-.4-.92-.59-1.43-.59-.52 0-1.04.2-1.43.59L10.3 9.45l-7.72 7.72c-.78.78-.78 2.05 0 2.83L4 21.41c.39.39.9.59 1.41.59.51 0 1.02-.2 1.41-.59l7.78-7.78 2.81-2.81c.8-.78.8-2.07 0-2.86zM5.41 20L4 18.59l7.72-7.72 1.47 1.35L5.41 20z\"/>\n",
              "  </svg>\n",
              "      </button>\n",
              "      \n",
              "  <style>\n",
              "    .colab-df-container {\n",
              "      display:flex;\n",
              "      flex-wrap:wrap;\n",
              "      gap: 12px;\n",
              "    }\n",
              "\n",
              "    .colab-df-convert {\n",
              "      background-color: #E8F0FE;\n",
              "      border: none;\n",
              "      border-radius: 50%;\n",
              "      cursor: pointer;\n",
              "      display: none;\n",
              "      fill: #1967D2;\n",
              "      height: 32px;\n",
              "      padding: 0 0 0 0;\n",
              "      width: 32px;\n",
              "    }\n",
              "\n",
              "    .colab-df-convert:hover {\n",
              "      background-color: #E2EBFA;\n",
              "      box-shadow: 0px 1px 2px rgba(60, 64, 67, 0.3), 0px 1px 3px 1px rgba(60, 64, 67, 0.15);\n",
              "      fill: #174EA6;\n",
              "    }\n",
              "\n",
              "    [theme=dark] .colab-df-convert {\n",
              "      background-color: #3B4455;\n",
              "      fill: #D2E3FC;\n",
              "    }\n",
              "\n",
              "    [theme=dark] .colab-df-convert:hover {\n",
              "      background-color: #434B5C;\n",
              "      box-shadow: 0px 1px 3px 1px rgba(0, 0, 0, 0.15);\n",
              "      filter: drop-shadow(0px 1px 2px rgba(0, 0, 0, 0.3));\n",
              "      fill: #FFFFFF;\n",
              "    }\n",
              "  </style>\n",
              "\n",
              "      <script>\n",
              "        const buttonEl =\n",
              "          document.querySelector('#df-e7e04bf1-eda6-44b4-9236-5a7a35b7ae27 button.colab-df-convert');\n",
              "        buttonEl.style.display =\n",
              "          google.colab.kernel.accessAllowed ? 'block' : 'none';\n",
              "\n",
              "        async function convertToInteractive(key) {\n",
              "          const element = document.querySelector('#df-e7e04bf1-eda6-44b4-9236-5a7a35b7ae27');\n",
              "          const dataTable =\n",
              "            await google.colab.kernel.invokeFunction('convertToInteractive',\n",
              "                                                     [key], {});\n",
              "          if (!dataTable) return;\n",
              "\n",
              "          const docLinkHtml = 'Like what you see? Visit the ' +\n",
              "            '<a target=\"_blank\" href=https://colab.research.google.com/notebooks/data_table.ipynb>data table notebook</a>'\n",
              "            + ' to learn more about interactive tables.';\n",
              "          element.innerHTML = '';\n",
              "          dataTable['output_type'] = 'display_data';\n",
              "          await google.colab.output.renderOutput(dataTable, element);\n",
              "          const docLink = document.createElement('div');\n",
              "          docLink.innerHTML = docLinkHtml;\n",
              "          element.appendChild(docLink);\n",
              "        }\n",
              "      </script>\n",
              "    </div>\n",
              "  </div>\n",
              "  "
            ]
          },
          "metadata": {},
          "execution_count": 955
        }
      ]
    },
    {
      "cell_type": "code",
      "source": [
        "#from matplotlib.colors import Normalize\n",
        "\n",
        "import warnings\n",
        "warnings. filterwarnings( 'ignore' )\n",
        "from sklearn. preprocessing import MinMaxScaler, StandardScaler, Normalizer\n",
        "\n",
        "#scaler = StandardScaler()  #uncomment when testing standardization\n",
        "scaler = Normalizer()       #uncomment when testing normalization\n",
        "#scaler = MinMaxScaler()     #uncomment when testing Minmaxscaler\n",
        "\n",
        "# dfTrainB[list2] = scaler(dfTrainB[list2]) #for normalize\n",
        "# dfTestB[list2] = scaler(dfTestB[list2])\n",
        "\n",
        "dfTrainB[list2] = scaler.fit_transform(dfTrainB[list2])\n",
        "dfTestB[list2] = scaler.fit_transform(dfTestB[list2])\n",
        "dfTrainB.head(10)"
      ],
      "metadata": {
        "colab": {
          "base_uri": "https://localhost:8080/",
          "height": 363
        },
        "id": "pENW7aU0yDno",
        "outputId": "1e694a60-130c-411b-acec-ded834116761"
      },
      "execution_count": 956,
      "outputs": [
        {
          "output_type": "execute_result",
          "data": {
            "text/plain": [
              "        price      area      bedrooms     bathrooms       stories  \\\n",
              "542  0.999998  0.002069  1.142855e-06  5.714273e-07  5.714273e-07   \n",
              "496  0.999999  0.001484  7.421142e-07  3.710571e-07  3.710571e-07   \n",
              "484  0.999999  0.001059  6.968637e-07  3.484319e-07  3.484319e-07   \n",
              "507  0.999999  0.001390  7.722000e-07  3.861000e-07  3.861000e-07   \n",
              "252  0.999998  0.002184  6.644502e-07  2.214834e-07  2.214834e-07   \n",
              "263  1.000000  0.000900  6.802718e-07  2.267573e-07  4.535146e-07   \n",
              "240  1.000000  0.000838  6.543073e-07  2.181024e-07  4.362049e-07   \n",
              "175  0.999998  0.001867  7.619034e-07  3.809517e-07  3.809517e-07   \n",
              "385  0.999999  0.001020  5.602238e-07  2.801119e-07  2.801119e-07   \n",
              "374  1.000000  0.000967  5.494503e-07  5.494503e-07  2.747251e-07   \n",
              "\n",
              "          parking  \n",
              "542  0.000000e+00  \n",
              "496  0.000000e+00  \n",
              "484  0.000000e+00  \n",
              "507  0.000000e+00  \n",
              "252  0.000000e+00  \n",
              "263  0.000000e+00  \n",
              "240  2.181024e-07  \n",
              "175  3.809517e-07  \n",
              "385  0.000000e+00  \n",
              "374  0.000000e+00  "
            ],
            "text/html": [
              "\n",
              "  <div id=\"df-ce4b84cd-2599-48f1-99d9-a4e59ef64578\">\n",
              "    <div class=\"colab-df-container\">\n",
              "      <div>\n",
              "<style scoped>\n",
              "    .dataframe tbody tr th:only-of-type {\n",
              "        vertical-align: middle;\n",
              "    }\n",
              "\n",
              "    .dataframe tbody tr th {\n",
              "        vertical-align: top;\n",
              "    }\n",
              "\n",
              "    .dataframe thead th {\n",
              "        text-align: right;\n",
              "    }\n",
              "</style>\n",
              "<table border=\"1\" class=\"dataframe\">\n",
              "  <thead>\n",
              "    <tr style=\"text-align: right;\">\n",
              "      <th></th>\n",
              "      <th>price</th>\n",
              "      <th>area</th>\n",
              "      <th>bedrooms</th>\n",
              "      <th>bathrooms</th>\n",
              "      <th>stories</th>\n",
              "      <th>parking</th>\n",
              "    </tr>\n",
              "  </thead>\n",
              "  <tbody>\n",
              "    <tr>\n",
              "      <th>542</th>\n",
              "      <td>0.999998</td>\n",
              "      <td>0.002069</td>\n",
              "      <td>1.142855e-06</td>\n",
              "      <td>5.714273e-07</td>\n",
              "      <td>5.714273e-07</td>\n",
              "      <td>0.000000e+00</td>\n",
              "    </tr>\n",
              "    <tr>\n",
              "      <th>496</th>\n",
              "      <td>0.999999</td>\n",
              "      <td>0.001484</td>\n",
              "      <td>7.421142e-07</td>\n",
              "      <td>3.710571e-07</td>\n",
              "      <td>3.710571e-07</td>\n",
              "      <td>0.000000e+00</td>\n",
              "    </tr>\n",
              "    <tr>\n",
              "      <th>484</th>\n",
              "      <td>0.999999</td>\n",
              "      <td>0.001059</td>\n",
              "      <td>6.968637e-07</td>\n",
              "      <td>3.484319e-07</td>\n",
              "      <td>3.484319e-07</td>\n",
              "      <td>0.000000e+00</td>\n",
              "    </tr>\n",
              "    <tr>\n",
              "      <th>507</th>\n",
              "      <td>0.999999</td>\n",
              "      <td>0.001390</td>\n",
              "      <td>7.722000e-07</td>\n",
              "      <td>3.861000e-07</td>\n",
              "      <td>3.861000e-07</td>\n",
              "      <td>0.000000e+00</td>\n",
              "    </tr>\n",
              "    <tr>\n",
              "      <th>252</th>\n",
              "      <td>0.999998</td>\n",
              "      <td>0.002184</td>\n",
              "      <td>6.644502e-07</td>\n",
              "      <td>2.214834e-07</td>\n",
              "      <td>2.214834e-07</td>\n",
              "      <td>0.000000e+00</td>\n",
              "    </tr>\n",
              "    <tr>\n",
              "      <th>263</th>\n",
              "      <td>1.000000</td>\n",
              "      <td>0.000900</td>\n",
              "      <td>6.802718e-07</td>\n",
              "      <td>2.267573e-07</td>\n",
              "      <td>4.535146e-07</td>\n",
              "      <td>0.000000e+00</td>\n",
              "    </tr>\n",
              "    <tr>\n",
              "      <th>240</th>\n",
              "      <td>1.000000</td>\n",
              "      <td>0.000838</td>\n",
              "      <td>6.543073e-07</td>\n",
              "      <td>2.181024e-07</td>\n",
              "      <td>4.362049e-07</td>\n",
              "      <td>2.181024e-07</td>\n",
              "    </tr>\n",
              "    <tr>\n",
              "      <th>175</th>\n",
              "      <td>0.999998</td>\n",
              "      <td>0.001867</td>\n",
              "      <td>7.619034e-07</td>\n",
              "      <td>3.809517e-07</td>\n",
              "      <td>3.809517e-07</td>\n",
              "      <td>3.809517e-07</td>\n",
              "    </tr>\n",
              "    <tr>\n",
              "      <th>385</th>\n",
              "      <td>0.999999</td>\n",
              "      <td>0.001020</td>\n",
              "      <td>5.602238e-07</td>\n",
              "      <td>2.801119e-07</td>\n",
              "      <td>2.801119e-07</td>\n",
              "      <td>0.000000e+00</td>\n",
              "    </tr>\n",
              "    <tr>\n",
              "      <th>374</th>\n",
              "      <td>1.000000</td>\n",
              "      <td>0.000967</td>\n",
              "      <td>5.494503e-07</td>\n",
              "      <td>5.494503e-07</td>\n",
              "      <td>2.747251e-07</td>\n",
              "      <td>0.000000e+00</td>\n",
              "    </tr>\n",
              "  </tbody>\n",
              "</table>\n",
              "</div>\n",
              "      <button class=\"colab-df-convert\" onclick=\"convertToInteractive('df-ce4b84cd-2599-48f1-99d9-a4e59ef64578')\"\n",
              "              title=\"Convert this dataframe to an interactive table.\"\n",
              "              style=\"display:none;\">\n",
              "        \n",
              "  <svg xmlns=\"http://www.w3.org/2000/svg\" height=\"24px\"viewBox=\"0 0 24 24\"\n",
              "       width=\"24px\">\n",
              "    <path d=\"M0 0h24v24H0V0z\" fill=\"none\"/>\n",
              "    <path d=\"M18.56 5.44l.94 2.06.94-2.06 2.06-.94-2.06-.94-.94-2.06-.94 2.06-2.06.94zm-11 1L8.5 8.5l.94-2.06 2.06-.94-2.06-.94L8.5 2.5l-.94 2.06-2.06.94zm10 10l.94 2.06.94-2.06 2.06-.94-2.06-.94-.94-2.06-.94 2.06-2.06.94z\"/><path d=\"M17.41 7.96l-1.37-1.37c-.4-.4-.92-.59-1.43-.59-.52 0-1.04.2-1.43.59L10.3 9.45l-7.72 7.72c-.78.78-.78 2.05 0 2.83L4 21.41c.39.39.9.59 1.41.59.51 0 1.02-.2 1.41-.59l7.78-7.78 2.81-2.81c.8-.78.8-2.07 0-2.86zM5.41 20L4 18.59l7.72-7.72 1.47 1.35L5.41 20z\"/>\n",
              "  </svg>\n",
              "      </button>\n",
              "      \n",
              "  <style>\n",
              "    .colab-df-container {\n",
              "      display:flex;\n",
              "      flex-wrap:wrap;\n",
              "      gap: 12px;\n",
              "    }\n",
              "\n",
              "    .colab-df-convert {\n",
              "      background-color: #E8F0FE;\n",
              "      border: none;\n",
              "      border-radius: 50%;\n",
              "      cursor: pointer;\n",
              "      display: none;\n",
              "      fill: #1967D2;\n",
              "      height: 32px;\n",
              "      padding: 0 0 0 0;\n",
              "      width: 32px;\n",
              "    }\n",
              "\n",
              "    .colab-df-convert:hover {\n",
              "      background-color: #E2EBFA;\n",
              "      box-shadow: 0px 1px 2px rgba(60, 64, 67, 0.3), 0px 1px 3px 1px rgba(60, 64, 67, 0.15);\n",
              "      fill: #174EA6;\n",
              "    }\n",
              "\n",
              "    [theme=dark] .colab-df-convert {\n",
              "      background-color: #3B4455;\n",
              "      fill: #D2E3FC;\n",
              "    }\n",
              "\n",
              "    [theme=dark] .colab-df-convert:hover {\n",
              "      background-color: #434B5C;\n",
              "      box-shadow: 0px 1px 3px 1px rgba(0, 0, 0, 0.15);\n",
              "      filter: drop-shadow(0px 1px 2px rgba(0, 0, 0, 0.3));\n",
              "      fill: #FFFFFF;\n",
              "    }\n",
              "  </style>\n",
              "\n",
              "      <script>\n",
              "        const buttonEl =\n",
              "          document.querySelector('#df-ce4b84cd-2599-48f1-99d9-a4e59ef64578 button.colab-df-convert');\n",
              "        buttonEl.style.display =\n",
              "          google.colab.kernel.accessAllowed ? 'block' : 'none';\n",
              "\n",
              "        async function convertToInteractive(key) {\n",
              "          const element = document.querySelector('#df-ce4b84cd-2599-48f1-99d9-a4e59ef64578');\n",
              "          const dataTable =\n",
              "            await google.colab.kernel.invokeFunction('convertToInteractive',\n",
              "                                                     [key], {});\n",
              "          if (!dataTable) return;\n",
              "\n",
              "          const docLinkHtml = 'Like what you see? Visit the ' +\n",
              "            '<a target=\"_blank\" href=https://colab.research.google.com/notebooks/data_table.ipynb>data table notebook</a>'\n",
              "            + ' to learn more about interactive tables.';\n",
              "          element.innerHTML = '';\n",
              "          dataTable['output_type'] = 'display_data';\n",
              "          await google.colab.output.renderOutput(dataTable, element);\n",
              "          const docLink = document.createElement('div');\n",
              "          docLink.innerHTML = docLinkHtml;\n",
              "          element.appendChild(docLink);\n",
              "        }\n",
              "      </script>\n",
              "    </div>\n",
              "  </div>\n",
              "  "
            ]
          },
          "metadata": {},
          "execution_count": 956
        }
      ]
    },
    {
      "cell_type": "code",
      "source": [
        "xTrain2 = dfTrainB.values[:,1:6]\n",
        "xTest2 = dfTestB.values[:,1:6]\n",
        "\n",
        "yTrain2 = dfTrainB.values[:,0]\n",
        "yTest2 = dfTestB.values[:,0]\n",
        "xTrain2.shape"
      ],
      "metadata": {
        "colab": {
          "base_uri": "https://localhost:8080/"
        },
        "id": "7XX88TG4yqbO",
        "outputId": "77694659-3f3a-4d63-adfc-835876843ed3"
      },
      "execution_count": 957,
      "outputs": [
        {
          "output_type": "execute_result",
          "data": {
            "text/plain": [
              "(436, 5)"
            ]
          },
          "metadata": {},
          "execution_count": 957
        }
      ]
    },
    {
      "cell_type": "code",
      "source": [
        "#matrix - 1col of ones \n",
        "x31 = np.ones((436, 1)) \n",
        "x32 = np.ones((109, 1))"
      ],
      "metadata": {
        "id": "zUsYy3kszRXL"
      },
      "execution_count": 958,
      "outputs": []
    },
    {
      "cell_type": "code",
      "source": [
        "# 1d to 2d\n",
        "x41 = xTrain2.reshape(436, 5) \n",
        "x42 = xTest2.reshape(109, 5)"
      ],
      "metadata": {
        "id": "L3pgIWsfzdxd"
      },
      "execution_count": 959,
      "outputs": []
    },
    {
      "cell_type": "code",
      "source": [
        "xTrainNew2 = np.hstack((x31, x41))\n",
        "xTestNew2 = np.hstack((x32, x42))\n",
        "xTrainNew2.shape"
      ],
      "metadata": {
        "colab": {
          "base_uri": "https://localhost:8080/"
        },
        "id": "ILdOMmJd0FZY",
        "outputId": "552ae60d-3de1-4e9f-8fad-6d7f15975ff8"
      },
      "execution_count": 960,
      "outputs": [
        {
          "output_type": "execute_result",
          "data": {
            "text/plain": [
              "(436, 6)"
            ]
          },
          "metadata": {},
          "execution_count": 960
        }
      ]
    },
    {
      "cell_type": "code",
      "source": [
        "iterations = 1000; \n",
        "alpha = 0.01;\n",
        "\n",
        "theta = [0., 0., 0., 0., 0., 0.]\n",
        "theta"
      ],
      "metadata": {
        "colab": {
          "base_uri": "https://localhost:8080/"
        },
        "id": "_barX_Sm0SkE",
        "outputId": "af582a12-6b00-48f5-b0ee-3b37afb9adde"
      },
      "execution_count": 961,
      "outputs": [
        {
          "output_type": "execute_result",
          "data": {
            "text/plain": [
              "[0.0, 0.0, 0.0, 0.0, 0.0, 0.0]"
            ]
          },
          "metadata": {},
          "execution_count": 961
        }
      ]
    },
    {
      "cell_type": "code",
      "source": [
        "def compute_cost(X, Y, theta): \n",
        "    predictions = X.dot(theta) \n",
        "    errors = np.subtract(predictions, Y) \n",
        "    sqrErrors = np.square(errors) \n",
        "    J = 1 / (2 * m) * np.sum(sqrErrors) \n",
        "\n",
        "    return J"
      ],
      "metadata": {
        "id": "9kr6MyBj0mwB"
      },
      "execution_count": 962,
      "outputs": []
    },
    {
      "cell_type": "code",
      "source": [
        "def gradient_descent(X1, X2, Y1 , Y2, theta, alpha, iterations):\n",
        "    costHistoryTrain = np.zeros(iterations) \n",
        "    costHistoryTest = np.zeros(iterations) \n",
        "\n",
        "    for i in range(iterations): \n",
        "        predictions = X1.dot(theta) \n",
        "        errors = np.subtract(predictions, Y1) \n",
        "        sum_delta = (alpha / m) * X1.transpose().dot(errors); \n",
        "        theta = theta - sum_delta; \n",
        "        costHistoryTrain[i] = compute_cost(X1, Y1, theta)   \n",
        "        costHistoryTest[i] = compute_cost(X2, Y2, theta)\n",
        "    return theta, costHistoryTrain, costHistoryTest"
      ],
      "metadata": {
        "id": "DzyB0ZIu0v5J"
      },
      "execution_count": 963,
      "outputs": []
    },
    {
      "cell_type": "code",
      "source": [
        "theta, costHistoryTrain, costHistoryTest = gradient_descent(xTrainNew2, xTestNew2, yTrain2, yTest2, theta, alpha, iterations) \n",
        "print('Final value of theta =', theta) \n",
        "print('costHistoryTrain =', costHistoryTrain[-1], 'costHistoryTest= ', costHistoryTest[-1])"
      ],
      "metadata": {
        "colab": {
          "base_uri": "https://localhost:8080/"
        },
        "id": "-E-3OvRs09-O",
        "outputId": "ba9b8629-cce2-4c4c-dfc9-bef9620c9252"
      },
      "execution_count": 964,
      "outputs": [
        {
          "output_type": "stream",
          "name": "stdout",
          "text": [
            "Final value of theta = [9.99673091e-01 1.14635808e-03 6.88542215e-07 2.90254116e-07\n",
            " 4.07258102e-07 1.45736036e-07]\n",
            "costHistoryTrain = 4.220853601404382e-08 costHistoryTest=  1.0557385942524042e-08\n"
          ]
        }
      ]
    },
    {
      "cell_type": "code",
      "source": [
        "plt.plot(costHistoryTrain, label = \"Training data\")\n",
        "plt.plot(costHistoryTest, label = \"Testing data\")\n",
        "plt.rcParams[\"figure.figsize\"] = (10,6)\n",
        "plt.grid()\n",
        "plt.xlabel('iterations')\n",
        "plt.ylabel('Cost J')\n",
        "plt.title('Convergence of gradient descent')\n",
        "plt.legend()"
      ],
      "metadata": {
        "colab": {
          "base_uri": "https://localhost:8080/",
          "height": 422
        },
        "id": "v7HJVe_F1yJS",
        "outputId": "7baab6fc-77a8-4c29-f1de-f27be9fd3088"
      },
      "execution_count": 965,
      "outputs": [
        {
          "output_type": "execute_result",
          "data": {
            "text/plain": [
              "<matplotlib.legend.Legend at 0x7f0f3db9ee50>"
            ]
          },
          "metadata": {},
          "execution_count": 965
        },
        {
          "output_type": "display_data",
          "data": {
            "text/plain": [
              "<Figure size 720x432 with 1 Axes>"
            ],
            "image/png": "[encoded data removed]"
          },
          "metadata": {
            "needs_background": "light"
          }
        }
      ]
    },
    {
      "cell_type": "code",
      "source": [
        "print(\"Final Theta - \")\n",
        "print(theta)"
      ],
      "metadata": {
        "colab": {
          "base_uri": "https://localhost:8080/"
        },
        "id": "gPHYF_S9-WgE",
        "outputId": "08799f66-1952-4b4f-bbec-ba7b7e999c2f"
      },
      "execution_count": 966,
      "outputs": [
        {
          "output_type": "stream",
          "name": "stdout",
          "text": [
            "Final Theta - \n",
            "[9.99673091e-01 1.14635808e-03 6.88542215e-07 2.90254116e-07\n",
            " 4.07258102e-07 1.45736036e-07]\n"
          ]
        }
      ]
    },
    {
      "cell_type": "markdown",
      "source": [
        "2A Standardizer"
      ],
      "metadata": {
        "id": "9SY6XWFMmHUx"
      }
    },
    {
      "cell_type": "code",
      "source": [
        "df = pd.DataFrame(pd.read_csv('https://raw.githubusercontent.com/Onkar-Indurkar/Intro-to-ML/main/Housing.csv'))\n",
        "df.head()\n",
        "m = len(df)"
      ],
      "metadata": {
        "id": "uyLoS2ENmG6K"
      },
      "execution_count": 967,
      "outputs": []
    },
    {
      "cell_type": "code",
      "source": [
        "#splitting dataframe into 80% training data & 20% testing data\n",
        "np.random.seed(0)\n",
        "dfTrain, dfTest =train_test_split(df, train_size = 0.8, test_size = 0.2)\n",
        "dfTrain.shape"
      ],
      "metadata": {
        "colab": {
          "base_uri": "https://localhost:8080/"
        },
        "id": "Bj63Iw0xmSy2",
        "outputId": "360abdb9-54c9-476d-c077-daf9442c7e9f"
      },
      "execution_count": 968,
      "outputs": [
        {
          "output_type": "execute_result",
          "data": {
            "text/plain": [
              "(436, 13)"
            ]
          },
          "metadata": {},
          "execution_count": 968
        }
      ]
    },
    {
      "cell_type": "code",
      "source": [
        "list2 = ['price', 'area', 'bedrooms', 'bathrooms', 'stories', 'parking']\n",
        "dfTrainB = dfTrain[list2]\n",
        "dfTestB = dfTest[list2]\n",
        "dfTrainB.head()"
      ],
      "metadata": {
        "colab": {
          "base_uri": "https://localhost:8080/",
          "height": 206
        },
        "id": "uInKyVw7mWVt",
        "outputId": "0a34b68b-884a-455e-861f-f82f99783d65"
      },
      "execution_count": 969,
      "outputs": [
        {
          "output_type": "execute_result",
          "data": {
            "text/plain": [
              "       price  area  bedrooms  bathrooms  stories  parking\n",
              "542  1750000  3620         2          1        1        0\n",
              "496  2695000  4000         2          1        1        0\n",
              "484  2870000  3040         2          1        1        0\n",
              "507  2590000  3600         2          1        1        0\n",
              "252  4515000  9860         3          1        1        0"
            ],
            "text/html": [
              "\n",
              "  <div id=\"df-fc593dcd-5f5e-44e5-8368-d441b7f5bb26\">\n",
              "    <div class=\"colab-df-container\">\n",
              "      <div>\n",
              "<style scoped>\n",
              "    .dataframe tbody tr th:only-of-type {\n",
              "        vertical-align: middle;\n",
              "    }\n",
              "\n",
              "    .dataframe tbody tr th {\n",
              "        vertical-align: top;\n",
              "    }\n",
              "\n",
              "    .dataframe thead th {\n",
              "        text-align: right;\n",
              "    }\n",
              "</style>\n",
              "<table border=\"1\" class=\"dataframe\">\n",
              "  <thead>\n",
              "    <tr style=\"text-align: right;\">\n",
              "      <th></th>\n",
              "      <th>price</th>\n",
              "      <th>area</th>\n",
              "      <th>bedrooms</th>\n",
              "      <th>bathrooms</th>\n",
              "      <th>stories</th>\n",
              "      <th>parking</th>\n",
              "    </tr>\n",
              "  </thead>\n",
              "  <tbody>\n",
              "    <tr>\n",
              "      <th>542</th>\n",
              "      <td>1750000</td>\n",
              "      <td>3620</td>\n",
              "      <td>2</td>\n",
              "      <td>1</td>\n",
              "      <td>1</td>\n",
              "      <td>0</td>\n",
              "    </tr>\n",
              "    <tr>\n",
              "      <th>496</th>\n",
              "      <td>2695000</td>\n",
              "      <td>4000</td>\n",
              "      <td>2</td>\n",
              "      <td>1</td>\n",
              "      <td>1</td>\n",
              "      <td>0</td>\n",
              "    </tr>\n",
              "    <tr>\n",
              "      <th>484</th>\n",
              "      <td>2870000</td>\n",
              "      <td>3040</td>\n",
              "      <td>2</td>\n",
              "      <td>1</td>\n",
              "      <td>1</td>\n",
              "      <td>0</td>\n",
              "    </tr>\n",
              "    <tr>\n",
              "      <th>507</th>\n",
              "      <td>2590000</td>\n",
              "      <td>3600</td>\n",
              "      <td>2</td>\n",
              "      <td>1</td>\n",
              "      <td>1</td>\n",
              "      <td>0</td>\n",
              "    </tr>\n",
              "    <tr>\n",
              "      <th>252</th>\n",
              "      <td>4515000</td>\n",
              "      <td>9860</td>\n",
              "      <td>3</td>\n",
              "      <td>1</td>\n",
              "      <td>1</td>\n",
              "      <td>0</td>\n",
              "    </tr>\n",
              "  </tbody>\n",
              "</table>\n",
              "</div>\n",
              "      <button class=\"colab-df-convert\" onclick=\"convertToInteractive('df-fc593dcd-5f5e-44e5-8368-d441b7f5bb26')\"\n",
              "              title=\"Convert this dataframe to an interactive table.\"\n",
              "              style=\"display:none;\">\n",
              "        \n",
              "  <svg xmlns=\"http://www.w3.org/2000/svg\" height=\"24px\"viewBox=\"0 0 24 24\"\n",
              "       width=\"24px\">\n",
              "    <path d=\"M0 0h24v24H0V0z\" fill=\"none\"/>\n",
              "    <path d=\"M18.56 5.44l.94 2.06.94-2.06 2.06-.94-2.06-.94-.94-2.06-.94 2.06-2.06.94zm-11 1L8.5 8.5l.94-2.06 2.06-.94-2.06-.94L8.5 2.5l-.94 2.06-2.06.94zm10 10l.94 2.06.94-2.06 2.06-.94-2.06-.94-.94-2.06-.94 2.06-2.06.94z\"/><path d=\"M17.41 7.96l-1.37-1.37c-.4-.4-.92-.59-1.43-.59-.52 0-1.04.2-1.43.59L10.3 9.45l-7.72 7.72c-.78.78-.78 2.05 0 2.83L4 21.41c.39.39.9.59 1.41.59.51 0 1.02-.2 1.41-.59l7.78-7.78 2.81-2.81c.8-.78.8-2.07 0-2.86zM5.41 20L4 18.59l7.72-7.72 1.47 1.35L5.41 20z\"/>\n",
              "  </svg>\n",
              "      </button>\n",
              "      \n",
              "  <style>\n",
              "    .colab-df-container {\n",
              "      display:flex;\n",
              "      flex-wrap:wrap;\n",
              "      gap: 12px;\n",
              "    }\n",
              "\n",
              "    .colab-df-convert {\n",
              "      background-color: #E8F0FE;\n",
              "      border: none;\n",
              "      border-radius: 50%;\n",
              "      cursor: pointer;\n",
              "      display: none;\n",
              "      fill: #1967D2;\n",
              "      height: 32px;\n",
              "      padding: 0 0 0 0;\n",
              "      width: 32px;\n",
              "    }\n",
              "\n",
              "    .colab-df-convert:hover {\n",
              "      background-color: #E2EBFA;\n",
              "      box-shadow: 0px 1px 2px rgba(60, 64, 67, 0.3), 0px 1px 3px 1px rgba(60, 64, 67, 0.15);\n",
              "      fill: #174EA6;\n",
              "    }\n",
              "\n",
              "    [theme=dark] .colab-df-convert {\n",
              "      background-color: #3B4455;\n",
              "      fill: #D2E3FC;\n",
              "    }\n",
              "\n",
              "    [theme=dark] .colab-df-convert:hover {\n",
              "      background-color: #434B5C;\n",
              "      box-shadow: 0px 1px 3px 1px rgba(0, 0, 0, 0.15);\n",
              "      filter: drop-shadow(0px 1px 2px rgba(0, 0, 0, 0.3));\n",
              "      fill: #FFFFFF;\n",
              "    }\n",
              "  </style>\n",
              "\n",
              "      <script>\n",
              "        const buttonEl =\n",
              "          document.querySelector('#df-fc593dcd-5f5e-44e5-8368-d441b7f5bb26 button.colab-df-convert');\n",
              "        buttonEl.style.display =\n",
              "          google.colab.kernel.accessAllowed ? 'block' : 'none';\n",
              "\n",
              "        async function convertToInteractive(key) {\n",
              "          const element = document.querySelector('#df-fc593dcd-5f5e-44e5-8368-d441b7f5bb26');\n",
              "          const dataTable =\n",
              "            await google.colab.kernel.invokeFunction('convertToInteractive',\n",
              "                                                     [key], {});\n",
              "          if (!dataTable) return;\n",
              "\n",
              "          const docLinkHtml = 'Like what you see? Visit the ' +\n",
              "            '<a target=\"_blank\" href=https://colab.research.google.com/notebooks/data_table.ipynb>data table notebook</a>'\n",
              "            + ' to learn more about interactive tables.';\n",
              "          element.innerHTML = '';\n",
              "          dataTable['output_type'] = 'display_data';\n",
              "          await google.colab.output.renderOutput(dataTable, element);\n",
              "          const docLink = document.createElement('div');\n",
              "          docLink.innerHTML = docLinkHtml;\n",
              "          element.appendChild(docLink);\n",
              "        }\n",
              "      </script>\n",
              "    </div>\n",
              "  </div>\n",
              "  "
            ]
          },
          "metadata": {},
          "execution_count": 969
        }
      ]
    },
    {
      "cell_type": "code",
      "source": [
        "#from matplotlib.colors import Normalize\n",
        "\n",
        "import warnings\n",
        "warnings. filterwarnings( 'ignore' )\n",
        "from sklearn. preprocessing import MinMaxScaler, StandardScaler, Normalizer\n",
        "\n",
        "scaler = StandardScaler()   #uncomment when testing standardization\n",
        "#scaler = Normalizer()       #uncomment when testing normalization\n",
        "#scaler = MinMaxScaler()      #uncomment when testing Minmax \n",
        "\n",
        "# dfTrainB[list2] = scaler(dfTrainB[list2]) #for normalize\n",
        "# dfTestB[list2] = scaler(dfTestB[list2])\n",
        "\n",
        "dfTrainB[list2] = scaler.fit_transform(dfTrainB[list2])\n",
        "dfTestB[list2] = scaler.fit_transform(dfTestB[list2])\n",
        "dfTrainB.head(10)"
      ],
      "metadata": {
        "colab": {
          "base_uri": "https://localhost:8080/",
          "height": 363
        },
        "id": "qhl6S67nmZk_",
        "outputId": "4f8f267d-3868-4cc3-927d-88bd9dac1215"
      },
      "execution_count": 970,
      "outputs": [
        {
          "output_type": "execute_result",
          "data": {
            "text/plain": [
              "        price      area  bedrooms  bathrooms   stories   parking\n",
              "542 -1.586001 -0.716772 -1.294376  -0.573307 -0.933142 -0.819149\n",
              "496 -1.090971 -0.538936 -1.294376  -0.573307 -0.933142 -0.819149\n",
              "484 -0.999299 -0.988206 -1.294376  -0.573307 -0.933142 -0.819149\n",
              "507 -1.145974 -0.726132 -1.294376  -0.573307 -0.933142 -0.819149\n",
              "252 -0.137579  2.203478  0.052516  -0.573307 -0.933142 -0.819149\n",
              "263 -0.192583 -0.553912  0.052516  -0.573307  0.212914 -0.819149\n",
              "240 -0.100910 -0.613815  0.052516  -0.573307  0.212914  0.325559\n",
              "175  0.247444  2.175399  1.399408   1.475561  0.212914  1.470267\n",
              "385 -0.632610 -0.707412 -1.294376  -0.573307 -0.933142 -0.819149\n",
              "374 -0.595941 -0.763571 -1.294376   1.475561 -0.933142 -0.819149"
            ],
            "text/html": [
              "\n",
              "  <div id=\"df-98bd65ad-7e76-45a7-be8c-9d97c625f6ea\">\n",
              "    <div class=\"colab-df-container\">\n",
              "      <div>\n",
              "<style scoped>\n",
              "    .dataframe tbody tr th:only-of-type {\n",
              "        vertical-align: middle;\n",
              "    }\n",
              "\n",
              "    .dataframe tbody tr th {\n",
              "        vertical-align: top;\n",
              "    }\n",
              "\n",
              "    .dataframe thead th {\n",
              "        text-align: right;\n",
              "    }\n",
              "</style>\n",
              "<table border=\"1\" class=\"dataframe\">\n",
              "  <thead>\n",
              "    <tr style=\"text-align: right;\">\n",
              "      <th></th>\n",
              "      <th>price</th>\n",
              "      <th>area</th>\n",
              "      <th>bedrooms</th>\n",
              "      <th>bathrooms</th>\n",
              "      <th>stories</th>\n",
              "      <th>parking</th>\n",
              "    </tr>\n",
              "  </thead>\n",
              "  <tbody>\n",
              "    <tr>\n",
              "      <th>542</th>\n",
              "      <td>-1.586001</td>\n",
              "      <td>-0.716772</td>\n",
              "      <td>-1.294376</td>\n",
              "      <td>-0.573307</td>\n",
              "      <td>-0.933142</td>\n",
              "      <td>-0.819149</td>\n",
              "    </tr>\n",
              "    <tr>\n",
              "      <th>496</th>\n",
              "      <td>-1.090971</td>\n",
              "      <td>-0.538936</td>\n",
              "      <td>-1.294376</td>\n",
              "      <td>-0.573307</td>\n",
              "      <td>-0.933142</td>\n",
              "      <td>-0.819149</td>\n",
              "    </tr>\n",
              "    <tr>\n",
              "      <th>484</th>\n",
              "      <td>-0.999299</td>\n",
              "      <td>-0.988206</td>\n",
              "      <td>-1.294376</td>\n",
              "      <td>-0.573307</td>\n",
              "      <td>-0.933142</td>\n",
              "      <td>-0.819149</td>\n",
              "    </tr>\n",
              "    <tr>\n",
              "      <th>507</th>\n",
              "      <td>-1.145974</td>\n",
              "      <td>-0.726132</td>\n",
              "      <td>-1.294376</td>\n",
              "      <td>-0.573307</td>\n",
              "      <td>-0.933142</td>\n",
              "      <td>-0.819149</td>\n",
              "    </tr>\n",
              "    <tr>\n",
              "      <th>252</th>\n",
              "      <td>-0.137579</td>\n",
              "      <td>2.203478</td>\n",
              "      <td>0.052516</td>\n",
              "      <td>-0.573307</td>\n",
              "      <td>-0.933142</td>\n",
              "      <td>-0.819149</td>\n",
              "    </tr>\n",
              "    <tr>\n",
              "      <th>263</th>\n",
              "      <td>-0.192583</td>\n",
              "      <td>-0.553912</td>\n",
              "      <td>0.052516</td>\n",
              "      <td>-0.573307</td>\n",
              "      <td>0.212914</td>\n",
              "      <td>-0.819149</td>\n",
              "    </tr>\n",
              "    <tr>\n",
              "      <th>240</th>\n",
              "      <td>-0.100910</td>\n",
              "      <td>-0.613815</td>\n",
              "      <td>0.052516</td>\n",
              "      <td>-0.573307</td>\n",
              "      <td>0.212914</td>\n",
              "      <td>0.325559</td>\n",
              "    </tr>\n",
              "    <tr>\n",
              "      <th>175</th>\n",
              "      <td>0.247444</td>\n",
              "      <td>2.175399</td>\n",
              "      <td>1.399408</td>\n",
              "      <td>1.475561</td>\n",
              "      <td>0.212914</td>\n",
              "      <td>1.470267</td>\n",
              "    </tr>\n",
              "    <tr>\n",
              "      <th>385</th>\n",
              "      <td>-0.632610</td>\n",
              "      <td>-0.707412</td>\n",
              "      <td>-1.294376</td>\n",
              "      <td>-0.573307</td>\n",
              "      <td>-0.933142</td>\n",
              "      <td>-0.819149</td>\n",
              "    </tr>\n",
              "    <tr>\n",
              "      <th>374</th>\n",
              "      <td>-0.595941</td>\n",
              "      <td>-0.763571</td>\n",
              "      <td>-1.294376</td>\n",
              "      <td>1.475561</td>\n",
              "      <td>-0.933142</td>\n",
              "      <td>-0.819149</td>\n",
              "    </tr>\n",
              "  </tbody>\n",
              "</table>\n",
              "</div>\n",
              "      <button class=\"colab-df-convert\" onclick=\"convertToInteractive('df-98bd65ad-7e76-45a7-be8c-9d97c625f6ea')\"\n",
              "              title=\"Convert this dataframe to an interactive table.\"\n",
              "              style=\"display:none;\">\n",
              "        \n",
              "  <svg xmlns=\"http://www.w3.org/2000/svg\" height=\"24px\"viewBox=\"0 0 24 24\"\n",
              "       width=\"24px\">\n",
              "    <path d=\"M0 0h24v24H0V0z\" fill=\"none\"/>\n",
              "    <path d=\"M18.56 5.44l.94 2.06.94-2.06 2.06-.94-2.06-.94-.94-2.06-.94 2.06-2.06.94zm-11 1L8.5 8.5l.94-2.06 2.06-.94-2.06-.94L8.5 2.5l-.94 2.06-2.06.94zm10 10l.94 2.06.94-2.06 2.06-.94-2.06-.94-.94-2.06-.94 2.06-2.06.94z\"/><path d=\"M17.41 7.96l-1.37-1.37c-.4-.4-.92-.59-1.43-.59-.52 0-1.04.2-1.43.59L10.3 9.45l-7.72 7.72c-.78.78-.78 2.05 0 2.83L4 21.41c.39.39.9.59 1.41.59.51 0 1.02-.2 1.41-.59l7.78-7.78 2.81-2.81c.8-.78.8-2.07 0-2.86zM5.41 20L4 18.59l7.72-7.72 1.47 1.35L5.41 20z\"/>\n",
              "  </svg>\n",
              "      </button>\n",
              "      \n",
              "  <style>\n",
              "    .colab-df-container {\n",
              "      display:flex;\n",
              "      flex-wrap:wrap;\n",
              "      gap: 12px;\n",
              "    }\n",
              "\n",
              "    .colab-df-convert {\n",
              "      background-color: #E8F0FE;\n",
              "      border: none;\n",
              "      border-radius: 50%;\n",
              "      cursor: pointer;\n",
              "      display: none;\n",
              "      fill: #1967D2;\n",
              "      height: 32px;\n",
              "      padding: 0 0 0 0;\n",
              "      width: 32px;\n",
              "    }\n",
              "\n",
              "    .colab-df-convert:hover {\n",
              "      background-color: #E2EBFA;\n",
              "      box-shadow: 0px 1px 2px rgba(60, 64, 67, 0.3), 0px 1px 3px 1px rgba(60, 64, 67, 0.15);\n",
              "      fill: #174EA6;\n",
              "    }\n",
              "\n",
              "    [theme=dark] .colab-df-convert {\n",
              "      background-color: #3B4455;\n",
              "      fill: #D2E3FC;\n",
              "    }\n",
              "\n",
              "    [theme=dark] .colab-df-convert:hover {\n",
              "      background-color: #434B5C;\n",
              "      box-shadow: 0px 1px 3px 1px rgba(0, 0, 0, 0.15);\n",
              "      filter: drop-shadow(0px 1px 2px rgba(0, 0, 0, 0.3));\n",
              "      fill: #FFFFFF;\n",
              "    }\n",
              "  </style>\n",
              "\n",
              "      <script>\n",
              "        const buttonEl =\n",
              "          document.querySelector('#df-98bd65ad-7e76-45a7-be8c-9d97c625f6ea button.colab-df-convert');\n",
              "        buttonEl.style.display =\n",
              "          google.colab.kernel.accessAllowed ? 'block' : 'none';\n",
              "\n",
              "        async function convertToInteractive(key) {\n",
              "          const element = document.querySelector('#df-98bd65ad-7e76-45a7-be8c-9d97c625f6ea');\n",
              "          const dataTable =\n",
              "            await google.colab.kernel.invokeFunction('convertToInteractive',\n",
              "                                                     [key], {});\n",
              "          if (!dataTable) return;\n",
              "\n",
              "          const docLinkHtml = 'Like what you see? Visit the ' +\n",
              "            '<a target=\"_blank\" href=https://colab.research.google.com/notebooks/data_table.ipynb>data table notebook</a>'\n",
              "            + ' to learn more about interactive tables.';\n",
              "          element.innerHTML = '';\n",
              "          dataTable['output_type'] = 'display_data';\n",
              "          await google.colab.output.renderOutput(dataTable, element);\n",
              "          const docLink = document.createElement('div');\n",
              "          docLink.innerHTML = docLinkHtml;\n",
              "          element.appendChild(docLink);\n",
              "        }\n",
              "      </script>\n",
              "    </div>\n",
              "  </div>\n",
              "  "
            ]
          },
          "metadata": {},
          "execution_count": 970
        }
      ]
    },
    {
      "cell_type": "code",
      "source": [
        "xTrain2 = dfTrainB.values[:,1:6]\n",
        "xTest2 = dfTestB.values[:,1:6]\n",
        "\n",
        "yTrain2 = dfTrainB.values[:,0]\n",
        "yTest2 = dfTestB.values[:,0]\n",
        "xTrain2.shape"
      ],
      "metadata": {
        "colab": {
          "base_uri": "https://localhost:8080/"
        },
        "id": "xvU-YYdomkiU",
        "outputId": "b2e5b5c0-a51e-4f43-c27c-214963d11d84"
      },
      "execution_count": 971,
      "outputs": [
        {
          "output_type": "execute_result",
          "data": {
            "text/plain": [
              "(436, 5)"
            ]
          },
          "metadata": {},
          "execution_count": 971
        }
      ]
    },
    {
      "cell_type": "code",
      "source": [
        "#matrix - 1col of ones \n",
        "x31 = np.ones((436, 1)) \n",
        "x32 = np.ones((109, 1))"
      ],
      "metadata": {
        "id": "GsV2ul1impE-"
      },
      "execution_count": 972,
      "outputs": []
    },
    {
      "cell_type": "code",
      "source": [
        "# 1d to 2d\n",
        "x41 = xTrain2.reshape(436, 5) \n",
        "x42 = xTest2.reshape(109, 5)"
      ],
      "metadata": {
        "id": "nFBHo9RMmrEy"
      },
      "execution_count": 973,
      "outputs": []
    },
    {
      "cell_type": "code",
      "source": [
        "xTrainNew2 = np.hstack((x31, x41))\n",
        "xTestNew2 = np.hstack((x32, x42))\n",
        "xTrainNew2.shape"
      ],
      "metadata": {
        "colab": {
          "base_uri": "https://localhost:8080/"
        },
        "id": "0o_uVV5enJeK",
        "outputId": "d9ac88de-67a5-4919-ccd6-7538596f89e9"
      },
      "execution_count": 974,
      "outputs": [
        {
          "output_type": "execute_result",
          "data": {
            "text/plain": [
              "(436, 6)"
            ]
          },
          "metadata": {},
          "execution_count": 974
        }
      ]
    },
    {
      "cell_type": "code",
      "source": [
        "iterations = 1000; \n",
        "alpha = 0.01;\n",
        "\n",
        "theta = [0., 0., 0., 0., 0., 0.]\n",
        "theta"
      ],
      "metadata": {
        "colab": {
          "base_uri": "https://localhost:8080/"
        },
        "id": "zFsz9USAnLfk",
        "outputId": "96d50cd1-5caf-4c95-c7f8-1e2eabc949a0"
      },
      "execution_count": 975,
      "outputs": [
        {
          "output_type": "execute_result",
          "data": {
            "text/plain": [
              "[0.0, 0.0, 0.0, 0.0, 0.0, 0.0]"
            ]
          },
          "metadata": {},
          "execution_count": 975
        }
      ]
    },
    {
      "cell_type": "code",
      "source": [
        "def compute_cost(X, Y, theta): \n",
        "    predictions = X.dot(theta) \n",
        "    errors = np.subtract(predictions, Y) \n",
        "    sqrErrors = np.square(errors) \n",
        "    J = 1 / (2 * m) * np.sum(sqrErrors) \n",
        "\n",
        "    return J"
      ],
      "metadata": {
        "id": "t6g4nu99nNyb"
      },
      "execution_count": 976,
      "outputs": []
    },
    {
      "cell_type": "code",
      "source": [
        "def gradient_descent(X1, X2, Y1 , Y2, theta, alpha, iterations):\n",
        "    costHistoryTrain = np.zeros(iterations) \n",
        "    costHistoryTest = np.zeros(iterations) \n",
        "\n",
        "    for i in range(iterations): \n",
        "        predictions = X1.dot(theta) \n",
        "        errors = np.subtract(predictions, Y1) \n",
        "        sum_delta = (alpha / m) * X1.transpose().dot(errors); \n",
        "        theta = theta - sum_delta; \n",
        "        costHistoryTrain[i] = compute_cost(X1, Y1, theta)   \n",
        "        costHistoryTest[i] = compute_cost(X2, Y2, theta)\n",
        "    return theta, costHistoryTrain, costHistoryTest"
      ],
      "metadata": {
        "id": "wtNKg7g2nPd-"
      },
      "execution_count": 977,
      "outputs": []
    },
    {
      "cell_type": "code",
      "source": [
        "theta, costHistoryTrain, costHistoryTest = gradient_descent(xTrainNew2, xTestNew2, yTrain2, yTest2, theta, alpha, iterations) \n",
        "print('Final value of theta =', theta) \n",
        "print('costHistoryTrain =', costHistoryTrain[-1], 'costHistoryTest= ', costHistoryTest[-1])"
      ],
      "metadata": {
        "colab": {
          "base_uri": "https://localhost:8080/"
        },
        "id": "FwOcZ0r0nT_E",
        "outputId": "d6f78842-7713-4c3e-e30e-b9076da05e0a"
      },
      "execution_count": 978,
      "outputs": [
        {
          "output_type": "stream",
          "name": "stdout",
          "text": [
            "Final value of theta = [2.68303219e-16 3.87870620e-01 9.04102358e-02 3.03604550e-01\n",
            " 2.39617915e-01 1.60569409e-01]\n",
            "costHistoryTrain = 0.17847785867645652 costHistoryTest=  0.03892348541035558\n"
          ]
        }
      ]
    },
    {
      "cell_type": "code",
      "source": [
        "plt.plot(costHistoryTrain, label = \"Training data\")\n",
        "plt.plot(costHistoryTest, label = \"Testing data\")\n",
        "plt.rcParams[\"figure.figsize\"] = (10,6)\n",
        "plt.grid()\n",
        "plt.xlabel('iterations')\n",
        "plt.ylabel('Cost J')\n",
        "plt.title('Convergence of gradient descent')\n",
        "plt.legend()"
      ],
      "metadata": {
        "colab": {
          "base_uri": "https://localhost:8080/",
          "height": 422
        },
        "id": "BVBGn4YOnV-a",
        "outputId": "99f7b0de-d6bc-4f58-df53-7aa1bbc5d001"
      },
      "execution_count": 979,
      "outputs": [
        {
          "output_type": "execute_result",
          "data": {
            "text/plain": [
              "<matplotlib.legend.Legend at 0x7f0f3e27e9d0>"
            ]
          },
          "metadata": {},
          "execution_count": 979
        },
        {
          "output_type": "display_data",
          "data": {
            "text/plain": [
              "<Figure size 720x432 with 1 Axes>"
            ],
            "image/png": "[encoded data removed]"
          },
          "metadata": {
            "needs_background": "light"
          }
        }
      ]
    },
    {
      "cell_type": "code",
      "source": [
        "print(\"Final Theta - \")\n",
        "print(theta)"
      ],
      "metadata": {
        "colab": {
          "base_uri": "https://localhost:8080/"
        },
        "id": "r0yLAWHT-Umu",
        "outputId": "a228d430-5fd1-4b8f-c02d-cf451ef660db"
      },
      "execution_count": 980,
      "outputs": [
        {
          "output_type": "stream",
          "name": "stdout",
          "text": [
            "Final Theta - \n",
            "[2.68303219e-16 3.87870620e-01 9.04102358e-02 3.03604550e-01\n",
            " 2.39617915e-01 1.60569409e-01]\n"
          ]
        }
      ]
    },
    {
      "cell_type": "markdown",
      "source": [
        "3A Normalizer"
      ],
      "metadata": {
        "id": "eAmJYx_92FQM"
      }
    },
    {
      "cell_type": "code",
      "source": [
        "df = pd.DataFrame(pd.read_csv('https://raw.githubusercontent.com/Onkar-Indurkar/Intro-to-ML/main/Housing.csv'))\n",
        "df.head()\n",
        "m = len(df)"
      ],
      "metadata": {
        "id": "GCWmMmO72GWR"
      },
      "execution_count": 981,
      "outputs": []
    },
    {
      "cell_type": "code",
      "source": [
        "#splitting dataframe into 80% training data & 20% testing data\n",
        "np.random.seed(0)\n",
        "dfTrain, dfTest =train_test_split(df, train_size = 0.8, test_size = 0.2)\n",
        "dfTrain.shape"
      ],
      "metadata": {
        "colab": {
          "base_uri": "https://localhost:8080/"
        },
        "id": "l1OB4GNo2L9q",
        "outputId": "a30294c8-4fa1-407a-a5b0-55179407f105"
      },
      "execution_count": 982,
      "outputs": [
        {
          "output_type": "execute_result",
          "data": {
            "text/plain": [
              "(436, 13)"
            ]
          },
          "metadata": {},
          "execution_count": 982
        }
      ]
    },
    {
      "cell_type": "code",
      "source": [
        "list2 = ['price', 'area', 'bedrooms', 'bathrooms', 'stories', 'parking']\n",
        "dfTrainC = dfTrain[list2]\n",
        "dfTestC = dfTest[list2]\n",
        "dfTrainC.head()"
      ],
      "metadata": {
        "colab": {
          "base_uri": "https://localhost:8080/",
          "height": 206
        },
        "id": "J8A_1zWY2Xzs",
        "outputId": "f1d85bf8-4bc8-4284-f1aa-607a4fd013e3"
      },
      "execution_count": 983,
      "outputs": [
        {
          "output_type": "execute_result",
          "data": {
            "text/plain": [
              "       price  area  bedrooms  bathrooms  stories  parking\n",
              "542  1750000  3620         2          1        1        0\n",
              "496  2695000  4000         2          1        1        0\n",
              "484  2870000  3040         2          1        1        0\n",
              "507  2590000  3600         2          1        1        0\n",
              "252  4515000  9860         3          1        1        0"
            ],
            "text/html": [
              "\n",
              "  <div id=\"df-50eaeaac-954f-42fb-b4a4-55bf9e6077e1\">\n",
              "    <div class=\"colab-df-container\">\n",
              "      <div>\n",
              "<style scoped>\n",
              "    .dataframe tbody tr th:only-of-type {\n",
              "        vertical-align: middle;\n",
              "    }\n",
              "\n",
              "    .dataframe tbody tr th {\n",
              "        vertical-align: top;\n",
              "    }\n",
              "\n",
              "    .dataframe thead th {\n",
              "        text-align: right;\n",
              "    }\n",
              "</style>\n",
              "<table border=\"1\" class=\"dataframe\">\n",
              "  <thead>\n",
              "    <tr style=\"text-align: right;\">\n",
              "      <th></th>\n",
              "      <th>price</th>\n",
              "      <th>area</th>\n",
              "      <th>bedrooms</th>\n",
              "      <th>bathrooms</th>\n",
              "      <th>stories</th>\n",
              "      <th>parking</th>\n",
              "    </tr>\n",
              "  </thead>\n",
              "  <tbody>\n",
              "    <tr>\n",
              "      <th>542</th>\n",
              "      <td>1750000</td>\n",
              "      <td>3620</td>\n",
              "      <td>2</td>\n",
              "      <td>1</td>\n",
              "      <td>1</td>\n",
              "      <td>0</td>\n",
              "    </tr>\n",
              "    <tr>\n",
              "      <th>496</th>\n",
              "      <td>2695000</td>\n",
              "      <td>4000</td>\n",
              "      <td>2</td>\n",
              "      <td>1</td>\n",
              "      <td>1</td>\n",
              "      <td>0</td>\n",
              "    </tr>\n",
              "    <tr>\n",
              "      <th>484</th>\n",
              "      <td>2870000</td>\n",
              "      <td>3040</td>\n",
              "      <td>2</td>\n",
              "      <td>1</td>\n",
              "      <td>1</td>\n",
              "      <td>0</td>\n",
              "    </tr>\n",
              "    <tr>\n",
              "      <th>507</th>\n",
              "      <td>2590000</td>\n",
              "      <td>3600</td>\n",
              "      <td>2</td>\n",
              "      <td>1</td>\n",
              "      <td>1</td>\n",
              "      <td>0</td>\n",
              "    </tr>\n",
              "    <tr>\n",
              "      <th>252</th>\n",
              "      <td>4515000</td>\n",
              "      <td>9860</td>\n",
              "      <td>3</td>\n",
              "      <td>1</td>\n",
              "      <td>1</td>\n",
              "      <td>0</td>\n",
              "    </tr>\n",
              "  </tbody>\n",
              "</table>\n",
              "</div>\n",
              "      <button class=\"colab-df-convert\" onclick=\"convertToInteractive('df-50eaeaac-954f-42fb-b4a4-55bf9e6077e1')\"\n",
              "              title=\"Convert this dataframe to an interactive table.\"\n",
              "              style=\"display:none;\">\n",
              "        \n",
              "  <svg xmlns=\"http://www.w3.org/2000/svg\" height=\"24px\"viewBox=\"0 0 24 24\"\n",
              "       width=\"24px\">\n",
              "    <path d=\"M0 0h24v24H0V0z\" fill=\"none\"/>\n",
              "    <path d=\"M18.56 5.44l.94 2.06.94-2.06 2.06-.94-2.06-.94-.94-2.06-.94 2.06-2.06.94zm-11 1L8.5 8.5l.94-2.06 2.06-.94-2.06-.94L8.5 2.5l-.94 2.06-2.06.94zm10 10l.94 2.06.94-2.06 2.06-.94-2.06-.94-.94-2.06-.94 2.06-2.06.94z\"/><path d=\"M17.41 7.96l-1.37-1.37c-.4-.4-.92-.59-1.43-.59-.52 0-1.04.2-1.43.59L10.3 9.45l-7.72 7.72c-.78.78-.78 2.05 0 2.83L4 21.41c.39.39.9.59 1.41.59.51 0 1.02-.2 1.41-.59l7.78-7.78 2.81-2.81c.8-.78.8-2.07 0-2.86zM5.41 20L4 18.59l7.72-7.72 1.47 1.35L5.41 20z\"/>\n",
              "  </svg>\n",
              "      </button>\n",
              "      \n",
              "  <style>\n",
              "    .colab-df-container {\n",
              "      display:flex;\n",
              "      flex-wrap:wrap;\n",
              "      gap: 12px;\n",
              "    }\n",
              "\n",
              "    .colab-df-convert {\n",
              "      background-color: #E8F0FE;\n",
              "      border: none;\n",
              "      border-radius: 50%;\n",
              "      cursor: pointer;\n",
              "      display: none;\n",
              "      fill: #1967D2;\n",
              "      height: 32px;\n",
              "      padding: 0 0 0 0;\n",
              "      width: 32px;\n",
              "    }\n",
              "\n",
              "    .colab-df-convert:hover {\n",
              "      background-color: #E2EBFA;\n",
              "      box-shadow: 0px 1px 2px rgba(60, 64, 67, 0.3), 0px 1px 3px 1px rgba(60, 64, 67, 0.15);\n",
              "      fill: #174EA6;\n",
              "    }\n",
              "\n",
              "    [theme=dark] .colab-df-convert {\n",
              "      background-color: #3B4455;\n",
              "      fill: #D2E3FC;\n",
              "    }\n",
              "\n",
              "    [theme=dark] .colab-df-convert:hover {\n",
              "      background-color: #434B5C;\n",
              "      box-shadow: 0px 1px 3px 1px rgba(0, 0, 0, 0.15);\n",
              "      filter: drop-shadow(0px 1px 2px rgba(0, 0, 0, 0.3));\n",
              "      fill: #FFFFFF;\n",
              "    }\n",
              "  </style>\n",
              "\n",
              "      <script>\n",
              "        const buttonEl =\n",
              "          document.querySelector('#df-50eaeaac-954f-42fb-b4a4-55bf9e6077e1 button.colab-df-convert');\n",
              "        buttonEl.style.display =\n",
              "          google.colab.kernel.accessAllowed ? 'block' : 'none';\n",
              "\n",
              "        async function convertToInteractive(key) {\n",
              "          const element = document.querySelector('#df-50eaeaac-954f-42fb-b4a4-55bf9e6077e1');\n",
              "          const dataTable =\n",
              "            await google.colab.kernel.invokeFunction('convertToInteractive',\n",
              "                                                     [key], {});\n",
              "          if (!dataTable) return;\n",
              "\n",
              "          const docLinkHtml = 'Like what you see? Visit the ' +\n",
              "            '<a target=\"_blank\" href=https://colab.research.google.com/notebooks/data_table.ipynb>data table notebook</a>'\n",
              "            + ' to learn more about interactive tables.';\n",
              "          element.innerHTML = '';\n",
              "          dataTable['output_type'] = 'display_data';\n",
              "          await google.colab.output.renderOutput(dataTable, element);\n",
              "          const docLink = document.createElement('div');\n",
              "          docLink.innerHTML = docLinkHtml;\n",
              "          element.appendChild(docLink);\n",
              "        }\n",
              "      </script>\n",
              "    </div>\n",
              "  </div>\n",
              "  "
            ]
          },
          "metadata": {},
          "execution_count": 983
        }
      ]
    },
    {
      "cell_type": "code",
      "source": [
        "\n",
        "import warnings\n",
        "warnings. filterwarnings( 'ignore' )\n",
        "from sklearn. preprocessing import MinMaxScaler, StandardScaler, Normalizer\n",
        "\n",
        "# scaler = StandardScaler()\n",
        "scaler = Normalizer()\n",
        "#scaler = MinMaxScaler()\n",
        "\n",
        "\n",
        "\n",
        "dfTrainC[list2] = scaler.fit_transform(dfTrainC[list2])\n",
        "dfTestC[list2] = scaler.fit_transform(dfTestC[list2])\n",
        "dfTrainC.head(10)"
      ],
      "metadata": {
        "colab": {
          "base_uri": "https://localhost:8080/",
          "height": 363
        },
        "id": "uSg0ld05929F",
        "outputId": "790da032-d5ab-47a2-cd8d-a633f16cb961"
      },
      "execution_count": 984,
      "outputs": [
        {
          "output_type": "execute_result",
          "data": {
            "text/plain": [
              "        price      area      bedrooms     bathrooms       stories  \\\n",
              "542  0.999998  0.002069  1.142855e-06  5.714273e-07  5.714273e-07   \n",
              "496  0.999999  0.001484  7.421142e-07  3.710571e-07  3.710571e-07   \n",
              "484  0.999999  0.001059  6.968637e-07  3.484319e-07  3.484319e-07   \n",
              "507  0.999999  0.001390  7.722000e-07  3.861000e-07  3.861000e-07   \n",
              "252  0.999998  0.002184  6.644502e-07  2.214834e-07  2.214834e-07   \n",
              "263  1.000000  0.000900  6.802718e-07  2.267573e-07  4.535146e-07   \n",
              "240  1.000000  0.000838  6.543073e-07  2.181024e-07  4.362049e-07   \n",
              "175  0.999998  0.001867  7.619034e-07  3.809517e-07  3.809517e-07   \n",
              "385  0.999999  0.001020  5.602238e-07  2.801119e-07  2.801119e-07   \n",
              "374  1.000000  0.000967  5.494503e-07  5.494503e-07  2.747251e-07   \n",
              "\n",
              "          parking  \n",
              "542  0.000000e+00  \n",
              "496  0.000000e+00  \n",
              "484  0.000000e+00  \n",
              "507  0.000000e+00  \n",
              "252  0.000000e+00  \n",
              "263  0.000000e+00  \n",
              "240  2.181024e-07  \n",
              "175  3.809517e-07  \n",
              "385  0.000000e+00  \n",
              "374  0.000000e+00  "
            ],
            "text/html": [
              "\n",
              "  <div id=\"df-aa48a61b-7db3-4326-abd3-3b1c712da613\">\n",
              "    <div class=\"colab-df-container\">\n",
              "      <div>\n",
              "<style scoped>\n",
              "    .dataframe tbody tr th:only-of-type {\n",
              "        vertical-align: middle;\n",
              "    }\n",
              "\n",
              "    .dataframe tbody tr th {\n",
              "        vertical-align: top;\n",
              "    }\n",
              "\n",
              "    .dataframe thead th {\n",
              "        text-align: right;\n",
              "    }\n",
              "</style>\n",
              "<table border=\"1\" class=\"dataframe\">\n",
              "  <thead>\n",
              "    <tr style=\"text-align: right;\">\n",
              "      <th></th>\n",
              "      <th>price</th>\n",
              "      <th>area</th>\n",
              "      <th>bedrooms</th>\n",
              "      <th>bathrooms</th>\n",
              "      <th>stories</th>\n",
              "      <th>parking</th>\n",
              "    </tr>\n",
              "  </thead>\n",
              "  <tbody>\n",
              "    <tr>\n",
              "      <th>542</th>\n",
              "      <td>0.999998</td>\n",
              "      <td>0.002069</td>\n",
              "      <td>1.142855e-06</td>\n",
              "      <td>5.714273e-07</td>\n",
              "      <td>5.714273e-07</td>\n",
              "      <td>0.000000e+00</td>\n",
              "    </tr>\n",
              "    <tr>\n",
              "      <th>496</th>\n",
              "      <td>0.999999</td>\n",
              "      <td>0.001484</td>\n",
              "      <td>7.421142e-07</td>\n",
              "      <td>3.710571e-07</td>\n",
              "      <td>3.710571e-07</td>\n",
              "      <td>0.000000e+00</td>\n",
              "    </tr>\n",
              "    <tr>\n",
              "      <th>484</th>\n",
              "      <td>0.999999</td>\n",
              "      <td>0.001059</td>\n",
              "      <td>6.968637e-07</td>\n",
              "      <td>3.484319e-07</td>\n",
              "      <td>3.484319e-07</td>\n",
              "      <td>0.000000e+00</td>\n",
              "    </tr>\n",
              "    <tr>\n",
              "      <th>507</th>\n",
              "      <td>0.999999</td>\n",
              "      <td>0.001390</td>\n",
              "      <td>7.722000e-07</td>\n",
              "      <td>3.861000e-07</td>\n",
              "      <td>3.861000e-07</td>\n",
              "      <td>0.000000e+00</td>\n",
              "    </tr>\n",
              "    <tr>\n",
              "      <th>252</th>\n",
              "      <td>0.999998</td>\n",
              "      <td>0.002184</td>\n",
              "      <td>6.644502e-07</td>\n",
              "      <td>2.214834e-07</td>\n",
              "      <td>2.214834e-07</td>\n",
              "      <td>0.000000e+00</td>\n",
              "    </tr>\n",
              "    <tr>\n",
              "      <th>263</th>\n",
              "      <td>1.000000</td>\n",
              "      <td>0.000900</td>\n",
              "      <td>6.802718e-07</td>\n",
              "      <td>2.267573e-07</td>\n",
              "      <td>4.535146e-07</td>\n",
              "      <td>0.000000e+00</td>\n",
              "    </tr>\n",
              "    <tr>\n",
              "      <th>240</th>\n",
              "      <td>1.000000</td>\n",
              "      <td>0.000838</td>\n",
              "      <td>6.543073e-07</td>\n",
              "      <td>2.181024e-07</td>\n",
              "      <td>4.362049e-07</td>\n",
              "      <td>2.181024e-07</td>\n",
              "    </tr>\n",
              "    <tr>\n",
              "      <th>175</th>\n",
              "      <td>0.999998</td>\n",
              "      <td>0.001867</td>\n",
              "      <td>7.619034e-07</td>\n",
              "      <td>3.809517e-07</td>\n",
              "      <td>3.809517e-07</td>\n",
              "      <td>3.809517e-07</td>\n",
              "    </tr>\n",
              "    <tr>\n",
              "      <th>385</th>\n",
              "      <td>0.999999</td>\n",
              "      <td>0.001020</td>\n",
              "      <td>5.602238e-07</td>\n",
              "      <td>2.801119e-07</td>\n",
              "      <td>2.801119e-07</td>\n",
              "      <td>0.000000e+00</td>\n",
              "    </tr>\n",
              "    <tr>\n",
              "      <th>374</th>\n",
              "      <td>1.000000</td>\n",
              "      <td>0.000967</td>\n",
              "      <td>5.494503e-07</td>\n",
              "      <td>5.494503e-07</td>\n",
              "      <td>2.747251e-07</td>\n",
              "      <td>0.000000e+00</td>\n",
              "    </tr>\n",
              "  </tbody>\n",
              "</table>\n",
              "</div>\n",
              "      <button class=\"colab-df-convert\" onclick=\"convertToInteractive('df-aa48a61b-7db3-4326-abd3-3b1c712da613')\"\n",
              "              title=\"Convert this dataframe to an interactive table.\"\n",
              "              style=\"display:none;\">\n",
              "        \n",
              "  <svg xmlns=\"http://www.w3.org/2000/svg\" height=\"24px\"viewBox=\"0 0 24 24\"\n",
              "       width=\"24px\">\n",
              "    <path d=\"M0 0h24v24H0V0z\" fill=\"none\"/>\n",
              "    <path d=\"M18.56 5.44l.94 2.06.94-2.06 2.06-.94-2.06-.94-.94-2.06-.94 2.06-2.06.94zm-11 1L8.5 8.5l.94-2.06 2.06-.94-2.06-.94L8.5 2.5l-.94 2.06-2.06.94zm10 10l.94 2.06.94-2.06 2.06-.94-2.06-.94-.94-2.06-.94 2.06-2.06.94z\"/><path d=\"M17.41 7.96l-1.37-1.37c-.4-.4-.92-.59-1.43-.59-.52 0-1.04.2-1.43.59L10.3 9.45l-7.72 7.72c-.78.78-.78 2.05 0 2.83L4 21.41c.39.39.9.59 1.41.59.51 0 1.02-.2 1.41-.59l7.78-7.78 2.81-2.81c.8-.78.8-2.07 0-2.86zM5.41 20L4 18.59l7.72-7.72 1.47 1.35L5.41 20z\"/>\n",
              "  </svg>\n",
              "      </button>\n",
              "      \n",
              "  <style>\n",
              "    .colab-df-container {\n",
              "      display:flex;\n",
              "      flex-wrap:wrap;\n",
              "      gap: 12px;\n",
              "    }\n",
              "\n",
              "    .colab-df-convert {\n",
              "      background-color: #E8F0FE;\n",
              "      border: none;\n",
              "      border-radius: 50%;\n",
              "      cursor: pointer;\n",
              "      display: none;\n",
              "      fill: #1967D2;\n",
              "      height: 32px;\n",
              "      padding: 0 0 0 0;\n",
              "      width: 32px;\n",
              "    }\n",
              "\n",
              "    .colab-df-convert:hover {\n",
              "      background-color: #E2EBFA;\n",
              "      box-shadow: 0px 1px 2px rgba(60, 64, 67, 0.3), 0px 1px 3px 1px rgba(60, 64, 67, 0.15);\n",
              "      fill: #174EA6;\n",
              "    }\n",
              "\n",
              "    [theme=dark] .colab-df-convert {\n",
              "      background-color: #3B4455;\n",
              "      fill: #D2E3FC;\n",
              "    }\n",
              "\n",
              "    [theme=dark] .colab-df-convert:hover {\n",
              "      background-color: #434B5C;\n",
              "      box-shadow: 0px 1px 3px 1px rgba(0, 0, 0, 0.15);\n",
              "      filter: drop-shadow(0px 1px 2px rgba(0, 0, 0, 0.3));\n",
              "      fill: #FFFFFF;\n",
              "    }\n",
              "  </style>\n",
              "\n",
              "      <script>\n",
              "        const buttonEl =\n",
              "          document.querySelector('#df-aa48a61b-7db3-4326-abd3-3b1c712da613 button.colab-df-convert');\n",
              "        buttonEl.style.display =\n",
              "          google.colab.kernel.accessAllowed ? 'block' : 'none';\n",
              "\n",
              "        async function convertToInteractive(key) {\n",
              "          const element = document.querySelector('#df-aa48a61b-7db3-4326-abd3-3b1c712da613');\n",
              "          const dataTable =\n",
              "            await google.colab.kernel.invokeFunction('convertToInteractive',\n",
              "                                                     [key], {});\n",
              "          if (!dataTable) return;\n",
              "\n",
              "          const docLinkHtml = 'Like what you see? Visit the ' +\n",
              "            '<a target=\"_blank\" href=https://colab.research.google.com/notebooks/data_table.ipynb>data table notebook</a>'\n",
              "            + ' to learn more about interactive tables.';\n",
              "          element.innerHTML = '';\n",
              "          dataTable['output_type'] = 'display_data';\n",
              "          await google.colab.output.renderOutput(dataTable, element);\n",
              "          const docLink = document.createElement('div');\n",
              "          docLink.innerHTML = docLinkHtml;\n",
              "          element.appendChild(docLink);\n",
              "        }\n",
              "      </script>\n",
              "    </div>\n",
              "  </div>\n",
              "  "
            ]
          },
          "metadata": {},
          "execution_count": 984
        }
      ]
    },
    {
      "cell_type": "code",
      "source": [
        "xTrain3 = dfTrainC.values[:,1:6]\n",
        "xTest3 = dfTestC.values[:,1:6]\n",
        "\n",
        "yTrain3 = dfTrainC.values[:,0]\n",
        "yTest3 = dfTestC.values[:,0]\n",
        "xTrain3.shape"
      ],
      "metadata": {
        "colab": {
          "base_uri": "https://localhost:8080/"
        },
        "id": "g95MzqIw-BKM",
        "outputId": "23ad0b2c-f8d4-4cef-d10d-20027a309b69"
      },
      "execution_count": 985,
      "outputs": [
        {
          "output_type": "execute_result",
          "data": {
            "text/plain": [
              "(436, 5)"
            ]
          },
          "metadata": {},
          "execution_count": 985
        }
      ]
    },
    {
      "cell_type": "code",
      "source": [
        "#matrix - 1col of ones \n",
        "x11 = np.ones((436, 1)) \n",
        "x12 = np.ones((109, 1))"
      ],
      "metadata": {
        "id": "DrMBt795-JwM"
      },
      "execution_count": 986,
      "outputs": []
    },
    {
      "cell_type": "code",
      "source": [
        "# 1d to 2d\n",
        "x21 = xTrain3.reshape(436, 5) \n",
        "x22 = xTest3.reshape(109, 5)"
      ],
      "metadata": {
        "id": "Y4HA4caV-MLo"
      },
      "execution_count": 987,
      "outputs": []
    },
    {
      "cell_type": "code",
      "source": [
        "xTrainNew3 = np.hstack((x11, x21))\n",
        "xTestNew3 = np.hstack((x12, x22))\n",
        "xTrainNew3.shape"
      ],
      "metadata": {
        "colab": {
          "base_uri": "https://localhost:8080/"
        },
        "id": "cJ-haw0a-OQN",
        "outputId": "aaaadc38-f45e-4c35-9d56-09a3592c1a6c"
      },
      "execution_count": 988,
      "outputs": [
        {
          "output_type": "execute_result",
          "data": {
            "text/plain": [
              "(436, 6)"
            ]
          },
          "metadata": {},
          "execution_count": 988
        }
      ]
    },
    {
      "cell_type": "code",
      "source": [
        "iterations = 5000; \n",
        "alpha = 0.01;\n",
        "lamda : 3\n",
        "\n",
        "theta = [0., 0., 0., 0., 0., 0.]\n",
        "theta\n"
      ],
      "metadata": {
        "colab": {
          "base_uri": "https://localhost:8080/"
        },
        "id": "hh35_Upj-U8V",
        "outputId": "9389ac34-986a-4fa0-bef9-57ee5fc9b30a"
      },
      "execution_count": 989,
      "outputs": [
        {
          "output_type": "execute_result",
          "data": {
            "text/plain": [
              "[0.0, 0.0, 0.0, 0.0, 0.0, 0.0]"
            ]
          },
          "metadata": {},
          "execution_count": 989
        }
      ]
    },
    {
      "cell_type": "code",
      "source": [
        "def compute_cost_reg(X, Y, theta, lamda): \n",
        "    predictions = X.dot(theta) \n",
        "    errors = np.subtract(predictions, Y) \n",
        "    sqrErrors = np.square(errors) \n",
        "    sqrErrors = np.sum(sqrErrors)\n",
        "    reg_term = lamda * np.sum(np.square(theta))\n",
        "    J = 1 / (2 * m) * np.sum(sqrErrors + reg_term) \n",
        "\n",
        "    return J"
      ],
      "metadata": {
        "id": "WnEkOOjj-cMI"
      },
      "execution_count": 990,
      "outputs": []
    },
    {
      "cell_type": "code",
      "source": [
        "def gradient_descent_reg(X1, X2, Y1 , Y2, theta, alpha, iterations, lamda):\n",
        "    costHistoryTrain = np.zeros(iterations) \n",
        "    costHistoryTest = np.zeros(iterations) \n",
        "    lamda = 3\n",
        "\n",
        "    for i in range(iterations): \n",
        "        predictions = X1.dot(theta) \n",
        "        errors = np.subtract(predictions, Y1) \n",
        "        sum_delta = (alpha / m) * X1.transpose().dot(errors); \n",
        "        theta = theta - sum_delta;\n",
        "        costHistoryTrain[i] = compute_cost_reg(X1, Y1, theta, lamda)   \n",
        "        costHistoryTest[i] = compute_cost(X2, Y2, theta)\n",
        "    return theta, costHistoryTrain, costHistoryTest"
      ],
      "metadata": {
        "id": "fQwDqcSu-elQ"
      },
      "execution_count": 991,
      "outputs": []
    },
    {
      "cell_type": "code",
      "source": [
        "theta, costHistoryTrain, costHistoryTest = gradient_descent_reg(xTrainNew3, xTestNew3, yTrain3, yTest3, theta, alpha, iterations, lamda=3 ) \n",
        "print('Final value of theta =', theta) \n",
        "print('costHistoryTrain =', costHistoryTrain[-1], 'costHistoryTest= ', costHistoryTest[-1])"
      ],
      "metadata": {
        "colab": {
          "base_uri": "https://localhost:8080/"
        },
        "id": "QJ0Y-A3_Faxe",
        "outputId": "4ed37613-4bb3-4edc-d22e-a86e46dc1d95"
      },
      "execution_count": 992,
      "outputs": [
        {
          "output_type": "stream",
          "name": "stdout",
          "text": [
            "Final value of theta = [9.99997929e-01 1.14671381e-03 6.88763660e-07 2.90347839e-07\n",
            " 4.07390131e-07 1.45782460e-07]\n",
            "costHistoryTrain = 0.002752285795607559 costHistoryTest=  1.0465450984661629e-13\n"
          ]
        }
      ]
    },
    {
      "cell_type": "code",
      "source": [
        "plt.plot(costHistoryTrain, label = \"Training data\")\n",
        "plt.plot(costHistoryTest, label = \"Testing data\")\n",
        "plt.rcParams[\"figure.figsize\"] = (10,6)\n",
        "plt.grid()\n",
        "plt.xlabel('iterations')\n",
        "plt.ylabel('Cost J')\n",
        "plt.title('Convergence of gradient descent')\n",
        "plt.legend()"
      ],
      "metadata": {
        "colab": {
          "base_uri": "https://localhost:8080/",
          "height": 422
        },
        "id": "xXMjPg82FxK3",
        "outputId": "df945bb8-c442-4693-9dbe-794c9b4954a8"
      },
      "execution_count": 993,
      "outputs": [
        {
          "output_type": "execute_result",
          "data": {
            "text/plain": [
              "<matplotlib.legend.Legend at 0x7f0f3dfb6160>"
            ]
          },
          "metadata": {},
          "execution_count": 993
        },
        {
          "output_type": "display_data",
          "data": {
            "text/plain": [
              "<Figure size 720x432 with 1 Axes>"
            ],
            "image/png": "[encoded data removed]"
          },
          "metadata": {
            "needs_background": "light"
          }
        }
      ]
    },
    {
      "cell_type": "code",
      "source": [
        "print(\"Final Theta - \")\n",
        "print(theta)"
      ],
      "metadata": {
        "colab": {
          "base_uri": "https://localhost:8080/"
        },
        "id": "Cb_MjXvf-SNV",
        "outputId": "85e2af95-8d43-4754-cfc2-fa252b3941af"
      },
      "execution_count": 994,
      "outputs": [
        {
          "output_type": "stream",
          "name": "stdout",
          "text": [
            "Final Theta - \n",
            "[9.99997929e-01 1.14671381e-03 6.88763660e-07 2.90347839e-07\n",
            " 4.07390131e-07 1.45782460e-07]\n"
          ]
        }
      ]
    },
    {
      "cell_type": "markdown",
      "source": [
        "3A Standardizer"
      ],
      "metadata": {
        "id": "6ZEY3H5FnYBI"
      }
    },
    {
      "cell_type": "code",
      "source": [
        "df = pd.DataFrame(pd.read_csv('https://raw.githubusercontent.com/Onkar-Indurkar/Intro-to-ML/main/Housing.csv'))\n",
        "df.head()\n",
        "m = len(df)"
      ],
      "metadata": {
        "id": "hZ2t58_Lnanz"
      },
      "execution_count": 995,
      "outputs": []
    },
    {
      "cell_type": "code",
      "source": [
        "#splitting dataframe into 80% training data & 20% testing data\n",
        "np.random.seed(0)\n",
        "dfTrain, dfTest =train_test_split(df, train_size = 0.8, test_size = 0.2)\n",
        "dfTrain.shape"
      ],
      "metadata": {
        "colab": {
          "base_uri": "https://localhost:8080/"
        },
        "id": "9NJutFJdnfrQ",
        "outputId": "40a540fe-9d9c-4143-f313-75ab74e0c59e"
      },
      "execution_count": 996,
      "outputs": [
        {
          "output_type": "execute_result",
          "data": {
            "text/plain": [
              "(436, 13)"
            ]
          },
          "metadata": {},
          "execution_count": 996
        }
      ]
    },
    {
      "cell_type": "code",
      "source": [
        "list2 = ['price', 'area', 'bedrooms', 'bathrooms', 'stories', 'parking']\n",
        "dfTrainC = dfTrain[list2]\n",
        "dfTestC = dfTest[list2]\n",
        "dfTrainC.head()"
      ],
      "metadata": {
        "colab": {
          "base_uri": "https://localhost:8080/",
          "height": 206
        },
        "id": "2agC5BLAnfkx",
        "outputId": "b070d162-bf4c-41db-ac65-a39cbcf50a8a"
      },
      "execution_count": 997,
      "outputs": [
        {
          "output_type": "execute_result",
          "data": {
            "text/plain": [
              "       price  area  bedrooms  bathrooms  stories  parking\n",
              "542  1750000  3620         2          1        1        0\n",
              "496  2695000  4000         2          1        1        0\n",
              "484  2870000  3040         2          1        1        0\n",
              "507  2590000  3600         2          1        1        0\n",
              "252  4515000  9860         3          1        1        0"
            ],
            "text/html": [
              "\n",
              "  <div id=\"df-039558b4-6a45-48b1-9931-b857f51cc2c0\">\n",
              "    <div class=\"colab-df-container\">\n",
              "      <div>\n",
              "<style scoped>\n",
              "    .dataframe tbody tr th:only-of-type {\n",
              "        vertical-align: middle;\n",
              "    }\n",
              "\n",
              "    .dataframe tbody tr th {\n",
              "        vertical-align: top;\n",
              "    }\n",
              "\n",
              "    .dataframe thead th {\n",
              "        text-align: right;\n",
              "    }\n",
              "</style>\n",
              "<table border=\"1\" class=\"dataframe\">\n",
              "  <thead>\n",
              "    <tr style=\"text-align: right;\">\n",
              "      <th></th>\n",
              "      <th>price</th>\n",
              "      <th>area</th>\n",
              "      <th>bedrooms</th>\n",
              "      <th>bathrooms</th>\n",
              "      <th>stories</th>\n",
              "      <th>parking</th>\n",
              "    </tr>\n",
              "  </thead>\n",
              "  <tbody>\n",
              "    <tr>\n",
              "      <th>542</th>\n",
              "      <td>1750000</td>\n",
              "      <td>3620</td>\n",
              "      <td>2</td>\n",
              "      <td>1</td>\n",
              "      <td>1</td>\n",
              "      <td>0</td>\n",
              "    </tr>\n",
              "    <tr>\n",
              "      <th>496</th>\n",
              "      <td>2695000</td>\n",
              "      <td>4000</td>\n",
              "      <td>2</td>\n",
              "      <td>1</td>\n",
              "      <td>1</td>\n",
              "      <td>0</td>\n",
              "    </tr>\n",
              "    <tr>\n",
              "      <th>484</th>\n",
              "      <td>2870000</td>\n",
              "      <td>3040</td>\n",
              "      <td>2</td>\n",
              "      <td>1</td>\n",
              "      <td>1</td>\n",
              "      <td>0</td>\n",
              "    </tr>\n",
              "    <tr>\n",
              "      <th>507</th>\n",
              "      <td>2590000</td>\n",
              "      <td>3600</td>\n",
              "      <td>2</td>\n",
              "      <td>1</td>\n",
              "      <td>1</td>\n",
              "      <td>0</td>\n",
              "    </tr>\n",
              "    <tr>\n",
              "      <th>252</th>\n",
              "      <td>4515000</td>\n",
              "      <td>9860</td>\n",
              "      <td>3</td>\n",
              "      <td>1</td>\n",
              "      <td>1</td>\n",
              "      <td>0</td>\n",
              "    </tr>\n",
              "  </tbody>\n",
              "</table>\n",
              "</div>\n",
              "      <button class=\"colab-df-convert\" onclick=\"convertToInteractive('df-039558b4-6a45-48b1-9931-b857f51cc2c0')\"\n",
              "              title=\"Convert this dataframe to an interactive table.\"\n",
              "              style=\"display:none;\">\n",
              "        \n",
              "  <svg xmlns=\"http://www.w3.org/2000/svg\" height=\"24px\"viewBox=\"0 0 24 24\"\n",
              "       width=\"24px\">\n",
              "    <path d=\"M0 0h24v24H0V0z\" fill=\"none\"/>\n",
              "    <path d=\"M18.56 5.44l.94 2.06.94-2.06 2.06-.94-2.06-.94-.94-2.06-.94 2.06-2.06.94zm-11 1L8.5 8.5l.94-2.06 2.06-.94-2.06-.94L8.5 2.5l-.94 2.06-2.06.94zm10 10l.94 2.06.94-2.06 2.06-.94-2.06-.94-.94-2.06-.94 2.06-2.06.94z\"/><path d=\"M17.41 7.96l-1.37-1.37c-.4-.4-.92-.59-1.43-.59-.52 0-1.04.2-1.43.59L10.3 9.45l-7.72 7.72c-.78.78-.78 2.05 0 2.83L4 21.41c.39.39.9.59 1.41.59.51 0 1.02-.2 1.41-.59l7.78-7.78 2.81-2.81c.8-.78.8-2.07 0-2.86zM5.41 20L4 18.59l7.72-7.72 1.47 1.35L5.41 20z\"/>\n",
              "  </svg>\n",
              "      </button>\n",
              "      \n",
              "  <style>\n",
              "    .colab-df-container {\n",
              "      display:flex;\n",
              "      flex-wrap:wrap;\n",
              "      gap: 12px;\n",
              "    }\n",
              "\n",
              "    .colab-df-convert {\n",
              "      background-color: #E8F0FE;\n",
              "      border: none;\n",
              "      border-radius: 50%;\n",
              "      cursor: pointer;\n",
              "      display: none;\n",
              "      fill: #1967D2;\n",
              "      height: 32px;\n",
              "      padding: 0 0 0 0;\n",
              "      width: 32px;\n",
              "    }\n",
              "\n",
              "    .colab-df-convert:hover {\n",
              "      background-color: #E2EBFA;\n",
              "      box-shadow: 0px 1px 2px rgba(60, 64, 67, 0.3), 0px 1px 3px 1px rgba(60, 64, 67, 0.15);\n",
              "      fill: #174EA6;\n",
              "    }\n",
              "\n",
              "    [theme=dark] .colab-df-convert {\n",
              "      background-color: #3B4455;\n",
              "      fill: #D2E3FC;\n",
              "    }\n",
              "\n",
              "    [theme=dark] .colab-df-convert:hover {\n",
              "      background-color: #434B5C;\n",
              "      box-shadow: 0px 1px 3px 1px rgba(0, 0, 0, 0.15);\n",
              "      filter: drop-shadow(0px 1px 2px rgba(0, 0, 0, 0.3));\n",
              "      fill: #FFFFFF;\n",
              "    }\n",
              "  </style>\n",
              "\n",
              "      <script>\n",
              "        const buttonEl =\n",
              "          document.querySelector('#df-039558b4-6a45-48b1-9931-b857f51cc2c0 button.colab-df-convert');\n",
              "        buttonEl.style.display =\n",
              "          google.colab.kernel.accessAllowed ? 'block' : 'none';\n",
              "\n",
              "        async function convertToInteractive(key) {\n",
              "          const element = document.querySelector('#df-039558b4-6a45-48b1-9931-b857f51cc2c0');\n",
              "          const dataTable =\n",
              "            await google.colab.kernel.invokeFunction('convertToInteractive',\n",
              "                                                     [key], {});\n",
              "          if (!dataTable) return;\n",
              "\n",
              "          const docLinkHtml = 'Like what you see? Visit the ' +\n",
              "            '<a target=\"_blank\" href=https://colab.research.google.com/notebooks/data_table.ipynb>data table notebook</a>'\n",
              "            + ' to learn more about interactive tables.';\n",
              "          element.innerHTML = '';\n",
              "          dataTable['output_type'] = 'display_data';\n",
              "          await google.colab.output.renderOutput(dataTable, element);\n",
              "          const docLink = document.createElement('div');\n",
              "          docLink.innerHTML = docLinkHtml;\n",
              "          element.appendChild(docLink);\n",
              "        }\n",
              "      </script>\n",
              "    </div>\n",
              "  </div>\n",
              "  "
            ]
          },
          "metadata": {},
          "execution_count": 997
        }
      ]
    },
    {
      "cell_type": "code",
      "source": [
        "import warnings\n",
        "warnings. filterwarnings( 'ignore' )\n",
        "from sklearn. preprocessing import MinMaxScaler, StandardScaler, Normalizer\n",
        "\n",
        "scaler = StandardScaler()\n",
        "#scaler = Normalizer()\n",
        "#scaler = MinMaxScaler()\n",
        "\n",
        "dfTrainC[list2] = scaler.fit_transform(dfTrainC[list2]) #for standardize\n",
        "dfTestC[list2] = scaler.fit_transform(dfTestC[list2])\n",
        "dfTrainC.head(10)"
      ],
      "metadata": {
        "colab": {
          "base_uri": "https://localhost:8080/",
          "height": 363
        },
        "id": "NDwPJeulnky4",
        "outputId": "82d10241-706c-4ecf-f8c4-d196a0d6a59a"
      },
      "execution_count": 998,
      "outputs": [
        {
          "output_type": "execute_result",
          "data": {
            "text/plain": [
              "        price      area  bedrooms  bathrooms   stories   parking\n",
              "542 -1.586001 -0.716772 -1.294376  -0.573307 -0.933142 -0.819149\n",
              "496 -1.090971 -0.538936 -1.294376  -0.573307 -0.933142 -0.819149\n",
              "484 -0.999299 -0.988206 -1.294376  -0.573307 -0.933142 -0.819149\n",
              "507 -1.145974 -0.726132 -1.294376  -0.573307 -0.933142 -0.819149\n",
              "252 -0.137579  2.203478  0.052516  -0.573307 -0.933142 -0.819149\n",
              "263 -0.192583 -0.553912  0.052516  -0.573307  0.212914 -0.819149\n",
              "240 -0.100910 -0.613815  0.052516  -0.573307  0.212914  0.325559\n",
              "175  0.247444  2.175399  1.399408   1.475561  0.212914  1.470267\n",
              "385 -0.632610 -0.707412 -1.294376  -0.573307 -0.933142 -0.819149\n",
              "374 -0.595941 -0.763571 -1.294376   1.475561 -0.933142 -0.819149"
            ],
            "text/html": [
              "\n",
              "  <div id=\"df-ffe9c3eb-ed48-47c0-8035-6458820f2c42\">\n",
              "    <div class=\"colab-df-container\">\n",
              "      <div>\n",
              "<style scoped>\n",
              "    .dataframe tbody tr th:only-of-type {\n",
              "        vertical-align: middle;\n",
              "    }\n",
              "\n",
              "    .dataframe tbody tr th {\n",
              "        vertical-align: top;\n",
              "    }\n",
              "\n",
              "    .dataframe thead th {\n",
              "        text-align: right;\n",
              "    }\n",
              "</style>\n",
              "<table border=\"1\" class=\"dataframe\">\n",
              "  <thead>\n",
              "    <tr style=\"text-align: right;\">\n",
              "      <th></th>\n",
              "      <th>price</th>\n",
              "      <th>area</th>\n",
              "      <th>bedrooms</th>\n",
              "      <th>bathrooms</th>\n",
              "      <th>stories</th>\n",
              "      <th>parking</th>\n",
              "    </tr>\n",
              "  </thead>\n",
              "  <tbody>\n",
              "    <tr>\n",
              "      <th>542</th>\n",
              "      <td>-1.586001</td>\n",
              "      <td>-0.716772</td>\n",
              "      <td>-1.294376</td>\n",
              "      <td>-0.573307</td>\n",
              "      <td>-0.933142</td>\n",
              "      <td>-0.819149</td>\n",
              "    </tr>\n",
              "    <tr>\n",
              "      <th>496</th>\n",
              "      <td>-1.090971</td>\n",
              "      <td>-0.538936</td>\n",
              "      <td>-1.294376</td>\n",
              "      <td>-0.573307</td>\n",
              "      <td>-0.933142</td>\n",
              "      <td>-0.819149</td>\n",
              "    </tr>\n",
              "    <tr>\n",
              "      <th>484</th>\n",
              "      <td>-0.999299</td>\n",
              "      <td>-0.988206</td>\n",
              "      <td>-1.294376</td>\n",
              "      <td>-0.573307</td>\n",
              "      <td>-0.933142</td>\n",
              "      <td>-0.819149</td>\n",
              "    </tr>\n",
              "    <tr>\n",
              "      <th>507</th>\n",
              "      <td>-1.145974</td>\n",
              "      <td>-0.726132</td>\n",
              "      <td>-1.294376</td>\n",
              "      <td>-0.573307</td>\n",
              "      <td>-0.933142</td>\n",
              "      <td>-0.819149</td>\n",
              "    </tr>\n",
              "    <tr>\n",
              "      <th>252</th>\n",
              "      <td>-0.137579</td>\n",
              "      <td>2.203478</td>\n",
              "      <td>0.052516</td>\n",
              "      <td>-0.573307</td>\n",
              "      <td>-0.933142</td>\n",
              "      <td>-0.819149</td>\n",
              "    </tr>\n",
              "    <tr>\n",
              "      <th>263</th>\n",
              "      <td>-0.192583</td>\n",
              "      <td>-0.553912</td>\n",
              "      <td>0.052516</td>\n",
              "      <td>-0.573307</td>\n",
              "      <td>0.212914</td>\n",
              "      <td>-0.819149</td>\n",
              "    </tr>\n",
              "    <tr>\n",
              "      <th>240</th>\n",
              "      <td>-0.100910</td>\n",
              "      <td>-0.613815</td>\n",
              "      <td>0.052516</td>\n",
              "      <td>-0.573307</td>\n",
              "      <td>0.212914</td>\n",
              "      <td>0.325559</td>\n",
              "    </tr>\n",
              "    <tr>\n",
              "      <th>175</th>\n",
              "      <td>0.247444</td>\n",
              "      <td>2.175399</td>\n",
              "      <td>1.399408</td>\n",
              "      <td>1.475561</td>\n",
              "      <td>0.212914</td>\n",
              "      <td>1.470267</td>\n",
              "    </tr>\n",
              "    <tr>\n",
              "      <th>385</th>\n",
              "      <td>-0.632610</td>\n",
              "      <td>-0.707412</td>\n",
              "      <td>-1.294376</td>\n",
              "      <td>-0.573307</td>\n",
              "      <td>-0.933142</td>\n",
              "      <td>-0.819149</td>\n",
              "    </tr>\n",
              "    <tr>\n",
              "      <th>374</th>\n",
              "      <td>-0.595941</td>\n",
              "      <td>-0.763571</td>\n",
              "      <td>-1.294376</td>\n",
              "      <td>1.475561</td>\n",
              "      <td>-0.933142</td>\n",
              "      <td>-0.819149</td>\n",
              "    </tr>\n",
              "  </tbody>\n",
              "</table>\n",
              "</div>\n",
              "      <button class=\"colab-df-convert\" onclick=\"convertToInteractive('df-ffe9c3eb-ed48-47c0-8035-6458820f2c42')\"\n",
              "              title=\"Convert this dataframe to an interactive table.\"\n",
              "              style=\"display:none;\">\n",
              "        \n",
              "  <svg xmlns=\"http://www.w3.org/2000/svg\" height=\"24px\"viewBox=\"0 0 24 24\"\n",
              "       width=\"24px\">\n",
              "    <path d=\"M0 0h24v24H0V0z\" fill=\"none\"/>\n",
              "    <path d=\"M18.56 5.44l.94 2.06.94-2.06 2.06-.94-2.06-.94-.94-2.06-.94 2.06-2.06.94zm-11 1L8.5 8.5l.94-2.06 2.06-.94-2.06-.94L8.5 2.5l-.94 2.06-2.06.94zm10 10l.94 2.06.94-2.06 2.06-.94-2.06-.94-.94-2.06-.94 2.06-2.06.94z\"/><path d=\"M17.41 7.96l-1.37-1.37c-.4-.4-.92-.59-1.43-.59-.52 0-1.04.2-1.43.59L10.3 9.45l-7.72 7.72c-.78.78-.78 2.05 0 2.83L4 21.41c.39.39.9.59 1.41.59.51 0 1.02-.2 1.41-.59l7.78-7.78 2.81-2.81c.8-.78.8-2.07 0-2.86zM5.41 20L4 18.59l7.72-7.72 1.47 1.35L5.41 20z\"/>\n",
              "  </svg>\n",
              "      </button>\n",
              "      \n",
              "  <style>\n",
              "    .colab-df-container {\n",
              "      display:flex;\n",
              "      flex-wrap:wrap;\n",
              "      gap: 12px;\n",
              "    }\n",
              "\n",
              "    .colab-df-convert {\n",
              "      background-color: #E8F0FE;\n",
              "      border: none;\n",
              "      border-radius: 50%;\n",
              "      cursor: pointer;\n",
              "      display: none;\n",
              "      fill: #1967D2;\n",
              "      height: 32px;\n",
              "      padding: 0 0 0 0;\n",
              "      width: 32px;\n",
              "    }\n",
              "\n",
              "    .colab-df-convert:hover {\n",
              "      background-color: #E2EBFA;\n",
              "      box-shadow: 0px 1px 2px rgba(60, 64, 67, 0.3), 0px 1px 3px 1px rgba(60, 64, 67, 0.15);\n",
              "      fill: #174EA6;\n",
              "    }\n",
              "\n",
              "    [theme=dark] .colab-df-convert {\n",
              "      background-color: #3B4455;\n",
              "      fill: #D2E3FC;\n",
              "    }\n",
              "\n",
              "    [theme=dark] .colab-df-convert:hover {\n",
              "      background-color: #434B5C;\n",
              "      box-shadow: 0px 1px 3px 1px rgba(0, 0, 0, 0.15);\n",
              "      filter: drop-shadow(0px 1px 2px rgba(0, 0, 0, 0.3));\n",
              "      fill: #FFFFFF;\n",
              "    }\n",
              "  </style>\n",
              "\n",
              "      <script>\n",
              "        const buttonEl =\n",
              "          document.querySelector('#df-ffe9c3eb-ed48-47c0-8035-6458820f2c42 button.colab-df-convert');\n",
              "        buttonEl.style.display =\n",
              "          google.colab.kernel.accessAllowed ? 'block' : 'none';\n",
              "\n",
              "        async function convertToInteractive(key) {\n",
              "          const element = document.querySelector('#df-ffe9c3eb-ed48-47c0-8035-6458820f2c42');\n",
              "          const dataTable =\n",
              "            await google.colab.kernel.invokeFunction('convertToInteractive',\n",
              "                                                     [key], {});\n",
              "          if (!dataTable) return;\n",
              "\n",
              "          const docLinkHtml = 'Like what you see? Visit the ' +\n",
              "            '<a target=\"_blank\" href=https://colab.research.google.com/notebooks/data_table.ipynb>data table notebook</a>'\n",
              "            + ' to learn more about interactive tables.';\n",
              "          element.innerHTML = '';\n",
              "          dataTable['output_type'] = 'display_data';\n",
              "          await google.colab.output.renderOutput(dataTable, element);\n",
              "          const docLink = document.createElement('div');\n",
              "          docLink.innerHTML = docLinkHtml;\n",
              "          element.appendChild(docLink);\n",
              "        }\n",
              "      </script>\n",
              "    </div>\n",
              "  </div>\n",
              "  "
            ]
          },
          "metadata": {},
          "execution_count": 998
        }
      ]
    },
    {
      "cell_type": "code",
      "source": [
        "xTrain3 = dfTrainC.values[:,1:6]\n",
        "xTest3 = dfTestC.values[:,1:6]\n",
        "\n",
        "yTrain3 = dfTrainC.values[:,0]\n",
        "yTest3 = dfTestC.values[:,0]\n",
        "xTrain3.shape"
      ],
      "metadata": {
        "colab": {
          "base_uri": "https://localhost:8080/"
        },
        "id": "1axeMDjVoKE1",
        "outputId": "51cc5f3d-dd23-409d-85e6-53ea4e924668"
      },
      "execution_count": 999,
      "outputs": [
        {
          "output_type": "execute_result",
          "data": {
            "text/plain": [
              "(436, 5)"
            ]
          },
          "metadata": {},
          "execution_count": 999
        }
      ]
    },
    {
      "cell_type": "code",
      "source": [
        "#matrix - 1col of ones \n",
        "x11 = np.ones((436, 1)) \n",
        "x12 = np.ones((109, 1))"
      ],
      "metadata": {
        "id": "8yLJq6fZoLjG"
      },
      "execution_count": 1000,
      "outputs": []
    },
    {
      "cell_type": "code",
      "source": [
        "# 1d to 2d\n",
        "x21 = xTrain3.reshape(436, 5) \n",
        "x22 = xTest3.reshape(109, 5)"
      ],
      "metadata": {
        "id": "dJnjnvLRoM67"
      },
      "execution_count": 1001,
      "outputs": []
    },
    {
      "cell_type": "code",
      "source": [
        "xTrainNew3 = np.hstack((x11, x21))\n",
        "xTestNew3 = np.hstack((x12, x22))\n",
        "xTrainNew3.shape"
      ],
      "metadata": {
        "colab": {
          "base_uri": "https://localhost:8080/"
        },
        "id": "WzAr7f-ToPMd",
        "outputId": "381bc979-5c4b-4e31-ef12-ce1f43922b21"
      },
      "execution_count": 1002,
      "outputs": [
        {
          "output_type": "execute_result",
          "data": {
            "text/plain": [
              "(436, 6)"
            ]
          },
          "metadata": {},
          "execution_count": 1002
        }
      ]
    },
    {
      "cell_type": "code",
      "source": [
        "iterations = 1000; \n",
        "alpha = 0.01;\n",
        "# lamda : 0.5\n",
        "\n",
        "theta = [0., 0., 0., 0., 0., 0.]\n",
        "theta\n"
      ],
      "metadata": {
        "colab": {
          "base_uri": "https://localhost:8080/"
        },
        "id": "UW2HnuqzoRC8",
        "outputId": "293c8429-dec9-4973-cf3d-cd22f408af1e"
      },
      "execution_count": 1003,
      "outputs": [
        {
          "output_type": "execute_result",
          "data": {
            "text/plain": [
              "[0.0, 0.0, 0.0, 0.0, 0.0, 0.0]"
            ]
          },
          "metadata": {},
          "execution_count": 1003
        }
      ]
    },
    {
      "cell_type": "code",
      "source": [
        "def compute_cost_reg(X, Y, theta, lamda): \n",
        "    predictions = X.dot(theta) \n",
        "    errors = np.subtract(predictions, Y) \n",
        "    sqrErrors = np.square(errors) \n",
        "    sqrErrors = np.sum(sqrErrors)\n",
        "    reg_term = lamda * np.sum(np.square(theta))\n",
        "    J = 1 / (2 * m) * np.sum(sqrErrors + reg_term)\n",
        "    return J"
      ],
      "metadata": {
        "id": "tkBRvO8yoSjj"
      },
      "execution_count": 1004,
      "outputs": []
    },
    {
      "cell_type": "code",
      "source": [
        "def gradient_descent_reg(X1, X2, Y1 , Y2, theta, alpha, iterations, lamda):\n",
        "    costHistoryTrain = np.zeros(iterations) \n",
        "    costHistoryTest = np.zeros(iterations) \n",
        "\n",
        "    for i in range(iterations): \n",
        "        predictions = X1.dot(theta) \n",
        "        errors = np.subtract(predictions, Y1) \n",
        "        sum_delta = (alpha / m) * X1.transpose().dot(errors); \n",
        "        theta = theta - sum_delta;\n",
        "        costHistoryTrain[i] = compute_cost_reg(X1, Y1, theta, lamda)   \n",
        "        costHistoryTest[i] = compute_cost(X2, Y2, theta)\n",
        "    return theta, costHistoryTrain, costHistoryTest"
      ],
      "metadata": {
        "id": "1lXoSlJhoXc1"
      },
      "execution_count": 1005,
      "outputs": []
    },
    {
      "cell_type": "code",
      "source": [
        "theta, costHistoryTrain, costHistoryTest = gradient_descent_reg(xTrainNew3, xTestNew3, yTrain3, yTest3, theta, alpha, iterations, lamda=5) \n",
        "print('Final value of theta =', theta) \n",
        "print('costHistoryTrain =', costHistoryTrain[-1], 'costHistoryTest= ', costHistoryTest[-1])"
      ],
      "metadata": {
        "colab": {
          "base_uri": "https://localhost:8080/"
        },
        "id": "5LyoLvUYoY_k",
        "outputId": "e1329b57-70ca-4732-9722-6a019dad3a56"
      },
      "execution_count": 1006,
      "outputs": [
        {
          "output_type": "stream",
          "name": "stdout",
          "text": [
            "Final value of theta = [2.68303219e-16 3.87870620e-01 9.04102358e-02 3.03604550e-01\n",
            " 2.39617915e-01 1.60569409e-01]\n",
            "costHistoryTrain = 0.18000993496618978 costHistoryTest=  0.03892348541035558\n"
          ]
        }
      ]
    },
    {
      "cell_type": "code",
      "source": [
        "plt.plot(costHistoryTrain, label = \"Training data\")\n",
        "plt.plot(costHistoryTest, label = \"Testing data\")\n",
        "plt.rcParams[\"figure.figsize\"] = (10,6)\n",
        "plt.grid()\n",
        "plt.xlabel('iterations')\n",
        "plt.ylabel('Cost J')\n",
        "plt.title('Convergence of gradient descent')\n",
        "plt.legend()"
      ],
      "metadata": {
        "colab": {
          "base_uri": "https://localhost:8080/",
          "height": 422
        },
        "id": "EAlO467boahM",
        "outputId": "cd3b3193-e035-45fb-f725-7afd795e7fb1"
      },
      "execution_count": 1007,
      "outputs": [
        {
          "output_type": "execute_result",
          "data": {
            "text/plain": [
              "<matplotlib.legend.Legend at 0x7f0f3db64910>"
            ]
          },
          "metadata": {},
          "execution_count": 1007
        },
        {
          "output_type": "display_data",
          "data": {
            "text/plain": [
              "<Figure size 720x432 with 1 Axes>"
            ],
            "image/png": "[encoded data removed]"
          },
          "metadata": {
            "needs_background": "light"
          }
        }
      ]
    },
    {
      "cell_type": "code",
      "source": [
        "print(\"Final Theta - \")\n",
        "print(theta)"
      ],
      "metadata": {
        "colab": {
          "base_uri": "https://localhost:8080/"
        },
        "id": "6VDhBZ0Y9zpE",
        "outputId": "817471e0-062d-4deb-df34-11e79660e71f"
      },
      "execution_count": 1008,
      "outputs": [
        {
          "output_type": "stream",
          "name": "stdout",
          "text": [
            "Final Theta - \n",
            "[2.68303219e-16 3.87870620e-01 9.04102358e-02 3.03604550e-01\n",
            " 2.39617915e-01 1.60569409e-01]\n"
          ]
        }
      ]
    }
  ]
}